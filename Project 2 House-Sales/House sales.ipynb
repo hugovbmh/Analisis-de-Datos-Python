{
 "cells": [
  {
   "cell_type": "markdown",
   "source": "# Venta de casas en el condado de King, EE.UU.\n",
   "metadata": {
    "cell_id": "00001-19585937-4f3c-404a-bad3-9992b2a3e799",
    "deepnote_app_coordinates": {
     "x": 0,
     "y": null,
     "w": 12,
     "h": 5
    },
    "owner_user_id": "016e124b-4ea1-44f9-a7b7-3f8050c85559",
    "deepnote_cell_type": "markdown",
    "deepnote_cell_height": 134
   }
  },
  {
   "cell_type": "markdown",
   "source": "![Picture title](image-20220505-123649.png)",
   "metadata": {
    "cell_id": "881f184057e34748bd171538c93544a4",
    "tags": [],
    "deepnote_app_coordinates": {
     "x": 0,
     "y": 0,
     "w": 12,
     "h": 5
    },
    "deepnote_cell_type": "markdown",
    "deepnote_cell_height": 689.640625
   }
  },
  {
   "cell_type": "markdown",
   "source": "Este conjunto de datos contiene los precios de venta de viviendas del condado de King, que incluye Seattle. Incluye las viviendas vendidas entre mayo de 2014 y mayo de 2015.\n",
   "metadata": {
    "cell_id": "00002-bd8fe479-feb5-477b-99c2-9690c547b230",
    "deepnote_app_coordinates": {
     "x": 0,
     "y": 6,
     "w": 12,
     "h": 5
    },
    "deepnote_cell_type": "markdown",
    "deepnote_cell_height": 74.796875
   }
  },
  {
   "cell_type": "markdown",
   "source": "| Variable      | Description                                                                                                 |\n| ------------- | ----------------------------------------------------------------------------------------------------------- |\n| id            | Una notación para una casa                                                                                      |\n| date          | Fecha de venta de la casa                                                                                         |\n| price         | Objetivo de la predicción target                                                                                  |\n| bedrooms      | Número de dormitorios                                                                               |\n| bathrooms     | Número de baños                                                                                |\n| sqft_living   | Metros cuadrados de la casa                                                                   |\n| sqft_lot      | Metros cuadrados del lote                                                                  |\n| floors        | Pisos totales (niveles) en casa                                                                |\n| waterfront    | Casa que tiene vista a una costanera                                                          |\n| view          | Cantidad de vistas                                                                                 |\n| condition     | El buen estado de conservación en general                                                                |\n| grade         | Calificación global otorgada a la unidad de vivienda, basada en el sistema de calificación del Condado de King                              |\n| sqft_above    | Metros cuadrados de la casa aparte del sótano                                                           |\n| sqft_basement | Superficie del sótano                                                                    |\n| yr_built      | Año construido Year                                                                                                  |\n| yr_renovated  | Año en que se renovó la casa                                                                          |\n| zipcode       | Código Zip                                                                                      |\n| lat           | Coordenada de latitud                                                                                    |\n| long          | Coordenada de longitud                                                                                   |\n| sqft_living15 | Área de la sala de estar en 2015(implica-- algunas renovaciones) Esto podría o no haber afectado a la zona de lotes |         \n| sqft_lot15    | Tamaño del lote en 2015 (implica... algunas renovaciones)                                                             |\n",
   "metadata": {
    "cell_id": "00003-4debeb0a-78dc-4642-aeae-5c331906257b",
    "deepnote_app_coordinates": {
     "x": 0,
     "y": 12,
     "w": 12,
     "h": 5
    },
    "deepnote_cell_type": "markdown",
    "deepnote_cell_height": 611.59375
   }
  },
  {
   "cell_type": "markdown",
   "source": "Necesitaremos las siguientes librerias:",
   "metadata": {
    "cell_id": "00004-67fbe59c-c0aa-451c-884c-fe8bc6ade052",
    "deepnote_app_coordinates": {
     "x": 0,
     "y": 18,
     "w": 12,
     "h": 5
    },
    "deepnote_cell_type": "markdown",
    "deepnote_cell_height": 52.390625
   }
  },
  {
   "cell_type": "code",
   "metadata": {
    "cell_id": "00005-fa688a6f-b6d4-48a6-9ff0-22a243d9d069",
    "deepnote_to_be_reexecuted": false,
    "source_hash": "6a4511cd",
    "execution_start": 1650246957071,
    "execution_millis": 2555,
    "deepnote_app_coordinates": {
     "x": 0,
     "y": 24,
     "w": 12,
     "h": 5
    },
    "deepnote_cell_type": "code",
    "deepnote_cell_height": 207
   },
   "source": "import pandas as pd\nimport matplotlib.pyplot as plt\nimport numpy as np\nimport seaborn as sns\nfrom sklearn.pipeline import Pipeline\nfrom sklearn.preprocessing import StandardScaler,PolynomialFeatures\nfrom sklearn.linear_model import LinearRegression\n%matplotlib inline",
   "execution_count": null,
   "outputs": []
  },
  {
   "cell_type": "markdown",
   "source": "# Importando Data Sets\n",
   "metadata": {
    "cell_id": "00006-dc80c61f-7399-4cf0-a2c7-7247689bb4bb",
    "deepnote_app_coordinates": {
     "x": 0,
     "y": 30,
     "w": 12,
     "h": 5
    },
    "deepnote_cell_type": "markdown",
    "deepnote_cell_height": 82
   }
  },
  {
   "cell_type": "markdown",
   "source": "Cargar el csv:\n",
   "metadata": {
    "cell_id": "00007-5eed5ad2-1f30-4949-8ea1-e6225c473336",
    "deepnote_app_coordinates": {
     "x": 0,
     "y": 36,
     "w": 12,
     "h": 5
    },
    "deepnote_cell_type": "markdown",
    "deepnote_cell_height": 52.390625
   }
  },
  {
   "cell_type": "code",
   "metadata": {
    "jupyter": {
     "outputs_hidden": false
    },
    "cell_id": "00008-db4b80e4-0bfd-4bcf-b35b-f627055cd37d",
    "deepnote_to_be_reexecuted": false,
    "source_hash": "8dae5279",
    "execution_start": 1650246959630,
    "execution_millis": 353,
    "deepnote_app_coordinates": {
     "x": 0,
     "y": 42,
     "w": 12,
     "h": 5
    },
    "deepnote_cell_type": "code",
    "deepnote_cell_height": 99
   },
   "source": "file_name='https://cf-courses-data.s3.us.cloud-object-storage.appdomain.cloud/IBMDeveloperSkillsNetwork-DA0101EN-SkillsNetwork/labs/FinalModule_Coursera/data/kc_house_data_NaN.csv'\ndf=pd.read_csv(file_name)",
   "execution_count": null,
   "outputs": []
  },
  {
   "cell_type": "markdown",
   "source": "Utilizamos el método .head() para mostrar las 5 primeras columnas del dataframe.",
   "metadata": {
    "cell_id": "00009-baac32fb-50bd-449d-b3c6-3a6e0045f076",
    "deepnote_app_coordinates": {
     "x": 0,
     "y": 48,
     "w": 12,
     "h": 5
    },
    "deepnote_cell_type": "markdown",
    "deepnote_cell_height": 52.390625
   }
  },
  {
   "cell_type": "code",
   "metadata": {
    "cell_id": "00010-d9b47588-38c9-40d8-9f00-1683064e7348",
    "deepnote_to_be_reexecuted": false,
    "source_hash": "c085b6ba",
    "execution_start": 1650246960034,
    "execution_millis": 34,
    "deepnote_app_coordinates": {
     "x": 0,
     "y": 54,
     "w": 12,
     "h": 5
    },
    "deepnote_cell_type": "code",
    "deepnote_cell_height": 411.796875
   },
   "source": "df.head()",
   "execution_count": null,
   "outputs": [
    {
     "output_type": "execute_result",
     "execution_count": 3,
     "data": {
      "application/vnd.deepnote.dataframe.v3+json": {
       "column_count": 22,
       "row_count": 5,
       "columns": [
        {
         "name": "Unnamed: 0",
         "dtype": "int64",
         "stats": {
          "unique_count": 5,
          "nan_count": 0,
          "min": "0",
          "max": "4",
          "histogram": [
           {
            "bin_start": 0,
            "bin_end": 0.4,
            "count": 1
           },
           {
            "bin_start": 0.4,
            "bin_end": 0.8,
            "count": 0
           },
           {
            "bin_start": 0.8,
            "bin_end": 1.2000000000000002,
            "count": 1
           },
           {
            "bin_start": 1.2000000000000002,
            "bin_end": 1.6,
            "count": 0
           },
           {
            "bin_start": 1.6,
            "bin_end": 2,
            "count": 0
           },
           {
            "bin_start": 2,
            "bin_end": 2.4000000000000004,
            "count": 1
           },
           {
            "bin_start": 2.4000000000000004,
            "bin_end": 2.8000000000000003,
            "count": 0
           },
           {
            "bin_start": 2.8000000000000003,
            "bin_end": 3.2,
            "count": 1
           },
           {
            "bin_start": 3.2,
            "bin_end": 3.6,
            "count": 0
           },
           {
            "bin_start": 3.6,
            "bin_end": 4,
            "count": 1
           }
          ]
         }
        },
        {
         "name": "id",
         "dtype": "int64",
         "stats": {
          "unique_count": 5,
          "nan_count": 0,
          "min": "1954400510",
          "max": "7129300520",
          "histogram": [
           {
            "bin_start": 1954400510,
            "bin_end": 2471890511,
            "count": 1
           },
           {
            "bin_start": 2471890511,
            "bin_end": 2989380512,
            "count": 1
           },
           {
            "bin_start": 2989380512,
            "bin_end": 3506870513,
            "count": 0
           },
           {
            "bin_start": 3506870513,
            "bin_end": 4024360514,
            "count": 0
           },
           {
            "bin_start": 4024360514,
            "bin_end": 4541850515,
            "count": 0
           },
           {
            "bin_start": 4541850515,
            "bin_end": 5059340516,
            "count": 0
           },
           {
            "bin_start": 5059340516,
            "bin_end": 5576830517,
            "count": 0
           },
           {
            "bin_start": 5576830517,
            "bin_end": 6094320518,
            "count": 1
           },
           {
            "bin_start": 6094320518,
            "bin_end": 6611810519,
            "count": 1
           },
           {
            "bin_start": 6611810519,
            "bin_end": 7129300520,
            "count": 1
           }
          ]
         }
        },
        {
         "name": "date",
         "dtype": "object",
         "stats": {
          "unique_count": 4,
          "nan_count": 0,
          "categories": [
           {
            "name": "20141209T000000",
            "count": 2
           },
           {
            "name": "20141013T000000",
            "count": 1
           },
           {
            "name": "2 others",
            "count": 2
           }
          ]
         }
        },
        {
         "name": "price",
         "dtype": "float64",
         "stats": {
          "unique_count": 5,
          "nan_count": 0,
          "min": "180000.0",
          "max": "604000.0",
          "histogram": [
           {
            "bin_start": 180000,
            "bin_end": 222400,
            "count": 2
           },
           {
            "bin_start": 222400,
            "bin_end": 264800,
            "count": 0
           },
           {
            "bin_start": 264800,
            "bin_end": 307200,
            "count": 0
           },
           {
            "bin_start": 307200,
            "bin_end": 349600,
            "count": 0
           },
           {
            "bin_start": 349600,
            "bin_end": 392000,
            "count": 0
           },
           {
            "bin_start": 392000,
            "bin_end": 434400,
            "count": 0
           },
           {
            "bin_start": 434400,
            "bin_end": 476800,
            "count": 0
           },
           {
            "bin_start": 476800,
            "bin_end": 519200,
            "count": 1
           },
           {
            "bin_start": 519200,
            "bin_end": 561600,
            "count": 1
           },
           {
            "bin_start": 561600,
            "bin_end": 604000,
            "count": 1
           }
          ]
         }
        },
        {
         "name": "bedrooms",
         "dtype": "float64",
         "stats": {
          "unique_count": 3,
          "nan_count": 0,
          "min": "2.0",
          "max": "4.0",
          "histogram": [
           {
            "bin_start": 2,
            "bin_end": 2.2,
            "count": 1
           },
           {
            "bin_start": 2.2,
            "bin_end": 2.4,
            "count": 0
           },
           {
            "bin_start": 2.4,
            "bin_end": 2.6,
            "count": 0
           },
           {
            "bin_start": 2.6,
            "bin_end": 2.8,
            "count": 0
           },
           {
            "bin_start": 2.8,
            "bin_end": 3,
            "count": 0
           },
           {
            "bin_start": 3,
            "bin_end": 3.2,
            "count": 3
           },
           {
            "bin_start": 3.2,
            "bin_end": 3.4000000000000004,
            "count": 0
           },
           {
            "bin_start": 3.4000000000000004,
            "bin_end": 3.6,
            "count": 0
           },
           {
            "bin_start": 3.6,
            "bin_end": 3.8,
            "count": 0
           },
           {
            "bin_start": 3.8,
            "bin_end": 4,
            "count": 1
           }
          ]
         }
        },
        {
         "name": "bathrooms",
         "dtype": "float64",
         "stats": {
          "unique_count": 4,
          "nan_count": 0,
          "min": "1.0",
          "max": "3.0",
          "histogram": [
           {
            "bin_start": 1,
            "bin_end": 1.2,
            "count": 2
           },
           {
            "bin_start": 1.2,
            "bin_end": 1.4,
            "count": 0
           },
           {
            "bin_start": 1.4,
            "bin_end": 1.6,
            "count": 0
           },
           {
            "bin_start": 1.6,
            "bin_end": 1.8,
            "count": 0
           },
           {
            "bin_start": 1.8,
            "bin_end": 2,
            "count": 0
           },
           {
            "bin_start": 2,
            "bin_end": 2.2,
            "count": 1
           },
           {
            "bin_start": 2.2,
            "bin_end": 2.4000000000000004,
            "count": 1
           },
           {
            "bin_start": 2.4000000000000004,
            "bin_end": 2.6,
            "count": 0
           },
           {
            "bin_start": 2.6,
            "bin_end": 2.8,
            "count": 0
           },
           {
            "bin_start": 2.8,
            "bin_end": 3,
            "count": 1
           }
          ]
         }
        },
        {
         "name": "sqft_living",
         "dtype": "int64",
         "stats": {
          "unique_count": 5,
          "nan_count": 0,
          "min": "770",
          "max": "2570",
          "histogram": [
           {
            "bin_start": 770,
            "bin_end": 950,
            "count": 1
           },
           {
            "bin_start": 950,
            "bin_end": 1130,
            "count": 0
           },
           {
            "bin_start": 1130,
            "bin_end": 1310,
            "count": 1
           },
           {
            "bin_start": 1310,
            "bin_end": 1490,
            "count": 0
           },
           {
            "bin_start": 1490,
            "bin_end": 1670,
            "count": 0
           },
           {
            "bin_start": 1670,
            "bin_end": 1850,
            "count": 1
           },
           {
            "bin_start": 1850,
            "bin_end": 2030,
            "count": 1
           },
           {
            "bin_start": 2030,
            "bin_end": 2210,
            "count": 0
           },
           {
            "bin_start": 2210,
            "bin_end": 2390,
            "count": 0
           },
           {
            "bin_start": 2390,
            "bin_end": 2570,
            "count": 1
           }
          ]
         }
        },
        {
         "name": "sqft_lot",
         "dtype": "int64",
         "stats": {
          "unique_count": 5,
          "nan_count": 0,
          "min": "5000",
          "max": "10000",
          "histogram": [
           {
            "bin_start": 5000,
            "bin_end": 5500,
            "count": 1
           },
           {
            "bin_start": 5500,
            "bin_end": 6000,
            "count": 1
           },
           {
            "bin_start": 6000,
            "bin_end": 6500,
            "count": 0
           },
           {
            "bin_start": 6500,
            "bin_end": 7000,
            "count": 0
           },
           {
            "bin_start": 7000,
            "bin_end": 7500,
            "count": 1
           },
           {
            "bin_start": 7500,
            "bin_end": 8000,
            "count": 0
           },
           {
            "bin_start": 8000,
            "bin_end": 8500,
            "count": 1
           },
           {
            "bin_start": 8500,
            "bin_end": 9000,
            "count": 0
           },
           {
            "bin_start": 9000,
            "bin_end": 9500,
            "count": 0
           },
           {
            "bin_start": 9500,
            "bin_end": 10000,
            "count": 1
           }
          ]
         }
        },
        {
         "name": "floors",
         "dtype": "float64",
         "stats": {
          "unique_count": 2,
          "nan_count": 0,
          "min": "1.0",
          "max": "2.0",
          "histogram": [
           {
            "bin_start": 1,
            "bin_end": 1.1,
            "count": 4
           },
           {
            "bin_start": 1.1,
            "bin_end": 1.2,
            "count": 0
           },
           {
            "bin_start": 1.2,
            "bin_end": 1.3,
            "count": 0
           },
           {
            "bin_start": 1.3,
            "bin_end": 1.4,
            "count": 0
           },
           {
            "bin_start": 1.4,
            "bin_end": 1.5,
            "count": 0
           },
           {
            "bin_start": 1.5,
            "bin_end": 1.6,
            "count": 0
           },
           {
            "bin_start": 1.6,
            "bin_end": 1.7000000000000002,
            "count": 0
           },
           {
            "bin_start": 1.7000000000000002,
            "bin_end": 1.8,
            "count": 0
           },
           {
            "bin_start": 1.8,
            "bin_end": 1.9,
            "count": 0
           },
           {
            "bin_start": 1.9,
            "bin_end": 2,
            "count": 1
           }
          ]
         }
        },
        {
         "name": "waterfront",
         "dtype": "int64",
         "stats": {
          "unique_count": 1,
          "nan_count": 0,
          "min": "0",
          "max": "0",
          "histogram": [
           {
            "bin_start": -0.5,
            "bin_end": -0.4,
            "count": 0
           },
           {
            "bin_start": -0.4,
            "bin_end": -0.3,
            "count": 0
           },
           {
            "bin_start": -0.3,
            "bin_end": -0.19999999999999996,
            "count": 0
           },
           {
            "bin_start": -0.19999999999999996,
            "bin_end": -0.09999999999999998,
            "count": 0
           },
           {
            "bin_start": -0.09999999999999998,
            "bin_end": 0,
            "count": 0
           },
           {
            "bin_start": 0,
            "bin_end": 0.10000000000000009,
            "count": 5
           },
           {
            "bin_start": 0.10000000000000009,
            "bin_end": 0.20000000000000007,
            "count": 0
           },
           {
            "bin_start": 0.20000000000000007,
            "bin_end": 0.30000000000000004,
            "count": 0
           },
           {
            "bin_start": 0.30000000000000004,
            "bin_end": 0.4,
            "count": 0
           },
           {
            "bin_start": 0.4,
            "bin_end": 0.5,
            "count": 0
           }
          ]
         }
        },
        {
         "name": "view",
         "dtype": "int64",
         "stats": {
          "unique_count": 1,
          "nan_count": 0,
          "min": "0",
          "max": "0",
          "histogram": [
           {
            "bin_start": -0.5,
            "bin_end": -0.4,
            "count": 0
           },
           {
            "bin_start": -0.4,
            "bin_end": -0.3,
            "count": 0
           },
           {
            "bin_start": -0.3,
            "bin_end": -0.19999999999999996,
            "count": 0
           },
           {
            "bin_start": -0.19999999999999996,
            "bin_end": -0.09999999999999998,
            "count": 0
           },
           {
            "bin_start": -0.09999999999999998,
            "bin_end": 0,
            "count": 0
           },
           {
            "bin_start": 0,
            "bin_end": 0.10000000000000009,
            "count": 5
           },
           {
            "bin_start": 0.10000000000000009,
            "bin_end": 0.20000000000000007,
            "count": 0
           },
           {
            "bin_start": 0.20000000000000007,
            "bin_end": 0.30000000000000004,
            "count": 0
           },
           {
            "bin_start": 0.30000000000000004,
            "bin_end": 0.4,
            "count": 0
           },
           {
            "bin_start": 0.4,
            "bin_end": 0.5,
            "count": 0
           }
          ]
         }
        },
        {
         "name": "condition",
         "dtype": "int64",
         "stats": {
          "unique_count": 2,
          "nan_count": 0,
          "min": "3",
          "max": "5",
          "histogram": [
           {
            "bin_start": 3,
            "bin_end": 3.2,
            "count": 4
           },
           {
            "bin_start": 3.2,
            "bin_end": 3.4,
            "count": 0
           },
           {
            "bin_start": 3.4,
            "bin_end": 3.6,
            "count": 0
           },
           {
            "bin_start": 3.6,
            "bin_end": 3.8,
            "count": 0
           },
           {
            "bin_start": 3.8,
            "bin_end": 4,
            "count": 0
           },
           {
            "bin_start": 4,
            "bin_end": 4.2,
            "count": 0
           },
           {
            "bin_start": 4.2,
            "bin_end": 4.4,
            "count": 0
           },
           {
            "bin_start": 4.4,
            "bin_end": 4.6,
            "count": 0
           },
           {
            "bin_start": 4.6,
            "bin_end": 4.8,
            "count": 0
           },
           {
            "bin_start": 4.8,
            "bin_end": 5,
            "count": 1
           }
          ]
         }
        },
        {
         "name": "grade",
         "dtype": "int64",
         "stats": {
          "unique_count": 3,
          "nan_count": 0,
          "min": "6",
          "max": "8",
          "histogram": [
           {
            "bin_start": 6,
            "bin_end": 6.2,
            "count": 1
           },
           {
            "bin_start": 6.2,
            "bin_end": 6.4,
            "count": 0
           },
           {
            "bin_start": 6.4,
            "bin_end": 6.6,
            "count": 0
           },
           {
            "bin_start": 6.6,
            "bin_end": 6.8,
            "count": 0
           },
           {
            "bin_start": 6.8,
            "bin_end": 7,
            "count": 0
           },
           {
            "bin_start": 7,
            "bin_end": 7.2,
            "count": 3
           },
           {
            "bin_start": 7.2,
            "bin_end": 7.4,
            "count": 0
           },
           {
            "bin_start": 7.4,
            "bin_end": 7.6,
            "count": 0
           },
           {
            "bin_start": 7.6,
            "bin_end": 7.8,
            "count": 0
           },
           {
            "bin_start": 7.8,
            "bin_end": 8,
            "count": 1
           }
          ]
         }
        },
        {
         "name": "sqft_above",
         "dtype": "int64",
         "stats": {
          "unique_count": 5,
          "nan_count": 0,
          "min": "770",
          "max": "2170",
          "histogram": [
           {
            "bin_start": 770,
            "bin_end": 910,
            "count": 1
           },
           {
            "bin_start": 910,
            "bin_end": 1050,
            "count": 0
           },
           {
            "bin_start": 1050,
            "bin_end": 1190,
            "count": 2
           },
           {
            "bin_start": 1190,
            "bin_end": 1330,
            "count": 0
           },
           {
            "bin_start": 1330,
            "bin_end": 1470,
            "count": 0
           },
           {
            "bin_start": 1470,
            "bin_end": 1610,
            "count": 0
           },
           {
            "bin_start": 1610,
            "bin_end": 1750,
            "count": 1
           },
           {
            "bin_start": 1750,
            "bin_end": 1890,
            "count": 0
           },
           {
            "bin_start": 1890,
            "bin_end": 2030,
            "count": 0
           },
           {
            "bin_start": 2030,
            "bin_end": 2170,
            "count": 1
           }
          ]
         }
        },
        {
         "name": "sqft_basement",
         "dtype": "int64",
         "stats": {
          "unique_count": 3,
          "nan_count": 0,
          "min": "0",
          "max": "910",
          "histogram": [
           {
            "bin_start": 0,
            "bin_end": 91,
            "count": 3
           },
           {
            "bin_start": 91,
            "bin_end": 182,
            "count": 0
           },
           {
            "bin_start": 182,
            "bin_end": 273,
            "count": 0
           },
           {
            "bin_start": 273,
            "bin_end": 364,
            "count": 0
           },
           {
            "bin_start": 364,
            "bin_end": 455,
            "count": 1
           },
           {
            "bin_start": 455,
            "bin_end": 546,
            "count": 0
           },
           {
            "bin_start": 546,
            "bin_end": 637,
            "count": 0
           },
           {
            "bin_start": 637,
            "bin_end": 728,
            "count": 0
           },
           {
            "bin_start": 728,
            "bin_end": 819,
            "count": 0
           },
           {
            "bin_start": 819,
            "bin_end": 910,
            "count": 1
           }
          ]
         }
        },
        {
         "name": "yr_built",
         "dtype": "int64",
         "stats": {
          "unique_count": 5,
          "nan_count": 0,
          "min": "1933",
          "max": "1987",
          "histogram": [
           {
            "bin_start": 1933,
            "bin_end": 1938.4,
            "count": 1
           },
           {
            "bin_start": 1938.4,
            "bin_end": 1943.8,
            "count": 0
           },
           {
            "bin_start": 1943.8,
            "bin_end": 1949.2,
            "count": 0
           },
           {
            "bin_start": 1949.2,
            "bin_end": 1954.6,
            "count": 1
           },
           {
            "bin_start": 1954.6,
            "bin_end": 1960,
            "count": 1
           },
           {
            "bin_start": 1960,
            "bin_end": 1965.4,
            "count": 1
           },
           {
            "bin_start": 1965.4,
            "bin_end": 1970.8,
            "count": 0
           },
           {
            "bin_start": 1970.8,
            "bin_end": 1976.2,
            "count": 0
           },
           {
            "bin_start": 1976.2,
            "bin_end": 1981.6,
            "count": 0
           },
           {
            "bin_start": 1981.6,
            "bin_end": 1987,
            "count": 1
           }
          ]
         }
        },
        {
         "name": "yr_renovated",
         "dtype": "int64",
         "stats": {
          "unique_count": 2,
          "nan_count": 0,
          "min": "0",
          "max": "1991",
          "histogram": [
           {
            "bin_start": 0,
            "bin_end": 199.1,
            "count": 4
           },
           {
            "bin_start": 199.1,
            "bin_end": 398.2,
            "count": 0
           },
           {
            "bin_start": 398.2,
            "bin_end": 597.3,
            "count": 0
           },
           {
            "bin_start": 597.3,
            "bin_end": 796.4,
            "count": 0
           },
           {
            "bin_start": 796.4,
            "bin_end": 995.5,
            "count": 0
           },
           {
            "bin_start": 995.5,
            "bin_end": 1194.6,
            "count": 0
           },
           {
            "bin_start": 1194.6,
            "bin_end": 1393.7,
            "count": 0
           },
           {
            "bin_start": 1393.7,
            "bin_end": 1592.8,
            "count": 0
           },
           {
            "bin_start": 1592.8,
            "bin_end": 1791.8999999999999,
            "count": 0
           },
           {
            "bin_start": 1791.8999999999999,
            "bin_end": 1991,
            "count": 1
           }
          ]
         }
        },
        {
         "name": "zipcode",
         "dtype": "int64",
         "stats": {
          "unique_count": 5,
          "nan_count": 0,
          "min": "98028",
          "max": "98178",
          "histogram": [
           {
            "bin_start": 98028,
            "bin_end": 98043,
            "count": 1
           },
           {
            "bin_start": 98043,
            "bin_end": 98058,
            "count": 0
           },
           {
            "bin_start": 98058,
            "bin_end": 98073,
            "count": 0
           },
           {
            "bin_start": 98073,
            "bin_end": 98088,
            "count": 1
           },
           {
            "bin_start": 98088,
            "bin_end": 98103,
            "count": 0
           },
           {
            "bin_start": 98103,
            "bin_end": 98118,
            "count": 0
           },
           {
            "bin_start": 98118,
            "bin_end": 98133,
            "count": 1
           },
           {
            "bin_start": 98133,
            "bin_end": 98148,
            "count": 1
           },
           {
            "bin_start": 98148,
            "bin_end": 98163,
            "count": 0
           },
           {
            "bin_start": 98163,
            "bin_end": 98178,
            "count": 1
           }
          ]
         }
        },
        {
         "name": "lat",
         "dtype": "float64",
         "stats": {
          "unique_count": 5,
          "nan_count": 0,
          "min": "47.5112",
          "max": "47.7379",
          "histogram": [
           {
            "bin_start": 47.5112,
            "bin_end": 47.53387,
            "count": 2
           },
           {
            "bin_start": 47.53387,
            "bin_end": 47.556540000000005,
            "count": 0
           },
           {
            "bin_start": 47.556540000000005,
            "bin_end": 47.57921,
            "count": 0
           },
           {
            "bin_start": 47.57921,
            "bin_end": 47.60188,
            "count": 0
           },
           {
            "bin_start": 47.60188,
            "bin_end": 47.62455,
            "count": 1
           },
           {
            "bin_start": 47.62455,
            "bin_end": 47.647220000000004,
            "count": 0
           },
           {
            "bin_start": 47.647220000000004,
            "bin_end": 47.66989,
            "count": 0
           },
           {
            "bin_start": 47.66989,
            "bin_end": 47.69256,
            "count": 0
           },
           {
            "bin_start": 47.69256,
            "bin_end": 47.715230000000005,
            "count": 0
           },
           {
            "bin_start": 47.715230000000005,
            "bin_end": 47.7379,
            "count": 2
           }
          ]
         }
        },
        {
         "name": "long",
         "dtype": "float64",
         "stats": {
          "unique_count": 5,
          "nan_count": 0,
          "min": "-122.393",
          "max": "-122.045",
          "histogram": [
           {
            "bin_start": -122.393,
            "bin_end": -122.3582,
            "count": 1
           },
           {
            "bin_start": -122.3582,
            "bin_end": -122.3234,
            "count": 0
           },
           {
            "bin_start": -122.3234,
            "bin_end": -122.2886,
            "count": 1
           },
           {
            "bin_start": -122.2886,
            "bin_end": -122.2538,
            "count": 1
           },
           {
            "bin_start": -122.2538,
            "bin_end": -122.219,
            "count": 1
           },
           {
            "bin_start": -122.219,
            "bin_end": -122.1842,
            "count": 0
           },
           {
            "bin_start": -122.1842,
            "bin_end": -122.1494,
            "count": 0
           },
           {
            "bin_start": -122.1494,
            "bin_end": -122.1146,
            "count": 0
           },
           {
            "bin_start": -122.1146,
            "bin_end": -122.0798,
            "count": 0
           },
           {
            "bin_start": -122.0798,
            "bin_end": -122.045,
            "count": 1
           }
          ]
         }
        },
        {
         "name": "sqft_living15",
         "dtype": "int64",
         "stats": {
          "unique_count": 5,
          "nan_count": 0,
          "min": "1340",
          "max": "2720",
          "histogram": [
           {
            "bin_start": 1340,
            "bin_end": 1478,
            "count": 2
           },
           {
            "bin_start": 1478,
            "bin_end": 1616,
            "count": 0
           },
           {
            "bin_start": 1616,
            "bin_end": 1754,
            "count": 1
           },
           {
            "bin_start": 1754,
            "bin_end": 1892,
            "count": 1
           },
           {
            "bin_start": 1892,
            "bin_end": 2030,
            "count": 0
           },
           {
            "bin_start": 2030,
            "bin_end": 2168,
            "count": 0
           },
           {
            "bin_start": 2168,
            "bin_end": 2306,
            "count": 0
           },
           {
            "bin_start": 2306,
            "bin_end": 2444,
            "count": 0
           },
           {
            "bin_start": 2444,
            "bin_end": 2582,
            "count": 0
           },
           {
            "bin_start": 2582,
            "bin_end": 2720,
            "count": 1
           }
          ]
         }
        },
        {
         "name": "sqft_lot15",
         "dtype": "int64",
         "stats": {
          "unique_count": 5,
          "nan_count": 0,
          "min": "5000",
          "max": "8062",
          "histogram": [
           {
            "bin_start": 5000,
            "bin_end": 5306.2,
            "count": 1
           },
           {
            "bin_start": 5306.2,
            "bin_end": 5612.4,
            "count": 0
           },
           {
            "bin_start": 5612.4,
            "bin_end": 5918.6,
            "count": 1
           },
           {
            "bin_start": 5918.6,
            "bin_end": 6224.8,
            "count": 0
           },
           {
            "bin_start": 6224.8,
            "bin_end": 6531,
            "count": 0
           },
           {
            "bin_start": 6531,
            "bin_end": 6837.2,
            "count": 0
           },
           {
            "bin_start": 6837.2,
            "bin_end": 7143.4,
            "count": 0
           },
           {
            "bin_start": 7143.4,
            "bin_end": 7449.6,
            "count": 0
           },
           {
            "bin_start": 7449.6,
            "bin_end": 7755.799999999999,
            "count": 2
           },
           {
            "bin_start": 7755.799999999999,
            "bin_end": 8062,
            "count": 1
           }
          ]
         }
        },
        {
         "name": "_deepnote_index_column",
         "dtype": "int64"
        }
       ],
       "rows": [
        {
         "Unnamed: 0": 0,
         "id": 7129300520,
         "date": "20141013T000000",
         "price": 221900,
         "bedrooms": 3,
         "bathrooms": 1,
         "sqft_living": 1180,
         "sqft_lot": 5650,
         "floors": 1,
         "waterfront": 0,
         "view": 0,
         "condition": 3,
         "grade": 7,
         "sqft_above": 1180,
         "sqft_basement": 0,
         "yr_built": 1955,
         "yr_renovated": 0,
         "zipcode": 98178,
         "lat": 47.5112,
         "long": -122.257,
         "sqft_living15": 1340,
         "sqft_lot15": 5650,
         "_deepnote_index_column": 0
        },
        {
         "Unnamed: 0": 1,
         "id": 6414100192,
         "date": "20141209T000000",
         "price": 538000,
         "bedrooms": 3,
         "bathrooms": 2.25,
         "sqft_living": 2570,
         "sqft_lot": 7242,
         "floors": 2,
         "waterfront": 0,
         "view": 0,
         "condition": 3,
         "grade": 7,
         "sqft_above": 2170,
         "sqft_basement": 400,
         "yr_built": 1951,
         "yr_renovated": 1991,
         "zipcode": 98125,
         "lat": 47.721,
         "long": -122.319,
         "sqft_living15": 1690,
         "sqft_lot15": 7639,
         "_deepnote_index_column": 1
        },
        {
         "Unnamed: 0": 2,
         "id": 5631500400,
         "date": "20150225T000000",
         "price": 180000,
         "bedrooms": 2,
         "bathrooms": 1,
         "sqft_living": 770,
         "sqft_lot": 10000,
         "floors": 1,
         "waterfront": 0,
         "view": 0,
         "condition": 3,
         "grade": 6,
         "sqft_above": 770,
         "sqft_basement": 0,
         "yr_built": 1933,
         "yr_renovated": 0,
         "zipcode": 98028,
         "lat": 47.7379,
         "long": -122.233,
         "sqft_living15": 2720,
         "sqft_lot15": 8062,
         "_deepnote_index_column": 2
        },
        {
         "Unnamed: 0": 3,
         "id": 2487200875,
         "date": "20141209T000000",
         "price": 604000,
         "bedrooms": 4,
         "bathrooms": 3,
         "sqft_living": 1960,
         "sqft_lot": 5000,
         "floors": 1,
         "waterfront": 0,
         "view": 0,
         "condition": 5,
         "grade": 7,
         "sqft_above": 1050,
         "sqft_basement": 910,
         "yr_built": 1965,
         "yr_renovated": 0,
         "zipcode": 98136,
         "lat": 47.5208,
         "long": -122.393,
         "sqft_living15": 1360,
         "sqft_lot15": 5000,
         "_deepnote_index_column": 3
        },
        {
         "Unnamed: 0": 4,
         "id": 1954400510,
         "date": "20150218T000000",
         "price": 510000,
         "bedrooms": 3,
         "bathrooms": 2,
         "sqft_living": 1680,
         "sqft_lot": 8080,
         "floors": 1,
         "waterfront": 0,
         "view": 0,
         "condition": 3,
         "grade": 8,
         "sqft_above": 1680,
         "sqft_basement": 0,
         "yr_built": 1987,
         "yr_renovated": 0,
         "zipcode": 98074,
         "lat": 47.6168,
         "long": -122.045,
         "sqft_living15": 1800,
         "sqft_lot15": 7503,
         "_deepnote_index_column": 4
        }
       ]
      },
      "text/plain": "   Unnamed: 0          id             date     price  bedrooms  bathrooms  \\\n0           0  7129300520  20141013T000000  221900.0       3.0       1.00   \n1           1  6414100192  20141209T000000  538000.0       3.0       2.25   \n2           2  5631500400  20150225T000000  180000.0       2.0       1.00   \n3           3  2487200875  20141209T000000  604000.0       4.0       3.00   \n4           4  1954400510  20150218T000000  510000.0       3.0       2.00   \n\n   sqft_living  sqft_lot  floors  waterfront  ...  grade  sqft_above  \\\n0         1180      5650     1.0           0  ...      7        1180   \n1         2570      7242     2.0           0  ...      7        2170   \n2          770     10000     1.0           0  ...      6         770   \n3         1960      5000     1.0           0  ...      7        1050   \n4         1680      8080     1.0           0  ...      8        1680   \n\n   sqft_basement  yr_built  yr_renovated  zipcode      lat     long  \\\n0              0      1955             0    98178  47.5112 -122.257   \n1            400      1951          1991    98125  47.7210 -122.319   \n2              0      1933             0    98028  47.7379 -122.233   \n3            910      1965             0    98136  47.5208 -122.393   \n4              0      1987             0    98074  47.6168 -122.045   \n\n   sqft_living15  sqft_lot15  \n0           1340        5650  \n1           1690        7639  \n2           2720        8062  \n3           1360        5000  \n4           1800        7503  \n\n[5 rows x 22 columns]",
      "text/html": "<div>\n<style scoped>\n    .dataframe tbody tr th:only-of-type {\n        vertical-align: middle;\n    }\n\n    .dataframe tbody tr th {\n        vertical-align: top;\n    }\n\n    .dataframe thead th {\n        text-align: right;\n    }\n</style>\n<table border=\"1\" class=\"dataframe\">\n  <thead>\n    <tr style=\"text-align: right;\">\n      <th></th>\n      <th>Unnamed: 0</th>\n      <th>id</th>\n      <th>date</th>\n      <th>price</th>\n      <th>bedrooms</th>\n      <th>bathrooms</th>\n      <th>sqft_living</th>\n      <th>sqft_lot</th>\n      <th>floors</th>\n      <th>waterfront</th>\n      <th>...</th>\n      <th>grade</th>\n      <th>sqft_above</th>\n      <th>sqft_basement</th>\n      <th>yr_built</th>\n      <th>yr_renovated</th>\n      <th>zipcode</th>\n      <th>lat</th>\n      <th>long</th>\n      <th>sqft_living15</th>\n      <th>sqft_lot15</th>\n    </tr>\n  </thead>\n  <tbody>\n    <tr>\n      <th>0</th>\n      <td>0</td>\n      <td>7129300520</td>\n      <td>20141013T000000</td>\n      <td>221900.0</td>\n      <td>3.0</td>\n      <td>1.00</td>\n      <td>1180</td>\n      <td>5650</td>\n      <td>1.0</td>\n      <td>0</td>\n      <td>...</td>\n      <td>7</td>\n      <td>1180</td>\n      <td>0</td>\n      <td>1955</td>\n      <td>0</td>\n      <td>98178</td>\n      <td>47.5112</td>\n      <td>-122.257</td>\n      <td>1340</td>\n      <td>5650</td>\n    </tr>\n    <tr>\n      <th>1</th>\n      <td>1</td>\n      <td>6414100192</td>\n      <td>20141209T000000</td>\n      <td>538000.0</td>\n      <td>3.0</td>\n      <td>2.25</td>\n      <td>2570</td>\n      <td>7242</td>\n      <td>2.0</td>\n      <td>0</td>\n      <td>...</td>\n      <td>7</td>\n      <td>2170</td>\n      <td>400</td>\n      <td>1951</td>\n      <td>1991</td>\n      <td>98125</td>\n      <td>47.7210</td>\n      <td>-122.319</td>\n      <td>1690</td>\n      <td>7639</td>\n    </tr>\n    <tr>\n      <th>2</th>\n      <td>2</td>\n      <td>5631500400</td>\n      <td>20150225T000000</td>\n      <td>180000.0</td>\n      <td>2.0</td>\n      <td>1.00</td>\n      <td>770</td>\n      <td>10000</td>\n      <td>1.0</td>\n      <td>0</td>\n      <td>...</td>\n      <td>6</td>\n      <td>770</td>\n      <td>0</td>\n      <td>1933</td>\n      <td>0</td>\n      <td>98028</td>\n      <td>47.7379</td>\n      <td>-122.233</td>\n      <td>2720</td>\n      <td>8062</td>\n    </tr>\n    <tr>\n      <th>3</th>\n      <td>3</td>\n      <td>2487200875</td>\n      <td>20141209T000000</td>\n      <td>604000.0</td>\n      <td>4.0</td>\n      <td>3.00</td>\n      <td>1960</td>\n      <td>5000</td>\n      <td>1.0</td>\n      <td>0</td>\n      <td>...</td>\n      <td>7</td>\n      <td>1050</td>\n      <td>910</td>\n      <td>1965</td>\n      <td>0</td>\n      <td>98136</td>\n      <td>47.5208</td>\n      <td>-122.393</td>\n      <td>1360</td>\n      <td>5000</td>\n    </tr>\n    <tr>\n      <th>4</th>\n      <td>4</td>\n      <td>1954400510</td>\n      <td>20150218T000000</td>\n      <td>510000.0</td>\n      <td>3.0</td>\n      <td>2.00</td>\n      <td>1680</td>\n      <td>8080</td>\n      <td>1.0</td>\n      <td>0</td>\n      <td>...</td>\n      <td>8</td>\n      <td>1680</td>\n      <td>0</td>\n      <td>1987</td>\n      <td>0</td>\n      <td>98074</td>\n      <td>47.6168</td>\n      <td>-122.045</td>\n      <td>1800</td>\n      <td>7503</td>\n    </tr>\n  </tbody>\n</table>\n<p>5 rows × 22 columns</p>\n</div>"
     },
     "metadata": {}
    }
   ]
  },
  {
   "cell_type": "markdown",
   "source": "Mostramos los tipos de datos de cada columna utilizando la función dtypes\n",
   "metadata": {
    "cell_id": "00011-bee8b255-bf6a-4065-afaf-a8b3e9a54a0c",
    "deepnote_app_coordinates": {
     "x": 0,
     "y": 60,
     "w": 12,
     "h": 5
    },
    "deepnote_cell_type": "markdown",
    "deepnote_cell_height": 52.390625
   }
  },
  {
   "cell_type": "code",
   "metadata": {
    "jupyter": {
     "outputs_hidden": false
    },
    "cell_id": "00012-3caff456-a699-44f0-9a1a-8e12e70f8fa6",
    "deepnote_to_be_reexecuted": false,
    "source_hash": "52430027",
    "execution_start": 1650246960071,
    "execution_millis": 33,
    "deepnote_app_coordinates": {
     "x": 0,
     "y": 66,
     "w": 12,
     "h": 5
    },
    "deepnote_cell_type": "code",
    "deepnote_cell_height": 540.578125,
    "deepnote_output_heights": [
     443.59375
    ]
   },
   "source": "df.dtypes",
   "execution_count": null,
   "outputs": [
    {
     "output_type": "execute_result",
     "execution_count": 4,
     "data": {
      "text/plain": "Unnamed: 0         int64\nid                 int64\ndate              object\nprice            float64\nbedrooms         float64\nbathrooms        float64\nsqft_living        int64\nsqft_lot           int64\nfloors           float64\nwaterfront         int64\nview               int64\ncondition          int64\ngrade              int64\nsqft_above         int64\nsqft_basement      int64\nyr_built           int64\nyr_renovated       int64\nzipcode            int64\nlat              float64\nlong             float64\nsqft_living15      int64\nsqft_lot15         int64\ndtype: object"
     },
     "metadata": {}
    }
   ]
  },
  {
   "cell_type": "markdown",
   "source": "Utilizamos el método .describe() para obtener un resumen estadístico del dataframe.\n",
   "metadata": {
    "cell_id": "00013-93bbab08-99b4-4a23-aa98-daf14a29336b",
    "deepnote_app_coordinates": {
     "x": 0,
     "y": 72,
     "w": 12,
     "h": 5
    },
    "deepnote_cell_type": "markdown",
    "deepnote_cell_height": 52.390625
   }
  },
  {
   "cell_type": "code",
   "metadata": {
    "jupyter": {
     "outputs_hidden": false
    },
    "cell_id": "00014-a6a198de-6c5e-4fb3-8fd7-1bb37fae191e",
    "deepnote_to_be_reexecuted": false,
    "source_hash": "f88152d9",
    "execution_start": 1650246960078,
    "execution_millis": 179,
    "deepnote_app_coordinates": {
     "x": 0,
     "y": 78,
     "w": 12,
     "h": 5
    },
    "deepnote_cell_type": "code",
    "deepnote_cell_height": 534.796875
   },
   "source": "df.describe()",
   "execution_count": null,
   "outputs": [
    {
     "output_type": "execute_result",
     "execution_count": 5,
     "data": {
      "application/vnd.deepnote.dataframe.v3+json": {
       "column_count": 21,
       "row_count": 8,
       "columns": [
        {
         "name": "Unnamed: 0",
         "dtype": "float64",
         "stats": {
          "unique_count": 7,
          "nan_count": 0,
          "min": "0.0",
          "max": "21613.0",
          "histogram": [
           {
            "bin_start": 0,
            "bin_end": 2161.3,
            "count": 1
           },
           {
            "bin_start": 2161.3,
            "bin_end": 4322.6,
            "count": 0
           },
           {
            "bin_start": 4322.6,
            "bin_end": 6483.900000000001,
            "count": 2
           },
           {
            "bin_start": 6483.900000000001,
            "bin_end": 8645.2,
            "count": 0
           },
           {
            "bin_start": 8645.2,
            "bin_end": 10806.5,
            "count": 2
           },
           {
            "bin_start": 10806.5,
            "bin_end": 12967.800000000001,
            "count": 0
           },
           {
            "bin_start": 12967.800000000001,
            "bin_end": 15129.100000000002,
            "count": 0
           },
           {
            "bin_start": 15129.100000000002,
            "bin_end": 17290.4,
            "count": 1
           },
           {
            "bin_start": 17290.4,
            "bin_end": 19451.7,
            "count": 0
           },
           {
            "bin_start": 19451.7,
            "bin_end": 21613,
            "count": 2
           }
          ]
         }
        },
        {
         "name": "id",
         "dtype": "float64",
         "stats": {
          "unique_count": 8,
          "nan_count": 0,
          "min": "21613.0",
          "max": "9900000190.0",
          "histogram": [
           {
            "bin_start": 21613,
            "bin_end": 990019470.7,
            "count": 2
           },
           {
            "bin_start": 990019470.7,
            "bin_end": 1980017328.4,
            "count": 0
           },
           {
            "bin_start": 1980017328.4,
            "bin_end": 2970015186.1000004,
            "count": 2
           },
           {
            "bin_start": 2970015186.1000004,
            "bin_end": 3960013043.8,
            "count": 1
           },
           {
            "bin_start": 3960013043.8,
            "bin_end": 4950010901.5,
            "count": 1
           },
           {
            "bin_start": 4950010901.5,
            "bin_end": 5940008759.200001,
            "count": 0
           },
           {
            "bin_start": 5940008759.200001,
            "bin_end": 6930006616.900001,
            "count": 0
           },
           {
            "bin_start": 6930006616.900001,
            "bin_end": 7920004474.6,
            "count": 1
           },
           {
            "bin_start": 7920004474.6,
            "bin_end": 8910002332.300001,
            "count": 0
           },
           {
            "bin_start": 8910002332.300001,
            "bin_end": 9900000190,
            "count": 1
           }
          ]
         }
        },
        {
         "name": "price",
         "dtype": "float64",
         "stats": {
          "unique_count": 8,
          "nan_count": 0,
          "min": "21613.0",
          "max": "7700000.0",
          "histogram": [
           {
            "bin_start": 21613,
            "bin_end": 789451.7,
            "count": 7
           },
           {
            "bin_start": 789451.7,
            "bin_end": 1557290.4,
            "count": 0
           },
           {
            "bin_start": 1557290.4,
            "bin_end": 2325129.0999999996,
            "count": 0
           },
           {
            "bin_start": 2325129.0999999996,
            "bin_end": 3092967.8,
            "count": 0
           },
           {
            "bin_start": 3092967.8,
            "bin_end": 3860806.5,
            "count": 0
           },
           {
            "bin_start": 3860806.5,
            "bin_end": 4628645.199999999,
            "count": 0
           },
           {
            "bin_start": 4628645.199999999,
            "bin_end": 5396483.899999999,
            "count": 0
           },
           {
            "bin_start": 5396483.899999999,
            "bin_end": 6164322.6,
            "count": 0
           },
           {
            "bin_start": 6164322.6,
            "bin_end": 6932161.3,
            "count": 0
           },
           {
            "bin_start": 6932161.3,
            "bin_end": 7700000,
            "count": 1
           }
          ]
         }
        },
        {
         "name": "bedrooms",
         "dtype": "float64",
         "stats": {
          "unique_count": 7,
          "nan_count": 0,
          "min": "0.9266566928336006",
          "max": "21600.0",
          "histogram": [
           {
            "bin_start": 0.9266566928336006,
            "bin_end": 2160.83399102355,
            "count": 7
           },
           {
            "bin_start": 2160.83399102355,
            "bin_end": 4320.741325354266,
            "count": 0
           },
           {
            "bin_start": 4320.741325354266,
            "bin_end": 6480.648659684983,
            "count": 0
           },
           {
            "bin_start": 6480.648659684983,
            "bin_end": 8640.555994015698,
            "count": 0
           },
           {
            "bin_start": 8640.555994015698,
            "bin_end": 10800.463328346415,
            "count": 0
           },
           {
            "bin_start": 10800.463328346415,
            "bin_end": 12960.37066267713,
            "count": 0
           },
           {
            "bin_start": 12960.37066267713,
            "bin_end": 15120.277997007846,
            "count": 0
           },
           {
            "bin_start": 15120.277997007846,
            "bin_end": 17280.185331338565,
            "count": 0
           },
           {
            "bin_start": 17280.185331338565,
            "bin_end": 19440.092665669283,
            "count": 0
           },
           {
            "bin_start": 19440.092665669283,
            "bin_end": 21600,
            "count": 1
           }
          ]
         }
        },
        {
         "name": "bathrooms",
         "dtype": "float64",
         "stats": {
          "unique_count": 8,
          "nan_count": 0,
          "min": "0.5",
          "max": "21603.0",
          "histogram": [
           {
            "bin_start": 0.5,
            "bin_end": 2160.75,
            "count": 7
           },
           {
            "bin_start": 2160.75,
            "bin_end": 4321,
            "count": 0
           },
           {
            "bin_start": 4321,
            "bin_end": 6481.25,
            "count": 0
           },
           {
            "bin_start": 6481.25,
            "bin_end": 8641.5,
            "count": 0
           },
           {
            "bin_start": 8641.5,
            "bin_end": 10801.75,
            "count": 0
           },
           {
            "bin_start": 10801.75,
            "bin_end": 12962,
            "count": 0
           },
           {
            "bin_start": 12962,
            "bin_end": 15122.25,
            "count": 0
           },
           {
            "bin_start": 15122.25,
            "bin_end": 17282.5,
            "count": 0
           },
           {
            "bin_start": 17282.5,
            "bin_end": 19442.75,
            "count": 0
           },
           {
            "bin_start": 19442.75,
            "bin_end": 21603,
            "count": 1
           }
          ]
         }
        },
        {
         "name": "sqft_living",
         "dtype": "float64",
         "stats": {
          "unique_count": 8,
          "nan_count": 0,
          "min": "290.0",
          "max": "21613.0",
          "histogram": [
           {
            "bin_start": 290,
            "bin_end": 2422.3,
            "count": 5
           },
           {
            "bin_start": 2422.3,
            "bin_end": 4554.6,
            "count": 1
           },
           {
            "bin_start": 4554.6,
            "bin_end": 6686.900000000001,
            "count": 0
           },
           {
            "bin_start": 6686.900000000001,
            "bin_end": 8819.2,
            "count": 0
           },
           {
            "bin_start": 8819.2,
            "bin_end": 10951.5,
            "count": 0
           },
           {
            "bin_start": 10951.5,
            "bin_end": 13083.800000000001,
            "count": 0
           },
           {
            "bin_start": 13083.800000000001,
            "bin_end": 15216.100000000002,
            "count": 1
           },
           {
            "bin_start": 15216.100000000002,
            "bin_end": 17348.4,
            "count": 0
           },
           {
            "bin_start": 17348.4,
            "bin_end": 19480.7,
            "count": 0
           },
           {
            "bin_start": 19480.7,
            "bin_end": 21613,
            "count": 1
           }
          ]
         }
        },
        {
         "name": "sqft_lot",
         "dtype": "float64",
         "stats": {
          "unique_count": 8,
          "nan_count": 0,
          "min": "520.0",
          "max": "1651359.0",
          "histogram": [
           {
            "bin_start": 520,
            "bin_end": 165603.9,
            "count": 7
           },
           {
            "bin_start": 165603.9,
            "bin_end": 330687.8,
            "count": 0
           },
           {
            "bin_start": 330687.8,
            "bin_end": 495771.69999999995,
            "count": 0
           },
           {
            "bin_start": 495771.69999999995,
            "bin_end": 660855.6,
            "count": 0
           },
           {
            "bin_start": 660855.6,
            "bin_end": 825939.5,
            "count": 0
           },
           {
            "bin_start": 825939.5,
            "bin_end": 991023.3999999999,
            "count": 0
           },
           {
            "bin_start": 991023.3999999999,
            "bin_end": 1156107.3,
            "count": 0
           },
           {
            "bin_start": 1156107.3,
            "bin_end": 1321191.2,
            "count": 0
           },
           {
            "bin_start": 1321191.2,
            "bin_end": 1486275.0999999999,
            "count": 0
           },
           {
            "bin_start": 1486275.0999999999,
            "bin_end": 1651359,
            "count": 1
           }
          ]
         }
        },
        {
         "name": "floors",
         "dtype": "float64",
         "stats": {
          "unique_count": 7,
          "nan_count": 0,
          "min": "0.5399888951423463",
          "max": "21613.0",
          "histogram": [
           {
            "bin_start": 0.5399888951423463,
            "bin_end": 2161.7859900056283,
            "count": 7
           },
           {
            "bin_start": 2161.7859900056283,
            "bin_end": 4323.031991116114,
            "count": 0
           },
           {
            "bin_start": 4323.031991116114,
            "bin_end": 6484.2779922266,
            "count": 0
           },
           {
            "bin_start": 6484.2779922266,
            "bin_end": 8645.523993337085,
            "count": 0
           },
           {
            "bin_start": 8645.523993337085,
            "bin_end": 10806.76999444757,
            "count": 0
           },
           {
            "bin_start": 10806.76999444757,
            "bin_end": 12968.015995558057,
            "count": 0
           },
           {
            "bin_start": 12968.015995558057,
            "bin_end": 15129.261996668543,
            "count": 0
           },
           {
            "bin_start": 15129.261996668543,
            "bin_end": 17290.50799777903,
            "count": 0
           },
           {
            "bin_start": 17290.50799777903,
            "bin_end": 19451.753998889515,
            "count": 0
           },
           {
            "bin_start": 19451.753998889515,
            "bin_end": 21613,
            "count": 1
           }
          ]
         }
        },
        {
         "name": "waterfront",
         "dtype": "float64",
         "stats": {
          "unique_count": 5,
          "nan_count": 0,
          "min": "0.0",
          "max": "21613.0",
          "histogram": [
           {
            "bin_start": 0,
            "bin_end": 2161.3,
            "count": 7
           },
           {
            "bin_start": 2161.3,
            "bin_end": 4322.6,
            "count": 0
           },
           {
            "bin_start": 4322.6,
            "bin_end": 6483.900000000001,
            "count": 0
           },
           {
            "bin_start": 6483.900000000001,
            "bin_end": 8645.2,
            "count": 0
           },
           {
            "bin_start": 8645.2,
            "bin_end": 10806.5,
            "count": 0
           },
           {
            "bin_start": 10806.5,
            "bin_end": 12967.800000000001,
            "count": 0
           },
           {
            "bin_start": 12967.800000000001,
            "bin_end": 15129.100000000002,
            "count": 0
           },
           {
            "bin_start": 15129.100000000002,
            "bin_end": 17290.4,
            "count": 0
           },
           {
            "bin_start": 17290.4,
            "bin_end": 19451.7,
            "count": 0
           },
           {
            "bin_start": 19451.7,
            "bin_end": 21613,
            "count": 1
           }
          ]
         }
        },
        {
         "name": "view",
         "dtype": "float64",
         "stats": {
          "unique_count": 5,
          "nan_count": 0,
          "min": "0.0",
          "max": "21613.0",
          "histogram": [
           {
            "bin_start": 0,
            "bin_end": 2161.3,
            "count": 7
           },
           {
            "bin_start": 2161.3,
            "bin_end": 4322.6,
            "count": 0
           },
           {
            "bin_start": 4322.6,
            "bin_end": 6483.900000000001,
            "count": 0
           },
           {
            "bin_start": 6483.900000000001,
            "bin_end": 8645.2,
            "count": 0
           },
           {
            "bin_start": 8645.2,
            "bin_end": 10806.5,
            "count": 0
           },
           {
            "bin_start": 10806.5,
            "bin_end": 12967.800000000001,
            "count": 0
           },
           {
            "bin_start": 12967.800000000001,
            "bin_end": 15129.100000000002,
            "count": 0
           },
           {
            "bin_start": 15129.100000000002,
            "bin_end": 17290.4,
            "count": 0
           },
           {
            "bin_start": 17290.4,
            "bin_end": 19451.7,
            "count": 0
           },
           {
            "bin_start": 19451.7,
            "bin_end": 21613,
            "count": 1
           }
          ]
         }
        },
        {
         "name": "condition",
         "dtype": "float64",
         "stats": {
          "unique_count": 7,
          "nan_count": 0,
          "min": "0.6507430463662071",
          "max": "21613.0",
          "histogram": [
           {
            "bin_start": 0.6507430463662071,
            "bin_end": 2161.885668741729,
            "count": 7
           },
           {
            "bin_start": 2161.885668741729,
            "bin_end": 4323.120594437092,
            "count": 0
           },
           {
            "bin_start": 4323.120594437092,
            "bin_end": 6484.355520132455,
            "count": 0
           },
           {
            "bin_start": 6484.355520132455,
            "bin_end": 8645.590445827818,
            "count": 0
           },
           {
            "bin_start": 8645.590445827818,
            "bin_end": 10806.825371523182,
            "count": 0
           },
           {
            "bin_start": 10806.825371523182,
            "bin_end": 12968.060297218544,
            "count": 0
           },
           {
            "bin_start": 12968.060297218544,
            "bin_end": 15129.295222913906,
            "count": 0
           },
           {
            "bin_start": 15129.295222913906,
            "bin_end": 17290.530148609272,
            "count": 0
           },
           {
            "bin_start": 17290.530148609272,
            "bin_end": 19451.765074304636,
            "count": 0
           },
           {
            "bin_start": 19451.765074304636,
            "bin_end": 21613,
            "count": 1
           }
          ]
         }
        },
        {
         "name": "grade",
         "dtype": "float64",
         "stats": {
          "unique_count": 7,
          "nan_count": 0,
          "min": "1.0",
          "max": "21613.0",
          "histogram": [
           {
            "bin_start": 1,
            "bin_end": 2162.2,
            "count": 7
           },
           {
            "bin_start": 2162.2,
            "bin_end": 4323.4,
            "count": 0
           },
           {
            "bin_start": 4323.4,
            "bin_end": 6484.599999999999,
            "count": 0
           },
           {
            "bin_start": 6484.599999999999,
            "bin_end": 8645.8,
            "count": 0
           },
           {
            "bin_start": 8645.8,
            "bin_end": 10807,
            "count": 0
           },
           {
            "bin_start": 10807,
            "bin_end": 12968.199999999999,
            "count": 0
           },
           {
            "bin_start": 12968.199999999999,
            "bin_end": 15129.399999999998,
            "count": 0
           },
           {
            "bin_start": 15129.399999999998,
            "bin_end": 17290.6,
            "count": 0
           },
           {
            "bin_start": 17290.6,
            "bin_end": 19451.8,
            "count": 0
           },
           {
            "bin_start": 19451.8,
            "bin_end": 21613,
            "count": 1
           }
          ]
         }
        },
        {
         "name": "sqft_above",
         "dtype": "float64",
         "stats": {
          "unique_count": 8,
          "nan_count": 0,
          "min": "290.0",
          "max": "21613.0",
          "histogram": [
           {
            "bin_start": 290,
            "bin_end": 2422.3,
            "count": 6
           },
           {
            "bin_start": 2422.3,
            "bin_end": 4554.6,
            "count": 0
           },
           {
            "bin_start": 4554.6,
            "bin_end": 6686.900000000001,
            "count": 0
           },
           {
            "bin_start": 6686.900000000001,
            "bin_end": 8819.2,
            "count": 0
           },
           {
            "bin_start": 8819.2,
            "bin_end": 10951.5,
            "count": 1
           },
           {
            "bin_start": 10951.5,
            "bin_end": 13083.800000000001,
            "count": 0
           },
           {
            "bin_start": 13083.800000000001,
            "bin_end": 15216.100000000002,
            "count": 0
           },
           {
            "bin_start": 15216.100000000002,
            "bin_end": 17348.4,
            "count": 0
           },
           {
            "bin_start": 17348.4,
            "bin_end": 19480.7,
            "count": 0
           },
           {
            "bin_start": 19480.7,
            "bin_end": 21613,
            "count": 1
           }
          ]
         }
        },
        {
         "name": "sqft_basement",
         "dtype": "float64",
         "stats": {
          "unique_count": 6,
          "nan_count": 0,
          "min": "0.0",
          "max": "21613.0",
          "histogram": [
           {
            "bin_start": 0,
            "bin_end": 2161.3,
            "count": 6
           },
           {
            "bin_start": 2161.3,
            "bin_end": 4322.6,
            "count": 0
           },
           {
            "bin_start": 4322.6,
            "bin_end": 6483.900000000001,
            "count": 1
           },
           {
            "bin_start": 6483.900000000001,
            "bin_end": 8645.2,
            "count": 0
           },
           {
            "bin_start": 8645.2,
            "bin_end": 10806.5,
            "count": 0
           },
           {
            "bin_start": 10806.5,
            "bin_end": 12967.800000000001,
            "count": 0
           },
           {
            "bin_start": 12967.800000000001,
            "bin_end": 15129.100000000002,
            "count": 0
           },
           {
            "bin_start": 15129.100000000002,
            "bin_end": 17290.4,
            "count": 0
           },
           {
            "bin_start": 17290.4,
            "bin_end": 19451.7,
            "count": 0
           },
           {
            "bin_start": 19451.7,
            "bin_end": 21613,
            "count": 1
           }
          ]
         }
        },
        {
         "name": "yr_built",
         "dtype": "float64",
         "stats": {
          "unique_count": 8,
          "nan_count": 0,
          "min": "29.37341080238659",
          "max": "21613.0",
          "histogram": [
           {
            "bin_start": 29.37341080238659,
            "bin_end": 2187.736069722148,
            "count": 7
           },
           {
            "bin_start": 2187.736069722148,
            "bin_end": 4346.0987286419095,
            "count": 0
           },
           {
            "bin_start": 4346.0987286419095,
            "bin_end": 6504.4613875616715,
            "count": 0
           },
           {
            "bin_start": 6504.4613875616715,
            "bin_end": 8662.824046481433,
            "count": 0
           },
           {
            "bin_start": 8662.824046481433,
            "bin_end": 10821.186705401195,
            "count": 0
           },
           {
            "bin_start": 10821.186705401195,
            "bin_end": 12979.549364320957,
            "count": 0
           },
           {
            "bin_start": 12979.549364320957,
            "bin_end": 15137.912023240719,
            "count": 0
           },
           {
            "bin_start": 15137.912023240719,
            "bin_end": 17296.274682160478,
            "count": 0
           },
           {
            "bin_start": 17296.274682160478,
            "bin_end": 19454.63734108024,
            "count": 0
           },
           {
            "bin_start": 19454.63734108024,
            "bin_end": 21613,
            "count": 1
           }
          ]
         }
        },
        {
         "name": "yr_renovated",
         "dtype": "float64",
         "stats": {
          "unique_count": 5,
          "nan_count": 0,
          "min": "0.0",
          "max": "21613.0",
          "histogram": [
           {
            "bin_start": 0,
            "bin_end": 2161.3,
            "count": 7
           },
           {
            "bin_start": 2161.3,
            "bin_end": 4322.6,
            "count": 0
           },
           {
            "bin_start": 4322.6,
            "bin_end": 6483.900000000001,
            "count": 0
           },
           {
            "bin_start": 6483.900000000001,
            "bin_end": 8645.2,
            "count": 0
           },
           {
            "bin_start": 8645.2,
            "bin_end": 10806.5,
            "count": 0
           },
           {
            "bin_start": 10806.5,
            "bin_end": 12967.800000000001,
            "count": 0
           },
           {
            "bin_start": 12967.800000000001,
            "bin_end": 15129.100000000002,
            "count": 0
           },
           {
            "bin_start": 15129.100000000002,
            "bin_end": 17290.4,
            "count": 0
           },
           {
            "bin_start": 17290.4,
            "bin_end": 19451.7,
            "count": 0
           },
           {
            "bin_start": 19451.7,
            "bin_end": 21613,
            "count": 1
           }
          ]
         }
        },
        {
         "name": "zipcode",
         "dtype": "float64",
         "stats": {
          "unique_count": 8,
          "nan_count": 0,
          "min": "53.505026257473084",
          "max": "98199.0",
          "histogram": [
           {
            "bin_start": 53.505026257473084,
            "bin_end": 9868.054523631727,
            "count": 1
           },
           {
            "bin_start": 9868.054523631727,
            "bin_end": 19682.60402100598,
            "count": 0
           },
           {
            "bin_start": 19682.60402100598,
            "bin_end": 29497.153518380233,
            "count": 1
           },
           {
            "bin_start": 29497.153518380233,
            "bin_end": 39311.70301575449,
            "count": 0
           },
           {
            "bin_start": 39311.70301575449,
            "bin_end": 49126.25251312874,
            "count": 0
           },
           {
            "bin_start": 49126.25251312874,
            "bin_end": 58940.802010502994,
            "count": 0
           },
           {
            "bin_start": 58940.802010502994,
            "bin_end": 68755.35150787725,
            "count": 0
           },
           {
            "bin_start": 68755.35150787725,
            "bin_end": 78569.9010052515,
            "count": 0
           },
           {
            "bin_start": 78569.9010052515,
            "bin_end": 88384.45050262574,
            "count": 0
           },
           {
            "bin_start": 88384.45050262574,
            "bin_end": 98199,
            "count": 6
           }
          ]
         }
        },
        {
         "name": "lat",
         "dtype": "float64",
         "stats": {
          "unique_count": 8,
          "nan_count": 0,
          "min": "0.13856371024192418",
          "max": "21613.0",
          "histogram": [
           {
            "bin_start": 0.13856371024192418,
            "bin_end": 2161.424707339218,
            "count": 7
           },
           {
            "bin_start": 2161.424707339218,
            "bin_end": 4322.710850968194,
            "count": 0
           },
           {
            "bin_start": 4322.710850968194,
            "bin_end": 6483.99699459717,
            "count": 0
           },
           {
            "bin_start": 6483.99699459717,
            "bin_end": 8645.283138226145,
            "count": 0
           },
           {
            "bin_start": 8645.283138226145,
            "bin_end": 10806.56928185512,
            "count": 0
           },
           {
            "bin_start": 10806.56928185512,
            "bin_end": 12967.855425484096,
            "count": 0
           },
           {
            "bin_start": 12967.855425484096,
            "bin_end": 15129.141569113073,
            "count": 0
           },
           {
            "bin_start": 15129.141569113073,
            "bin_end": 17290.42771274205,
            "count": 0
           },
           {
            "bin_start": 17290.42771274205,
            "bin_end": 19451.713856371025,
            "count": 0
           },
           {
            "bin_start": 19451.713856371025,
            "bin_end": 21613,
            "count": 1
           }
          ]
         }
        },
        {
         "name": "long",
         "dtype": "float64",
         "stats": {
          "unique_count": 8,
          "nan_count": 0,
          "min": "-122.519",
          "max": "21613.0",
          "histogram": [
           {
            "bin_start": -122.519,
            "bin_end": 2051.0329,
            "count": 7
           },
           {
            "bin_start": 2051.0329,
            "bin_end": 4224.5848,
            "count": 0
           },
           {
            "bin_start": 4224.5848,
            "bin_end": 6398.136699999999,
            "count": 0
           },
           {
            "bin_start": 6398.136699999999,
            "bin_end": 8571.6886,
            "count": 0
           },
           {
            "bin_start": 8571.6886,
            "bin_end": 10745.2405,
            "count": 0
           },
           {
            "bin_start": 10745.2405,
            "bin_end": 12918.792399999998,
            "count": 0
           },
           {
            "bin_start": 12918.792399999998,
            "bin_end": 15092.344299999999,
            "count": 0
           },
           {
            "bin_start": 15092.344299999999,
            "bin_end": 17265.8962,
            "count": 0
           },
           {
            "bin_start": 17265.8962,
            "bin_end": 19439.448099999998,
            "count": 0
           },
           {
            "bin_start": 19439.448099999998,
            "bin_end": 21613,
            "count": 1
           }
          ]
         }
        },
        {
         "name": "sqft_living15",
         "dtype": "float64",
         "stats": {
          "unique_count": 8,
          "nan_count": 0,
          "min": "399.0",
          "max": "21613.0",
          "histogram": [
           {
            "bin_start": 399,
            "bin_end": 2520.4,
            "count": 6
           },
           {
            "bin_start": 2520.4,
            "bin_end": 4641.8,
            "count": 0
           },
           {
            "bin_start": 4641.8,
            "bin_end": 6763.200000000001,
            "count": 1
           },
           {
            "bin_start": 6763.200000000001,
            "bin_end": 8884.6,
            "count": 0
           },
           {
            "bin_start": 8884.6,
            "bin_end": 11006,
            "count": 0
           },
           {
            "bin_start": 11006,
            "bin_end": 13127.400000000001,
            "count": 0
           },
           {
            "bin_start": 13127.400000000001,
            "bin_end": 15248.800000000001,
            "count": 0
           },
           {
            "bin_start": 15248.800000000001,
            "bin_end": 17370.2,
            "count": 0
           },
           {
            "bin_start": 17370.2,
            "bin_end": 19491.600000000002,
            "count": 0
           },
           {
            "bin_start": 19491.600000000002,
            "bin_end": 21613,
            "count": 1
           }
          ]
         }
        },
        {
         "name": "sqft_lot15",
         "dtype": "float64",
         "stats": {
          "unique_count": 8,
          "nan_count": 0,
          "min": "651.0",
          "max": "871200.0",
          "histogram": [
           {
            "bin_start": 651,
            "bin_end": 87705.9,
            "count": 7
           },
           {
            "bin_start": 87705.9,
            "bin_end": 174760.8,
            "count": 0
           },
           {
            "bin_start": 174760.8,
            "bin_end": 261815.69999999998,
            "count": 0
           },
           {
            "bin_start": 261815.69999999998,
            "bin_end": 348870.6,
            "count": 0
           },
           {
            "bin_start": 348870.6,
            "bin_end": 435925.5,
            "count": 0
           },
           {
            "bin_start": 435925.5,
            "bin_end": 522980.39999999997,
            "count": 0
           },
           {
            "bin_start": 522980.39999999997,
            "bin_end": 610035.2999999999,
            "count": 0
           },
           {
            "bin_start": 610035.2999999999,
            "bin_end": 697090.2,
            "count": 0
           },
           {
            "bin_start": 697090.2,
            "bin_end": 784145.1,
            "count": 0
           },
           {
            "bin_start": 784145.1,
            "bin_end": 871200,
            "count": 1
           }
          ]
         }
        },
        {
         "name": "_deepnote_index_column",
         "dtype": "object"
        }
       ],
       "rows": [
        {
         "Unnamed: 0": 21613,
         "id": 21613,
         "price": 21613,
         "bedrooms": 21600,
         "bathrooms": 21603,
         "sqft_living": 21613,
         "sqft_lot": 21613,
         "floors": 21613,
         "waterfront": 21613,
         "view": 21613,
         "condition": 21613,
         "grade": 21613,
         "sqft_above": 21613,
         "sqft_basement": 21613,
         "yr_built": 21613,
         "yr_renovated": 21613,
         "zipcode": 21613,
         "lat": 21613,
         "long": 21613,
         "sqft_living15": 21613,
         "sqft_lot15": 21613,
         "_deepnote_index_column": "count"
        },
        {
         "Unnamed: 0": 10806,
         "id": 4580301520.864988,
         "price": 540088.1417665294,
         "bedrooms": 3.37287037037037,
         "bathrooms": 2.1157362403369904,
         "sqft_living": 2079.8997362698374,
         "sqft_lot": 15106.967565816869,
         "floors": 1.4943089807060566,
         "waterfront": 0.007541757275713691,
         "view": 0.23430342849211122,
         "condition": 3.4094295100171195,
         "grade": 7.656873178179799,
         "sqft_above": 1788.3906907879516,
         "sqft_basement": 291.5090454818859,
         "yr_built": 1971.0051357978994,
         "yr_renovated": 84.40225790033776,
         "zipcode": 98077.93980474715,
         "lat": 47.56005251931708,
         "long": -122.21389640494147,
         "sqft_living15": 1986.552491556008,
         "sqft_lot15": 12768.455651691113,
         "_deepnote_index_column": "mean"
        },
        {
         "Unnamed: 0": 6239.280019895457,
         "id": 2876565571.312057,
         "price": 367127.19648269983,
         "bedrooms": 0.9266566928336006,
         "bathrooms": 0.7689958657059824,
         "sqft_living": 918.4408970468115,
         "sqft_lot": 41420.51151513548,
         "floors": 0.5399888951423463,
         "waterfront": 0.08651719772788764,
         "view": 0.7663175692736122,
         "condition": 0.6507430463662071,
         "grade": 1.175458756974335,
         "sqft_above": 828.0909776519169,
         "sqft_basement": 442.5750426774682,
         "yr_built": 29.37341080238659,
         "yr_renovated": 401.6792400191759,
         "zipcode": 53.505026257473084,
         "lat": 0.13856371024192418,
         "long": 0.14082834238139408,
         "sqft_living15": 685.3913042527776,
         "sqft_lot15": 27304.17963133851,
         "_deepnote_index_column": "std"
        },
        {
         "Unnamed: 0": 0,
         "id": 1000102,
         "price": 75000,
         "bedrooms": 1,
         "bathrooms": 0.5,
         "sqft_living": 290,
         "sqft_lot": 520,
         "floors": 1,
         "waterfront": 0,
         "view": 0,
         "condition": 1,
         "grade": 1,
         "sqft_above": 290,
         "sqft_basement": 0,
         "yr_built": 1900,
         "yr_renovated": 0,
         "zipcode": 98001,
         "lat": 47.1559,
         "long": -122.519,
         "sqft_living15": 399,
         "sqft_lot15": 651,
         "_deepnote_index_column": "min"
        },
        {
         "Unnamed: 0": 5403,
         "id": 2123049194,
         "price": 321950,
         "bedrooms": 3,
         "bathrooms": 1.75,
         "sqft_living": 1427,
         "sqft_lot": 5040,
         "floors": 1,
         "waterfront": 0,
         "view": 0,
         "condition": 3,
         "grade": 7,
         "sqft_above": 1190,
         "sqft_basement": 0,
         "yr_built": 1951,
         "yr_renovated": 0,
         "zipcode": 98033,
         "lat": 47.471,
         "long": -122.328,
         "sqft_living15": 1490,
         "sqft_lot15": 5100,
         "_deepnote_index_column": "25%"
        },
        {
         "Unnamed: 0": 10806,
         "id": 3904930410,
         "price": 450000,
         "bedrooms": 3,
         "bathrooms": 2.25,
         "sqft_living": 1910,
         "sqft_lot": 7618,
         "floors": 1.5,
         "waterfront": 0,
         "view": 0,
         "condition": 3,
         "grade": 7,
         "sqft_above": 1560,
         "sqft_basement": 0,
         "yr_built": 1975,
         "yr_renovated": 0,
         "zipcode": 98065,
         "lat": 47.5718,
         "long": -122.23,
         "sqft_living15": 1840,
         "sqft_lot15": 7620,
         "_deepnote_index_column": "50%"
        },
        {
         "Unnamed: 0": 16209,
         "id": 7308900445,
         "price": 645000,
         "bedrooms": 4,
         "bathrooms": 2.5,
         "sqft_living": 2550,
         "sqft_lot": 10688,
         "floors": 2,
         "waterfront": 0,
         "view": 0,
         "condition": 4,
         "grade": 8,
         "sqft_above": 2210,
         "sqft_basement": 560,
         "yr_built": 1997,
         "yr_renovated": 0,
         "zipcode": 98118,
         "lat": 47.678,
         "long": -122.125,
         "sqft_living15": 2360,
         "sqft_lot15": 10083,
         "_deepnote_index_column": "75%"
        },
        {
         "Unnamed: 0": 21612,
         "id": 9900000190,
         "price": 7700000,
         "bedrooms": 33,
         "bathrooms": 8,
         "sqft_living": 13540,
         "sqft_lot": 1651359,
         "floors": 3.5,
         "waterfront": 1,
         "view": 4,
         "condition": 5,
         "grade": 13,
         "sqft_above": 9410,
         "sqft_basement": 4820,
         "yr_built": 2015,
         "yr_renovated": 2015,
         "zipcode": 98199,
         "lat": 47.7776,
         "long": -121.315,
         "sqft_living15": 6210,
         "sqft_lot15": 871200,
         "_deepnote_index_column": "max"
        }
       ]
      },
      "text/plain": "        Unnamed: 0            id         price      bedrooms     bathrooms  \\\ncount  21613.00000  2.161300e+04  2.161300e+04  21600.000000  21603.000000   \nmean   10806.00000  4.580302e+09  5.400881e+05      3.372870      2.115736   \nstd     6239.28002  2.876566e+09  3.671272e+05      0.926657      0.768996   \nmin        0.00000  1.000102e+06  7.500000e+04      1.000000      0.500000   \n25%     5403.00000  2.123049e+09  3.219500e+05      3.000000      1.750000   \n50%    10806.00000  3.904930e+09  4.500000e+05      3.000000      2.250000   \n75%    16209.00000  7.308900e+09  6.450000e+05      4.000000      2.500000   \nmax    21612.00000  9.900000e+09  7.700000e+06     33.000000      8.000000   \n\n        sqft_living      sqft_lot        floors    waterfront          view  \\\ncount  21613.000000  2.161300e+04  21613.000000  21613.000000  21613.000000   \nmean    2079.899736  1.510697e+04      1.494309      0.007542      0.234303   \nstd      918.440897  4.142051e+04      0.539989      0.086517      0.766318   \nmin      290.000000  5.200000e+02      1.000000      0.000000      0.000000   \n25%     1427.000000  5.040000e+03      1.000000      0.000000      0.000000   \n50%     1910.000000  7.618000e+03      1.500000      0.000000      0.000000   \n75%     2550.000000  1.068800e+04      2.000000      0.000000      0.000000   \nmax    13540.000000  1.651359e+06      3.500000      1.000000      4.000000   \n\n       ...         grade    sqft_above  sqft_basement      yr_built  \\\ncount  ...  21613.000000  21613.000000   21613.000000  21613.000000   \nmean   ...      7.656873   1788.390691     291.509045   1971.005136   \nstd    ...      1.175459    828.090978     442.575043     29.373411   \nmin    ...      1.000000    290.000000       0.000000   1900.000000   \n25%    ...      7.000000   1190.000000       0.000000   1951.000000   \n50%    ...      7.000000   1560.000000       0.000000   1975.000000   \n75%    ...      8.000000   2210.000000     560.000000   1997.000000   \nmax    ...     13.000000   9410.000000    4820.000000   2015.000000   \n\n       yr_renovated       zipcode           lat          long  sqft_living15  \\\ncount  21613.000000  21613.000000  21613.000000  21613.000000   21613.000000   \nmean      84.402258  98077.939805     47.560053   -122.213896    1986.552492   \nstd      401.679240     53.505026      0.138564      0.140828     685.391304   \nmin        0.000000  98001.000000     47.155900   -122.519000     399.000000   \n25%        0.000000  98033.000000     47.471000   -122.328000    1490.000000   \n50%        0.000000  98065.000000     47.571800   -122.230000    1840.000000   \n75%        0.000000  98118.000000     47.678000   -122.125000    2360.000000   \nmax     2015.000000  98199.000000     47.777600   -121.315000    6210.000000   \n\n          sqft_lot15  \ncount   21613.000000  \nmean    12768.455652  \nstd     27304.179631  \nmin       651.000000  \n25%      5100.000000  \n50%      7620.000000  \n75%     10083.000000  \nmax    871200.000000  \n\n[8 rows x 21 columns]",
      "text/html": "<div>\n<style scoped>\n    .dataframe tbody tr th:only-of-type {\n        vertical-align: middle;\n    }\n\n    .dataframe tbody tr th {\n        vertical-align: top;\n    }\n\n    .dataframe thead th {\n        text-align: right;\n    }\n</style>\n<table border=\"1\" class=\"dataframe\">\n  <thead>\n    <tr style=\"text-align: right;\">\n      <th></th>\n      <th>Unnamed: 0</th>\n      <th>id</th>\n      <th>price</th>\n      <th>bedrooms</th>\n      <th>bathrooms</th>\n      <th>sqft_living</th>\n      <th>sqft_lot</th>\n      <th>floors</th>\n      <th>waterfront</th>\n      <th>view</th>\n      <th>...</th>\n      <th>grade</th>\n      <th>sqft_above</th>\n      <th>sqft_basement</th>\n      <th>yr_built</th>\n      <th>yr_renovated</th>\n      <th>zipcode</th>\n      <th>lat</th>\n      <th>long</th>\n      <th>sqft_living15</th>\n      <th>sqft_lot15</th>\n    </tr>\n  </thead>\n  <tbody>\n    <tr>\n      <th>count</th>\n      <td>21613.00000</td>\n      <td>2.161300e+04</td>\n      <td>2.161300e+04</td>\n      <td>21600.000000</td>\n      <td>21603.000000</td>\n      <td>21613.000000</td>\n      <td>2.161300e+04</td>\n      <td>21613.000000</td>\n      <td>21613.000000</td>\n      <td>21613.000000</td>\n      <td>...</td>\n      <td>21613.000000</td>\n      <td>21613.000000</td>\n      <td>21613.000000</td>\n      <td>21613.000000</td>\n      <td>21613.000000</td>\n      <td>21613.000000</td>\n      <td>21613.000000</td>\n      <td>21613.000000</td>\n      <td>21613.000000</td>\n      <td>21613.000000</td>\n    </tr>\n    <tr>\n      <th>mean</th>\n      <td>10806.00000</td>\n      <td>4.580302e+09</td>\n      <td>5.400881e+05</td>\n      <td>3.372870</td>\n      <td>2.115736</td>\n      <td>2079.899736</td>\n      <td>1.510697e+04</td>\n      <td>1.494309</td>\n      <td>0.007542</td>\n      <td>0.234303</td>\n      <td>...</td>\n      <td>7.656873</td>\n      <td>1788.390691</td>\n      <td>291.509045</td>\n      <td>1971.005136</td>\n      <td>84.402258</td>\n      <td>98077.939805</td>\n      <td>47.560053</td>\n      <td>-122.213896</td>\n      <td>1986.552492</td>\n      <td>12768.455652</td>\n    </tr>\n    <tr>\n      <th>std</th>\n      <td>6239.28002</td>\n      <td>2.876566e+09</td>\n      <td>3.671272e+05</td>\n      <td>0.926657</td>\n      <td>0.768996</td>\n      <td>918.440897</td>\n      <td>4.142051e+04</td>\n      <td>0.539989</td>\n      <td>0.086517</td>\n      <td>0.766318</td>\n      <td>...</td>\n      <td>1.175459</td>\n      <td>828.090978</td>\n      <td>442.575043</td>\n      <td>29.373411</td>\n      <td>401.679240</td>\n      <td>53.505026</td>\n      <td>0.138564</td>\n      <td>0.140828</td>\n      <td>685.391304</td>\n      <td>27304.179631</td>\n    </tr>\n    <tr>\n      <th>min</th>\n      <td>0.00000</td>\n      <td>1.000102e+06</td>\n      <td>7.500000e+04</td>\n      <td>1.000000</td>\n      <td>0.500000</td>\n      <td>290.000000</td>\n      <td>5.200000e+02</td>\n      <td>1.000000</td>\n      <td>0.000000</td>\n      <td>0.000000</td>\n      <td>...</td>\n      <td>1.000000</td>\n      <td>290.000000</td>\n      <td>0.000000</td>\n      <td>1900.000000</td>\n      <td>0.000000</td>\n      <td>98001.000000</td>\n      <td>47.155900</td>\n      <td>-122.519000</td>\n      <td>399.000000</td>\n      <td>651.000000</td>\n    </tr>\n    <tr>\n      <th>25%</th>\n      <td>5403.00000</td>\n      <td>2.123049e+09</td>\n      <td>3.219500e+05</td>\n      <td>3.000000</td>\n      <td>1.750000</td>\n      <td>1427.000000</td>\n      <td>5.040000e+03</td>\n      <td>1.000000</td>\n      <td>0.000000</td>\n      <td>0.000000</td>\n      <td>...</td>\n      <td>7.000000</td>\n      <td>1190.000000</td>\n      <td>0.000000</td>\n      <td>1951.000000</td>\n      <td>0.000000</td>\n      <td>98033.000000</td>\n      <td>47.471000</td>\n      <td>-122.328000</td>\n      <td>1490.000000</td>\n      <td>5100.000000</td>\n    </tr>\n    <tr>\n      <th>50%</th>\n      <td>10806.00000</td>\n      <td>3.904930e+09</td>\n      <td>4.500000e+05</td>\n      <td>3.000000</td>\n      <td>2.250000</td>\n      <td>1910.000000</td>\n      <td>7.618000e+03</td>\n      <td>1.500000</td>\n      <td>0.000000</td>\n      <td>0.000000</td>\n      <td>...</td>\n      <td>7.000000</td>\n      <td>1560.000000</td>\n      <td>0.000000</td>\n      <td>1975.000000</td>\n      <td>0.000000</td>\n      <td>98065.000000</td>\n      <td>47.571800</td>\n      <td>-122.230000</td>\n      <td>1840.000000</td>\n      <td>7620.000000</td>\n    </tr>\n    <tr>\n      <th>75%</th>\n      <td>16209.00000</td>\n      <td>7.308900e+09</td>\n      <td>6.450000e+05</td>\n      <td>4.000000</td>\n      <td>2.500000</td>\n      <td>2550.000000</td>\n      <td>1.068800e+04</td>\n      <td>2.000000</td>\n      <td>0.000000</td>\n      <td>0.000000</td>\n      <td>...</td>\n      <td>8.000000</td>\n      <td>2210.000000</td>\n      <td>560.000000</td>\n      <td>1997.000000</td>\n      <td>0.000000</td>\n      <td>98118.000000</td>\n      <td>47.678000</td>\n      <td>-122.125000</td>\n      <td>2360.000000</td>\n      <td>10083.000000</td>\n    </tr>\n    <tr>\n      <th>max</th>\n      <td>21612.00000</td>\n      <td>9.900000e+09</td>\n      <td>7.700000e+06</td>\n      <td>33.000000</td>\n      <td>8.000000</td>\n      <td>13540.000000</td>\n      <td>1.651359e+06</td>\n      <td>3.500000</td>\n      <td>1.000000</td>\n      <td>4.000000</td>\n      <td>...</td>\n      <td>13.000000</td>\n      <td>9410.000000</td>\n      <td>4820.000000</td>\n      <td>2015.000000</td>\n      <td>2015.000000</td>\n      <td>98199.000000</td>\n      <td>47.777600</td>\n      <td>-121.315000</td>\n      <td>6210.000000</td>\n      <td>871200.000000</td>\n    </tr>\n  </tbody>\n</table>\n<p>8 rows × 21 columns</p>\n</div>"
     },
     "metadata": {}
    }
   ]
  },
  {
   "cell_type": "markdown",
   "source": "# Data Wrangling",
   "metadata": {
    "cell_id": "00015-b420027d-da8c-4540-88e5-52a43c4708d2",
    "deepnote_app_coordinates": {
     "x": 0,
     "y": 84,
     "w": 12,
     "h": 5
    },
    "deepnote_cell_type": "markdown",
    "deepnote_cell_height": 82
   }
  },
  {
   "cell_type": "markdown",
   "source": "Eliminamos las columnas \"id\" y \"Unnamed: 0\" del eje 1 utilizando el método drop(), luego utilizamos el método describe() para obtener un resumen estadístico de los datos. Nos aseguramos de que el parámetro inplace esté establecido en True\n",
   "metadata": {
    "cell_id": "00016-a49d1de1-2d05-4694-a549-7fbe934f9301",
    "deepnote_app_coordinates": {
     "x": 0,
     "y": 90,
     "w": 12,
     "h": 5
    },
    "deepnote_cell_type": "markdown",
    "deepnote_cell_height": 74.796875
   }
  },
  {
   "cell_type": "code",
   "metadata": {
    "jupyter": {
     "outputs_hidden": false
    },
    "cell_id": "00017-4c5c7687-abbd-4848-abb4-d40fc25e5a06",
    "deepnote_to_be_reexecuted": false,
    "source_hash": "adb6e006",
    "execution_start": 1650246960261,
    "execution_millis": 157,
    "deepnote_app_coordinates": {
     "x": 0,
     "y": 96,
     "w": 12,
     "h": 5
    },
    "deepnote_cell_type": "code",
    "deepnote_cell_height": 552.796875
   },
   "source": "df.drop(columns=[\"id\",\"Unnamed: 0\"], axis=1 ,inplace=True)\ndf.describe()",
   "execution_count": null,
   "outputs": [
    {
     "output_type": "execute_result",
     "execution_count": 6,
     "data": {
      "application/vnd.deepnote.dataframe.v3+json": {
       "column_count": 19,
       "row_count": 8,
       "columns": [
        {
         "name": "price",
         "dtype": "float64",
         "stats": {
          "unique_count": 8,
          "nan_count": 0,
          "min": "21613.0",
          "max": "7700000.0",
          "histogram": [
           {
            "bin_start": 21613,
            "bin_end": 789451.7,
            "count": 7
           },
           {
            "bin_start": 789451.7,
            "bin_end": 1557290.4,
            "count": 0
           },
           {
            "bin_start": 1557290.4,
            "bin_end": 2325129.0999999996,
            "count": 0
           },
           {
            "bin_start": 2325129.0999999996,
            "bin_end": 3092967.8,
            "count": 0
           },
           {
            "bin_start": 3092967.8,
            "bin_end": 3860806.5,
            "count": 0
           },
           {
            "bin_start": 3860806.5,
            "bin_end": 4628645.199999999,
            "count": 0
           },
           {
            "bin_start": 4628645.199999999,
            "bin_end": 5396483.899999999,
            "count": 0
           },
           {
            "bin_start": 5396483.899999999,
            "bin_end": 6164322.6,
            "count": 0
           },
           {
            "bin_start": 6164322.6,
            "bin_end": 6932161.3,
            "count": 0
           },
           {
            "bin_start": 6932161.3,
            "bin_end": 7700000,
            "count": 1
           }
          ]
         }
        },
        {
         "name": "bedrooms",
         "dtype": "float64",
         "stats": {
          "unique_count": 7,
          "nan_count": 0,
          "min": "0.9266566928336006",
          "max": "21600.0",
          "histogram": [
           {
            "bin_start": 0.9266566928336006,
            "bin_end": 2160.83399102355,
            "count": 7
           },
           {
            "bin_start": 2160.83399102355,
            "bin_end": 4320.741325354266,
            "count": 0
           },
           {
            "bin_start": 4320.741325354266,
            "bin_end": 6480.648659684983,
            "count": 0
           },
           {
            "bin_start": 6480.648659684983,
            "bin_end": 8640.555994015698,
            "count": 0
           },
           {
            "bin_start": 8640.555994015698,
            "bin_end": 10800.463328346415,
            "count": 0
           },
           {
            "bin_start": 10800.463328346415,
            "bin_end": 12960.37066267713,
            "count": 0
           },
           {
            "bin_start": 12960.37066267713,
            "bin_end": 15120.277997007846,
            "count": 0
           },
           {
            "bin_start": 15120.277997007846,
            "bin_end": 17280.185331338565,
            "count": 0
           },
           {
            "bin_start": 17280.185331338565,
            "bin_end": 19440.092665669283,
            "count": 0
           },
           {
            "bin_start": 19440.092665669283,
            "bin_end": 21600,
            "count": 1
           }
          ]
         }
        },
        {
         "name": "bathrooms",
         "dtype": "float64",
         "stats": {
          "unique_count": 8,
          "nan_count": 0,
          "min": "0.5",
          "max": "21603.0",
          "histogram": [
           {
            "bin_start": 0.5,
            "bin_end": 2160.75,
            "count": 7
           },
           {
            "bin_start": 2160.75,
            "bin_end": 4321,
            "count": 0
           },
           {
            "bin_start": 4321,
            "bin_end": 6481.25,
            "count": 0
           },
           {
            "bin_start": 6481.25,
            "bin_end": 8641.5,
            "count": 0
           },
           {
            "bin_start": 8641.5,
            "bin_end": 10801.75,
            "count": 0
           },
           {
            "bin_start": 10801.75,
            "bin_end": 12962,
            "count": 0
           },
           {
            "bin_start": 12962,
            "bin_end": 15122.25,
            "count": 0
           },
           {
            "bin_start": 15122.25,
            "bin_end": 17282.5,
            "count": 0
           },
           {
            "bin_start": 17282.5,
            "bin_end": 19442.75,
            "count": 0
           },
           {
            "bin_start": 19442.75,
            "bin_end": 21603,
            "count": 1
           }
          ]
         }
        },
        {
         "name": "sqft_living",
         "dtype": "float64",
         "stats": {
          "unique_count": 8,
          "nan_count": 0,
          "min": "290.0",
          "max": "21613.0",
          "histogram": [
           {
            "bin_start": 290,
            "bin_end": 2422.3,
            "count": 5
           },
           {
            "bin_start": 2422.3,
            "bin_end": 4554.6,
            "count": 1
           },
           {
            "bin_start": 4554.6,
            "bin_end": 6686.900000000001,
            "count": 0
           },
           {
            "bin_start": 6686.900000000001,
            "bin_end": 8819.2,
            "count": 0
           },
           {
            "bin_start": 8819.2,
            "bin_end": 10951.5,
            "count": 0
           },
           {
            "bin_start": 10951.5,
            "bin_end": 13083.800000000001,
            "count": 0
           },
           {
            "bin_start": 13083.800000000001,
            "bin_end": 15216.100000000002,
            "count": 1
           },
           {
            "bin_start": 15216.100000000002,
            "bin_end": 17348.4,
            "count": 0
           },
           {
            "bin_start": 17348.4,
            "bin_end": 19480.7,
            "count": 0
           },
           {
            "bin_start": 19480.7,
            "bin_end": 21613,
            "count": 1
           }
          ]
         }
        },
        {
         "name": "sqft_lot",
         "dtype": "float64",
         "stats": {
          "unique_count": 8,
          "nan_count": 0,
          "min": "520.0",
          "max": "1651359.0",
          "histogram": [
           {
            "bin_start": 520,
            "bin_end": 165603.9,
            "count": 7
           },
           {
            "bin_start": 165603.9,
            "bin_end": 330687.8,
            "count": 0
           },
           {
            "bin_start": 330687.8,
            "bin_end": 495771.69999999995,
            "count": 0
           },
           {
            "bin_start": 495771.69999999995,
            "bin_end": 660855.6,
            "count": 0
           },
           {
            "bin_start": 660855.6,
            "bin_end": 825939.5,
            "count": 0
           },
           {
            "bin_start": 825939.5,
            "bin_end": 991023.3999999999,
            "count": 0
           },
           {
            "bin_start": 991023.3999999999,
            "bin_end": 1156107.3,
            "count": 0
           },
           {
            "bin_start": 1156107.3,
            "bin_end": 1321191.2,
            "count": 0
           },
           {
            "bin_start": 1321191.2,
            "bin_end": 1486275.0999999999,
            "count": 0
           },
           {
            "bin_start": 1486275.0999999999,
            "bin_end": 1651359,
            "count": 1
           }
          ]
         }
        },
        {
         "name": "floors",
         "dtype": "float64",
         "stats": {
          "unique_count": 7,
          "nan_count": 0,
          "min": "0.5399888951423463",
          "max": "21613.0",
          "histogram": [
           {
            "bin_start": 0.5399888951423463,
            "bin_end": 2161.7859900056283,
            "count": 7
           },
           {
            "bin_start": 2161.7859900056283,
            "bin_end": 4323.031991116114,
            "count": 0
           },
           {
            "bin_start": 4323.031991116114,
            "bin_end": 6484.2779922266,
            "count": 0
           },
           {
            "bin_start": 6484.2779922266,
            "bin_end": 8645.523993337085,
            "count": 0
           },
           {
            "bin_start": 8645.523993337085,
            "bin_end": 10806.76999444757,
            "count": 0
           },
           {
            "bin_start": 10806.76999444757,
            "bin_end": 12968.015995558057,
            "count": 0
           },
           {
            "bin_start": 12968.015995558057,
            "bin_end": 15129.261996668543,
            "count": 0
           },
           {
            "bin_start": 15129.261996668543,
            "bin_end": 17290.50799777903,
            "count": 0
           },
           {
            "bin_start": 17290.50799777903,
            "bin_end": 19451.753998889515,
            "count": 0
           },
           {
            "bin_start": 19451.753998889515,
            "bin_end": 21613,
            "count": 1
           }
          ]
         }
        },
        {
         "name": "waterfront",
         "dtype": "float64",
         "stats": {
          "unique_count": 5,
          "nan_count": 0,
          "min": "0.0",
          "max": "21613.0",
          "histogram": [
           {
            "bin_start": 0,
            "bin_end": 2161.3,
            "count": 7
           },
           {
            "bin_start": 2161.3,
            "bin_end": 4322.6,
            "count": 0
           },
           {
            "bin_start": 4322.6,
            "bin_end": 6483.900000000001,
            "count": 0
           },
           {
            "bin_start": 6483.900000000001,
            "bin_end": 8645.2,
            "count": 0
           },
           {
            "bin_start": 8645.2,
            "bin_end": 10806.5,
            "count": 0
           },
           {
            "bin_start": 10806.5,
            "bin_end": 12967.800000000001,
            "count": 0
           },
           {
            "bin_start": 12967.800000000001,
            "bin_end": 15129.100000000002,
            "count": 0
           },
           {
            "bin_start": 15129.100000000002,
            "bin_end": 17290.4,
            "count": 0
           },
           {
            "bin_start": 17290.4,
            "bin_end": 19451.7,
            "count": 0
           },
           {
            "bin_start": 19451.7,
            "bin_end": 21613,
            "count": 1
           }
          ]
         }
        },
        {
         "name": "view",
         "dtype": "float64",
         "stats": {
          "unique_count": 5,
          "nan_count": 0,
          "min": "0.0",
          "max": "21613.0",
          "histogram": [
           {
            "bin_start": 0,
            "bin_end": 2161.3,
            "count": 7
           },
           {
            "bin_start": 2161.3,
            "bin_end": 4322.6,
            "count": 0
           },
           {
            "bin_start": 4322.6,
            "bin_end": 6483.900000000001,
            "count": 0
           },
           {
            "bin_start": 6483.900000000001,
            "bin_end": 8645.2,
            "count": 0
           },
           {
            "bin_start": 8645.2,
            "bin_end": 10806.5,
            "count": 0
           },
           {
            "bin_start": 10806.5,
            "bin_end": 12967.800000000001,
            "count": 0
           },
           {
            "bin_start": 12967.800000000001,
            "bin_end": 15129.100000000002,
            "count": 0
           },
           {
            "bin_start": 15129.100000000002,
            "bin_end": 17290.4,
            "count": 0
           },
           {
            "bin_start": 17290.4,
            "bin_end": 19451.7,
            "count": 0
           },
           {
            "bin_start": 19451.7,
            "bin_end": 21613,
            "count": 1
           }
          ]
         }
        },
        {
         "name": "condition",
         "dtype": "float64",
         "stats": {
          "unique_count": 7,
          "nan_count": 0,
          "min": "0.6507430463662071",
          "max": "21613.0",
          "histogram": [
           {
            "bin_start": 0.6507430463662071,
            "bin_end": 2161.885668741729,
            "count": 7
           },
           {
            "bin_start": 2161.885668741729,
            "bin_end": 4323.120594437092,
            "count": 0
           },
           {
            "bin_start": 4323.120594437092,
            "bin_end": 6484.355520132455,
            "count": 0
           },
           {
            "bin_start": 6484.355520132455,
            "bin_end": 8645.590445827818,
            "count": 0
           },
           {
            "bin_start": 8645.590445827818,
            "bin_end": 10806.825371523182,
            "count": 0
           },
           {
            "bin_start": 10806.825371523182,
            "bin_end": 12968.060297218544,
            "count": 0
           },
           {
            "bin_start": 12968.060297218544,
            "bin_end": 15129.295222913906,
            "count": 0
           },
           {
            "bin_start": 15129.295222913906,
            "bin_end": 17290.530148609272,
            "count": 0
           },
           {
            "bin_start": 17290.530148609272,
            "bin_end": 19451.765074304636,
            "count": 0
           },
           {
            "bin_start": 19451.765074304636,
            "bin_end": 21613,
            "count": 1
           }
          ]
         }
        },
        {
         "name": "grade",
         "dtype": "float64",
         "stats": {
          "unique_count": 7,
          "nan_count": 0,
          "min": "1.0",
          "max": "21613.0",
          "histogram": [
           {
            "bin_start": 1,
            "bin_end": 2162.2,
            "count": 7
           },
           {
            "bin_start": 2162.2,
            "bin_end": 4323.4,
            "count": 0
           },
           {
            "bin_start": 4323.4,
            "bin_end": 6484.599999999999,
            "count": 0
           },
           {
            "bin_start": 6484.599999999999,
            "bin_end": 8645.8,
            "count": 0
           },
           {
            "bin_start": 8645.8,
            "bin_end": 10807,
            "count": 0
           },
           {
            "bin_start": 10807,
            "bin_end": 12968.199999999999,
            "count": 0
           },
           {
            "bin_start": 12968.199999999999,
            "bin_end": 15129.399999999998,
            "count": 0
           },
           {
            "bin_start": 15129.399999999998,
            "bin_end": 17290.6,
            "count": 0
           },
           {
            "bin_start": 17290.6,
            "bin_end": 19451.8,
            "count": 0
           },
           {
            "bin_start": 19451.8,
            "bin_end": 21613,
            "count": 1
           }
          ]
         }
        },
        {
         "name": "sqft_above",
         "dtype": "float64",
         "stats": {
          "unique_count": 8,
          "nan_count": 0,
          "min": "290.0",
          "max": "21613.0",
          "histogram": [
           {
            "bin_start": 290,
            "bin_end": 2422.3,
            "count": 6
           },
           {
            "bin_start": 2422.3,
            "bin_end": 4554.6,
            "count": 0
           },
           {
            "bin_start": 4554.6,
            "bin_end": 6686.900000000001,
            "count": 0
           },
           {
            "bin_start": 6686.900000000001,
            "bin_end": 8819.2,
            "count": 0
           },
           {
            "bin_start": 8819.2,
            "bin_end": 10951.5,
            "count": 1
           },
           {
            "bin_start": 10951.5,
            "bin_end": 13083.800000000001,
            "count": 0
           },
           {
            "bin_start": 13083.800000000001,
            "bin_end": 15216.100000000002,
            "count": 0
           },
           {
            "bin_start": 15216.100000000002,
            "bin_end": 17348.4,
            "count": 0
           },
           {
            "bin_start": 17348.4,
            "bin_end": 19480.7,
            "count": 0
           },
           {
            "bin_start": 19480.7,
            "bin_end": 21613,
            "count": 1
           }
          ]
         }
        },
        {
         "name": "sqft_basement",
         "dtype": "float64",
         "stats": {
          "unique_count": 6,
          "nan_count": 0,
          "min": "0.0",
          "max": "21613.0",
          "histogram": [
           {
            "bin_start": 0,
            "bin_end": 2161.3,
            "count": 6
           },
           {
            "bin_start": 2161.3,
            "bin_end": 4322.6,
            "count": 0
           },
           {
            "bin_start": 4322.6,
            "bin_end": 6483.900000000001,
            "count": 1
           },
           {
            "bin_start": 6483.900000000001,
            "bin_end": 8645.2,
            "count": 0
           },
           {
            "bin_start": 8645.2,
            "bin_end": 10806.5,
            "count": 0
           },
           {
            "bin_start": 10806.5,
            "bin_end": 12967.800000000001,
            "count": 0
           },
           {
            "bin_start": 12967.800000000001,
            "bin_end": 15129.100000000002,
            "count": 0
           },
           {
            "bin_start": 15129.100000000002,
            "bin_end": 17290.4,
            "count": 0
           },
           {
            "bin_start": 17290.4,
            "bin_end": 19451.7,
            "count": 0
           },
           {
            "bin_start": 19451.7,
            "bin_end": 21613,
            "count": 1
           }
          ]
         }
        },
        {
         "name": "yr_built",
         "dtype": "float64",
         "stats": {
          "unique_count": 8,
          "nan_count": 0,
          "min": "29.37341080238659",
          "max": "21613.0",
          "histogram": [
           {
            "bin_start": 29.37341080238659,
            "bin_end": 2187.736069722148,
            "count": 7
           },
           {
            "bin_start": 2187.736069722148,
            "bin_end": 4346.0987286419095,
            "count": 0
           },
           {
            "bin_start": 4346.0987286419095,
            "bin_end": 6504.4613875616715,
            "count": 0
           },
           {
            "bin_start": 6504.4613875616715,
            "bin_end": 8662.824046481433,
            "count": 0
           },
           {
            "bin_start": 8662.824046481433,
            "bin_end": 10821.186705401195,
            "count": 0
           },
           {
            "bin_start": 10821.186705401195,
            "bin_end": 12979.549364320957,
            "count": 0
           },
           {
            "bin_start": 12979.549364320957,
            "bin_end": 15137.912023240719,
            "count": 0
           },
           {
            "bin_start": 15137.912023240719,
            "bin_end": 17296.274682160478,
            "count": 0
           },
           {
            "bin_start": 17296.274682160478,
            "bin_end": 19454.63734108024,
            "count": 0
           },
           {
            "bin_start": 19454.63734108024,
            "bin_end": 21613,
            "count": 1
           }
          ]
         }
        },
        {
         "name": "yr_renovated",
         "dtype": "float64",
         "stats": {
          "unique_count": 5,
          "nan_count": 0,
          "min": "0.0",
          "max": "21613.0",
          "histogram": [
           {
            "bin_start": 0,
            "bin_end": 2161.3,
            "count": 7
           },
           {
            "bin_start": 2161.3,
            "bin_end": 4322.6,
            "count": 0
           },
           {
            "bin_start": 4322.6,
            "bin_end": 6483.900000000001,
            "count": 0
           },
           {
            "bin_start": 6483.900000000001,
            "bin_end": 8645.2,
            "count": 0
           },
           {
            "bin_start": 8645.2,
            "bin_end": 10806.5,
            "count": 0
           },
           {
            "bin_start": 10806.5,
            "bin_end": 12967.800000000001,
            "count": 0
           },
           {
            "bin_start": 12967.800000000001,
            "bin_end": 15129.100000000002,
            "count": 0
           },
           {
            "bin_start": 15129.100000000002,
            "bin_end": 17290.4,
            "count": 0
           },
           {
            "bin_start": 17290.4,
            "bin_end": 19451.7,
            "count": 0
           },
           {
            "bin_start": 19451.7,
            "bin_end": 21613,
            "count": 1
           }
          ]
         }
        },
        {
         "name": "zipcode",
         "dtype": "float64",
         "stats": {
          "unique_count": 8,
          "nan_count": 0,
          "min": "53.505026257473084",
          "max": "98199.0",
          "histogram": [
           {
            "bin_start": 53.505026257473084,
            "bin_end": 9868.054523631727,
            "count": 1
           },
           {
            "bin_start": 9868.054523631727,
            "bin_end": 19682.60402100598,
            "count": 0
           },
           {
            "bin_start": 19682.60402100598,
            "bin_end": 29497.153518380233,
            "count": 1
           },
           {
            "bin_start": 29497.153518380233,
            "bin_end": 39311.70301575449,
            "count": 0
           },
           {
            "bin_start": 39311.70301575449,
            "bin_end": 49126.25251312874,
            "count": 0
           },
           {
            "bin_start": 49126.25251312874,
            "bin_end": 58940.802010502994,
            "count": 0
           },
           {
            "bin_start": 58940.802010502994,
            "bin_end": 68755.35150787725,
            "count": 0
           },
           {
            "bin_start": 68755.35150787725,
            "bin_end": 78569.9010052515,
            "count": 0
           },
           {
            "bin_start": 78569.9010052515,
            "bin_end": 88384.45050262574,
            "count": 0
           },
           {
            "bin_start": 88384.45050262574,
            "bin_end": 98199,
            "count": 6
           }
          ]
         }
        },
        {
         "name": "lat",
         "dtype": "float64",
         "stats": {
          "unique_count": 8,
          "nan_count": 0,
          "min": "0.13856371024192418",
          "max": "21613.0",
          "histogram": [
           {
            "bin_start": 0.13856371024192418,
            "bin_end": 2161.424707339218,
            "count": 7
           },
           {
            "bin_start": 2161.424707339218,
            "bin_end": 4322.710850968194,
            "count": 0
           },
           {
            "bin_start": 4322.710850968194,
            "bin_end": 6483.99699459717,
            "count": 0
           },
           {
            "bin_start": 6483.99699459717,
            "bin_end": 8645.283138226145,
            "count": 0
           },
           {
            "bin_start": 8645.283138226145,
            "bin_end": 10806.56928185512,
            "count": 0
           },
           {
            "bin_start": 10806.56928185512,
            "bin_end": 12967.855425484096,
            "count": 0
           },
           {
            "bin_start": 12967.855425484096,
            "bin_end": 15129.141569113073,
            "count": 0
           },
           {
            "bin_start": 15129.141569113073,
            "bin_end": 17290.42771274205,
            "count": 0
           },
           {
            "bin_start": 17290.42771274205,
            "bin_end": 19451.713856371025,
            "count": 0
           },
           {
            "bin_start": 19451.713856371025,
            "bin_end": 21613,
            "count": 1
           }
          ]
         }
        },
        {
         "name": "long",
         "dtype": "float64",
         "stats": {
          "unique_count": 8,
          "nan_count": 0,
          "min": "-122.519",
          "max": "21613.0",
          "histogram": [
           {
            "bin_start": -122.519,
            "bin_end": 2051.0329,
            "count": 7
           },
           {
            "bin_start": 2051.0329,
            "bin_end": 4224.5848,
            "count": 0
           },
           {
            "bin_start": 4224.5848,
            "bin_end": 6398.136699999999,
            "count": 0
           },
           {
            "bin_start": 6398.136699999999,
            "bin_end": 8571.6886,
            "count": 0
           },
           {
            "bin_start": 8571.6886,
            "bin_end": 10745.2405,
            "count": 0
           },
           {
            "bin_start": 10745.2405,
            "bin_end": 12918.792399999998,
            "count": 0
           },
           {
            "bin_start": 12918.792399999998,
            "bin_end": 15092.344299999999,
            "count": 0
           },
           {
            "bin_start": 15092.344299999999,
            "bin_end": 17265.8962,
            "count": 0
           },
           {
            "bin_start": 17265.8962,
            "bin_end": 19439.448099999998,
            "count": 0
           },
           {
            "bin_start": 19439.448099999998,
            "bin_end": 21613,
            "count": 1
           }
          ]
         }
        },
        {
         "name": "sqft_living15",
         "dtype": "float64",
         "stats": {
          "unique_count": 8,
          "nan_count": 0,
          "min": "399.0",
          "max": "21613.0",
          "histogram": [
           {
            "bin_start": 399,
            "bin_end": 2520.4,
            "count": 6
           },
           {
            "bin_start": 2520.4,
            "bin_end": 4641.8,
            "count": 0
           },
           {
            "bin_start": 4641.8,
            "bin_end": 6763.200000000001,
            "count": 1
           },
           {
            "bin_start": 6763.200000000001,
            "bin_end": 8884.6,
            "count": 0
           },
           {
            "bin_start": 8884.6,
            "bin_end": 11006,
            "count": 0
           },
           {
            "bin_start": 11006,
            "bin_end": 13127.400000000001,
            "count": 0
           },
           {
            "bin_start": 13127.400000000001,
            "bin_end": 15248.800000000001,
            "count": 0
           },
           {
            "bin_start": 15248.800000000001,
            "bin_end": 17370.2,
            "count": 0
           },
           {
            "bin_start": 17370.2,
            "bin_end": 19491.600000000002,
            "count": 0
           },
           {
            "bin_start": 19491.600000000002,
            "bin_end": 21613,
            "count": 1
           }
          ]
         }
        },
        {
         "name": "sqft_lot15",
         "dtype": "float64",
         "stats": {
          "unique_count": 8,
          "nan_count": 0,
          "min": "651.0",
          "max": "871200.0",
          "histogram": [
           {
            "bin_start": 651,
            "bin_end": 87705.9,
            "count": 7
           },
           {
            "bin_start": 87705.9,
            "bin_end": 174760.8,
            "count": 0
           },
           {
            "bin_start": 174760.8,
            "bin_end": 261815.69999999998,
            "count": 0
           },
           {
            "bin_start": 261815.69999999998,
            "bin_end": 348870.6,
            "count": 0
           },
           {
            "bin_start": 348870.6,
            "bin_end": 435925.5,
            "count": 0
           },
           {
            "bin_start": 435925.5,
            "bin_end": 522980.39999999997,
            "count": 0
           },
           {
            "bin_start": 522980.39999999997,
            "bin_end": 610035.2999999999,
            "count": 0
           },
           {
            "bin_start": 610035.2999999999,
            "bin_end": 697090.2,
            "count": 0
           },
           {
            "bin_start": 697090.2,
            "bin_end": 784145.1,
            "count": 0
           },
           {
            "bin_start": 784145.1,
            "bin_end": 871200,
            "count": 1
           }
          ]
         }
        },
        {
         "name": "_deepnote_index_column",
         "dtype": "object"
        }
       ],
       "rows": [
        {
         "price": 21613,
         "bedrooms": 21600,
         "bathrooms": 21603,
         "sqft_living": 21613,
         "sqft_lot": 21613,
         "floors": 21613,
         "waterfront": 21613,
         "view": 21613,
         "condition": 21613,
         "grade": 21613,
         "sqft_above": 21613,
         "sqft_basement": 21613,
         "yr_built": 21613,
         "yr_renovated": 21613,
         "zipcode": 21613,
         "lat": 21613,
         "long": 21613,
         "sqft_living15": 21613,
         "sqft_lot15": 21613,
         "_deepnote_index_column": "count"
        },
        {
         "price": 540088.1417665294,
         "bedrooms": 3.37287037037037,
         "bathrooms": 2.1157362403369904,
         "sqft_living": 2079.8997362698374,
         "sqft_lot": 15106.967565816869,
         "floors": 1.4943089807060566,
         "waterfront": 0.007541757275713691,
         "view": 0.23430342849211122,
         "condition": 3.4094295100171195,
         "grade": 7.656873178179799,
         "sqft_above": 1788.3906907879516,
         "sqft_basement": 291.5090454818859,
         "yr_built": 1971.0051357978994,
         "yr_renovated": 84.40225790033776,
         "zipcode": 98077.93980474715,
         "lat": 47.56005251931708,
         "long": -122.21389640494147,
         "sqft_living15": 1986.552491556008,
         "sqft_lot15": 12768.455651691113,
         "_deepnote_index_column": "mean"
        },
        {
         "price": 367127.19648269983,
         "bedrooms": 0.9266566928336006,
         "bathrooms": 0.7689958657059824,
         "sqft_living": 918.4408970468115,
         "sqft_lot": 41420.51151513548,
         "floors": 0.5399888951423463,
         "waterfront": 0.08651719772788764,
         "view": 0.7663175692736122,
         "condition": 0.6507430463662071,
         "grade": 1.175458756974335,
         "sqft_above": 828.0909776519169,
         "sqft_basement": 442.5750426774682,
         "yr_built": 29.37341080238659,
         "yr_renovated": 401.6792400191759,
         "zipcode": 53.505026257473084,
         "lat": 0.13856371024192418,
         "long": 0.14082834238139408,
         "sqft_living15": 685.3913042527776,
         "sqft_lot15": 27304.17963133851,
         "_deepnote_index_column": "std"
        },
        {
         "price": 75000,
         "bedrooms": 1,
         "bathrooms": 0.5,
         "sqft_living": 290,
         "sqft_lot": 520,
         "floors": 1,
         "waterfront": 0,
         "view": 0,
         "condition": 1,
         "grade": 1,
         "sqft_above": 290,
         "sqft_basement": 0,
         "yr_built": 1900,
         "yr_renovated": 0,
         "zipcode": 98001,
         "lat": 47.1559,
         "long": -122.519,
         "sqft_living15": 399,
         "sqft_lot15": 651,
         "_deepnote_index_column": "min"
        },
        {
         "price": 321950,
         "bedrooms": 3,
         "bathrooms": 1.75,
         "sqft_living": 1427,
         "sqft_lot": 5040,
         "floors": 1,
         "waterfront": 0,
         "view": 0,
         "condition": 3,
         "grade": 7,
         "sqft_above": 1190,
         "sqft_basement": 0,
         "yr_built": 1951,
         "yr_renovated": 0,
         "zipcode": 98033,
         "lat": 47.471,
         "long": -122.328,
         "sqft_living15": 1490,
         "sqft_lot15": 5100,
         "_deepnote_index_column": "25%"
        },
        {
         "price": 450000,
         "bedrooms": 3,
         "bathrooms": 2.25,
         "sqft_living": 1910,
         "sqft_lot": 7618,
         "floors": 1.5,
         "waterfront": 0,
         "view": 0,
         "condition": 3,
         "grade": 7,
         "sqft_above": 1560,
         "sqft_basement": 0,
         "yr_built": 1975,
         "yr_renovated": 0,
         "zipcode": 98065,
         "lat": 47.5718,
         "long": -122.23,
         "sqft_living15": 1840,
         "sqft_lot15": 7620,
         "_deepnote_index_column": "50%"
        },
        {
         "price": 645000,
         "bedrooms": 4,
         "bathrooms": 2.5,
         "sqft_living": 2550,
         "sqft_lot": 10688,
         "floors": 2,
         "waterfront": 0,
         "view": 0,
         "condition": 4,
         "grade": 8,
         "sqft_above": 2210,
         "sqft_basement": 560,
         "yr_built": 1997,
         "yr_renovated": 0,
         "zipcode": 98118,
         "lat": 47.678,
         "long": -122.125,
         "sqft_living15": 2360,
         "sqft_lot15": 10083,
         "_deepnote_index_column": "75%"
        },
        {
         "price": 7700000,
         "bedrooms": 33,
         "bathrooms": 8,
         "sqft_living": 13540,
         "sqft_lot": 1651359,
         "floors": 3.5,
         "waterfront": 1,
         "view": 4,
         "condition": 5,
         "grade": 13,
         "sqft_above": 9410,
         "sqft_basement": 4820,
         "yr_built": 2015,
         "yr_renovated": 2015,
         "zipcode": 98199,
         "lat": 47.7776,
         "long": -121.315,
         "sqft_living15": 6210,
         "sqft_lot15": 871200,
         "_deepnote_index_column": "max"
        }
       ]
      },
      "text/plain": "              price      bedrooms     bathrooms   sqft_living      sqft_lot  \\\ncount  2.161300e+04  21600.000000  21603.000000  21613.000000  2.161300e+04   \nmean   5.400881e+05      3.372870      2.115736   2079.899736  1.510697e+04   \nstd    3.671272e+05      0.926657      0.768996    918.440897  4.142051e+04   \nmin    7.500000e+04      1.000000      0.500000    290.000000  5.200000e+02   \n25%    3.219500e+05      3.000000      1.750000   1427.000000  5.040000e+03   \n50%    4.500000e+05      3.000000      2.250000   1910.000000  7.618000e+03   \n75%    6.450000e+05      4.000000      2.500000   2550.000000  1.068800e+04   \nmax    7.700000e+06     33.000000      8.000000  13540.000000  1.651359e+06   \n\n             floors    waterfront          view     condition         grade  \\\ncount  21613.000000  21613.000000  21613.000000  21613.000000  21613.000000   \nmean       1.494309      0.007542      0.234303      3.409430      7.656873   \nstd        0.539989      0.086517      0.766318      0.650743      1.175459   \nmin        1.000000      0.000000      0.000000      1.000000      1.000000   \n25%        1.000000      0.000000      0.000000      3.000000      7.000000   \n50%        1.500000      0.000000      0.000000      3.000000      7.000000   \n75%        2.000000      0.000000      0.000000      4.000000      8.000000   \nmax        3.500000      1.000000      4.000000      5.000000     13.000000   \n\n         sqft_above  sqft_basement      yr_built  yr_renovated       zipcode  \\\ncount  21613.000000   21613.000000  21613.000000  21613.000000  21613.000000   \nmean    1788.390691     291.509045   1971.005136     84.402258  98077.939805   \nstd      828.090978     442.575043     29.373411    401.679240     53.505026   \nmin      290.000000       0.000000   1900.000000      0.000000  98001.000000   \n25%     1190.000000       0.000000   1951.000000      0.000000  98033.000000   \n50%     1560.000000       0.000000   1975.000000      0.000000  98065.000000   \n75%     2210.000000     560.000000   1997.000000      0.000000  98118.000000   \nmax     9410.000000    4820.000000   2015.000000   2015.000000  98199.000000   \n\n                lat          long  sqft_living15     sqft_lot15  \ncount  21613.000000  21613.000000   21613.000000   21613.000000  \nmean      47.560053   -122.213896    1986.552492   12768.455652  \nstd        0.138564      0.140828     685.391304   27304.179631  \nmin       47.155900   -122.519000     399.000000     651.000000  \n25%       47.471000   -122.328000    1490.000000    5100.000000  \n50%       47.571800   -122.230000    1840.000000    7620.000000  \n75%       47.678000   -122.125000    2360.000000   10083.000000  \nmax       47.777600   -121.315000    6210.000000  871200.000000  ",
      "text/html": "<div>\n<style scoped>\n    .dataframe tbody tr th:only-of-type {\n        vertical-align: middle;\n    }\n\n    .dataframe tbody tr th {\n        vertical-align: top;\n    }\n\n    .dataframe thead th {\n        text-align: right;\n    }\n</style>\n<table border=\"1\" class=\"dataframe\">\n  <thead>\n    <tr style=\"text-align: right;\">\n      <th></th>\n      <th>price</th>\n      <th>bedrooms</th>\n      <th>bathrooms</th>\n      <th>sqft_living</th>\n      <th>sqft_lot</th>\n      <th>floors</th>\n      <th>waterfront</th>\n      <th>view</th>\n      <th>condition</th>\n      <th>grade</th>\n      <th>sqft_above</th>\n      <th>sqft_basement</th>\n      <th>yr_built</th>\n      <th>yr_renovated</th>\n      <th>zipcode</th>\n      <th>lat</th>\n      <th>long</th>\n      <th>sqft_living15</th>\n      <th>sqft_lot15</th>\n    </tr>\n  </thead>\n  <tbody>\n    <tr>\n      <th>count</th>\n      <td>2.161300e+04</td>\n      <td>21600.000000</td>\n      <td>21603.000000</td>\n      <td>21613.000000</td>\n      <td>2.161300e+04</td>\n      <td>21613.000000</td>\n      <td>21613.000000</td>\n      <td>21613.000000</td>\n      <td>21613.000000</td>\n      <td>21613.000000</td>\n      <td>21613.000000</td>\n      <td>21613.000000</td>\n      <td>21613.000000</td>\n      <td>21613.000000</td>\n      <td>21613.000000</td>\n      <td>21613.000000</td>\n      <td>21613.000000</td>\n      <td>21613.000000</td>\n      <td>21613.000000</td>\n    </tr>\n    <tr>\n      <th>mean</th>\n      <td>5.400881e+05</td>\n      <td>3.372870</td>\n      <td>2.115736</td>\n      <td>2079.899736</td>\n      <td>1.510697e+04</td>\n      <td>1.494309</td>\n      <td>0.007542</td>\n      <td>0.234303</td>\n      <td>3.409430</td>\n      <td>7.656873</td>\n      <td>1788.390691</td>\n      <td>291.509045</td>\n      <td>1971.005136</td>\n      <td>84.402258</td>\n      <td>98077.939805</td>\n      <td>47.560053</td>\n      <td>-122.213896</td>\n      <td>1986.552492</td>\n      <td>12768.455652</td>\n    </tr>\n    <tr>\n      <th>std</th>\n      <td>3.671272e+05</td>\n      <td>0.926657</td>\n      <td>0.768996</td>\n      <td>918.440897</td>\n      <td>4.142051e+04</td>\n      <td>0.539989</td>\n      <td>0.086517</td>\n      <td>0.766318</td>\n      <td>0.650743</td>\n      <td>1.175459</td>\n      <td>828.090978</td>\n      <td>442.575043</td>\n      <td>29.373411</td>\n      <td>401.679240</td>\n      <td>53.505026</td>\n      <td>0.138564</td>\n      <td>0.140828</td>\n      <td>685.391304</td>\n      <td>27304.179631</td>\n    </tr>\n    <tr>\n      <th>min</th>\n      <td>7.500000e+04</td>\n      <td>1.000000</td>\n      <td>0.500000</td>\n      <td>290.000000</td>\n      <td>5.200000e+02</td>\n      <td>1.000000</td>\n      <td>0.000000</td>\n      <td>0.000000</td>\n      <td>1.000000</td>\n      <td>1.000000</td>\n      <td>290.000000</td>\n      <td>0.000000</td>\n      <td>1900.000000</td>\n      <td>0.000000</td>\n      <td>98001.000000</td>\n      <td>47.155900</td>\n      <td>-122.519000</td>\n      <td>399.000000</td>\n      <td>651.000000</td>\n    </tr>\n    <tr>\n      <th>25%</th>\n      <td>3.219500e+05</td>\n      <td>3.000000</td>\n      <td>1.750000</td>\n      <td>1427.000000</td>\n      <td>5.040000e+03</td>\n      <td>1.000000</td>\n      <td>0.000000</td>\n      <td>0.000000</td>\n      <td>3.000000</td>\n      <td>7.000000</td>\n      <td>1190.000000</td>\n      <td>0.000000</td>\n      <td>1951.000000</td>\n      <td>0.000000</td>\n      <td>98033.000000</td>\n      <td>47.471000</td>\n      <td>-122.328000</td>\n      <td>1490.000000</td>\n      <td>5100.000000</td>\n    </tr>\n    <tr>\n      <th>50%</th>\n      <td>4.500000e+05</td>\n      <td>3.000000</td>\n      <td>2.250000</td>\n      <td>1910.000000</td>\n      <td>7.618000e+03</td>\n      <td>1.500000</td>\n      <td>0.000000</td>\n      <td>0.000000</td>\n      <td>3.000000</td>\n      <td>7.000000</td>\n      <td>1560.000000</td>\n      <td>0.000000</td>\n      <td>1975.000000</td>\n      <td>0.000000</td>\n      <td>98065.000000</td>\n      <td>47.571800</td>\n      <td>-122.230000</td>\n      <td>1840.000000</td>\n      <td>7620.000000</td>\n    </tr>\n    <tr>\n      <th>75%</th>\n      <td>6.450000e+05</td>\n      <td>4.000000</td>\n      <td>2.500000</td>\n      <td>2550.000000</td>\n      <td>1.068800e+04</td>\n      <td>2.000000</td>\n      <td>0.000000</td>\n      <td>0.000000</td>\n      <td>4.000000</td>\n      <td>8.000000</td>\n      <td>2210.000000</td>\n      <td>560.000000</td>\n      <td>1997.000000</td>\n      <td>0.000000</td>\n      <td>98118.000000</td>\n      <td>47.678000</td>\n      <td>-122.125000</td>\n      <td>2360.000000</td>\n      <td>10083.000000</td>\n    </tr>\n    <tr>\n      <th>max</th>\n      <td>7.700000e+06</td>\n      <td>33.000000</td>\n      <td>8.000000</td>\n      <td>13540.000000</td>\n      <td>1.651359e+06</td>\n      <td>3.500000</td>\n      <td>1.000000</td>\n      <td>4.000000</td>\n      <td>5.000000</td>\n      <td>13.000000</td>\n      <td>9410.000000</td>\n      <td>4820.000000</td>\n      <td>2015.000000</td>\n      <td>2015.000000</td>\n      <td>98199.000000</td>\n      <td>47.777600</td>\n      <td>-121.315000</td>\n      <td>6210.000000</td>\n      <td>871200.000000</td>\n    </tr>\n  </tbody>\n</table>\n</div>"
     },
     "metadata": {}
    }
   ]
  },
  {
   "cell_type": "markdown",
   "source": "Podemos ver que nos faltan valores para las columnas bedrooms y bathrooms.",
   "metadata": {
    "cell_id": "00018-4cc69fd1-38ea-4fe5-aa16-ae2fa2c24276",
    "deepnote_app_coordinates": {
     "x": 0,
     "y": 102,
     "w": 12,
     "h": 5
    },
    "deepnote_cell_type": "markdown",
    "deepnote_cell_height": 52.390625
   }
  },
  {
   "cell_type": "code",
   "metadata": {
    "jupyter": {
     "outputs_hidden": false
    },
    "cell_id": "00019-22b5114f-89ef-43cd-96d7-a8f6e783deb4",
    "deepnote_to_be_reexecuted": false,
    "source_hash": "504cf7e1",
    "execution_start": 1650246960422,
    "execution_millis": 7,
    "deepnote_app_coordinates": {
     "x": 0,
     "y": 108,
     "w": 12,
     "h": 5
    },
    "deepnote_cell_type": "code",
    "deepnote_cell_height": 168
   },
   "source": "print(\"Numero de valores NaN para la columna bedrooms :\", df['bedrooms'].isnull().sum())\nprint(\"Numero de valores NaN para la columna bathrooms :\", df['bathrooms'].isnull().sum())\n",
   "execution_count": null,
   "outputs": [
    {
     "name": "stdout",
     "text": "Numero de valores NaN para la columna bedrooms : 13\nNumero de valores NaN para la columna bathrooms : 10\n",
     "output_type": "stream"
    }
   ]
  },
  {
   "cell_type": "markdown",
   "source": "Podemos sustituir los valores que faltan de la columna 'bedrooms' por la media de la columna 'bedrooms' utilizando el método replace(). No olvides poner el parámetro inplace a True\n",
   "metadata": {
    "cell_id": "00020-1ca2f5fb-c228-43ae-a0e3-20e2f6ce76ff",
    "deepnote_app_coordinates": {
     "x": 0,
     "y": 114,
     "w": 12,
     "h": 5
    },
    "deepnote_cell_type": "markdown",
    "deepnote_cell_height": 74.796875
   }
  },
  {
   "cell_type": "code",
   "metadata": {
    "cell_id": "00021-d5ad51c4-4545-4077-a5ab-904b865e5bda",
    "deepnote_to_be_reexecuted": false,
    "source_hash": "9694ae02",
    "execution_start": 1650246960433,
    "execution_millis": 3,
    "deepnote_app_coordinates": {
     "x": 0,
     "y": 120,
     "w": 12,
     "h": 5
    },
    "deepnote_cell_type": "code",
    "deepnote_cell_height": 99
   },
   "source": "mean=df['bedrooms'].mean()\ndf['bedrooms'].replace(np.nan,mean, inplace=True)",
   "execution_count": null,
   "outputs": []
  },
  {
   "cell_type": "markdown",
   "source": "También sustituimos los valores perdidos de la columna 'bathrooms' por la media de la columna 'bathrooms' utilizando el método replace(). No olvides establecer el parámetro inplace top True",
   "metadata": {
    "cell_id": "00022-9295cf54-6df6-4b7d-90d6-fee93668423e",
    "deepnote_app_coordinates": {
     "x": 0,
     "y": 126,
     "w": 12,
     "h": 5
    },
    "deepnote_cell_type": "markdown",
    "deepnote_cell_height": 74.796875
   }
  },
  {
   "cell_type": "code",
   "metadata": {
    "cell_id": "00023-d2ded8ec-ca9d-42a0-bf21-4b1ec85a136a",
    "deepnote_to_be_reexecuted": false,
    "source_hash": "ccd782c9",
    "execution_start": 1650246960445,
    "execution_millis": 0,
    "deepnote_app_coordinates": {
     "x": 0,
     "y": 132,
     "w": 12,
     "h": 5
    },
    "deepnote_cell_type": "code",
    "deepnote_cell_height": 99
   },
   "source": "mean=df['bathrooms'].mean()\ndf['bathrooms'].replace(np.nan,mean, inplace=True)",
   "execution_count": null,
   "outputs": []
  },
  {
   "cell_type": "code",
   "metadata": {
    "jupyter": {
     "outputs_hidden": false
    },
    "cell_id": "00024-95243847-c9e2-4074-b87c-335e22f333c5",
    "deepnote_to_be_reexecuted": false,
    "source_hash": "d3ce1bea",
    "execution_start": 1650246960446,
    "execution_millis": 6,
    "deepnote_app_coordinates": {
     "x": 0,
     "y": 138,
     "w": 12,
     "h": 5
    },
    "deepnote_cell_type": "code",
    "deepnote_cell_height": 150
   },
   "source": "print(\"Numero de valores NaN para la columna bedrooms :\", df['bedrooms'].isnull().sum())\nprint(\"Numero de valores NaN para la columna bathrooms :\", df['bathrooms'].isnull().sum())",
   "execution_count": null,
   "outputs": [
    {
     "name": "stdout",
     "text": "Numero de valores NaN para la columna bedrooms : 0\nNumero de valores NaN para la columna bathrooms : 0\n",
     "output_type": "stream"
    }
   ]
  },
  {
   "cell_type": "markdown",
   "source": "# Exploratory Data Analysis (EDA)",
   "metadata": {
    "cell_id": "00025-ffaf73a4-ed6b-4192-a478-ab2dc4610cd7",
    "deepnote_app_coordinates": {
     "x": 0,
     "y": 144,
     "w": 12,
     "h": 5
    },
    "deepnote_cell_type": "markdown",
    "deepnote_cell_height": 82
   }
  },
  {
   "cell_type": "markdown",
   "source": "Utilicemos el método value_counts para contar el número de casas con valores de pisos únicos, utilice el método .to_frame() para convertirlo en un dataframe.",
   "metadata": {
    "cell_id": "00026-3d9ca032-589f-4602-9dc8-850523582c3f",
    "deepnote_app_coordinates": {
     "x": 0,
     "y": 150,
     "w": 12,
     "h": 5
    },
    "deepnote_cell_type": "markdown",
    "deepnote_cell_height": 74.796875
   }
  },
  {
   "cell_type": "code",
   "metadata": {
    "jupyter": {
     "outputs_hidden": false
    },
    "cell_id": "00027-7559df63-46d0-4488-a34e-b562d95cfa05",
    "deepnote_to_be_reexecuted": false,
    "source_hash": "60c17332",
    "execution_start": 1650246960456,
    "execution_millis": 10,
    "deepnote_app_coordinates": {
     "x": 0,
     "y": 156,
     "w": 12,
     "h": 5
    },
    "deepnote_cell_type": "code",
    "deepnote_cell_height": 436
   },
   "source": "df[\"floors\"].value_counts().to_frame()",
   "execution_count": null,
   "outputs": [
    {
     "output_type": "execute_result",
     "execution_count": 11,
     "data": {
      "application/vnd.deepnote.dataframe.v3+json": {
       "column_count": 1,
       "row_count": 6,
       "columns": [
        {
         "name": "floors",
         "dtype": "int64",
         "stats": {
          "unique_count": 6,
          "nan_count": 0,
          "min": "8",
          "max": "10680",
          "histogram": [
           {
            "bin_start": 8,
            "bin_end": 1075.2,
            "count": 3
           },
           {
            "bin_start": 1075.2,
            "bin_end": 2142.4,
            "count": 1
           },
           {
            "bin_start": 2142.4,
            "bin_end": 3209.6000000000004,
            "count": 0
           },
           {
            "bin_start": 3209.6000000000004,
            "bin_end": 4276.8,
            "count": 0
           },
           {
            "bin_start": 4276.8,
            "bin_end": 5344,
            "count": 0
           },
           {
            "bin_start": 5344,
            "bin_end": 6411.200000000001,
            "count": 0
           },
           {
            "bin_start": 6411.200000000001,
            "bin_end": 7478.400000000001,
            "count": 0
           },
           {
            "bin_start": 7478.400000000001,
            "bin_end": 8545.6,
            "count": 1
           },
           {
            "bin_start": 8545.6,
            "bin_end": 9612.800000000001,
            "count": 0
           },
           {
            "bin_start": 9612.800000000001,
            "bin_end": 10680,
            "count": 1
           }
          ]
         }
        },
        {
         "name": "_deepnote_index_column",
         "dtype": "float64"
        }
       ],
       "rows": [
        {
         "floors": 10680,
         "_deepnote_index_column": 1
        },
        {
         "floors": 8241,
         "_deepnote_index_column": 2
        },
        {
         "floors": 1910,
         "_deepnote_index_column": 1.5
        },
        {
         "floors": 613,
         "_deepnote_index_column": 3
        },
        {
         "floors": 161,
         "_deepnote_index_column": 2.5
        },
        {
         "floors": 8,
         "_deepnote_index_column": 3.5
        }
       ]
      },
      "text/plain": "     floors\n1.0   10680\n2.0    8241\n1.5    1910\n3.0     613\n2.5     161\n3.5       8",
      "text/html": "<div>\n<style scoped>\n    .dataframe tbody tr th:only-of-type {\n        vertical-align: middle;\n    }\n\n    .dataframe tbody tr th {\n        vertical-align: top;\n    }\n\n    .dataframe thead th {\n        text-align: right;\n    }\n</style>\n<table border=\"1\" class=\"dataframe\">\n  <thead>\n    <tr style=\"text-align: right;\">\n      <th></th>\n      <th>floors</th>\n    </tr>\n  </thead>\n  <tbody>\n    <tr>\n      <th>1.0</th>\n      <td>10680</td>\n    </tr>\n    <tr>\n      <th>2.0</th>\n      <td>8241</td>\n    </tr>\n    <tr>\n      <th>1.5</th>\n      <td>1910</td>\n    </tr>\n    <tr>\n      <th>3.0</th>\n      <td>613</td>\n    </tr>\n    <tr>\n      <th>2.5</th>\n      <td>161</td>\n    </tr>\n    <tr>\n      <th>3.5</th>\n      <td>8</td>\n    </tr>\n  </tbody>\n</table>\n</div>"
     },
     "metadata": {}
    }
   ]
  },
  {
   "cell_type": "markdown",
   "source": "Utilice la función boxplot() de la biblioteca seaborn para determinar si las casas con vista al mar o sin vista al mar tienen más precios atípicos.",
   "metadata": {
    "cell_id": "00028-a1dffd20-bbb2-489b-92f7-54bea3c47478",
    "deepnote_app_coordinates": {
     "x": 0,
     "y": 162,
     "w": 12,
     "h": 5
    },
    "deepnote_cell_type": "markdown",
    "deepnote_cell_height": 74.796875
   }
  },
  {
   "cell_type": "code",
   "metadata": {
    "jupyter": {
     "outputs_hidden": false
    },
    "cell_id": "00029-7e813dee-8a63-41fa-970a-1e3d228568b7",
    "deepnote_to_be_reexecuted": false,
    "source_hash": "49eb6145",
    "execution_start": 1650246960467,
    "execution_millis": 387,
    "deepnote_app_coordinates": {
     "x": 0,
     "y": 168,
     "w": 12,
     "h": 5
    },
    "deepnote_cell_type": "code",
    "deepnote_cell_height": 424.1875,
    "deepnote_output_heights": [
     21.1875,
     275
    ]
   },
   "source": "sns.boxplot(x=\"waterfront\", y=\"price\", data=df)",
   "execution_count": null,
   "outputs": [
    {
     "output_type": "execute_result",
     "execution_count": 12,
     "data": {
      "text/plain": "<AxesSubplot:xlabel='waterfront', ylabel='price'>"
     },
     "metadata": {}
    },
    {
     "data": {
      "text/plain": "<Figure size 432x288 with 1 Axes>",
      "image/png": "[encoded data removed]"
     },
     "metadata": {
      "needs_background": "light",
      "image/png": {
       "width": 376,
       "height": 273
      }
     },
     "output_type": "display_data"
    }
   ]
  },
  {
   "cell_type": "markdown",
   "source": "Utilice la función regplot() de la biblioteca seaborn para determinar si la característica sqft_above está correlacionada negativa o positivamente con el precio.",
   "metadata": {
    "cell_id": "00030-9cdf0fa3-2deb-4a32-8def-a024074813bd",
    "deepnote_app_coordinates": {
     "x": 0,
     "y": 174,
     "w": 12,
     "h": 5
    },
    "deepnote_cell_type": "markdown",
    "deepnote_cell_height": 74.796875
   }
  },
  {
   "cell_type": "code",
   "metadata": {
    "jupyter": {
     "outputs_hidden": false
    },
    "cell_id": "00031-92d9e627-962b-4728-b6fb-2636e3fe2ac7",
    "deepnote_to_be_reexecuted": false,
    "source_hash": "efb6fbab",
    "execution_start": 1650246960859,
    "execution_millis": 1993,
    "deepnote_app_coordinates": {
     "x": 0,
     "y": 180,
     "w": 12,
     "h": 5
    },
    "deepnote_cell_type": "code",
    "deepnote_cell_height": 425.1875,
    "deepnote_output_heights": [
     21.1875,
     276
    ]
   },
   "source": "sns.regplot(x=\"sqft_above\", y=\"price\", data=df)",
   "execution_count": null,
   "outputs": [
    {
     "output_type": "execute_result",
     "execution_count": 13,
     "data": {
      "text/plain": "<AxesSubplot:xlabel='sqft_above', ylabel='price'>"
     },
     "metadata": {}
    },
    {
     "data": {
      "text/plain": "<Figure size 432x288 with 1 Axes>",
      "image/png": "[encoded data removed]"
     },
     "metadata": {
      "needs_background": "light",
      "image/png": {
       "width": 376,
       "height": 274
      }
     },
     "output_type": "display_data"
    }
   ]
  },
  {
   "cell_type": "markdown",
   "source": "Podemos utilizar el método Pandas corr() para encontrar la característica distinta del precio que está más correlacionada con el precio.\n",
   "metadata": {
    "cell_id": "00032-1913ce3c-abc1-4e05-ab25-8030aa753bb4",
    "deepnote_app_coordinates": {
     "x": 0,
     "y": 186,
     "w": 12,
     "h": 5
    },
    "deepnote_cell_type": "markdown",
    "deepnote_cell_height": 74.796875
   }
  },
  {
   "cell_type": "code",
   "metadata": {
    "jupyter": {
     "outputs_hidden": false
    },
    "cell_id": "00033-42d661ba-0f19-4b49-94b9-46264c20925f",
    "deepnote_to_be_reexecuted": false,
    "source_hash": "e35bb137",
    "execution_start": 1650246962854,
    "execution_millis": 43,
    "deepnote_app_coordinates": {
     "x": 0,
     "y": 192,
     "w": 12,
     "h": 5
    },
    "deepnote_cell_type": "code",
    "deepnote_cell_height": 483,
    "deepnote_output_heights": [
     386
    ]
   },
   "source": "df.corr()['price'].sort_values()",
   "execution_count": null,
   "outputs": [
    {
     "output_type": "execute_result",
     "execution_count": 14,
     "data": {
      "text/plain": "zipcode         -0.053203\nlong             0.021626\ncondition        0.036362\nyr_built         0.054012\nsqft_lot15       0.082447\nsqft_lot         0.089661\nyr_renovated     0.126434\nfloors           0.256794\nwaterfront       0.266369\nlat              0.307003\nbedrooms         0.308797\nsqft_basement    0.323816\nview             0.397293\nbathrooms        0.525738\nsqft_living15    0.585379\nsqft_above       0.605567\ngrade            0.667434\nsqft_living      0.702035\nprice            1.000000\nName: price, dtype: float64"
     },
     "metadata": {}
    }
   ]
  },
  {
   "cell_type": "markdown",
   "source": "# Model Development\n",
   "metadata": {
    "cell_id": "00034-f1c6017c-4292-4203-9ffb-daa409d912ee",
    "deepnote_app_coordinates": {
     "x": 0,
     "y": 198,
     "w": 12,
     "h": 5
    },
    "deepnote_cell_type": "markdown",
    "deepnote_cell_height": 82
   }
  },
  {
   "cell_type": "markdown",
   "source": "(Prueba de entrenamiento de un modelo de regresión lineal).Podemos entrenar un modelo de regresión lineal utilizando la columna de longitud 'long' y calcular el R^2.\n",
   "metadata": {
    "cell_id": "00035-00f20ff9-0f95-47f3-a3e9-daf306d61e5c",
    "deepnote_app_coordinates": {
     "x": 0,
     "y": 204,
     "w": 12,
     "h": 5
    },
    "deepnote_cell_type": "markdown",
    "deepnote_cell_height": 74.796875
   }
  },
  {
   "cell_type": "code",
   "metadata": {
    "jupyter": {
     "outputs_hidden": false
    },
    "cell_id": "00036-c03ff1eb-931b-47e5-857f-17e318fa29be",
    "deepnote_to_be_reexecuted": false,
    "source_hash": "a4785f87",
    "execution_start": 1650246962910,
    "execution_millis": 19,
    "deepnote_app_coordinates": {
     "x": 0,
     "y": 210,
     "w": 12,
     "h": 5
    },
    "deepnote_cell_type": "code",
    "deepnote_cell_height": 190.1875,
    "deepnote_output_heights": [
     21.1875
    ]
   },
   "source": "X = df[['long']]\nY = df['price']\nlm = LinearRegression()\nlm.fit(X,Y)\nlm.score(X, Y)",
   "execution_count": null,
   "outputs": [
    {
     "output_type": "execute_result",
     "execution_count": 15,
     "data": {
      "text/plain": "0.00046769430149007363"
     },
     "metadata": {}
    }
   ]
  },
  {
   "cell_type": "markdown",
   "source": "(Prueba de entrenamiento de un modelo de regresión lineal).Entrenamos el modelo de regresión lineal para predecir el 'precio' usando la característica 'sqft_living' y luego calcular el R^2.\n",
   "metadata": {
    "cell_id": "00037-3dd2f3db-cc88-4ea9-8b97-7f2b4d0dc550",
    "deepnote_app_coordinates": {
     "x": 0,
     "y": 216,
     "w": 12,
     "h": 5
    },
    "deepnote_cell_type": "markdown",
    "deepnote_cell_height": 74.796875
   }
  },
  {
   "cell_type": "code",
   "metadata": {
    "jupyter": {
     "outputs_hidden": false
    },
    "cell_id": "00038-e29679c7-6d8c-4266-b645-d18057e76a1c",
    "deepnote_to_be_reexecuted": false,
    "source_hash": "7c37cd6c",
    "execution_start": 1650246962975,
    "execution_millis": 7,
    "deepnote_app_coordinates": {
     "x": 0,
     "y": 222,
     "w": 12,
     "h": 5
    },
    "deepnote_cell_type": "code",
    "deepnote_cell_height": 190.1875,
    "deepnote_output_heights": [
     21.1875
    ]
   },
   "source": "x = df[[\"sqft_living\"]]\ny = df[\"price\"]\nlm2 = LinearRegression()\nlm2.fit(x,y)\nlm2.score(x,y)",
   "execution_count": null,
   "outputs": [
    {
     "output_type": "execute_result",
     "execution_count": 16,
     "data": {
      "text/plain": "0.4928532179037931"
     },
     "metadata": {}
    }
   ]
  },
  {
   "cell_type": "markdown",
   "source": "Entrenamos el modelo de regresión lineal para predecir el \"precio\" utilizando la lista de características:",
   "metadata": {
    "cell_id": "00039-ea5d37d9-2e98-412a-8679-c3592e76b317",
    "deepnote_app_coordinates": {
     "x": 0,
     "y": 228,
     "w": 12,
     "h": 5
    },
    "deepnote_cell_type": "markdown",
    "deepnote_cell_height": 52.390625
   }
  },
  {
   "cell_type": "code",
   "metadata": {
    "cell_id": "00040-0e1d7922-7c69-465b-8d12-a029daea4211",
    "deepnote_to_be_reexecuted": false,
    "source_hash": "9a8e7653",
    "execution_start": 1650246962976,
    "execution_millis": 6,
    "deepnote_app_coordinates": {
     "x": 0,
     "y": 234,
     "w": 12,
     "h": 5
    },
    "deepnote_cell_type": "code",
    "deepnote_cell_height": 190.1875,
    "deepnote_output_heights": [
     21.1875
    ]
   },
   "source": "features = [\"floors\", \"waterfront\", \"lat\", \"bedrooms\", \"sqft_basement\", \"view\", \"bathrooms\",\"sqft_living15\", \"sqft_above\", \"grade\", \"sqft_living\"]\nx = df[features]\ny = df[\"price\"]\nlm3 = LinearRegression()\nlm3.fit(x, y)",
   "execution_count": null,
   "outputs": [
    {
     "output_type": "execute_result",
     "execution_count": 17,
     "data": {
      "text/plain": "LinearRegression()"
     },
     "metadata": {}
    }
   ]
  },
  {
   "cell_type": "markdown",
   "source": "Luego calculamos el R^2.",
   "metadata": {
    "cell_id": "00041-d50c4516-b161-490f-81a2-e078a7bfe69d",
    "deepnote_app_coordinates": {
     "x": 0,
     "y": 240,
     "w": 12,
     "h": 5
    },
    "deepnote_cell_type": "markdown",
    "deepnote_cell_height": 52.390625
   }
  },
  {
   "cell_type": "code",
   "metadata": {
    "jupyter": {
     "outputs_hidden": false
    },
    "cell_id": "00042-0b245eb1-2234-47f7-ad24-035a627b469d",
    "deepnote_to_be_reexecuted": false,
    "source_hash": "939fd9a6",
    "execution_start": 1650246963020,
    "execution_millis": 16,
    "deepnote_app_coordinates": {
     "x": 0,
     "y": 246,
     "w": 12,
     "h": 5
    },
    "deepnote_cell_type": "code",
    "deepnote_cell_height": 118.1875,
    "deepnote_output_heights": [
     21.1875
    ]
   },
   "source": "lm3.score(x,y)",
   "execution_count": null,
   "outputs": [
    {
     "output_type": "execute_result",
     "execution_count": 18,
     "data": {
      "text/plain": "0.6576737922937181"
     },
     "metadata": {}
    }
   ]
  },
  {
   "cell_type": "markdown",
   "source": "Creamos una lista de tuplas, el primer elemento de la tupla contiene el nombre del estimador:\n\n<code>'scale'</code>\n\n<code>'polynomial'</code>\n\n<code>'model'</code>\n\nEl segundo elemento de la tupla contiene el constructor del modelo\n\n<code>StandardScaler()</code>\n\n<code>PolynomialFeatures(include_bias=False)</code>\n\n<code>LinearRegression()</code>\n",
   "metadata": {
    "cell_id": "00043-c202b131-e93a-4aa0-8ec7-e558db3c747a",
    "deepnote_app_coordinates": {
     "x": 0,
     "y": 252,
     "w": 12,
     "h": 5
    },
    "deepnote_cell_type": "markdown",
    "deepnote_cell_height": 307.1875
   }
  },
  {
   "cell_type": "code",
   "metadata": {
    "cell_id": "00044-2719883c-e49c-497b-804c-273789756979",
    "deepnote_to_be_reexecuted": false,
    "source_hash": "592bcd75",
    "execution_start": 1650246963038,
    "execution_millis": 12,
    "deepnote_app_coordinates": {
     "x": 0,
     "y": 258,
     "w": 12,
     "h": 5
    },
    "deepnote_cell_type": "code",
    "deepnote_cell_height": 81
   },
   "source": "Input=[('scale',StandardScaler()),('polynomial', PolynomialFeatures(include_bias=False)),('model',LinearRegression())]",
   "execution_count": null,
   "outputs": []
  },
  {
   "cell_type": "markdown",
   "source": "Usamos la lista para crear un objeto pipeline para predecir el 'precio'. Entrenamos el objeto utilizando las características de la lista y calculamos el R^2.\n",
   "metadata": {
    "cell_id": "00045-551621b7-6f7d-4113-8c34-135c1301c0f7",
    "deepnote_app_coordinates": {
     "x": 0,
     "y": 264,
     "w": 12,
     "h": 5
    },
    "deepnote_cell_type": "markdown",
    "deepnote_cell_height": 74.796875
   }
  },
  {
   "cell_type": "code",
   "metadata": {
    "jupyter": {
     "outputs_hidden": false
    },
    "cell_id": "00046-6931f98c-6526-4737-b955-367e2c2f09ae",
    "deepnote_to_be_reexecuted": false,
    "source_hash": "f181b17d",
    "execution_start": 1650246963117,
    "execution_millis": 229,
    "deepnote_app_coordinates": {
     "x": 0,
     "y": 270,
     "w": 12,
     "h": 5
    },
    "deepnote_cell_type": "code",
    "deepnote_cell_height": 226.1875,
    "deepnote_output_heights": [
     21.1875
    ]
   },
   "source": "x = df[features]\ny = df[\"price\"]\n\npipe = Pipeline(Input)\npipe.fit(x,y)\npipe.score(x,y)\n",
   "execution_count": null,
   "outputs": [
    {
     "output_type": "execute_result",
     "execution_count": 20,
     "data": {
      "text/plain": "0.7513391528643332"
     },
     "metadata": {}
    }
   ]
  },
  {
   "cell_type": "markdown",
   "source": "# Model Evaluation and Refinement\n",
   "metadata": {
    "cell_id": "00047-f7086af5-5df6-4101-a62d-91a06ff6f4aa",
    "deepnote_app_coordinates": {
     "x": 0,
     "y": 276,
     "w": 12,
     "h": 5
    },
    "deepnote_cell_type": "markdown",
    "deepnote_cell_height": 82
   }
  },
  {
   "cell_type": "markdown",
   "source": "Importamos los modulos necesarios:",
   "metadata": {
    "cell_id": "00048-173b2c97-ea5b-4097-b993-6d02a4c7acee",
    "deepnote_app_coordinates": {
     "x": 0,
     "y": 282,
     "w": 12,
     "h": 5
    },
    "deepnote_cell_type": "markdown",
    "deepnote_cell_height": 52.390625
   }
  },
  {
   "cell_type": "code",
   "metadata": {
    "jupyter": {
     "outputs_hidden": false
    },
    "cell_id": "00049-13a45bf3-029d-40f6-a83c-2cc6de9749b4",
    "deepnote_to_be_reexecuted": false,
    "source_hash": "c13c3b44",
    "execution_start": 1650246963349,
    "execution_millis": 12,
    "deepnote_app_coordinates": {
     "x": 0,
     "y": 288,
     "w": 12,
     "h": 5
    },
    "deepnote_cell_type": "code",
    "deepnote_cell_height": 148
   },
   "source": "from sklearn.model_selection import cross_val_score\nfrom sklearn.model_selection import train_test_split\nprint(\"done\")",
   "execution_count": null,
   "outputs": [
    {
     "name": "stdout",
     "text": "done\n",
     "output_type": "stream"
    }
   ]
  },
  {
   "cell_type": "markdown",
   "source": "Dividiremos los datos en conjuntos de entrenamiento y de prueba:",
   "metadata": {
    "cell_id": "00050-d039b85f-8c36-4202-bb20-f6332b66886d",
    "deepnote_app_coordinates": {
     "x": 0,
     "y": 294,
     "w": 12,
     "h": 5
    },
    "deepnote_cell_type": "markdown",
    "deepnote_cell_height": 52.390625
   }
  },
  {
   "cell_type": "code",
   "metadata": {
    "jupyter": {
     "outputs_hidden": false
    },
    "cell_id": "00051-6ebf525b-8d65-4ae1-ab05-5655d2917b41",
    "deepnote_to_be_reexecuted": false,
    "source_hash": "2efeba61",
    "execution_start": 1650246963420,
    "execution_millis": 21,
    "deepnote_app_coordinates": {
     "x": 0,
     "y": 300,
     "w": 12,
     "h": 5
    },
    "deepnote_cell_type": "code",
    "deepnote_cell_height": 258
   },
   "source": "features =[\"floors\", \"waterfront\",\"lat\" ,\"bedrooms\" ,\"sqft_basement\" ,\"view\" ,\"bathrooms\",\"sqft_living15\",\"sqft_above\",\"grade\",\"sqft_living\"]    \nX = df[features]\nY = df['price']\n\nx_train, x_test, y_train, y_test = train_test_split(X, Y, test_size=0.15, random_state=1)\n\nprint(\"number of test samples:\", x_test.shape[0])\nprint(\"number of training samples:\",x_train.shape[0])",
   "execution_count": null,
   "outputs": [
    {
     "name": "stdout",
     "text": "number of test samples: 3242\nnumber of training samples: 18371\n",
     "output_type": "stream"
    }
   ]
  },
  {
   "cell_type": "markdown",
   "source": "Creamos y entrenamos un objeto de regresión Ridge utilizando los datos de entrenamiento, establezca el parámetro de regularización en 0,1 y calcule el R^2 utilizando los datos de prueba.",
   "metadata": {
    "cell_id": "00052-6484f884-ecd1-44f7-b4a9-829a814b5780",
    "deepnote_app_coordinates": {
     "x": 0,
     "y": 306,
     "w": 12,
     "h": 5
    },
    "deepnote_cell_type": "markdown",
    "deepnote_cell_height": 74.796875
   }
  },
  {
   "cell_type": "code",
   "metadata": {
    "cell_id": "00053-9376c688-6c26-414c-abc9-27dc7c87905e",
    "deepnote_to_be_reexecuted": false,
    "source_hash": "79b79911",
    "execution_start": 1650246963447,
    "deepnote_app_coordinates": {
     "x": 0,
     "y": 312,
     "w": 12,
     "h": 5
    },
    "deepnote_cell_type": "code",
    "deepnote_cell_height": 81
   },
   "source": "from sklearn.linear_model import Ridge",
   "execution_count": null,
   "outputs": []
  },
  {
   "cell_type": "code",
   "metadata": {
    "jupyter": {
     "outputs_hidden": false
    },
    "cell_id": "00054-17228063-303a-4d51-a1ab-67f7af9c56b2",
    "deepnote_to_be_reexecuted": false,
    "source_hash": "5e9a1aa6",
    "execution_start": 1650246963494,
    "execution_millis": 45,
    "deepnote_app_coordinates": {
     "x": 0,
     "y": 318,
     "w": 12,
     "h": 5
    },
    "deepnote_cell_type": "code",
    "deepnote_cell_height": 172.1875,
    "deepnote_output_heights": [
     21.1875
    ]
   },
   "source": "ridge = Ridge(alpha=0.1)\nridge.fit(x_train,y_train)\nridge.score(x_test,y_test)\n",
   "execution_count": null,
   "outputs": [
    {
     "output_type": "execute_result",
     "execution_count": 24,
     "data": {
      "text/plain": "0.6478759163939116"
     },
     "metadata": {}
    }
   ]
  },
  {
   "cell_type": "markdown",
   "source": "Realizamos una transformación polinómica de segundo orden tanto en los datos de entrenamiento como en los de prueba. Creamos y entrenamos un objeto de regresión Ridge utilizando los datos de entrenamiento, establezca el parámetro de regularización en 0,1 y calculamos el R^2 utilizando los datos de prueba proporcionados.\n",
   "metadata": {
    "cell_id": "00055-27327697-874c-4169-a968-e919137a5e12",
    "deepnote_app_coordinates": {
     "x": 0,
     "y": 324,
     "w": 12,
     "h": 5
    },
    "deepnote_cell_type": "markdown",
    "deepnote_cell_height": 97.1875
   }
  },
  {
   "cell_type": "code",
   "metadata": {
    "jupyter": {
     "outputs_hidden": false
    },
    "cell_id": "00056-5c9da448-da1a-4a97-a956-b46ec2e9fd37",
    "deepnote_to_be_reexecuted": false,
    "source_hash": "8cec9903",
    "execution_start": 1650246963539,
    "execution_millis": 1116,
    "deepnote_app_coordinates": {
     "x": 0,
     "y": 330,
     "w": 12,
     "h": 5
    },
    "deepnote_cell_type": "code",
    "deepnote_cell_height": 262.1875,
    "deepnote_output_heights": [
     21.1875
    ]
   },
   "source": "pr2=PolynomialFeatures(degree=2)\n\nx_train_pr = pr2.fit_transform(x_train)\nx_test_pr = pr2.fit_transform(x_test)\n\nridge2 = Ridge(alpha=0.1)\nridge2.fit(x_train_pr, y_train)\nridge2.score(x_test_pr, y_test)\n",
   "execution_count": null,
   "outputs": [
    {
     "output_type": "execute_result",
     "execution_count": 25,
     "data": {
      "text/plain": "0.7002744269935323"
     },
     "metadata": {}
    }
   ]
  },
  {
   "cell_type": "markdown",
   "source": "<a style='text-decoration:none;line-height:16px;display:flex;color:#5B5B62;padding:10px;justify-content:end;' href='https://deepnote.com?utm_source=created-in-deepnote-cell&projectId=098aa250-6c8a-4f13-917a-06807ca8a7a4' target=\"_blank\">\n<img alt='Created in deepnote.com' style='display:inline;max-height:16px;margin:0px;margin-right:7.5px;' src='data:image/svg+xml;base64,PD94bWwgdmVyc2lvbj0iMS4wIiBlbmNvZGluZz0iVVRGLTgiPz4KPHN2ZyB3aWR0aD0iODBweCIgaGVpZ2h0PSI4MHB4IiB2aWV3Qm94PSIwIDAgODAgODAiIHZlcnNpb249IjEuMSIgeG1sbnM9Imh0dHA6Ly93d3cudzMub3JnLzIwMDAvc3ZnIiB4bWxuczp4bGluaz0iaHR0cDovL3d3dy53My5vcmcvMTk5OS94bGluayI+CiAgICA8IS0tIEdlbmVyYXRvcjogU2tldGNoIDU0LjEgKDc2NDkwKSAtIGh0dHBzOi8vc2tldGNoYXBwLmNvbSAtLT4KICAgIDx0aXRsZT5Hcm91cCAzPC90aXRsZT4KICAgIDxkZXNjPkNyZWF0ZWQgd2l0aCBTa2V0Y2guPC9kZXNjPgogICAgPGcgaWQ9IkxhbmRpbmciIHN0cm9rZT0ibm9uZSIgc3Ryb2tlLXdpZHRoPSIxIiBmaWxsPSJub25lIiBmaWxsLXJ1bGU9ImV2ZW5vZGQiPgogICAgICAgIDxnIGlkPSJBcnRib2FyZCIgdHJhbnNmb3JtPSJ0cmFuc2xhdGUoLTEyMzUuMDAwMDAwLCAtNzkuMDAwMDAwKSI+CiAgICAgICAgICAgIDxnIGlkPSJHcm91cC0zIiB0cmFuc2Zvcm09InRyYW5zbGF0ZSgxMjM1LjAwMDAwMCwgNzkuMDAwMDAwKSI+CiAgICAgICAgICAgICAgICA8cG9seWdvbiBpZD0iUGF0aC0yMCIgZmlsbD0iIzAyNjVCNCIgcG9pbnRzPSIyLjM3NjIzNzYyIDgwIDM4LjA0NzY2NjcgODAgNTcuODIxNzgyMiA3My44MDU3NTkyIDU3LjgyMTc4MjIgMzIuNzU5MjczOSAzOS4xNDAyMjc4IDMxLjY4MzE2ODMiPjwvcG9seWdvbj4KICAgICAgICAgICAgICAgIDxwYXRoIGQ9Ik0zNS4wMDc3MTgsODAgQzQyLjkwNjIwMDcsNzYuNDU0OTM1OCA0Ny41NjQ5MTY3LDcxLjU0MjI2NzEgNDguOTgzODY2LDY1LjI2MTk5MzkgQzUxLjExMjI4OTksNTUuODQxNTg0MiA0MS42NzcxNzk1LDQ5LjIxMjIyODQgMjUuNjIzOTg0Niw0OS4yMTIyMjg0IEMyNS40ODQ5Mjg5LDQ5LjEyNjg0NDggMjkuODI2MTI5Niw0My4yODM4MjQ4IDM4LjY0NzU4NjksMzEuNjgzMTY4MyBMNzIuODcxMjg3MSwzMi41NTQ0MjUgTDY1LjI4MDk3Myw2Ny42NzYzNDIxIEw1MS4xMTIyODk5LDc3LjM3NjE0NCBMMzUuMDA3NzE4LDgwIFoiIGlkPSJQYXRoLTIyIiBmaWxsPSIjMDAyODY4Ij48L3BhdGg+CiAgICAgICAgICAgICAgICA8cGF0aCBkPSJNMCwzNy43MzA0NDA1IEwyNy4xMTQ1MzcsMC4yNTcxMTE0MzYgQzYyLjM3MTUxMjMsLTEuOTkwNzE3MDEgODAsMTAuNTAwMzkyNyA4MCwzNy43MzA0NDA1IEM4MCw2NC45NjA0ODgyIDY0Ljc3NjUwMzgsNzkuMDUwMzQxNCAzNC4zMjk1MTEzLDgwIEM0Ny4wNTUzNDg5LDc3LjU2NzA4MDggNTMuNDE4MjY3Nyw3MC4zMTM2MTAzIDUzLjQxODI2NzcsNTguMjM5NTg4NSBDNTMuNDE4MjY3Nyw0MC4xMjg1NTU3IDM2LjMwMzk1NDQsMzcuNzMwNDQwNSAyNS4yMjc0MTcsMzcuNzMwNDQwNSBDMTcuODQzMDU4NiwzNy43MzA0NDA1IDkuNDMzOTE5NjYsMzcuNzMwNDQwNSAwLDM3LjczMDQ0MDUgWiIgaWQ9IlBhdGgtMTkiIGZpbGw9IiMzNzkzRUYiPjwvcGF0aD4KICAgICAgICAgICAgPC9nPgogICAgICAgIDwvZz4KICAgIDwvZz4KPC9zdmc+' > </img>\nCreated in <span style='font-weight:600;margin-left:4px;'>Deepnote</span></a>",
   "metadata": {
    "tags": [],
    "created_in_deepnote_cell": true,
    "deepnote_cell_type": "markdown"
   }
  }
 ],
 "nbformat": 4,
 "nbformat_minor": 4,
 "metadata": {
  "kernelspec": {
   "name": "python3",
   "display_name": "Python 3.9",
   "language": "python"
  },
  "language_info": {
   "name": "python",
   "version": "3.9.7",
   "mimetype": "text/x-python",
   "codemirror_mode": {
    "name": "ipython",
    "version": 3
   },
   "pygments_lexer": "ipython3",
   "nbconvert_exporter": "python",
   "file_extension": ".py"
  },
  "widgets": {
   "state": {},
   "version": "1.1.2"
  },
  "deepnote_notebook_id": "8dc5a929-c7fd-43e4-aa7e-46e80767c23f",
  "deepnote": {},
  "deepnote_execution_queue": [],
  "deepnote_app_layout": "article"
 }
}