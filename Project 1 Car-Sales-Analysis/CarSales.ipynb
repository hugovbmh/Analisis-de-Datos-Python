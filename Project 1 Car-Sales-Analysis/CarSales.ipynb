{
 "cells": [
  {
   "cell_type": "markdown",
   "source": "# Car Sales Analysis",
   "metadata": {
    "cell_id": "db24355a04c94b9ab5dcd8b6f286cce7",
    "tags": [],
    "is_collapsed": false,
    "deepnote_app_coordinates": {
     "x": 0,
     "y": 290,
     "w": 12,
     "h": 4
    },
    "deepnote_cell_type": "text-cell-h1"
   }
  },
  {
   "cell_type": "markdown",
   "source": "![Picture title](image-20220417-180644.png)",
   "metadata": {
    "cell_id": "5f91c4b5ff63474087c6bce92bff1fe3",
    "tags": [],
    "deepnote_app_coordinates": {
     "x": 0,
     "y": 276,
     "w": 12,
     "h": 13
    },
    "deepnote_cell_type": "markdown",
    "deepnote_cell_height": 331.453125
   }
  },
  {
   "cell_type": "markdown",
   "source": "En este proyecto realizaremos un analisis exploratorio de datos (EDA) sobre un dataset de una \nconcesionaria de autos que desea investigar qué género de cliente genera más ingresos y predecir \nel género del cliente que compra cierto tipo de auto usando la columna Sale Price.",
   "metadata": {
    "cell_id": "53ff2c6d08fb4c15bedd4e7492a5a0b7",
    "tags": [],
    "deepnote_app_coordinates": {
     "x": 0,
     "y": 295,
     "w": 12,
     "h": 6
    },
    "deepnote_cell_type": "markdown",
    "deepnote_cell_height": 142
   }
  },
  {
   "cell_type": "markdown",
   "source": "## 1.Cargando datos",
   "metadata": {
    "cell_id": "951526a7-ba48-4df4-9479-3a60f3ace1f3",
    "deepnote_app_coordinates": {
     "x": 0,
     "y": 0,
     "w": 12,
     "h": 5
    },
    "deepnote_cell_type": "markdown",
    "deepnote_cell_height": 70
   }
  },
  {
   "cell_type": "code",
   "metadata": {
    "cell_id": "00001-1f49bdcb-e0a3-4d6d-9174-cdd4412789dd",
    "deepnote_app_coordinates": {
     "x": 0,
     "y": 6,
     "w": 12,
     "h": 5
    },
    "deepnote_to_be_reexecuted": false,
    "source_hash": "68301009",
    "execution_start": 1650237545886,
    "execution_millis": 4642,
    "deepnote_cell_type": "code",
    "deepnote_cell_height": 135
   },
   "source": "import pandas as pd\nimport numpy as np\nimport seaborn as sns\nimport matplotlib.pyplot as plt",
   "outputs": [],
   "execution_count": null
  },
  {
   "cell_type": "code",
   "metadata": {
    "cell_id": "00002-95cabb6e-3db9-4fee-a43e-06f45308a11b",
    "deepnote_app_coordinates": {
     "x": 0,
     "y": 12,
     "w": 12,
     "h": 5
    },
    "deepnote_to_be_reexecuted": false,
    "source_hash": "e46fbd6b",
    "execution_start": 1650237550538,
    "execution_millis": 522,
    "deepnote_cell_type": "code",
    "deepnote_cell_height": 652.796875,
    "deepnote_output_heights": [
     606.1875
    ]
   },
   "source": "sales = pd.read_csv(\"CarsData.csv\")\ntest = pd.read_csv(\"test.csv\",delimiter=\";\")\nsales.head(20) ",
   "outputs": [
    {
     "output_type": "execute_result",
     "execution_count": 4,
     "data": {
      "application/vnd.deepnote.dataframe.v3+json": {
       "column_count": 20,
       "row_count": 20,
       "columns": [
        {
         "name": "Make",
         "dtype": "object",
         "stats": {
          "unique_count": 18,
          "nan_count": 0,
          "categories": [
           {
            "name": "Toyota",
            "count": 2
           },
           {
            "name": "GMC",
            "count": 2
           },
           {
            "name": "16 others",
            "count": 16
           }
          ]
         }
        },
        {
         "name": "Model",
         "dtype": "object",
         "stats": {
          "unique_count": 20,
          "nan_count": 0,
          "categories": [
           {
            "name": "Vitara",
            "count": 1
           },
           {
            "name": "S2000",
            "count": 1
           },
           {
            "name": "18 others",
            "count": 18
           }
          ]
         }
        },
        {
         "name": "Nickname",
         "dtype": "object",
         "stats": {
          "unique_count": 20,
          "nan_count": 0,
          "categories": [
           {
            "name": "Philippine",
            "count": 1
           },
           {
            "name": "Henrik",
            "count": 1
           },
           {
            "name": "18 others",
            "count": 18
           }
          ]
         }
        },
        {
         "name": "Car Gender",
         "dtype": "object",
         "stats": {
          "unique_count": 2,
          "nan_count": 0,
          "categories": [
           {
            "name": "Female",
            "count": 12
           },
           {
            "name": "Male",
            "count": 8
           }
          ]
         }
        },
        {
         "name": "Buyer Gender",
         "dtype": "object",
         "stats": {
          "unique_count": 2,
          "nan_count": 0,
          "categories": [
           {
            "name": "Male",
            "count": 11
           },
           {
            "name": "Female",
            "count": 9
           }
          ]
         }
        },
        {
         "name": "Buyer Age",
         "dtype": "int64",
         "stats": {
          "unique_count": 14,
          "nan_count": 0,
          "min": "21",
          "max": "73",
          "histogram": [
           {
            "bin_start": 21,
            "bin_end": 26.2,
            "count": 1
           },
           {
            "bin_start": 26.2,
            "bin_end": 31.4,
            "count": 2
           },
           {
            "bin_start": 31.4,
            "bin_end": 36.6,
            "count": 0
           },
           {
            "bin_start": 36.6,
            "bin_end": 41.8,
            "count": 4
           },
           {
            "bin_start": 41.8,
            "bin_end": 47,
            "count": 2
           },
           {
            "bin_start": 47,
            "bin_end": 52.2,
            "count": 1
           },
           {
            "bin_start": 52.2,
            "bin_end": 57.4,
            "count": 3
           },
           {
            "bin_start": 57.4,
            "bin_end": 62.6,
            "count": 0
           },
           {
            "bin_start": 62.6,
            "bin_end": 67.80000000000001,
            "count": 3
           },
           {
            "bin_start": 67.80000000000001,
            "bin_end": 73,
            "count": 4
           }
          ]
         }
        },
        {
         "name": "Buzzword",
         "dtype": "object",
         "stats": {
          "unique_count": 19,
          "nan_count": 0,
          "categories": [
           {
            "name": "Grass-roots",
            "count": 2
           },
           {
            "name": "User-friendly",
            "count": 1
           },
           {
            "name": "17 others",
            "count": 17
           }
          ]
         }
        },
        {
         "name": "Country",
         "dtype": "object",
         "stats": {
          "unique_count": 15,
          "nan_count": 0,
          "categories": [
           {
            "name": "China",
            "count": 5
           },
           {
            "name": "Mexico",
            "count": 2
           },
           {
            "name": "13 others",
            "count": 13
           }
          ]
         }
        },
        {
         "name": "City",
         "dtype": "object",
         "stats": {
          "unique_count": 20,
          "nan_count": 0,
          "categories": [
           {
            "name": "Antwerpen",
            "count": 1
           },
           {
            "name": "Jinhu",
            "count": 1
           },
           {
            "name": "18 others",
            "count": 18
           }
          ]
         }
        },
        {
         "name": "Dealer Latitude",
         "dtype": "float64",
         "stats": {
          "unique_count": 20,
          "nan_count": 0,
          "min": "-27.7203552",
          "max": "57.708244",
          "histogram": [
           {
            "bin_start": -27.7203552,
            "bin_end": -19.17749528,
            "count": 2
           },
           {
            "bin_start": -19.17749528,
            "bin_end": -10.634635359999997,
            "count": 0
           },
           {
            "bin_start": -10.634635359999997,
            "bin_end": -2.0917754399999957,
            "count": 1
           },
           {
            "bin_start": -2.0917754399999957,
            "bin_end": 6.451084480000006,
            "count": 0
           },
           {
            "bin_start": 6.451084480000006,
            "bin_end": 14.993944400000004,
            "count": 1
           },
           {
            "bin_start": 14.993944400000004,
            "bin_end": 23.53680432000001,
            "count": 2
           },
           {
            "bin_start": 23.53680432000001,
            "bin_end": 32.079664240000014,
            "count": 4
           },
           {
            "bin_start": 32.079664240000014,
            "bin_end": 40.62252416000001,
            "count": 5
           },
           {
            "bin_start": 40.62252416000001,
            "bin_end": 49.16538408000001,
            "count": 1
           },
           {
            "bin_start": 49.16538408000001,
            "bin_end": 57.708244,
            "count": 4
           }
          ]
         }
        },
        {
         "name": "Dealer Longitude",
         "dtype": "float64",
         "stats": {
          "unique_count": 20,
          "nan_count": 0,
          "min": "-103.3977222",
          "max": "139.1650556",
          "histogram": [
           {
            "bin_start": -103.3977222,
            "bin_end": -79.14144442,
            "count": 2
           },
           {
            "bin_start": -79.14144442,
            "bin_end": -54.88516664000001,
            "count": 1
           },
           {
            "bin_start": -54.88516664000001,
            "bin_end": -30.628888860000018,
            "count": 1
           },
           {
            "bin_start": -30.628888860000018,
            "bin_end": -6.372611080000013,
            "count": 1
           },
           {
            "bin_start": -6.372611080000013,
            "bin_end": 17.883666699999992,
            "count": 3
           },
           {
            "bin_start": 17.883666699999992,
            "bin_end": 42.13994447999997,
            "count": 4
           },
           {
            "bin_start": 42.13994447999997,
            "bin_end": 66.39622225999997,
            "count": 0
           },
           {
            "bin_start": 66.39622225999997,
            "bin_end": 90.65250003999998,
            "count": 0
           },
           {
            "bin_start": 90.65250003999998,
            "bin_end": 114.90877781999998,
            "count": 3
           },
           {
            "bin_start": 114.90877781999998,
            "bin_end": 139.1650556,
            "count": 5
           }
          ]
         }
        },
        {
         "name": "Color",
         "dtype": "object",
         "stats": {
          "unique_count": 12,
          "nan_count": 0,
          "categories": [
           {
            "name": "Crimson",
            "count": 3
           },
           {
            "name": "Yellow",
            "count": 2
           },
           {
            "name": "10 others",
            "count": 15
           }
          ]
         }
        },
        {
         "name": "New Car",
         "dtype": "bool",
         "stats": {
          "unique_count": 2,
          "nan_count": 0,
          "categories": [
           {
            "name": "False",
            "count": 11
           },
           {
            "name": "True",
            "count": 9
           }
          ]
         }
        },
        {
         "name": "Purchase Date",
         "dtype": "object",
         "stats": {
          "unique_count": 20,
          "nan_count": 0,
          "categories": [
           {
            "name": "19/07/2009",
            "count": 1
           },
           {
            "name": "26/10/2015",
            "count": 1
           },
           {
            "name": "18 others",
            "count": 18
           }
          ]
         }
        },
        {
         "name": "Sale Price",
         "dtype": "float64",
         "stats": {
          "unique_count": 20,
          "nan_count": 0,
          "min": "11280.0",
          "max": "97058.87",
          "histogram": [
           {
            "bin_start": 11280,
            "bin_end": 19857.887,
            "count": 4
           },
           {
            "bin_start": 19857.887,
            "bin_end": 28435.773999999998,
            "count": 1
           },
           {
            "bin_start": 28435.773999999998,
            "bin_end": 37013.66099999999,
            "count": 0
           },
           {
            "bin_start": 37013.66099999999,
            "bin_end": 45591.547999999995,
            "count": 0
           },
           {
            "bin_start": 45591.547999999995,
            "bin_end": 54169.435,
            "count": 3
           },
           {
            "bin_start": 54169.435,
            "bin_end": 62747.32199999999,
            "count": 3
           },
           {
            "bin_start": 62747.32199999999,
            "bin_end": 71325.20899999999,
            "count": 1
           },
           {
            "bin_start": 71325.20899999999,
            "bin_end": 79903.09599999999,
            "count": 2
           },
           {
            "bin_start": 79903.09599999999,
            "bin_end": 88480.983,
            "count": 3
           },
           {
            "bin_start": 88480.983,
            "bin_end": 97058.87,
            "count": 3
           }
          ]
         }
        },
        {
         "name": "Discount",
         "dtype": "float64",
         "stats": {
          "unique_count": 20,
          "nan_count": 0,
          "min": "0.085",
          "max": "0.6937",
          "histogram": [
           {
            "bin_start": 0.085,
            "bin_end": 0.14587,
            "count": 3
           },
           {
            "bin_start": 0.14587,
            "bin_end": 0.20674,
            "count": 5
           },
           {
            "bin_start": 0.20674,
            "bin_end": 0.26761,
            "count": 3
           },
           {
            "bin_start": 0.26761,
            "bin_end": 0.32848,
            "count": 1
           },
           {
            "bin_start": 0.32848,
            "bin_end": 0.38935000000000003,
            "count": 0
           },
           {
            "bin_start": 0.38935000000000003,
            "bin_end": 0.45022,
            "count": 1
           },
           {
            "bin_start": 0.45022,
            "bin_end": 0.51109,
            "count": 0
           },
           {
            "bin_start": 0.51109,
            "bin_end": 0.57196,
            "count": 2
           },
           {
            "bin_start": 0.57196,
            "bin_end": 0.63283,
            "count": 1
           },
           {
            "bin_start": 0.63283,
            "bin_end": 0.6937,
            "count": 4
           }
          ]
         }
        },
        {
         "name": "Resell Price",
         "dtype": "float64",
         "stats": {
          "unique_count": 20,
          "nan_count": 0,
          "min": "2989.28",
          "max": "49656.3",
          "histogram": [
           {
            "bin_start": 2989.28,
            "bin_end": 7655.982,
            "count": 2
           },
           {
            "bin_start": 7655.982,
            "bin_end": 12322.684000000001,
            "count": 2
           },
           {
            "bin_start": 12322.684000000001,
            "bin_end": 16989.386,
            "count": 1
           },
           {
            "bin_start": 16989.386,
            "bin_end": 21656.088,
            "count": 1
           },
           {
            "bin_start": 21656.088,
            "bin_end": 26322.79,
            "count": 1
           },
           {
            "bin_start": 26322.79,
            "bin_end": 30989.492,
            "count": 2
           },
           {
            "bin_start": 30989.492,
            "bin_end": 35656.194,
            "count": 6
           },
           {
            "bin_start": 35656.194,
            "bin_end": 40322.896,
            "count": 1
           },
           {
            "bin_start": 40322.896,
            "bin_end": 44989.598,
            "count": 2
           },
           {
            "bin_start": 44989.598,
            "bin_end": 49656.3,
            "count": 2
           }
          ]
         }
        },
        {
         "name": "5-yr Depreciation",
         "dtype": "float64",
         "stats": {
          "unique_count": 14,
          "nan_count": 0,
          "min": "0.01",
          "max": "0.24",
          "histogram": [
           {
            "bin_start": 0.01,
            "bin_end": 0.033,
            "count": 2
           },
           {
            "bin_start": 0.033,
            "bin_end": 0.056,
            "count": 4
           },
           {
            "bin_start": 0.056,
            "bin_end": 0.079,
            "count": 0
           },
           {
            "bin_start": 0.079,
            "bin_end": 0.102,
            "count": 4
           },
           {
            "bin_start": 0.102,
            "bin_end": 0.12499999999999999,
            "count": 1
           },
           {
            "bin_start": 0.12499999999999999,
            "bin_end": 0.14800000000000002,
            "count": 2
           },
           {
            "bin_start": 0.14800000000000002,
            "bin_end": 0.171,
            "count": 1
           },
           {
            "bin_start": 0.171,
            "bin_end": 0.194,
            "count": 3
           },
           {
            "bin_start": 0.194,
            "bin_end": 0.217,
            "count": 2
           },
           {
            "bin_start": 0.217,
            "bin_end": 0.24,
            "count": 1
           }
          ]
         }
        },
        {
         "name": "Top Speed",
         "dtype": "float64",
         "stats": {
          "unique_count": 20,
          "nan_count": 0,
          "min": "120.6",
          "max": "248.7",
          "histogram": [
           {
            "bin_start": 120.6,
            "bin_end": 133.41,
            "count": 2
           },
           {
            "bin_start": 133.41,
            "bin_end": 146.22,
            "count": 5
           },
           {
            "bin_start": 146.22,
            "bin_end": 159.02999999999997,
            "count": 3
           },
           {
            "bin_start": 159.02999999999997,
            "bin_end": 171.83999999999997,
            "count": 2
           },
           {
            "bin_start": 171.83999999999997,
            "bin_end": 184.64999999999998,
            "count": 1
           },
           {
            "bin_start": 184.64999999999998,
            "bin_end": 197.45999999999998,
            "count": 1
           },
           {
            "bin_start": 197.45999999999998,
            "bin_end": 210.26999999999998,
            "count": 1
           },
           {
            "bin_start": 210.26999999999998,
            "bin_end": 223.07999999999998,
            "count": 1
           },
           {
            "bin_start": 223.07999999999998,
            "bin_end": 235.89,
            "count": 2
           },
           {
            "bin_start": 235.89,
            "bin_end": 248.7,
            "count": 2
           }
          ]
         }
        },
        {
         "name": "0-60 Time",
         "dtype": "float64",
         "stats": {
          "unique_count": 18,
          "nan_count": 0,
          "min": "2.5",
          "max": "14.9",
          "histogram": [
           {
            "bin_start": 2.5,
            "bin_end": 3.74,
            "count": 2
           },
           {
            "bin_start": 3.74,
            "bin_end": 4.98,
            "count": 4
           },
           {
            "bin_start": 4.98,
            "bin_end": 6.22,
            "count": 3
           },
           {
            "bin_start": 6.22,
            "bin_end": 7.46,
            "count": 1
           },
           {
            "bin_start": 7.46,
            "bin_end": 8.7,
            "count": 2
           },
           {
            "bin_start": 8.7,
            "bin_end": 9.94,
            "count": 3
           },
           {
            "bin_start": 9.94,
            "bin_end": 11.18,
            "count": 0
           },
           {
            "bin_start": 11.18,
            "bin_end": 12.42,
            "count": 2
           },
           {
            "bin_start": 12.42,
            "bin_end": 13.66,
            "count": 1
           },
           {
            "bin_start": 13.66,
            "bin_end": 14.9,
            "count": 2
           }
          ]
         }
        },
        {
         "name": "_deepnote_index_column",
         "dtype": "int64"
        }
       ],
       "rows": [
        {
         "Make": "Suzuki",
         "Model": "Vitara",
         "Nickname": "Philippine",
         "Car Gender": "Female",
         "Buyer Gender": "Female",
         "Buyer Age": 51,
         "Buzzword": "User-friendly",
         "Country": "Belgium",
         "City": "Antwerpen",
         "Dealer Latitude": 51.2472392,
         "Dealer Longitude": 4.4403455,
         "Color": "Yellow",
         "New Car": false,
         "Purchase Date": "19/07/2009",
         "Sale Price": 54806.14,
         "Discount": 0.2467,
         "Resell Price": 33858.32,
         "5-yr Depreciation": 0.13,
         "Top Speed": 200.9,
         "0-60 Time": 11.5,
         "_deepnote_index_column": 0
        },
        {
         "Make": "Honda",
         "Model": "S2000",
         "Nickname": "Henrik",
         "Car Gender": "Male",
         "Buyer Gender": "Male",
         "Buyer Age": 30,
         "Buzzword": "analyzing",
         "Country": "China",
         "City": "Jinhu",
         "Dealer Latitude": 33.025433,
         "Dealer Longitude": 119.020584,
         "Color": "Crimson",
         "New Car": false,
         "Purchase Date": "26/10/2015",
         "Sale Price": 51826.3,
         "Discount": 0.3147,
         "Resell Price": 2989.28,
         "5-yr Depreciation": 0.02,
         "Top Speed": 158.5,
         "0-60 Time": 8.8,
         "_deepnote_index_column": 1
        },
        {
         "Make": "BMW",
         "Model": "Z4",
         "Nickname": "Lebbie",
         "Car Gender": "Male",
         "Buyer Gender": "Female",
         "Buyer Age": 54,
         "Buzzword": "software",
         "Country": "China",
         "City": "Gemo",
         "Dealer Latitude": 30.9162065,
         "Dealer Longitude": 121.6776404,
         "Color": "Khaki",
         "New Car": false,
         "Purchase Date": "28/03/2010",
         "Sale Price": 82929.14,
         "Discount": 0.5414,
         "Resell Price": 35049.16,
         "5-yr Depreciation": 0.24,
         "Top Speed": 149.5,
         "0-60 Time": 14.4,
         "_deepnote_index_column": 2
        },
        {
         "Make": "Toyota",
         "Model": "Tacoma",
         "Nickname": "Jefferey",
         "Car Gender": "Female",
         "Buyer Gender": "Male",
         "Buyer Age": 68,
         "Buzzword": "monitoring",
         "Country": "Portugal",
         "City": "Queluz de Baixo",
         "Dealer Latitude": 38.7451684,
         "Dealer Longitude": -9.2670871,
         "Color": "Puce",
         "New Car": false,
         "Purchase Date": "07/05/2008",
         "Sale Price": 56928.66,
         "Discount": 0.085,
         "Resell Price": 8236.15,
         "5-yr Depreciation": 0.2,
         "Top Speed": 153.3,
         "0-60 Time": 11.5,
         "_deepnote_index_column": 3
        },
        {
         "Make": "Ford",
         "Model": "Festiva",
         "Nickname": "Glendon",
         "Car Gender": "Female",
         "Buyer Gender": "Male",
         "Buyer Age": 70,
         "Buzzword": "Sharable",
         "Country": "Latvia",
         "City": "Jaunpils",
         "Dealer Latitude": 56.72998,
         "Dealer Longitude": 23.0165879,
         "Color": "Yellow",
         "New Car": false,
         "Purchase Date": "01/06/2008",
         "Sale Price": 77201.26,
         "Discount": 0.1642,
         "Resell Price": 32765.76,
         "5-yr Depreciation": 0.18,
         "Top Speed": 122,
         "0-60 Time": 14.9,
         "_deepnote_index_column": 4
        },
        {
         "Make": "Buick",
         "Model": "Skylark",
         "Nickname": "Glad",
         "Car Gender": "Male",
         "Buyer Gender": "Female",
         "Buyer Age": 70,
         "Buzzword": "Vision-oriented",
         "Country": "Mexico",
         "City": "Guadalupe",
         "Dealer Latitude": 25.6775595,
         "Dealer Longitude": -100.2596935,
         "Color": "Crimson",
         "New Car": false,
         "Purchase Date": "17/05/2007",
         "Sale Price": 50882.23,
         "Discount": 0.6913,
         "Resell Price": 38576.59,
         "5-yr Depreciation": 0.16,
         "Top Speed": 182.7,
         "0-60 Time": 9.6,
         "_deepnote_index_column": 5
        },
        {
         "Make": "Infiniti",
         "Model": "QX",
         "Nickname": "Bud",
         "Car Gender": "Male",
         "Buyer Gender": "Male",
         "Buyer Age": 66,
         "Buzzword": "throughput",
         "Country": "Japan",
         "City": "Gosen",
         "Dealer Latitude": 37.7525244,
         "Dealer Longitude": 139.1650556,
         "Color": "Fuscia",
         "New Car": true,
         "Purchase Date": "11/08/2017",
         "Sale Price": 69680.54,
         "Discount": 0.1657,
         "Resell Price": 27962.25,
         "5-yr Depreciation": 0.18,
         "Top Speed": 231.8,
         "0-60 Time": 5.3,
         "_deepnote_index_column": 6
        },
        {
         "Make": "Ram",
         "Model": "C/V",
         "Nickname": "Geoffrey",
         "Car Gender": "Female",
         "Buyer Gender": "Male",
         "Buyer Age": 37,
         "Buzzword": "circuit",
         "Country": "Russia",
         "City": "Izborsk",
         "Dealer Latitude": 57.708244,
         "Dealer Longitude": 27.8608831,
         "Color": "Aquamarine",
         "New Car": true,
         "Purchase Date": "23/11/2007",
         "Sale Price": 56393.91,
         "Discount": 0.1006,
         "Resell Price": 29157.95,
         "5-yr Depreciation": 0.14,
         "Top Speed": 144.1,
         "0-60 Time": 4.7,
         "_deepnote_index_column": 7
        },
        {
         "Make": "GMC",
         "Model": "Safari",
         "Nickname": "Marius",
         "Car Gender": "Female",
         "Buyer Gender": "Male",
         "Buyer Age": 43,
         "Buzzword": "bottom-line",
         "Country": "Luxembourg",
         "City": "Eschweiler",
         "Dealer Latitude": 49.99754,
         "Dealer Longitude": 5.9475635,
         "Color": "Mauv",
         "New Car": true,
         "Purchase Date": "16/03/2003",
         "Sale Price": 13797.81,
         "Discount": 0.2126,
         "Resell Price": 31062.38,
         "5-yr Depreciation": 0.01,
         "Top Speed": 223.3,
         "0-60 Time": 5.8,
         "_deepnote_index_column": 8
        },
        {
         "Make": "Nissan",
         "Model": "Altima",
         "Nickname": "Vi",
         "Car Gender": "Male",
         "Buyer Gender": "Female",
         "Buyer Age": 73,
         "Buzzword": "Grass-roots",
         "Country": "Cyprus",
         "City": "Meneou",
         "Dealer Latitude": 34.8582652,
         "Dealer Longitude": 33.6007892,
         "Color": "Puce",
         "New Car": true,
         "Purchase Date": "19/05/2019",
         "Sale Price": 15176.04,
         "Discount": 0.1922,
         "Resell Price": 45892.79,
         "5-yr Depreciation": 0.12,
         "Top Speed": 170.4,
         "0-60 Time": 4.1,
         "_deepnote_index_column": 9
        }
       ]
      },
      "text/plain": "          Make    Model    Nickname Car Gender Buyer Gender  Buyer Age  \\\n0       Suzuki   Vitara  Philippine     Female       Female         51   \n1        Honda    S2000      Henrik       Male         Male         30   \n2          BMW       Z4      Lebbie       Male       Female         54   \n3       Toyota   Tacoma    Jefferey     Female         Male         68   \n4         Ford  Festiva     Glendon     Female         Male         70   \n5        Buick  Skylark        Glad       Male       Female         70   \n6     Infiniti       QX         Bud       Male         Male         66   \n7          Ram      C/V    Geoffrey     Female         Male         37   \n8          GMC   Safari      Marius     Female         Male         43   \n9       Nissan   Altima          Vi       Male       Female         73   \n10      Toyota   Previa       Winni     Female       Female         67   \n11       Scion       xB       Arlie       Male       Female         29   \n12     Porsche      928     Celesta     Female       Female         37   \n13       Lexus       HS         Rey     Female         Male         43   \n14         GMC    Yukon       Nevil     Female         Male         41   \n15  Mitsubishi   Mirage       Hasty     Female         Male         21   \n16       Dodge    Viper    Bernhard       Male         Male         57   \n17       Mazda    B2500       Tonie       Male       Female         54   \n18  Land Rover      LR3      Haskel     Female         Male         37   \n19       Isuzu    Space     Lynette     Female       Female         66   \n\n               Buzzword                Country                           City  \\\n0         User-friendly                Belgium                      Antwerpen   \n1             analyzing                  China                          Jinhu   \n2              software                  China                           Gemo   \n3            monitoring               Portugal                Queluz de Baixo   \n4              Sharable                 Latvia                       Jaunpils   \n5       Vision-oriented                 Mexico                      Guadalupe   \n6            throughput                  Japan                          Gosen   \n7               circuit                 Russia                        Izborsk   \n8           bottom-line             Luxembourg                     Eschweiler   \n9           Grass-roots                 Cyprus                         Meneou   \n10           Horizontal                 Brazil  Freguesia do Ribeirao da Ilha   \n11          contingency                  China                       Chengbei   \n12             discrete            Philippines                     Pangal Sur   \n13            groupware               Paraguay                    Villa Elisa   \n14                Total                 Mexico                     San Isidro   \n15  zero administration                  China                           Dalu   \n16         transitional              Indonesia                      Sumberejo   \n17       superstructure                   Togo                        Tchamba   \n18     Open-architected  Palestinian Territory                     Ar Ramāḑīn   \n19          Grass-roots                  China                       Dengteke   \n\n    Dealer Latitude  Dealer Longitude       Color  New Car Purchase Date  \\\n0         51.247239          4.440346      Yellow    False    19/07/2009   \n1         33.025433        119.020584     Crimson    False    26/10/2015   \n2         30.916207        121.677640       Khaki    False    28/03/2010   \n3         38.745168         -9.267087        Puce    False    07/05/2008   \n4         56.729980         23.016588      Yellow    False    01/06/2008   \n5         25.677560       -100.259693     Crimson    False    17/05/2007   \n6         37.752524        139.165056      Fuscia     True    11/08/2017   \n7         57.708244         27.860883  Aquamarine     True    23/11/2007   \n8         49.997540          5.947564        Mauv     True    16/03/2003   \n9         34.858265         33.600789        Puce     True    19/05/2019   \n10       -27.720355        -48.563999      Violet     True    02/03/2004   \n11        36.650038        101.766228       Green     True    09/09/2008   \n12        16.670640        121.715810      Fuscia    False    26/01/2020   \n13       -25.382382        -57.587253   Turquoise    False    28/06/2014   \n14        20.730380       -103.397722        Teal     True    06/10/2020   \n15        25.606486        100.267638      Indigo    False    14/04/2011   \n16        -7.203073        112.023790        Teal     True    17/10/2004   \n17         9.029518          1.416897     Crimson     True    27/09/2002   \n18        31.375657         34.905759  Aquamarine    False    28/09/2015   \n19        48.642916        124.559756       Green    False    20/10/2009   \n\n    Sale Price  Discount  Resell Price  5-yr Depreciation  Top Speed  \\\n0     54806.14    0.2467      33858.32               0.13      200.9   \n1     51826.30    0.3147       2989.28               0.02      158.5   \n2     82929.14    0.5414      35049.16               0.24      149.5   \n3     56928.66    0.0850       8236.15               0.20      153.3   \n4     77201.26    0.1642      32765.76               0.18      122.0   \n5     50882.23    0.6913      38576.59               0.16      182.7   \n6     69680.54    0.1657      27962.25               0.18      231.8   \n7     56393.91    0.1006      29157.95               0.14      144.1   \n8     13797.81    0.2126      31062.38               0.01      223.3   \n9     15176.04    0.1922      45892.79               0.12      170.4   \n10    82844.12    0.1651       4740.87               0.05      135.4   \n11    95681.78    0.5507      16358.27               0.08      136.4   \n12    90954.50    0.3937      40650.31               0.10      213.9   \n13    46666.83    0.6937      33634.37               0.08      134.1   \n14    11280.00    0.2396       9279.51               0.08      248.7   \n15    23110.07    0.6385      41916.47               0.04      245.6   \n16    77346.39    0.6078      32280.44               0.18      159.8   \n17    15500.07    0.6852      20175.47               0.04      185.6   \n18    84151.25    0.1375      49656.30               0.05      120.6   \n19    97058.87    0.1654      21985.35               0.21      136.6   \n\n    0-60 Time  \n0        11.5  \n1         8.8  \n2        14.4  \n3        11.5  \n4        14.9  \n5         9.6  \n6         5.3  \n7         4.7  \n8         5.8  \n9         4.1  \n10        8.9  \n11        4.1  \n12        2.5  \n13        4.4  \n14        7.3  \n15        3.4  \n16        8.2  \n17        5.4  \n18       13.0  \n19        8.5  ",
      "text/html": "<div>\n<style scoped>\n    .dataframe tbody tr th:only-of-type {\n        vertical-align: middle;\n    }\n\n    .dataframe tbody tr th {\n        vertical-align: top;\n    }\n\n    .dataframe thead th {\n        text-align: right;\n    }\n</style>\n<table border=\"1\" class=\"dataframe\">\n  <thead>\n    <tr style=\"text-align: right;\">\n      <th></th>\n      <th>Make</th>\n      <th>Model</th>\n      <th>Nickname</th>\n      <th>Car Gender</th>\n      <th>Buyer Gender</th>\n      <th>Buyer Age</th>\n      <th>Buzzword</th>\n      <th>Country</th>\n      <th>City</th>\n      <th>Dealer Latitude</th>\n      <th>Dealer Longitude</th>\n      <th>Color</th>\n      <th>New Car</th>\n      <th>Purchase Date</th>\n      <th>Sale Price</th>\n      <th>Discount</th>\n      <th>Resell Price</th>\n      <th>5-yr Depreciation</th>\n      <th>Top Speed</th>\n      <th>0-60 Time</th>\n    </tr>\n  </thead>\n  <tbody>\n    <tr>\n      <th>0</th>\n      <td>Suzuki</td>\n      <td>Vitara</td>\n      <td>Philippine</td>\n      <td>Female</td>\n      <td>Female</td>\n      <td>51</td>\n      <td>User-friendly</td>\n      <td>Belgium</td>\n      <td>Antwerpen</td>\n      <td>51.247239</td>\n      <td>4.440346</td>\n      <td>Yellow</td>\n      <td>False</td>\n      <td>19/07/2009</td>\n      <td>54806.14</td>\n      <td>0.2467</td>\n      <td>33858.32</td>\n      <td>0.13</td>\n      <td>200.9</td>\n      <td>11.5</td>\n    </tr>\n    <tr>\n      <th>1</th>\n      <td>Honda</td>\n      <td>S2000</td>\n      <td>Henrik</td>\n      <td>Male</td>\n      <td>Male</td>\n      <td>30</td>\n      <td>analyzing</td>\n      <td>China</td>\n      <td>Jinhu</td>\n      <td>33.025433</td>\n      <td>119.020584</td>\n      <td>Crimson</td>\n      <td>False</td>\n      <td>26/10/2015</td>\n      <td>51826.30</td>\n      <td>0.3147</td>\n      <td>2989.28</td>\n      <td>0.02</td>\n      <td>158.5</td>\n      <td>8.8</td>\n    </tr>\n    <tr>\n      <th>2</th>\n      <td>BMW</td>\n      <td>Z4</td>\n      <td>Lebbie</td>\n      <td>Male</td>\n      <td>Female</td>\n      <td>54</td>\n      <td>software</td>\n      <td>China</td>\n      <td>Gemo</td>\n      <td>30.916207</td>\n      <td>121.677640</td>\n      <td>Khaki</td>\n      <td>False</td>\n      <td>28/03/2010</td>\n      <td>82929.14</td>\n      <td>0.5414</td>\n      <td>35049.16</td>\n      <td>0.24</td>\n      <td>149.5</td>\n      <td>14.4</td>\n    </tr>\n    <tr>\n      <th>3</th>\n      <td>Toyota</td>\n      <td>Tacoma</td>\n      <td>Jefferey</td>\n      <td>Female</td>\n      <td>Male</td>\n      <td>68</td>\n      <td>monitoring</td>\n      <td>Portugal</td>\n      <td>Queluz de Baixo</td>\n      <td>38.745168</td>\n      <td>-9.267087</td>\n      <td>Puce</td>\n      <td>False</td>\n      <td>07/05/2008</td>\n      <td>56928.66</td>\n      <td>0.0850</td>\n      <td>8236.15</td>\n      <td>0.20</td>\n      <td>153.3</td>\n      <td>11.5</td>\n    </tr>\n    <tr>\n      <th>4</th>\n      <td>Ford</td>\n      <td>Festiva</td>\n      <td>Glendon</td>\n      <td>Female</td>\n      <td>Male</td>\n      <td>70</td>\n      <td>Sharable</td>\n      <td>Latvia</td>\n      <td>Jaunpils</td>\n      <td>56.729980</td>\n      <td>23.016588</td>\n      <td>Yellow</td>\n      <td>False</td>\n      <td>01/06/2008</td>\n      <td>77201.26</td>\n      <td>0.1642</td>\n      <td>32765.76</td>\n      <td>0.18</td>\n      <td>122.0</td>\n      <td>14.9</td>\n    </tr>\n    <tr>\n      <th>5</th>\n      <td>Buick</td>\n      <td>Skylark</td>\n      <td>Glad</td>\n      <td>Male</td>\n      <td>Female</td>\n      <td>70</td>\n      <td>Vision-oriented</td>\n      <td>Mexico</td>\n      <td>Guadalupe</td>\n      <td>25.677560</td>\n      <td>-100.259693</td>\n      <td>Crimson</td>\n      <td>False</td>\n      <td>17/05/2007</td>\n      <td>50882.23</td>\n      <td>0.6913</td>\n      <td>38576.59</td>\n      <td>0.16</td>\n      <td>182.7</td>\n      <td>9.6</td>\n    </tr>\n    <tr>\n      <th>6</th>\n      <td>Infiniti</td>\n      <td>QX</td>\n      <td>Bud</td>\n      <td>Male</td>\n      <td>Male</td>\n      <td>66</td>\n      <td>throughput</td>\n      <td>Japan</td>\n      <td>Gosen</td>\n      <td>37.752524</td>\n      <td>139.165056</td>\n      <td>Fuscia</td>\n      <td>True</td>\n      <td>11/08/2017</td>\n      <td>69680.54</td>\n      <td>0.1657</td>\n      <td>27962.25</td>\n      <td>0.18</td>\n      <td>231.8</td>\n      <td>5.3</td>\n    </tr>\n    <tr>\n      <th>7</th>\n      <td>Ram</td>\n      <td>C/V</td>\n      <td>Geoffrey</td>\n      <td>Female</td>\n      <td>Male</td>\n      <td>37</td>\n      <td>circuit</td>\n      <td>Russia</td>\n      <td>Izborsk</td>\n      <td>57.708244</td>\n      <td>27.860883</td>\n      <td>Aquamarine</td>\n      <td>True</td>\n      <td>23/11/2007</td>\n      <td>56393.91</td>\n      <td>0.1006</td>\n      <td>29157.95</td>\n      <td>0.14</td>\n      <td>144.1</td>\n      <td>4.7</td>\n    </tr>\n    <tr>\n      <th>8</th>\n      <td>GMC</td>\n      <td>Safari</td>\n      <td>Marius</td>\n      <td>Female</td>\n      <td>Male</td>\n      <td>43</td>\n      <td>bottom-line</td>\n      <td>Luxembourg</td>\n      <td>Eschweiler</td>\n      <td>49.997540</td>\n      <td>5.947564</td>\n      <td>Mauv</td>\n      <td>True</td>\n      <td>16/03/2003</td>\n      <td>13797.81</td>\n      <td>0.2126</td>\n      <td>31062.38</td>\n      <td>0.01</td>\n      <td>223.3</td>\n      <td>5.8</td>\n    </tr>\n    <tr>\n      <th>9</th>\n      <td>Nissan</td>\n      <td>Altima</td>\n      <td>Vi</td>\n      <td>Male</td>\n      <td>Female</td>\n      <td>73</td>\n      <td>Grass-roots</td>\n      <td>Cyprus</td>\n      <td>Meneou</td>\n      <td>34.858265</td>\n      <td>33.600789</td>\n      <td>Puce</td>\n      <td>True</td>\n      <td>19/05/2019</td>\n      <td>15176.04</td>\n      <td>0.1922</td>\n      <td>45892.79</td>\n      <td>0.12</td>\n      <td>170.4</td>\n      <td>4.1</td>\n    </tr>\n    <tr>\n      <th>10</th>\n      <td>Toyota</td>\n      <td>Previa</td>\n      <td>Winni</td>\n      <td>Female</td>\n      <td>Female</td>\n      <td>67</td>\n      <td>Horizontal</td>\n      <td>Brazil</td>\n      <td>Freguesia do Ribeirao da Ilha</td>\n      <td>-27.720355</td>\n      <td>-48.563999</td>\n      <td>Violet</td>\n      <td>True</td>\n      <td>02/03/2004</td>\n      <td>82844.12</td>\n      <td>0.1651</td>\n      <td>4740.87</td>\n      <td>0.05</td>\n      <td>135.4</td>\n      <td>8.9</td>\n    </tr>\n    <tr>\n      <th>11</th>\n      <td>Scion</td>\n      <td>xB</td>\n      <td>Arlie</td>\n      <td>Male</td>\n      <td>Female</td>\n      <td>29</td>\n      <td>contingency</td>\n      <td>China</td>\n      <td>Chengbei</td>\n      <td>36.650038</td>\n      <td>101.766228</td>\n      <td>Green</td>\n      <td>True</td>\n      <td>09/09/2008</td>\n      <td>95681.78</td>\n      <td>0.5507</td>\n      <td>16358.27</td>\n      <td>0.08</td>\n      <td>136.4</td>\n      <td>4.1</td>\n    </tr>\n    <tr>\n      <th>12</th>\n      <td>Porsche</td>\n      <td>928</td>\n      <td>Celesta</td>\n      <td>Female</td>\n      <td>Female</td>\n      <td>37</td>\n      <td>discrete</td>\n      <td>Philippines</td>\n      <td>Pangal Sur</td>\n      <td>16.670640</td>\n      <td>121.715810</td>\n      <td>Fuscia</td>\n      <td>False</td>\n      <td>26/01/2020</td>\n      <td>90954.50</td>\n      <td>0.3937</td>\n      <td>40650.31</td>\n      <td>0.10</td>\n      <td>213.9</td>\n      <td>2.5</td>\n    </tr>\n    <tr>\n      <th>13</th>\n      <td>Lexus</td>\n      <td>HS</td>\n      <td>Rey</td>\n      <td>Female</td>\n      <td>Male</td>\n      <td>43</td>\n      <td>groupware</td>\n      <td>Paraguay</td>\n      <td>Villa Elisa</td>\n      <td>-25.382382</td>\n      <td>-57.587253</td>\n      <td>Turquoise</td>\n      <td>False</td>\n      <td>28/06/2014</td>\n      <td>46666.83</td>\n      <td>0.6937</td>\n      <td>33634.37</td>\n      <td>0.08</td>\n      <td>134.1</td>\n      <td>4.4</td>\n    </tr>\n    <tr>\n      <th>14</th>\n      <td>GMC</td>\n      <td>Yukon</td>\n      <td>Nevil</td>\n      <td>Female</td>\n      <td>Male</td>\n      <td>41</td>\n      <td>Total</td>\n      <td>Mexico</td>\n      <td>San Isidro</td>\n      <td>20.730380</td>\n      <td>-103.397722</td>\n      <td>Teal</td>\n      <td>True</td>\n      <td>06/10/2020</td>\n      <td>11280.00</td>\n      <td>0.2396</td>\n      <td>9279.51</td>\n      <td>0.08</td>\n      <td>248.7</td>\n      <td>7.3</td>\n    </tr>\n    <tr>\n      <th>15</th>\n      <td>Mitsubishi</td>\n      <td>Mirage</td>\n      <td>Hasty</td>\n      <td>Female</td>\n      <td>Male</td>\n      <td>21</td>\n      <td>zero administration</td>\n      <td>China</td>\n      <td>Dalu</td>\n      <td>25.606486</td>\n      <td>100.267638</td>\n      <td>Indigo</td>\n      <td>False</td>\n      <td>14/04/2011</td>\n      <td>23110.07</td>\n      <td>0.6385</td>\n      <td>41916.47</td>\n      <td>0.04</td>\n      <td>245.6</td>\n      <td>3.4</td>\n    </tr>\n    <tr>\n      <th>16</th>\n      <td>Dodge</td>\n      <td>Viper</td>\n      <td>Bernhard</td>\n      <td>Male</td>\n      <td>Male</td>\n      <td>57</td>\n      <td>transitional</td>\n      <td>Indonesia</td>\n      <td>Sumberejo</td>\n      <td>-7.203073</td>\n      <td>112.023790</td>\n      <td>Teal</td>\n      <td>True</td>\n      <td>17/10/2004</td>\n      <td>77346.39</td>\n      <td>0.6078</td>\n      <td>32280.44</td>\n      <td>0.18</td>\n      <td>159.8</td>\n      <td>8.2</td>\n    </tr>\n    <tr>\n      <th>17</th>\n      <td>Mazda</td>\n      <td>B2500</td>\n      <td>Tonie</td>\n      <td>Male</td>\n      <td>Female</td>\n      <td>54</td>\n      <td>superstructure</td>\n      <td>Togo</td>\n      <td>Tchamba</td>\n      <td>9.029518</td>\n      <td>1.416897</td>\n      <td>Crimson</td>\n      <td>True</td>\n      <td>27/09/2002</td>\n      <td>15500.07</td>\n      <td>0.6852</td>\n      <td>20175.47</td>\n      <td>0.04</td>\n      <td>185.6</td>\n      <td>5.4</td>\n    </tr>\n    <tr>\n      <th>18</th>\n      <td>Land Rover</td>\n      <td>LR3</td>\n      <td>Haskel</td>\n      <td>Female</td>\n      <td>Male</td>\n      <td>37</td>\n      <td>Open-architected</td>\n      <td>Palestinian Territory</td>\n      <td>Ar Ramāḑīn</td>\n      <td>31.375657</td>\n      <td>34.905759</td>\n      <td>Aquamarine</td>\n      <td>False</td>\n      <td>28/09/2015</td>\n      <td>84151.25</td>\n      <td>0.1375</td>\n      <td>49656.30</td>\n      <td>0.05</td>\n      <td>120.6</td>\n      <td>13.0</td>\n    </tr>\n    <tr>\n      <th>19</th>\n      <td>Isuzu</td>\n      <td>Space</td>\n      <td>Lynette</td>\n      <td>Female</td>\n      <td>Female</td>\n      <td>66</td>\n      <td>Grass-roots</td>\n      <td>China</td>\n      <td>Dengteke</td>\n      <td>48.642916</td>\n      <td>124.559756</td>\n      <td>Green</td>\n      <td>False</td>\n      <td>20/10/2009</td>\n      <td>97058.87</td>\n      <td>0.1654</td>\n      <td>21985.35</td>\n      <td>0.21</td>\n      <td>136.6</td>\n      <td>8.5</td>\n    </tr>\n  </tbody>\n</table>\n</div>"
     },
     "metadata": {}
    }
   ],
   "execution_count": null
  },
  {
   "cell_type": "code",
   "metadata": {
    "cell_id": "00003-2b822d42-b7c1-4fd2-bbd9-32c18c71143d",
    "deepnote_app_coordinates": {
     "x": 0,
     "y": 18,
     "w": 12,
     "h": 5
    },
    "deepnote_to_be_reexecuted": false,
    "source_hash": "75b05bae",
    "execution_start": 1650237550904,
    "execution_millis": 159,
    "deepnote_cell_type": "code",
    "deepnote_cell_height": 616.796875,
    "deepnote_output_heights": [
     606.1875
    ]
   },
   "source": "test.head(20)",
   "outputs": [
    {
     "output_type": "execute_result",
     "execution_count": 5,
     "data": {
      "application/vnd.deepnote.dataframe.v3+json": {
       "column_count": 19,
       "row_count": 20,
       "columns": [
        {
         "name": "Make",
         "dtype": "object",
         "stats": {
          "unique_count": 14,
          "nan_count": 0,
          "categories": [
           {
            "name": "Chevrolet",
            "count": 3
           },
           {
            "name": "Dodge",
            "count": 3
           },
           {
            "name": "12 others",
            "count": 14
           }
          ]
         }
        },
        {
         "name": "Model",
         "dtype": "object",
         "stats": {
          "unique_count": 20,
          "nan_count": 0,
          "categories": [
           {
            "name": "G",
            "count": 1
           },
           {
            "name": "Suburban 2500",
            "count": 1
           },
           {
            "name": "18 others",
            "count": 18
           }
          ]
         }
        },
        {
         "name": "Nickname",
         "dtype": "object",
         "stats": {
          "unique_count": 20,
          "nan_count": 0,
          "categories": [
           {
            "name": "Eliot",
            "count": 1
           },
           {
            "name": "Bryna",
            "count": 1
           },
           {
            "name": "18 others",
            "count": 18
           }
          ]
         }
        },
        {
         "name": "Car Gender",
         "dtype": "object",
         "stats": {
          "unique_count": 2,
          "nan_count": 0,
          "categories": [
           {
            "name": "Female",
            "count": 13
           },
           {
            "name": "Male",
            "count": 7
           }
          ]
         }
        },
        {
         "name": "Buyer Age",
         "dtype": "int64",
         "stats": {
          "unique_count": 20,
          "nan_count": 0,
          "min": "21",
          "max": "74",
          "histogram": [
           {
            "bin_start": 21,
            "bin_end": 26.3,
            "count": 3
           },
           {
            "bin_start": 26.3,
            "bin_end": 31.6,
            "count": 1
           },
           {
            "bin_start": 31.6,
            "bin_end": 36.9,
            "count": 2
           },
           {
            "bin_start": 36.9,
            "bin_end": 42.2,
            "count": 1
           },
           {
            "bin_start": 42.2,
            "bin_end": 47.5,
            "count": 1
           },
           {
            "bin_start": 47.5,
            "bin_end": 52.8,
            "count": 4
           },
           {
            "bin_start": 52.8,
            "bin_end": 58.1,
            "count": 2
           },
           {
            "bin_start": 58.1,
            "bin_end": 63.4,
            "count": 1
           },
           {
            "bin_start": 63.4,
            "bin_end": 68.69999999999999,
            "count": 1
           },
           {
            "bin_start": 68.69999999999999,
            "bin_end": 74,
            "count": 4
           }
          ]
         }
        },
        {
         "name": "Buzzword",
         "dtype": "object",
         "stats": {
          "unique_count": 19,
          "nan_count": 0,
          "categories": [
           {
            "name": "Customer-focused",
            "count": 2
           },
           {
            "name": "multi-tasking",
            "count": 1
           },
           {
            "name": "17 others",
            "count": 17
           }
          ]
         }
        },
        {
         "name": "Country",
         "dtype": "object",
         "stats": {
          "unique_count": 12,
          "nan_count": 0,
          "categories": [
           {
            "name": "Indonesia",
            "count": 5
           },
           {
            "name": "China",
            "count": 4
           },
           {
            "name": "10 others",
            "count": 11
           }
          ]
         }
        },
        {
         "name": "City",
         "dtype": "object",
         "stats": {
          "unique_count": 20,
          "nan_count": 0,
          "categories": [
           {
            "name": "Budapest",
            "count": 1
           },
           {
            "name": "Liliba",
            "count": 1
           },
           {
            "name": "18 others",
            "count": 18
           }
          ]
         }
        },
        {
         "name": "Dealer Latitude",
         "dtype": "float64",
         "stats": {
          "unique_count": 20,
          "nan_count": 0,
          "min": "-10.170262",
          "max": "48.1734633",
          "histogram": [
           {
            "bin_start": -10.170262,
            "bin_end": -4.335889469999999,
            "count": 5
           },
           {
            "bin_start": -4.335889469999999,
            "bin_end": 1.4984830600000016,
            "count": 1
           },
           {
            "bin_start": 1.4984830600000016,
            "bin_end": 7.332855590000003,
            "count": 2
           },
           {
            "bin_start": 7.332855590000003,
            "bin_end": 13.167228120000003,
            "count": 0
           },
           {
            "bin_start": 13.167228120000003,
            "bin_end": 19.00160065,
            "count": 1
           },
           {
            "bin_start": 19.00160065,
            "bin_end": 24.835973180000003,
            "count": 0
           },
           {
            "bin_start": 24.835973180000003,
            "bin_end": 30.67034571,
            "count": 2
           },
           {
            "bin_start": 30.67034571,
            "bin_end": 36.50471824,
            "count": 1
           },
           {
            "bin_start": 36.50471824,
            "bin_end": 42.339090770000006,
            "count": 4
           },
           {
            "bin_start": 42.339090770000006,
            "bin_end": 48.1734633,
            "count": 4
           }
          ]
         }
        },
        {
         "name": "Dealer Longitude",
         "dtype": "float64",
         "stats": {
          "unique_count": 20,
          "nan_count": 0,
          "min": "-88.3712796",
          "max": "128.200789",
          "histogram": [
           {
            "bin_start": -88.3712796,
            "bin_end": -66.71407274,
            "count": 3
           },
           {
            "bin_start": -66.71407274,
            "bin_end": -45.056865880000004,
            "count": 0
           },
           {
            "bin_start": -45.056865880000004,
            "bin_end": -23.399659020000016,
            "count": 0
           },
           {
            "bin_start": -23.399659020000016,
            "bin_end": -1.7424521600000134,
            "count": 2
           },
           {
            "bin_start": -1.7424521600000134,
            "bin_end": 19.91475469999999,
            "count": 3
           },
           {
            "bin_start": 19.91475469999999,
            "bin_end": 41.57196155999996,
            "count": 2
           },
           {
            "bin_start": 41.57196155999996,
            "bin_end": 63.229168419999965,
            "count": 0
           },
           {
            "bin_start": 63.229168419999965,
            "bin_end": 84.88637527999997,
            "count": 0
           },
           {
            "bin_start": 84.88637527999997,
            "bin_end": 106.54358213999997,
            "count": 1
           },
           {
            "bin_start": 106.54358213999997,
            "bin_end": 128.200789,
            "count": 9
           }
          ]
         }
        },
        {
         "name": "Color",
         "dtype": "object",
         "stats": {
          "unique_count": 13,
          "nan_count": 0,
          "categories": [
           {
            "name": "Mauv",
            "count": 2
           },
           {
            "name": "Crimson",
            "count": 2
           },
           {
            "name": "11 others",
            "count": 16
           }
          ]
         }
        },
        {
         "name": "New Car",
         "dtype": "object",
         "stats": {
          "unique_count": 2,
          "nan_count": 0,
          "categories": [
           {
            "name": "FALSO",
            "count": 12
           },
           {
            "name": "VERDADERO",
            "count": 8
           }
          ]
         }
        },
        {
         "name": "Purchase Date",
         "dtype": "object",
         "stats": {
          "unique_count": 20,
          "nan_count": 0,
          "categories": [
           {
            "name": "5/11/2015",
            "count": 1
           },
           {
            "name": "2/04/2015",
            "count": 1
           },
           {
            "name": "18 others",
            "count": 18
           }
          ]
         }
        },
        {
         "name": "Sale Price",
         "dtype": "float64",
         "stats": {
          "unique_count": 20,
          "nan_count": 0,
          "min": "10886.07",
          "max": "99826.29",
          "histogram": [
           {
            "bin_start": 10886.07,
            "bin_end": 19780.092,
            "count": 1
           },
           {
            "bin_start": 19780.092,
            "bin_end": 28674.114,
            "count": 1
           },
           {
            "bin_start": 28674.114,
            "bin_end": 37568.136,
            "count": 1
           },
           {
            "bin_start": 37568.136,
            "bin_end": 46462.158,
            "count": 0
           },
           {
            "bin_start": 46462.158,
            "bin_end": 55356.18,
            "count": 2
           },
           {
            "bin_start": 55356.18,
            "bin_end": 64250.202000000005,
            "count": 2
           },
           {
            "bin_start": 64250.202000000005,
            "bin_end": 73144.22400000002,
            "count": 7
           },
           {
            "bin_start": 73144.22400000002,
            "bin_end": 82038.24600000001,
            "count": 1
           },
           {
            "bin_start": 82038.24600000001,
            "bin_end": 90932.26800000001,
            "count": 3
           },
           {
            "bin_start": 90932.26800000001,
            "bin_end": 99826.29,
            "count": 2
           }
          ]
         }
        },
        {
         "name": "Discount",
         "dtype": "float64",
         "stats": {
          "unique_count": 20,
          "nan_count": 0,
          "min": "0.0093",
          "max": "0.679",
          "histogram": [
           {
            "bin_start": 0.0093,
            "bin_end": 0.07627,
            "count": 5
           },
           {
            "bin_start": 0.07627,
            "bin_end": 0.14324,
            "count": 1
           },
           {
            "bin_start": 0.14324,
            "bin_end": 0.21021,
            "count": 4
           },
           {
            "bin_start": 0.21021,
            "bin_end": 0.27718,
            "count": 1
           },
           {
            "bin_start": 0.27718,
            "bin_end": 0.34414999999999996,
            "count": 1
           },
           {
            "bin_start": 0.34414999999999996,
            "bin_end": 0.41112,
            "count": 0
           },
           {
            "bin_start": 0.41112,
            "bin_end": 0.47809,
            "count": 1
           },
           {
            "bin_start": 0.47809,
            "bin_end": 0.54506,
            "count": 3
           },
           {
            "bin_start": 0.54506,
            "bin_end": 0.61203,
            "count": 1
           },
           {
            "bin_start": 0.61203,
            "bin_end": 0.679,
            "count": 3
           }
          ]
         }
        },
        {
         "name": "Resell Price",
         "dtype": "float64",
         "stats": {
          "unique_count": 20,
          "nan_count": 0,
          "min": "2185.58",
          "max": "47377.29",
          "histogram": [
           {
            "bin_start": 2185.58,
            "bin_end": 6704.751,
            "count": 4
           },
           {
            "bin_start": 6704.751,
            "bin_end": 11223.922,
            "count": 1
           },
           {
            "bin_start": 11223.922,
            "bin_end": 15743.093,
            "count": 3
           },
           {
            "bin_start": 15743.093,
            "bin_end": 20262.264000000003,
            "count": 4
           },
           {
            "bin_start": 20262.264000000003,
            "bin_end": 24781.435000000005,
            "count": 0
           },
           {
            "bin_start": 24781.435000000005,
            "bin_end": 29300.606,
            "count": 2
           },
           {
            "bin_start": 29300.606,
            "bin_end": 33819.777,
            "count": 1
           },
           {
            "bin_start": 33819.777,
            "bin_end": 38338.948000000004,
            "count": 1
           },
           {
            "bin_start": 38338.948000000004,
            "bin_end": 42858.119000000006,
            "count": 1
           },
           {
            "bin_start": 42858.119000000006,
            "bin_end": 47377.29,
            "count": 3
           }
          ]
         }
        },
        {
         "name": "5-yr Depreciation",
         "dtype": "float64",
         "stats": {
          "unique_count": 13,
          "nan_count": 0,
          "min": "0.01",
          "max": "0.22",
          "histogram": [
           {
            "bin_start": 0.01,
            "bin_end": 0.031,
            "count": 4
           },
           {
            "bin_start": 0.031,
            "bin_end": 0.052,
            "count": 0
           },
           {
            "bin_start": 0.052,
            "bin_end": 0.073,
            "count": 2
           },
           {
            "bin_start": 0.073,
            "bin_end": 0.09399999999999999,
            "count": 0
           },
           {
            "bin_start": 0.09399999999999999,
            "bin_end": 0.11499999999999998,
            "count": 1
           },
           {
            "bin_start": 0.11499999999999998,
            "bin_end": 0.136,
            "count": 2
           },
           {
            "bin_start": 0.136,
            "bin_end": 0.157,
            "count": 2
           },
           {
            "bin_start": 0.157,
            "bin_end": 0.178,
            "count": 5
           },
           {
            "bin_start": 0.178,
            "bin_end": 0.19899999999999998,
            "count": 0
           },
           {
            "bin_start": 0.19899999999999998,
            "bin_end": 0.22,
            "count": 4
           }
          ]
         }
        },
        {
         "name": "Top Speed",
         "dtype": "float64",
         "stats": {
          "unique_count": 20,
          "nan_count": 0,
          "min": "133.1",
          "max": "249.8",
          "histogram": [
           {
            "bin_start": 133.1,
            "bin_end": 144.76999999999998,
            "count": 4
           },
           {
            "bin_start": 144.76999999999998,
            "bin_end": 156.44,
            "count": 2
           },
           {
            "bin_start": 156.44,
            "bin_end": 168.11,
            "count": 1
           },
           {
            "bin_start": 168.11,
            "bin_end": 179.78,
            "count": 4
           },
           {
            "bin_start": 179.78,
            "bin_end": 191.45,
            "count": 2
           },
           {
            "bin_start": 191.45,
            "bin_end": 203.12,
            "count": 2
           },
           {
            "bin_start": 203.12,
            "bin_end": 214.79000000000002,
            "count": 1
           },
           {
            "bin_start": 214.79000000000002,
            "bin_end": 226.46,
            "count": 3
           },
           {
            "bin_start": 226.46,
            "bin_end": 238.13,
            "count": 0
           },
           {
            "bin_start": 238.13,
            "bin_end": 249.8,
            "count": 1
           }
          ]
         }
        },
        {
         "name": "0-60 Time",
         "dtype": "float64",
         "stats": {
          "unique_count": 18,
          "nan_count": 0,
          "min": "2.5",
          "max": "13.5",
          "histogram": [
           {
            "bin_start": 2.5,
            "bin_end": 3.6,
            "count": 1
           },
           {
            "bin_start": 3.6,
            "bin_end": 4.7,
            "count": 2
           },
           {
            "bin_start": 4.7,
            "bin_end": 5.800000000000001,
            "count": 2
           },
           {
            "bin_start": 5.800000000000001,
            "bin_end": 6.9,
            "count": 2
           },
           {
            "bin_start": 6.9,
            "bin_end": 8,
            "count": 1
           },
           {
            "bin_start": 8,
            "bin_end": 9.100000000000001,
            "count": 2
           },
           {
            "bin_start": 9.100000000000001,
            "bin_end": 10.200000000000001,
            "count": 4
           },
           {
            "bin_start": 10.200000000000001,
            "bin_end": 11.3,
            "count": 5
           },
           {
            "bin_start": 11.3,
            "bin_end": 12.4,
            "count": 0
           },
           {
            "bin_start": 12.4,
            "bin_end": 13.5,
            "count": 1
           }
          ]
         }
        },
        {
         "name": "_deepnote_index_column",
         "dtype": "int64"
        }
       ],
       "rows": [
        {
         "Make": "Infiniti",
         "Model": "G",
         "Nickname": "Eliot",
         "Car Gender": "Male",
         "Buyer Age": 51,
         "Buzzword": "multi-tasking",
         "Country": "Hungary",
         "City": "Budapest",
         "Dealer Latitude": 47.3879065,
         "Dealer Longitude": 19.1150392,
         "Color": "Mauv",
         "New Car": "VERDADERO",
         "Purchase Date": "5/11/2015",
         "Sale Price": 70924.82,
         "Discount": 0.679,
         "Resell Price": 13065.96,
         "5-yr Depreciation": 0.12,
         "Top Speed": 187.7,
         "0-60 Time": 9.8,
         "_deepnote_index_column": 0
        },
        {
         "Make": "Chevrolet",
         "Model": "Suburban 2500",
         "Nickname": "Bryna",
         "Car Gender": "Male",
         "Buyer Age": 59,
         "Buzzword": "framework",
         "Country": "Indonesia",
         "City": "Liliba",
         "Dealer Latitude": -10.170262,
         "Dealer Longitude": 123.6427533,
         "Color": "Crimson",
         "New Car": "FALSO",
         "Purchase Date": "2/04/2015",
         "Sale Price": 90407.26,
         "Discount": 0.1462,
         "Resell Price": 40998.62,
         "5-yr Depreciation": 0.16,
         "Top Speed": 197.9,
         "0-60 Time": 2.5,
         "_deepnote_index_column": 1
        },
        {
         "Make": "Mitsubishi",
         "Model": "Precis",
         "Nickname": "Mack",
         "Car Gender": "Female",
         "Buyer Age": 32,
         "Buzzword": "homogeneous",
         "Country": "China",
         "City": "Shuangxing",
         "Dealer Latitude": 41.7730238,
         "Dealer Longitude": 123.3561121,
         "Color": "Fuscia",
         "New Car": "FALSO",
         "Purchase Date": "5/06/2016",
         "Sale Price": 51744.01,
         "Discount": 0.1785,
         "Resell Price": 17450.08,
         "5-yr Depreciation": 0.22,
         "Top Speed": 152.3,
         "0-60 Time": 10.9,
         "_deepnote_index_column": 2
        },
        {
         "Make": "Mercedes-Benz",
         "Model": "E-Class",
         "Nickname": "Elora",
         "Car Gender": "Female",
         "Buyer Age": 43,
         "Buzzword": "attitude-oriented",
         "Country": "France",
         "City": "Grenoble",
         "Dealer Latitude": 45.1934857,
         "Dealer Longitude": 5.7218985,
         "Color": "Violet",
         "New Car": "FALSO",
         "Purchase Date": "29/05/2016",
         "Sale Price": 60654.6,
         "Discount": 0.2899,
         "Resell Price": 43694.28,
         "5-yr Depreciation": 0.06,
         "Top Speed": 179,
         "0-60 Time": 5.6,
         "_deepnote_index_column": 3
        },
        {
         "Make": "Plymouth",
         "Model": "Breeze",
         "Nickname": "Sigvard",
         "Car Gender": "Male",
         "Buyer Age": 34,
         "Buzzword": "Inverse",
         "Country": "Ukraine",
         "City": "Khust",
         "Dealer Latitude": 48.1734633,
         "Dealer Longitude": 23.2972476,
         "Color": "Indigo",
         "New Car": "FALSO",
         "Purchase Date": "10/03/2009",
         "Sale Price": 68702.62,
         "Discount": 0.0721,
         "Resell Price": 19594.64,
         "5-yr Depreciation": 0.14,
         "Top Speed": 225,
         "0-60 Time": 10.3,
         "_deepnote_index_column": 4
        },
        {
         "Make": "Chevrolet",
         "Model": "Avalanche",
         "Nickname": "Rutherford",
         "Car Gender": "Female",
         "Buyer Age": 49,
         "Buzzword": "definition",
         "Country": "China",
         "City": "Changbai",
         "Dealer Latitude": 41.420018,
         "Dealer Longitude": 128.200789,
         "Color": "Puce",
         "New Car": "FALSO",
         "Purchase Date": "21/08/2009",
         "Sale Price": 71175.68,
         "Discount": 0.2651,
         "Resell Price": 2185.58,
         "5-yr Depreciation": 0.22,
         "Top Speed": 249.8,
         "0-60 Time": 10.1,
         "_deepnote_index_column": 5
        },
        {
         "Make": "Dodge",
         "Model": "Grand Caravan",
         "Nickname": "Gaylor",
         "Car Gender": "Female",
         "Buyer Age": 22,
         "Buzzword": "hardware",
         "Country": "Serbia",
         "City": "Ruma",
         "Dealer Latitude": 45.0075322,
         "Dealer Longitude": 19.8227166,
         "Color": "Orange",
         "New Car": "FALSO",
         "Purchase Date": "25/08/2003",
         "Sale Price": 85994.34,
         "Discount": 0.4909,
         "Resell Price": 12847.23,
         "5-yr Depreciation": 0.22,
         "Top Speed": 141.5,
         "0-60 Time": 10.3,
         "_deepnote_index_column": 6
        },
        {
         "Make": "Toyota",
         "Model": "Celica",
         "Nickname": "Emilie",
         "Car Gender": "Male",
         "Buyer Age": 27,
         "Buzzword": "Realigned",
         "Country": "Portugal",
         "City": "Castedo",
         "Dealer Latitude": 41.2270631,
         "Dealer Longitude": -7.4666688,
         "Color": "Teal",
         "New Car": "FALSO",
         "Purchase Date": "26/02/2006",
         "Sale Price": 75295.6,
         "Discount": 0.611,
         "Resell Price": 46941.06,
         "5-yr Depreciation": 0.01,
         "Top Speed": 225.3,
         "0-60 Time": 8.2,
         "_deepnote_index_column": 7
        },
        {
         "Make": "Spyker",
         "Model": "C8 Double 12 S",
         "Nickname": "Datha",
         "Car Gender": "Female",
         "Buyer Age": 69,
         "Buzzword": "Managed",
         "Country": "Colombia",
         "City": "San Agustín",
         "Dealer Latitude": 1.879826,
         "Dealer Longitude": -76.270749,
         "Color": "Turquoise",
         "New Car": "VERDADERO",
         "Purchase Date": "15/09/2009",
         "Sale Price": 83554.58,
         "Discount": 0.1577,
         "Resell Price": 25312.41,
         "5-yr Depreciation": 0.11,
         "Top Speed": 150.1,
         "0-60 Time": 6.1,
         "_deepnote_index_column": 8
        },
        {
         "Make": "GMC",
         "Model": "Yukon XL 1500",
         "Nickname": "Chickie",
         "Car Gender": "Male",
         "Buyer Age": 70,
         "Buzzword": "internet solution",
         "Country": "Indonesia",
         "City": "Waitenepang",
         "Dealer Latitude": -8.2717886,
         "Dealer Longitude": 123.1119371,
         "Color": "Khaki",
         "New Car": "VERDADERO",
         "Purchase Date": "13/06/2018",
         "Sale Price": 62588.26,
         "Discount": 0.5413,
         "Resell Price": 37943.73,
         "5-yr Depreciation": 0.16,
         "Top Speed": 133.1,
         "0-60 Time": 11.1,
         "_deepnote_index_column": 9
        }
       ]
      },
      "text/plain": "             Make           Model    Nickname Car Gender  Buyer Age  \\\n0        Infiniti               G       Eliot       Male         51   \n1       Chevrolet   Suburban 2500       Bryna       Male         59   \n2      Mitsubishi          Precis        Mack     Female         32   \n3   Mercedes-Benz         E-Class       Elora     Female         43   \n4        Plymouth          Breeze     Sigvard       Male         34   \n5       Chevrolet       Avalanche  Rutherford     Female         49   \n6           Dodge   Grand Caravan      Gaylor     Female         22   \n7          Toyota          Celica      Emilie       Male         27   \n8          Spyker  C8 Double 12 S       Datha     Female         69   \n9             GMC   Yukon XL 1500     Chickie       Male         70   \n10     Mitsubishi          Mirage        Dion     Female         68   \n11          Dodge        Ram 3500      Marsha     Female         21   \n12         Suzuki        Sidekick        Edee       Male         53   \n13      Chevrolet         Caprice        Vito     Female         24   \n14          Mazda            CX-9      Georgy     Female         71   \n15          Lexus              LX       Tarra       Male         50   \n16           Ford         Country      Ardath     Female         58   \n17          Dodge         Stratus      Maisey     Female         74   \n18       Infiniti               Q       Brett     Female         37   \n19         Subaru           Leone    Basilius     Female         48   \n\n              Buzzword                Country           City  Dealer Latitude  \\\n0        multi-tasking                Hungary       Budapest        47.387906   \n1            framework              Indonesia         Liliba       -10.170262   \n2          homogeneous                  China     Shuangxing        41.773024   \n3    attitude-oriented                 France       Grenoble        45.193486   \n4              Inverse                Ukraine          Khust        48.173463   \n5           definition                  China       Changbai        41.420018   \n6             hardware                 Serbia           Ruma        45.007532   \n7            Realigned               Portugal        Castedo        41.227063   \n8              Managed               Colombia    San Agustín         1.879826   \n9    internet solution              Indonesia    Waitenepang        -8.271789   \n10  Reverse-engineered               Portugal     Portalegre        39.286842   \n11  Fully-configurable              Indonesia    Urungpigang        -8.603476   \n12             radical  Palestinian Territory  Dayr as Sūdān        32.032130   \n13           Polarised                 Belize      Placencia        16.521160   \n14    Customer-focused              Indonesia       Kalahang        -6.307730   \n15             Diverse                  China       Gongqiao        25.242158   \n16    Customer-focused               Malaysia     Lahad Datu         5.028187   \n17          capability              Indonesia        Langnga        -3.850676   \n18            Reactive                   Peru         Yungay        -9.138417   \n19         even-keeled                  China       Jiujiang        29.705077   \n\n    Dealer Longitude       Color    New Car Purchase Date  Sale Price  \\\n0          19.115039        Mauv  VERDADERO     5/11/2015    70924.82   \n1         123.642753     Crimson      FALSO     2/04/2015    90407.26   \n2         123.356112      Fuscia      FALSO     5/06/2016    51744.01   \n3           5.721898      Violet      FALSO    29/05/2016    60654.60   \n4          23.297248      Indigo      FALSO    10/03/2009    68702.62   \n5         128.200789        Puce      FALSO    21/08/2009    71175.68   \n6          19.822717      Orange      FALSO    25/08/2003    85994.34   \n7          -7.466669        Teal      FALSO    26/02/2006    75295.60   \n8         -76.270749   Turquoise  VERDADERO    15/09/2009    83554.58   \n9         123.111937       Khaki  VERDADERO    13/06/2018    62588.26   \n10         -7.422906        Blue  VERDADERO    19/05/2012    22134.39   \n11        122.187327        Blue      FALSO    19/11/2011    49281.63   \n12         35.148440      Yellow  VERDADERO     7/07/2002    69709.90   \n13        -88.371280       Khaki  VERDADERO    19/12/2018    99826.29   \n14        106.183122      Orange      FALSO     1/12/2015    65530.34   \n15        117.326355  Aquamarine  VERDADERO     1/05/2002    35786.13   \n16        118.315716      Indigo      FALSO    22/06/2005    10886.07   \n17        119.528171  Aquamarine  VERDADERO    28/08/2015    91313.52   \n18        -77.742347        Mauv      FALSO     5/05/2012    70500.78   \n19        116.001930     Crimson      FALSO    31/12/2016    71353.09   \n\n    Discount  Resell Price  5-yr Depreciation  Top Speed  0-60 Time  \n0     0.6790      13065.96               0.12      187.7        9.8  \n1     0.1462      40998.62               0.16      197.9        2.5  \n2     0.1785      17450.08               0.22      152.3       10.9  \n3     0.2899      43694.28               0.06      179.0        5.6  \n4     0.0721      19594.64               0.14      225.0       10.3  \n5     0.2651       2185.58               0.22      249.8       10.1  \n6     0.4909      12847.23               0.22      141.5       10.3  \n7     0.6110      46941.06               0.01      225.3        8.2  \n8     0.1577      25312.41               0.11      150.1        6.1  \n9     0.5413      37943.73               0.16      133.1       11.1  \n10    0.0133      17652.88               0.02      135.0        5.2  \n11    0.1491      27870.26               0.16      208.2       11.0  \n12    0.4227       3891.35               0.17      178.3        7.9  \n13    0.1420      20195.92               0.17      172.0        9.1  \n14    0.6626       5422.34               0.20      173.6        6.0  \n15    0.5038      47377.29               0.13      158.0       10.0  \n16    0.0224      31442.01               0.02      138.5        3.8  \n17    0.0093       5381.50               0.03      223.0       13.5  \n18    0.0107      14152.24               0.15      188.3        3.9  \n19    0.6575       8845.61               0.06      192.2       10.0  ",
      "text/html": "<div>\n<style scoped>\n    .dataframe tbody tr th:only-of-type {\n        vertical-align: middle;\n    }\n\n    .dataframe tbody tr th {\n        vertical-align: top;\n    }\n\n    .dataframe thead th {\n        text-align: right;\n    }\n</style>\n<table border=\"1\" class=\"dataframe\">\n  <thead>\n    <tr style=\"text-align: right;\">\n      <th></th>\n      <th>Make</th>\n      <th>Model</th>\n      <th>Nickname</th>\n      <th>Car Gender</th>\n      <th>Buyer Age</th>\n      <th>Buzzword</th>\n      <th>Country</th>\n      <th>City</th>\n      <th>Dealer Latitude</th>\n      <th>Dealer Longitude</th>\n      <th>Color</th>\n      <th>New Car</th>\n      <th>Purchase Date</th>\n      <th>Sale Price</th>\n      <th>Discount</th>\n      <th>Resell Price</th>\n      <th>5-yr Depreciation</th>\n      <th>Top Speed</th>\n      <th>0-60 Time</th>\n    </tr>\n  </thead>\n  <tbody>\n    <tr>\n      <th>0</th>\n      <td>Infiniti</td>\n      <td>G</td>\n      <td>Eliot</td>\n      <td>Male</td>\n      <td>51</td>\n      <td>multi-tasking</td>\n      <td>Hungary</td>\n      <td>Budapest</td>\n      <td>47.387906</td>\n      <td>19.115039</td>\n      <td>Mauv</td>\n      <td>VERDADERO</td>\n      <td>5/11/2015</td>\n      <td>70924.82</td>\n      <td>0.6790</td>\n      <td>13065.96</td>\n      <td>0.12</td>\n      <td>187.7</td>\n      <td>9.8</td>\n    </tr>\n    <tr>\n      <th>1</th>\n      <td>Chevrolet</td>\n      <td>Suburban 2500</td>\n      <td>Bryna</td>\n      <td>Male</td>\n      <td>59</td>\n      <td>framework</td>\n      <td>Indonesia</td>\n      <td>Liliba</td>\n      <td>-10.170262</td>\n      <td>123.642753</td>\n      <td>Crimson</td>\n      <td>FALSO</td>\n      <td>2/04/2015</td>\n      <td>90407.26</td>\n      <td>0.1462</td>\n      <td>40998.62</td>\n      <td>0.16</td>\n      <td>197.9</td>\n      <td>2.5</td>\n    </tr>\n    <tr>\n      <th>2</th>\n      <td>Mitsubishi</td>\n      <td>Precis</td>\n      <td>Mack</td>\n      <td>Female</td>\n      <td>32</td>\n      <td>homogeneous</td>\n      <td>China</td>\n      <td>Shuangxing</td>\n      <td>41.773024</td>\n      <td>123.356112</td>\n      <td>Fuscia</td>\n      <td>FALSO</td>\n      <td>5/06/2016</td>\n      <td>51744.01</td>\n      <td>0.1785</td>\n      <td>17450.08</td>\n      <td>0.22</td>\n      <td>152.3</td>\n      <td>10.9</td>\n    </tr>\n    <tr>\n      <th>3</th>\n      <td>Mercedes-Benz</td>\n      <td>E-Class</td>\n      <td>Elora</td>\n      <td>Female</td>\n      <td>43</td>\n      <td>attitude-oriented</td>\n      <td>France</td>\n      <td>Grenoble</td>\n      <td>45.193486</td>\n      <td>5.721898</td>\n      <td>Violet</td>\n      <td>FALSO</td>\n      <td>29/05/2016</td>\n      <td>60654.60</td>\n      <td>0.2899</td>\n      <td>43694.28</td>\n      <td>0.06</td>\n      <td>179.0</td>\n      <td>5.6</td>\n    </tr>\n    <tr>\n      <th>4</th>\n      <td>Plymouth</td>\n      <td>Breeze</td>\n      <td>Sigvard</td>\n      <td>Male</td>\n      <td>34</td>\n      <td>Inverse</td>\n      <td>Ukraine</td>\n      <td>Khust</td>\n      <td>48.173463</td>\n      <td>23.297248</td>\n      <td>Indigo</td>\n      <td>FALSO</td>\n      <td>10/03/2009</td>\n      <td>68702.62</td>\n      <td>0.0721</td>\n      <td>19594.64</td>\n      <td>0.14</td>\n      <td>225.0</td>\n      <td>10.3</td>\n    </tr>\n    <tr>\n      <th>5</th>\n      <td>Chevrolet</td>\n      <td>Avalanche</td>\n      <td>Rutherford</td>\n      <td>Female</td>\n      <td>49</td>\n      <td>definition</td>\n      <td>China</td>\n      <td>Changbai</td>\n      <td>41.420018</td>\n      <td>128.200789</td>\n      <td>Puce</td>\n      <td>FALSO</td>\n      <td>21/08/2009</td>\n      <td>71175.68</td>\n      <td>0.2651</td>\n      <td>2185.58</td>\n      <td>0.22</td>\n      <td>249.8</td>\n      <td>10.1</td>\n    </tr>\n    <tr>\n      <th>6</th>\n      <td>Dodge</td>\n      <td>Grand Caravan</td>\n      <td>Gaylor</td>\n      <td>Female</td>\n      <td>22</td>\n      <td>hardware</td>\n      <td>Serbia</td>\n      <td>Ruma</td>\n      <td>45.007532</td>\n      <td>19.822717</td>\n      <td>Orange</td>\n      <td>FALSO</td>\n      <td>25/08/2003</td>\n      <td>85994.34</td>\n      <td>0.4909</td>\n      <td>12847.23</td>\n      <td>0.22</td>\n      <td>141.5</td>\n      <td>10.3</td>\n    </tr>\n    <tr>\n      <th>7</th>\n      <td>Toyota</td>\n      <td>Celica</td>\n      <td>Emilie</td>\n      <td>Male</td>\n      <td>27</td>\n      <td>Realigned</td>\n      <td>Portugal</td>\n      <td>Castedo</td>\n      <td>41.227063</td>\n      <td>-7.466669</td>\n      <td>Teal</td>\n      <td>FALSO</td>\n      <td>26/02/2006</td>\n      <td>75295.60</td>\n      <td>0.6110</td>\n      <td>46941.06</td>\n      <td>0.01</td>\n      <td>225.3</td>\n      <td>8.2</td>\n    </tr>\n    <tr>\n      <th>8</th>\n      <td>Spyker</td>\n      <td>C8 Double 12 S</td>\n      <td>Datha</td>\n      <td>Female</td>\n      <td>69</td>\n      <td>Managed</td>\n      <td>Colombia</td>\n      <td>San Agustín</td>\n      <td>1.879826</td>\n      <td>-76.270749</td>\n      <td>Turquoise</td>\n      <td>VERDADERO</td>\n      <td>15/09/2009</td>\n      <td>83554.58</td>\n      <td>0.1577</td>\n      <td>25312.41</td>\n      <td>0.11</td>\n      <td>150.1</td>\n      <td>6.1</td>\n    </tr>\n    <tr>\n      <th>9</th>\n      <td>GMC</td>\n      <td>Yukon XL 1500</td>\n      <td>Chickie</td>\n      <td>Male</td>\n      <td>70</td>\n      <td>internet solution</td>\n      <td>Indonesia</td>\n      <td>Waitenepang</td>\n      <td>-8.271789</td>\n      <td>123.111937</td>\n      <td>Khaki</td>\n      <td>VERDADERO</td>\n      <td>13/06/2018</td>\n      <td>62588.26</td>\n      <td>0.5413</td>\n      <td>37943.73</td>\n      <td>0.16</td>\n      <td>133.1</td>\n      <td>11.1</td>\n    </tr>\n    <tr>\n      <th>10</th>\n      <td>Mitsubishi</td>\n      <td>Mirage</td>\n      <td>Dion</td>\n      <td>Female</td>\n      <td>68</td>\n      <td>Reverse-engineered</td>\n      <td>Portugal</td>\n      <td>Portalegre</td>\n      <td>39.286842</td>\n      <td>-7.422906</td>\n      <td>Blue</td>\n      <td>VERDADERO</td>\n      <td>19/05/2012</td>\n      <td>22134.39</td>\n      <td>0.0133</td>\n      <td>17652.88</td>\n      <td>0.02</td>\n      <td>135.0</td>\n      <td>5.2</td>\n    </tr>\n    <tr>\n      <th>11</th>\n      <td>Dodge</td>\n      <td>Ram 3500</td>\n      <td>Marsha</td>\n      <td>Female</td>\n      <td>21</td>\n      <td>Fully-configurable</td>\n      <td>Indonesia</td>\n      <td>Urungpigang</td>\n      <td>-8.603476</td>\n      <td>122.187327</td>\n      <td>Blue</td>\n      <td>FALSO</td>\n      <td>19/11/2011</td>\n      <td>49281.63</td>\n      <td>0.1491</td>\n      <td>27870.26</td>\n      <td>0.16</td>\n      <td>208.2</td>\n      <td>11.0</td>\n    </tr>\n    <tr>\n      <th>12</th>\n      <td>Suzuki</td>\n      <td>Sidekick</td>\n      <td>Edee</td>\n      <td>Male</td>\n      <td>53</td>\n      <td>radical</td>\n      <td>Palestinian Territory</td>\n      <td>Dayr as Sūdān</td>\n      <td>32.032130</td>\n      <td>35.148440</td>\n      <td>Yellow</td>\n      <td>VERDADERO</td>\n      <td>7/07/2002</td>\n      <td>69709.90</td>\n      <td>0.4227</td>\n      <td>3891.35</td>\n      <td>0.17</td>\n      <td>178.3</td>\n      <td>7.9</td>\n    </tr>\n    <tr>\n      <th>13</th>\n      <td>Chevrolet</td>\n      <td>Caprice</td>\n      <td>Vito</td>\n      <td>Female</td>\n      <td>24</td>\n      <td>Polarised</td>\n      <td>Belize</td>\n      <td>Placencia</td>\n      <td>16.521160</td>\n      <td>-88.371280</td>\n      <td>Khaki</td>\n      <td>VERDADERO</td>\n      <td>19/12/2018</td>\n      <td>99826.29</td>\n      <td>0.1420</td>\n      <td>20195.92</td>\n      <td>0.17</td>\n      <td>172.0</td>\n      <td>9.1</td>\n    </tr>\n    <tr>\n      <th>14</th>\n      <td>Mazda</td>\n      <td>CX-9</td>\n      <td>Georgy</td>\n      <td>Female</td>\n      <td>71</td>\n      <td>Customer-focused</td>\n      <td>Indonesia</td>\n      <td>Kalahang</td>\n      <td>-6.307730</td>\n      <td>106.183122</td>\n      <td>Orange</td>\n      <td>FALSO</td>\n      <td>1/12/2015</td>\n      <td>65530.34</td>\n      <td>0.6626</td>\n      <td>5422.34</td>\n      <td>0.20</td>\n      <td>173.6</td>\n      <td>6.0</td>\n    </tr>\n    <tr>\n      <th>15</th>\n      <td>Lexus</td>\n      <td>LX</td>\n      <td>Tarra</td>\n      <td>Male</td>\n      <td>50</td>\n      <td>Diverse</td>\n      <td>China</td>\n      <td>Gongqiao</td>\n      <td>25.242158</td>\n      <td>117.326355</td>\n      <td>Aquamarine</td>\n      <td>VERDADERO</td>\n      <td>1/05/2002</td>\n      <td>35786.13</td>\n      <td>0.5038</td>\n      <td>47377.29</td>\n      <td>0.13</td>\n      <td>158.0</td>\n      <td>10.0</td>\n    </tr>\n    <tr>\n      <th>16</th>\n      <td>Ford</td>\n      <td>Country</td>\n      <td>Ardath</td>\n      <td>Female</td>\n      <td>58</td>\n      <td>Customer-focused</td>\n      <td>Malaysia</td>\n      <td>Lahad Datu</td>\n      <td>5.028187</td>\n      <td>118.315716</td>\n      <td>Indigo</td>\n      <td>FALSO</td>\n      <td>22/06/2005</td>\n      <td>10886.07</td>\n      <td>0.0224</td>\n      <td>31442.01</td>\n      <td>0.02</td>\n      <td>138.5</td>\n      <td>3.8</td>\n    </tr>\n    <tr>\n      <th>17</th>\n      <td>Dodge</td>\n      <td>Stratus</td>\n      <td>Maisey</td>\n      <td>Female</td>\n      <td>74</td>\n      <td>capability</td>\n      <td>Indonesia</td>\n      <td>Langnga</td>\n      <td>-3.850676</td>\n      <td>119.528171</td>\n      <td>Aquamarine</td>\n      <td>VERDADERO</td>\n      <td>28/08/2015</td>\n      <td>91313.52</td>\n      <td>0.0093</td>\n      <td>5381.50</td>\n      <td>0.03</td>\n      <td>223.0</td>\n      <td>13.5</td>\n    </tr>\n    <tr>\n      <th>18</th>\n      <td>Infiniti</td>\n      <td>Q</td>\n      <td>Brett</td>\n      <td>Female</td>\n      <td>37</td>\n      <td>Reactive</td>\n      <td>Peru</td>\n      <td>Yungay</td>\n      <td>-9.138417</td>\n      <td>-77.742347</td>\n      <td>Mauv</td>\n      <td>FALSO</td>\n      <td>5/05/2012</td>\n      <td>70500.78</td>\n      <td>0.0107</td>\n      <td>14152.24</td>\n      <td>0.15</td>\n      <td>188.3</td>\n      <td>3.9</td>\n    </tr>\n    <tr>\n      <th>19</th>\n      <td>Subaru</td>\n      <td>Leone</td>\n      <td>Basilius</td>\n      <td>Female</td>\n      <td>48</td>\n      <td>even-keeled</td>\n      <td>China</td>\n      <td>Jiujiang</td>\n      <td>29.705077</td>\n      <td>116.001930</td>\n      <td>Crimson</td>\n      <td>FALSO</td>\n      <td>31/12/2016</td>\n      <td>71353.09</td>\n      <td>0.6575</td>\n      <td>8845.61</td>\n      <td>0.06</td>\n      <td>192.2</td>\n      <td>10.0</td>\n    </tr>\n  </tbody>\n</table>\n</div>"
     },
     "metadata": {}
    }
   ],
   "execution_count": null
  },
  {
   "cell_type": "markdown",
   "source": "## 2. Explorando datos",
   "metadata": {
    "cell_id": "00004-4906016e-7c56-4615-b448-08bf58729bff",
    "deepnote_app_coordinates": {
     "x": 0,
     "y": 24,
     "w": 12,
     "h": 5
    },
    "deepnote_cell_type": "markdown",
    "deepnote_cell_height": 70
   }
  },
  {
   "cell_type": "code",
   "metadata": {
    "cell_id": "00005-efabbb74-db8c-447f-bd7d-6ed3810ab82d",
    "deepnote_app_coordinates": {
     "x": 0,
     "y": 30,
     "w": 12,
     "h": 5
    },
    "deepnote_to_be_reexecuted": false,
    "source_hash": "abf488f6",
    "execution_start": 1650237551061,
    "execution_millis": 35,
    "deepnote_cell_type": "code",
    "deepnote_cell_height": 195,
    "deepnote_output_heights": [
     98
    ]
   },
   "source": "sales.columns",
   "outputs": [
    {
     "output_type": "execute_result",
     "execution_count": 6,
     "data": {
      "text/plain": "Index(['Make', 'Model', 'Nickname', 'Car Gender', 'Buyer Gender', 'Buyer Age',\n       'Buzzword', 'Country', 'City', 'Dealer Latitude', 'Dealer Longitude',\n       'Color', 'New Car', 'Purchase Date', 'Sale Price', 'Discount',\n       'Resell Price', '5-yr Depreciation', 'Top Speed', '0-60 Time'],\n      dtype='object')"
     },
     "metadata": {}
    }
   ],
   "execution_count": null
  },
  {
   "cell_type": "code",
   "metadata": {
    "cell_id": "00006-0896ecbe-2b6b-4394-9780-fd16de35b39c",
    "deepnote_app_coordinates": {
     "x": 0,
     "y": 36,
     "w": 12,
     "h": 5
    },
    "deepnote_to_be_reexecuted": false,
    "source_hash": "848ef34e",
    "execution_start": 1650237551095,
    "execution_millis": 45,
    "deepnote_cell_type": "code",
    "deepnote_cell_height": 118.1875,
    "deepnote_output_heights": [
     21.1875
    ]
   },
   "source": "sales.shape",
   "outputs": [
    {
     "output_type": "execute_result",
     "execution_count": 7,
     "data": {
      "text/plain": "(4998, 20)"
     },
     "metadata": {}
    }
   ],
   "execution_count": null
  },
  {
   "cell_type": "code",
   "metadata": {
    "cell_id": "00007-3e330fc1-95d4-4371-bea6-4f7eaeb585c9",
    "deepnote_app_coordinates": {
     "x": 0,
     "y": 42,
     "w": 12,
     "h": 5
    },
    "deepnote_to_be_reexecuted": false,
    "source_hash": "ab25acfb",
    "execution_start": 1650237551140,
    "execution_millis": 35,
    "deepnote_cell_type": "code",
    "deepnote_cell_height": 632
   },
   "source": "sales.info()",
   "outputs": [
    {
     "name": "stdout",
     "text": "<class 'pandas.core.frame.DataFrame'>\nRangeIndex: 4998 entries, 0 to 4997\nData columns (total 20 columns):\n #   Column             Non-Null Count  Dtype  \n---  ------             --------------  -----  \n 0   Make               4998 non-null   object \n 1   Model              4998 non-null   object \n 2   Nickname           4998 non-null   object \n 3   Car Gender         4998 non-null   object \n 4   Buyer Gender       4998 non-null   object \n 5   Buyer Age          4998 non-null   int64  \n 6   Buzzword           4998 non-null   object \n 7   Country            4998 non-null   object \n 8   City               4998 non-null   object \n 9   Dealer Latitude    4998 non-null   float64\n 10  Dealer Longitude   4998 non-null   float64\n 11  Color              4998 non-null   object \n 12  New Car            4998 non-null   bool   \n 13  Purchase Date      4998 non-null   object \n 14  Sale Price         4998 non-null   float64\n 15  Discount           4998 non-null   float64\n 16  Resell Price       4998 non-null   float64\n 17  5-yr Depreciation  4998 non-null   float64\n 18  Top Speed          4998 non-null   float64\n 19  0-60 Time          4998 non-null   float64\ndtypes: bool(1), float64(8), int64(1), object(10)\nmemory usage: 746.9+ KB\n",
     "output_type": "stream"
    }
   ],
   "execution_count": null
  },
  {
   "cell_type": "code",
   "metadata": {
    "cell_id": "00008-9b86e720-a8bb-4c53-8afc-43b39e1c21b3",
    "deepnote_app_coordinates": {
     "x": 0,
     "y": 48,
     "w": 12,
     "h": 5
    },
    "deepnote_to_be_reexecuted": false,
    "source_hash": "4655eb5f",
    "execution_start": 1650237551182,
    "execution_millis": 108,
    "deepnote_cell_type": "code",
    "deepnote_cell_height": 552.796875,
    "deepnote_output_heights": [
     264
    ]
   },
   "source": "# Datos sobre las variables númericas\nsales.describe()",
   "outputs": [
    {
     "output_type": "execute_result",
     "execution_count": 9,
     "data": {
      "application/vnd.deepnote.dataframe.v3+json": {
       "column_count": 9,
       "row_count": 8,
       "columns": [
        {
         "name": "Buyer Age",
         "dtype": "float64",
         "stats": {
          "unique_count": 8,
          "nan_count": 0,
          "min": "16.035387329738548",
          "max": "4998.0",
          "histogram": [
           {
            "bin_start": 16.035387329738548,
            "bin_end": 514.2318485967647,
            "count": 7
           },
           {
            "bin_start": 514.2318485967647,
            "bin_end": 1012.4283098637909,
            "count": 0
           },
           {
            "bin_start": 1012.4283098637909,
            "bin_end": 1510.624771130817,
            "count": 0
           },
           {
            "bin_start": 1510.624771130817,
            "bin_end": 2008.8212323978432,
            "count": 0
           },
           {
            "bin_start": 2008.8212323978432,
            "bin_end": 2507.0176936648695,
            "count": 0
           },
           {
            "bin_start": 2507.0176936648695,
            "bin_end": 3005.2141549318953,
            "count": 0
           },
           {
            "bin_start": 3005.2141549318953,
            "bin_end": 3503.4106161989216,
            "count": 0
           },
           {
            "bin_start": 3503.4106161989216,
            "bin_end": 4001.607077465948,
            "count": 0
           },
           {
            "bin_start": 4001.607077465948,
            "bin_end": 4499.803538732974,
            "count": 0
           },
           {
            "bin_start": 4499.803538732974,
            "bin_end": 4998,
            "count": 1
           }
          ]
         }
        },
        {
         "name": "Dealer Latitude",
         "dtype": "float64",
         "stats": {
          "unique_count": 8,
          "nan_count": 0,
          "min": "-46.5996116",
          "max": "4998.0",
          "histogram": [
           {
            "bin_start": -46.5996116,
            "bin_end": 457.86034956,
            "count": 7
           },
           {
            "bin_start": 457.86034956,
            "bin_end": 962.32031072,
            "count": 0
           },
           {
            "bin_start": 962.32031072,
            "bin_end": 1466.7802718799999,
            "count": 0
           },
           {
            "bin_start": 1466.7802718799999,
            "bin_end": 1971.24023304,
            "count": 0
           },
           {
            "bin_start": 1971.24023304,
            "bin_end": 2475.7001941999997,
            "count": 0
           },
           {
            "bin_start": 2475.7001941999997,
            "bin_end": 2980.16015536,
            "count": 0
           },
           {
            "bin_start": 2980.16015536,
            "bin_end": 3484.6201165199996,
            "count": 0
           },
           {
            "bin_start": 3484.6201165199996,
            "bin_end": 3989.0800776799997,
            "count": 0
           },
           {
            "bin_start": 3989.0800776799997,
            "bin_end": 4493.54003884,
            "count": 0
           },
           {
            "bin_start": 4493.54003884,
            "bin_end": 4998,
            "count": 1
           }
          ]
         }
        },
        {
         "name": "Dealer Longitude",
         "dtype": "float64",
         "stats": {
          "unique_count": 8,
          "nan_count": 0,
          "min": "-172.5165543",
          "max": "4998.0",
          "histogram": [
           {
            "bin_start": -172.5165543,
            "bin_end": 344.53510113,
            "count": 7
           },
           {
            "bin_start": 344.53510113,
            "bin_end": 861.5867565599999,
            "count": 0
           },
           {
            "bin_start": 861.5867565599999,
            "bin_end": 1378.63841199,
            "count": 0
           },
           {
            "bin_start": 1378.63841199,
            "bin_end": 1895.6900674199999,
            "count": 0
           },
           {
            "bin_start": 1895.6900674199999,
            "bin_end": 2412.7417228500003,
            "count": 0
           },
           {
            "bin_start": 2412.7417228500003,
            "bin_end": 2929.79337828,
            "count": 0
           },
           {
            "bin_start": 2929.79337828,
            "bin_end": 3446.84503371,
            "count": 0
           },
           {
            "bin_start": 3446.84503371,
            "bin_end": 3963.89668914,
            "count": 0
           },
           {
            "bin_start": 3963.89668914,
            "bin_end": 4480.94834457,
            "count": 0
           },
           {
            "bin_start": 4480.94834457,
            "bin_end": 4998,
            "count": 1
           }
          ]
         }
        },
        {
         "name": "Sale Price",
         "dtype": "float64",
         "stats": {
          "unique_count": 8,
          "nan_count": 0,
          "min": "4998.0",
          "max": "99991.91",
          "histogram": [
           {
            "bin_start": 4998,
            "bin_end": 14497.391,
            "count": 2
           },
           {
            "bin_start": 14497.391,
            "bin_end": 23996.782,
            "count": 0
           },
           {
            "bin_start": 23996.782,
            "bin_end": 33496.172999999995,
            "count": 2
           },
           {
            "bin_start": 33496.172999999995,
            "bin_end": 42995.564,
            "count": 0
           },
           {
            "bin_start": 42995.564,
            "bin_end": 52494.955,
            "count": 0
           },
           {
            "bin_start": 52494.955,
            "bin_end": 61994.346,
            "count": 2
           },
           {
            "bin_start": 61994.346,
            "bin_end": 71493.737,
            "count": 0
           },
           {
            "bin_start": 71493.737,
            "bin_end": 80993.128,
            "count": 1
           },
           {
            "bin_start": 80993.128,
            "bin_end": 90492.519,
            "count": 0
           },
           {
            "bin_start": 90492.519,
            "bin_end": 99991.91,
            "count": 1
           }
          ]
         }
        },
        {
         "name": "Discount",
         "dtype": "float64",
         "stats": {
          "unique_count": 8,
          "nan_count": 0,
          "min": "0.0001",
          "max": "4998.0",
          "histogram": [
           {
            "bin_start": 0.0001,
            "bin_end": 499.80008999999995,
            "count": 7
           },
           {
            "bin_start": 499.80008999999995,
            "bin_end": 999.6000799999999,
            "count": 0
           },
           {
            "bin_start": 999.6000799999999,
            "bin_end": 1499.40007,
            "count": 0
           },
           {
            "bin_start": 1499.40007,
            "bin_end": 1999.20006,
            "count": 0
           },
           {
            "bin_start": 1999.20006,
            "bin_end": 2499.00005,
            "count": 0
           },
           {
            "bin_start": 2499.00005,
            "bin_end": 2998.80004,
            "count": 0
           },
           {
            "bin_start": 2998.80004,
            "bin_end": 3498.60003,
            "count": 0
           },
           {
            "bin_start": 3498.60003,
            "bin_end": 3998.40002,
            "count": 0
           },
           {
            "bin_start": 3998.40002,
            "bin_end": 4498.20001,
            "count": 0
           },
           {
            "bin_start": 4498.20001,
            "bin_end": 4998,
            "count": 1
           }
          ]
         }
        },
        {
         "name": "Resell Price",
         "dtype": "float64",
         "stats": {
          "unique_count": 8,
          "nan_count": 0,
          "min": "2000.84",
          "max": "49997.05",
          "histogram": [
           {
            "bin_start": 2000.84,
            "bin_end": 6800.461000000001,
            "count": 2
           },
           {
            "bin_start": 6800.461000000001,
            "bin_end": 11600.082000000002,
            "count": 0
           },
           {
            "bin_start": 11600.082000000002,
            "bin_end": 16399.703,
            "count": 2
           },
           {
            "bin_start": 16399.703,
            "bin_end": 21199.324000000004,
            "count": 0
           },
           {
            "bin_start": 21199.324000000004,
            "bin_end": 25998.945000000003,
            "count": 0
           },
           {
            "bin_start": 25998.945000000003,
            "bin_end": 30798.566000000006,
            "count": 2
           },
           {
            "bin_start": 30798.566000000006,
            "bin_end": 35598.187000000005,
            "count": 0
           },
           {
            "bin_start": 35598.187000000005,
            "bin_end": 40397.808000000005,
            "count": 1
           },
           {
            "bin_start": 40397.808000000005,
            "bin_end": 45197.429000000004,
            "count": 0
           },
           {
            "bin_start": 45197.429000000004,
            "bin_end": 49997.05,
            "count": 1
           }
          ]
         }
        },
        {
         "name": "5-yr Depreciation",
         "dtype": "float64",
         "stats": {
          "unique_count": 8,
          "nan_count": 0,
          "min": "0.01",
          "max": "4998.0",
          "histogram": [
           {
            "bin_start": 0.01,
            "bin_end": 499.80899999999997,
            "count": 7
           },
           {
            "bin_start": 499.80899999999997,
            "bin_end": 999.608,
            "count": 0
           },
           {
            "bin_start": 999.608,
            "bin_end": 1499.407,
            "count": 0
           },
           {
            "bin_start": 1499.407,
            "bin_end": 1999.206,
            "count": 0
           },
           {
            "bin_start": 1999.206,
            "bin_end": 2499.005,
            "count": 0
           },
           {
            "bin_start": 2499.005,
            "bin_end": 2998.804,
            "count": 0
           },
           {
            "bin_start": 2998.804,
            "bin_end": 3498.603,
            "count": 0
           },
           {
            "bin_start": 3498.603,
            "bin_end": 3998.402,
            "count": 0
           },
           {
            "bin_start": 3998.402,
            "bin_end": 4498.201,
            "count": 0
           },
           {
            "bin_start": 4498.201,
            "bin_end": 4998,
            "count": 1
           }
          ]
         }
        },
        {
         "name": "Top Speed",
         "dtype": "float64",
         "stats": {
          "unique_count": 8,
          "nan_count": 0,
          "min": "37.474385522444365",
          "max": "4998.0",
          "histogram": [
           {
            "bin_start": 37.474385522444365,
            "bin_end": 533.5269469701999,
            "count": 7
           },
           {
            "bin_start": 533.5269469701999,
            "bin_end": 1029.5795084179556,
            "count": 0
           },
           {
            "bin_start": 1029.5795084179556,
            "bin_end": 1525.6320698657112,
            "count": 0
           },
           {
            "bin_start": 1525.6320698657112,
            "bin_end": 2021.6846313134668,
            "count": 0
           },
           {
            "bin_start": 2021.6846313134668,
            "bin_end": 2517.737192761222,
            "count": 0
           },
           {
            "bin_start": 2517.737192761222,
            "bin_end": 3013.7897542089777,
            "count": 0
           },
           {
            "bin_start": 3013.7897542089777,
            "bin_end": 3509.8423156567333,
            "count": 0
           },
           {
            "bin_start": 3509.8423156567333,
            "bin_end": 4005.894877104489,
            "count": 0
           },
           {
            "bin_start": 4005.894877104489,
            "bin_end": 4501.947438552244,
            "count": 0
           },
           {
            "bin_start": 4501.947438552244,
            "bin_end": 4998,
            "count": 1
           }
          ]
         }
        },
        {
         "name": "0-60 Time",
         "dtype": "float64",
         "stats": {
          "unique_count": 8,
          "nan_count": 0,
          "min": "2.0",
          "max": "4998.0",
          "histogram": [
           {
            "bin_start": 2,
            "bin_end": 501.6,
            "count": 7
           },
           {
            "bin_start": 501.6,
            "bin_end": 1001.2,
            "count": 0
           },
           {
            "bin_start": 1001.2,
            "bin_end": 1500.8000000000002,
            "count": 0
           },
           {
            "bin_start": 1500.8000000000002,
            "bin_end": 2000.4,
            "count": 0
           },
           {
            "bin_start": 2000.4,
            "bin_end": 2500,
            "count": 0
           },
           {
            "bin_start": 2500,
            "bin_end": 2999.6000000000004,
            "count": 0
           },
           {
            "bin_start": 2999.6000000000004,
            "bin_end": 3499.2000000000003,
            "count": 0
           },
           {
            "bin_start": 3499.2000000000003,
            "bin_end": 3998.8,
            "count": 0
           },
           {
            "bin_start": 3998.8,
            "bin_end": 4498.400000000001,
            "count": 0
           },
           {
            "bin_start": 4498.400000000001,
            "bin_end": 4998,
            "count": 1
           }
          ]
         }
        },
        {
         "name": "_deepnote_index_column",
         "dtype": "object"
        }
       ],
       "rows": [
        {
         "Buyer Age": 4998,
         "Dealer Latitude": 4998,
         "Dealer Longitude": 4998,
         "Sale Price": 4998,
         "Discount": 4998,
         "Resell Price": 4998,
         "5-yr Depreciation": 4998,
         "Top Speed": 4998,
         "0-60 Time": 4998,
         "_deepnote_index_column": "count"
        },
        {
         "Buyer Age": 47.83313325330132,
         "Dealer Latitude": 24.800118346978792,
         "Dealer Longitude": 42.47718183529412,
         "Sale Price": 54921.71069627851,
         "Discount": 0.35196510604241693,
         "Resell Price": 26150.12888955582,
         "5-yr Depreciation": 0.1306002400960384,
         "Top Speed": 184.31968787515004,
         "0-60 Time": 8.429571828731493,
         "_deepnote_index_column": "mean"
        },
        {
         "Buyer Age": 16.035387329738548,
         "Dealer Latitude": 24.61560775961214,
         "Dealer Longitude": 71.71473443336804,
         "Sale Price": 25685.608746876227,
         "Discount": 0.20086873030660535,
         "Resell Price": 13738.040977043926,
         "5-yr Depreciation": 0.06937324732495245,
         "Top Speed": 37.474385522444365,
         "0-60 Time": 3.7354199059633197,
         "_deepnote_index_column": "std"
        },
        {
         "Buyer Age": 20,
         "Dealer Latitude": -46.5996116,
         "Dealer Longitude": -172.5165543,
         "Sale Price": 10003.76,
         "Discount": 0.0001,
         "Resell Price": 2000.84,
         "5-yr Depreciation": 0.01,
         "Top Speed": 120,
         "0-60 Time": 2,
         "_deepnote_index_column": "min"
        },
        {
         "Buyer Age": 34,
         "Dealer Latitude": 7.3938026,
         "Dealer Longitude": 2.596603825,
         "Sale Price": 33053.7,
         "Discount": 0.1794,
         "Resell Price": 14242.68,
         "5-yr Depreciation": 0.07,
         "Top Speed": 152.125,
         "0-60 Time": 5.2,
         "_deepnote_index_column": "25%"
        },
        {
         "Buyer Age": 48,
         "Dealer Latitude": 30.9104435,
         "Dealer Longitude": 37.517447250000004,
         "Sale Price": 54896.375,
         "Discount": 0.3543,
         "Resell Price": 26590.96,
         "5-yr Depreciation": 0.13,
         "Top Speed": 184.25,
         "0-60 Time": 8.5,
         "_deepnote_index_column": "50%"
        },
        {
         "Buyer Age": 62,
         "Dealer Latitude": 44.2729581,
         "Dealer Longitude": 111.897510275,
         "Sale Price": 77080.86,
         "Discount": 0.5235749999999999,
         "Resell Price": 38040.6275,
         "5-yr Depreciation": 0.19,
         "Top Speed": 217,
         "0-60 Time": 11.7,
         "_deepnote_index_column": "75%"
        },
        {
         "Buyer Age": 75,
         "Dealer Latitude": 69.63186,
         "Dealer Longitude": 179.35046,
         "Sale Price": 99991.91,
         "Discount": 0.6994,
         "Resell Price": 49997.05,
         "5-yr Depreciation": 0.25,
         "Top Speed": 250,
         "0-60 Time": 15,
         "_deepnote_index_column": "max"
        }
       ]
      },
      "text/plain": "         Buyer Age  Dealer Latitude  Dealer Longitude    Sale Price  \\\ncount  4998.000000      4998.000000       4998.000000   4998.000000   \nmean     47.833133        24.800118         42.477182  54921.710696   \nstd      16.035387        24.615608         71.714734  25685.608747   \nmin      20.000000       -46.599612       -172.516554  10003.760000   \n25%      34.000000         7.393803          2.596604  33053.700000   \n50%      48.000000        30.910443         37.517447  54896.375000   \n75%      62.000000        44.272958        111.897510  77080.860000   \nmax      75.000000        69.631860        179.350460  99991.910000   \n\n          Discount  Resell Price  5-yr Depreciation    Top Speed    0-60 Time  \ncount  4998.000000   4998.000000        4998.000000  4998.000000  4998.000000  \nmean      0.351965  26150.128890           0.130600   184.319688     8.429572  \nstd       0.200869  13738.040977           0.069373    37.474386     3.735420  \nmin       0.000100   2000.840000           0.010000   120.000000     2.000000  \n25%       0.179400  14242.680000           0.070000   152.125000     5.200000  \n50%       0.354300  26590.960000           0.130000   184.250000     8.500000  \n75%       0.523575  38040.627500           0.190000   217.000000    11.700000  \nmax       0.699400  49997.050000           0.250000   250.000000    15.000000  ",
      "text/html": "<div>\n<style scoped>\n    .dataframe tbody tr th:only-of-type {\n        vertical-align: middle;\n    }\n\n    .dataframe tbody tr th {\n        vertical-align: top;\n    }\n\n    .dataframe thead th {\n        text-align: right;\n    }\n</style>\n<table border=\"1\" class=\"dataframe\">\n  <thead>\n    <tr style=\"text-align: right;\">\n      <th></th>\n      <th>Buyer Age</th>\n      <th>Dealer Latitude</th>\n      <th>Dealer Longitude</th>\n      <th>Sale Price</th>\n      <th>Discount</th>\n      <th>Resell Price</th>\n      <th>5-yr Depreciation</th>\n      <th>Top Speed</th>\n      <th>0-60 Time</th>\n    </tr>\n  </thead>\n  <tbody>\n    <tr>\n      <th>count</th>\n      <td>4998.000000</td>\n      <td>4998.000000</td>\n      <td>4998.000000</td>\n      <td>4998.000000</td>\n      <td>4998.000000</td>\n      <td>4998.000000</td>\n      <td>4998.000000</td>\n      <td>4998.000000</td>\n      <td>4998.000000</td>\n    </tr>\n    <tr>\n      <th>mean</th>\n      <td>47.833133</td>\n      <td>24.800118</td>\n      <td>42.477182</td>\n      <td>54921.710696</td>\n      <td>0.351965</td>\n      <td>26150.128890</td>\n      <td>0.130600</td>\n      <td>184.319688</td>\n      <td>8.429572</td>\n    </tr>\n    <tr>\n      <th>std</th>\n      <td>16.035387</td>\n      <td>24.615608</td>\n      <td>71.714734</td>\n      <td>25685.608747</td>\n      <td>0.200869</td>\n      <td>13738.040977</td>\n      <td>0.069373</td>\n      <td>37.474386</td>\n      <td>3.735420</td>\n    </tr>\n    <tr>\n      <th>min</th>\n      <td>20.000000</td>\n      <td>-46.599612</td>\n      <td>-172.516554</td>\n      <td>10003.760000</td>\n      <td>0.000100</td>\n      <td>2000.840000</td>\n      <td>0.010000</td>\n      <td>120.000000</td>\n      <td>2.000000</td>\n    </tr>\n    <tr>\n      <th>25%</th>\n      <td>34.000000</td>\n      <td>7.393803</td>\n      <td>2.596604</td>\n      <td>33053.700000</td>\n      <td>0.179400</td>\n      <td>14242.680000</td>\n      <td>0.070000</td>\n      <td>152.125000</td>\n      <td>5.200000</td>\n    </tr>\n    <tr>\n      <th>50%</th>\n      <td>48.000000</td>\n      <td>30.910443</td>\n      <td>37.517447</td>\n      <td>54896.375000</td>\n      <td>0.354300</td>\n      <td>26590.960000</td>\n      <td>0.130000</td>\n      <td>184.250000</td>\n      <td>8.500000</td>\n    </tr>\n    <tr>\n      <th>75%</th>\n      <td>62.000000</td>\n      <td>44.272958</td>\n      <td>111.897510</td>\n      <td>77080.860000</td>\n      <td>0.523575</td>\n      <td>38040.627500</td>\n      <td>0.190000</td>\n      <td>217.000000</td>\n      <td>11.700000</td>\n    </tr>\n    <tr>\n      <th>max</th>\n      <td>75.000000</td>\n      <td>69.631860</td>\n      <td>179.350460</td>\n      <td>99991.910000</td>\n      <td>0.699400</td>\n      <td>49997.050000</td>\n      <td>0.250000</td>\n      <td>250.000000</td>\n      <td>15.000000</td>\n    </tr>\n  </tbody>\n</table>\n</div>"
     },
     "metadata": {}
    }
   ],
   "execution_count": null
  },
  {
   "cell_type": "code",
   "metadata": {
    "cell_id": "00009-a5d44b0a-f85a-4f8b-a58d-41ca372433d1",
    "deepnote_app_coordinates": {
     "x": 0,
     "y": 54,
     "w": 12,
     "h": 5
    },
    "deepnote_to_be_reexecuted": false,
    "source_hash": "f17685b4",
    "execution_start": 1650237551350,
    "execution_millis": 129,
    "deepnote_cell_type": "code",
    "deepnote_cell_height": 388.796875,
    "deepnote_output_heights": [
     148
    ]
   },
   "source": "# Datos sobre las variables categóricas\nsales.describe(include = [\"O\"])",
   "outputs": [
    {
     "output_type": "execute_result",
     "execution_count": 10,
     "data": {
      "application/vnd.deepnote.dataframe.v3+json": {
       "column_count": 10,
       "row_count": 4,
       "columns": [
        {
         "name": "Make",
         "dtype": "object",
         "stats": {
          "unique_count": 4,
          "nan_count": 0,
          "categories": [
           {
            "name": "4998",
            "count": 1
           },
           {
            "name": "69",
            "count": 1
           },
           {
            "name": "2 others",
            "count": 2
           }
          ]
         }
        },
        {
         "name": "Model",
         "dtype": "object",
         "stats": {
          "unique_count": 4,
          "nan_count": 0,
          "categories": [
           {
            "name": "4998",
            "count": 1
           },
           {
            "name": "876",
            "count": 1
           },
           {
            "name": "2 others",
            "count": 2
           }
          ]
         }
        },
        {
         "name": "Nickname",
         "dtype": "object",
         "stats": {
          "unique_count": 4,
          "nan_count": 0,
          "categories": [
           {
            "name": "4998",
            "count": 1
           },
           {
            "name": "3728",
            "count": 1
           },
           {
            "name": "2 others",
            "count": 2
           }
          ]
         }
        },
        {
         "name": "Car Gender",
         "dtype": "object",
         "stats": {
          "unique_count": 4,
          "nan_count": 0,
          "categories": [
           {
            "name": "4998",
            "count": 1
           },
           {
            "name": "2",
            "count": 1
           },
           {
            "name": "2 others",
            "count": 2
           }
          ]
         }
        },
        {
         "name": "Buyer Gender",
         "dtype": "object",
         "stats": {
          "unique_count": 4,
          "nan_count": 0,
          "categories": [
           {
            "name": "4998",
            "count": 1
           },
           {
            "name": "2",
            "count": 1
           },
           {
            "name": "2 others",
            "count": 2
           }
          ]
         }
        },
        {
         "name": "Buzzword",
         "dtype": "object",
         "stats": {
          "unique_count": 4,
          "nan_count": 0,
          "categories": [
           {
            "name": "4998",
            "count": 1
           },
           {
            "name": "305",
            "count": 1
           },
           {
            "name": "2 others",
            "count": 2
           }
          ]
         }
        },
        {
         "name": "Country",
         "dtype": "object",
         "stats": {
          "unique_count": 4,
          "nan_count": 0,
          "categories": [
           {
            "name": "4998",
            "count": 1
           },
           {
            "name": "178",
            "count": 1
           },
           {
            "name": "2 others",
            "count": 2
           }
          ]
         }
        },
        {
         "name": "City",
         "dtype": "object",
         "stats": {
          "unique_count": 4,
          "nan_count": 0,
          "categories": [
           {
            "name": "4998",
            "count": 1
           },
           {
            "name": "4434",
            "count": 1
           },
           {
            "name": "2 others",
            "count": 2
           }
          ]
         }
        },
        {
         "name": "Color",
         "dtype": "object",
         "stats": {
          "unique_count": 4,
          "nan_count": 0,
          "categories": [
           {
            "name": "4998",
            "count": 1
           },
           {
            "name": "19",
            "count": 1
           },
           {
            "name": "2 others",
            "count": 2
           }
          ]
         }
        },
        {
         "name": "Purchase Date",
         "dtype": "object",
         "stats": {
          "unique_count": 4,
          "nan_count": 0,
          "categories": [
           {
            "name": "4998",
            "count": 1
           },
           {
            "name": "3543",
            "count": 1
           },
           {
            "name": "2 others",
            "count": 2
           }
          ]
         }
        },
        {
         "name": "_deepnote_index_column",
         "dtype": "object"
        }
       ],
       "rows": [
        {
         "Make": "4998",
         "Model": "4998",
         "Nickname": "4998",
         "Car Gender": "4998",
         "Buyer Gender": "4998",
         "Buzzword": "4998",
         "Country": "4998",
         "City": "4998",
         "Color": "4998",
         "Purchase Date": "4998",
         "_deepnote_index_column": "count"
        },
        {
         "Make": "69",
         "Model": "876",
         "Nickname": "3728",
         "Car Gender": "2",
         "Buyer Gender": "2",
         "Buzzword": "305",
         "Country": "178",
         "City": "4434",
         "Color": "19",
         "Purchase Date": "3543",
         "_deepnote_index_column": "unique"
        },
        {
         "Make": "Ford",
         "Model": "Corvette",
         "Nickname": "Laurie",
         "Car Gender": "Male",
         "Buyer Gender": "Female",
         "Buzzword": "solution",
         "Country": "China",
         "City": "Stockholm",
         "Color": "Mauv",
         "Purchase Date": "07/10/2016",
         "_deepnote_index_column": "top"
        },
        {
         "Make": "428",
         "Model": "31",
         "Nickname": "5",
         "Car Gender": "2520",
         "Buyer Gender": "2518",
         "Buzzword": "30",
         "Country": "949",
         "City": "17",
         "Color": "299",
         "Purchase Date": "6",
         "_deepnote_index_column": "freq"
        }
       ]
      },
      "text/plain": "        Make     Model Nickname Car Gender Buyer Gender  Buzzword Country  \\\ncount   4998      4998     4998       4998         4998      4998    4998   \nunique    69       876     3728          2            2       305     178   \ntop     Ford  Corvette   Laurie       Male       Female  solution   China   \nfreq     428        31        5       2520         2518        30     949   \n\n             City Color Purchase Date  \ncount        4998  4998          4998  \nunique       4434    19          3543  \ntop     Stockholm  Mauv    07/10/2016  \nfreq           17   299             6  ",
      "text/html": "<div>\n<style scoped>\n    .dataframe tbody tr th:only-of-type {\n        vertical-align: middle;\n    }\n\n    .dataframe tbody tr th {\n        vertical-align: top;\n    }\n\n    .dataframe thead th {\n        text-align: right;\n    }\n</style>\n<table border=\"1\" class=\"dataframe\">\n  <thead>\n    <tr style=\"text-align: right;\">\n      <th></th>\n      <th>Make</th>\n      <th>Model</th>\n      <th>Nickname</th>\n      <th>Car Gender</th>\n      <th>Buyer Gender</th>\n      <th>Buzzword</th>\n      <th>Country</th>\n      <th>City</th>\n      <th>Color</th>\n      <th>Purchase Date</th>\n    </tr>\n  </thead>\n  <tbody>\n    <tr>\n      <th>count</th>\n      <td>4998</td>\n      <td>4998</td>\n      <td>4998</td>\n      <td>4998</td>\n      <td>4998</td>\n      <td>4998</td>\n      <td>4998</td>\n      <td>4998</td>\n      <td>4998</td>\n      <td>4998</td>\n    </tr>\n    <tr>\n      <th>unique</th>\n      <td>69</td>\n      <td>876</td>\n      <td>3728</td>\n      <td>2</td>\n      <td>2</td>\n      <td>305</td>\n      <td>178</td>\n      <td>4434</td>\n      <td>19</td>\n      <td>3543</td>\n    </tr>\n    <tr>\n      <th>top</th>\n      <td>Ford</td>\n      <td>Corvette</td>\n      <td>Laurie</td>\n      <td>Male</td>\n      <td>Female</td>\n      <td>solution</td>\n      <td>China</td>\n      <td>Stockholm</td>\n      <td>Mauv</td>\n      <td>07/10/2016</td>\n    </tr>\n    <tr>\n      <th>freq</th>\n      <td>428</td>\n      <td>31</td>\n      <td>5</td>\n      <td>2520</td>\n      <td>2518</td>\n      <td>30</td>\n      <td>949</td>\n      <td>17</td>\n      <td>299</td>\n      <td>6</td>\n    </tr>\n  </tbody>\n</table>\n</div>"
     },
     "metadata": {}
    }
   ],
   "execution_count": null
  },
  {
   "cell_type": "markdown",
   "source": "## 3. EDA: Estudio de variable target",
   "metadata": {
    "cell_id": "00010-7f7a2335-38f1-4763-9f5b-c66a2eab0775",
    "deepnote_app_coordinates": {
     "x": 0,
     "y": 60,
     "w": 12,
     "h": 5
    },
    "deepnote_cell_type": "markdown",
    "deepnote_cell_height": 110
   }
  },
  {
   "cell_type": "markdown",
   "source": "## Target vs New Car",
   "metadata": {
    "cell_id": "00011-b50a97f0-26fe-4928-9f71-d4b46fd3b23d",
    "deepnote_app_coordinates": {
     "x": 0,
     "y": 66,
     "w": 12,
     "h": 5
    },
    "deepnote_cell_type": "markdown",
    "deepnote_cell_height": 70
   }
  },
  {
   "cell_type": "code",
   "metadata": {
    "cell_id": "00012-3f7e63b0-6f78-41dd-a2e2-14399befb9ab",
    "deepnote_app_coordinates": {
     "x": 0,
     "y": 72,
     "w": 12,
     "h": 5
    },
    "deepnote_to_be_reexecuted": false,
    "source_hash": "bea15cb5",
    "execution_start": 1650237551477,
    "execution_millis": 2,
    "deepnote_cell_type": "code",
    "deepnote_cell_height": 175.78125,
    "deepnote_output_heights": [
     78.796875
    ]
   },
   "source": "sales.groupby([\"Buyer Gender\"]).count()['Model']",
   "outputs": [
    {
     "output_type": "execute_result",
     "execution_count": 11,
     "data": {
      "text/plain": "Buyer Gender\nFemale    2518\nMale      2480\nName: Model, dtype: int64"
     },
     "metadata": {}
    }
   ],
   "execution_count": null
  },
  {
   "cell_type": "code",
   "metadata": {
    "cell_id": "00013-523a19d4-3f1d-40b4-b538-612767477ec7",
    "deepnote_app_coordinates": {
     "x": 0,
     "y": 78,
     "w": 12,
     "h": 5
    },
    "deepnote_to_be_reexecuted": false,
    "source_hash": "3597e191",
    "execution_start": 1650237551502,
    "execution_millis": 69,
    "deepnote_cell_type": "code",
    "deepnote_cell_height": 214.1875,
    "deepnote_output_heights": [
     117.1875
    ]
   },
   "source": "sales.groupby([\"Buyer Gender\",\"New Car\"]).count()['Model']",
   "outputs": [
    {
     "output_type": "execute_result",
     "execution_count": 12,
     "data": {
      "text/plain": "Buyer Gender  New Car\nFemale        False      1252\n              True       1266\nMale          False      1267\n              True       1213\nName: Model, dtype: int64"
     },
     "metadata": {}
    }
   ],
   "execution_count": null
  },
  {
   "cell_type": "code",
   "metadata": {
    "cell_id": "00014-ccbd11af-4acd-40bf-a730-16d2130089e4",
    "deepnote_app_coordinates": {
     "x": 0,
     "y": 84,
     "w": 12,
     "h": 5
    },
    "deepnote_to_be_reexecuted": false,
    "source_hash": "839dadc9",
    "execution_start": 1650237551634,
    "execution_millis": 620,
    "deepnote_cell_type": "code",
    "deepnote_cell_height": 577,
    "deepnote_output_heights": [
     null,
     280
    ]
   },
   "source": "grouped_sex = sales.groupby(['Buyer Gender', 'New Car']).count()['Model']\nprint(grouped_sex)\n(grouped_sex.unstack(level=0).plot.bar())\nplt.show()",
   "outputs": [
    {
     "name": "stdout",
     "text": "Buyer Gender  New Car\nFemale        False      1252\n              True       1266\nMale          False      1267\n              True       1213\nName: Model, dtype: int64\n",
     "output_type": "stream"
    },
    {
     "data": {
      "text/plain": "<Figure size 432x288 with 1 Axes>",
      "image/png": "[encoded data removed]"
     },
     "metadata": {
      "needs_background": "light",
      "image/png": {
       "width": 381,
       "height": 278
      }
     },
     "output_type": "display_data"
    }
   ],
   "execution_count": null
  },
  {
   "cell_type": "code",
   "metadata": {
    "cell_id": "00015-e0fd3ed9-3f02-41f6-9be8-1c59eb2921ce",
    "deepnote_app_coordinates": {
     "x": 0,
     "y": 90,
     "w": 12,
     "h": 5
    },
    "deepnote_to_be_reexecuted": false,
    "source_hash": "7a8dc72d",
    "execution_start": 1650237552257,
    "execution_millis": 37,
    "deepnote_cell_type": "code",
    "deepnote_cell_height": 272,
    "deepnote_output_heights": [
     119
    ]
   },
   "source": "grouped_sex.unstack(level=1)",
   "outputs": [
    {
     "output_type": "execute_result",
     "execution_count": 14,
     "data": {
      "application/vnd.deepnote.dataframe.v3+json": {
       "column_count": 2,
       "row_count": 2,
       "columns": [
        {
         "name": false,
         "dtype": "int64",
         "stats": {
          "unique_count": 2,
          "nan_count": 0,
          "min": "1252",
          "max": "1267",
          "histogram": [
           {
            "bin_start": 1252,
            "bin_end": 1253.5,
            "count": 1
           },
           {
            "bin_start": 1253.5,
            "bin_end": 1255,
            "count": 0
           },
           {
            "bin_start": 1255,
            "bin_end": 1256.5,
            "count": 0
           },
           {
            "bin_start": 1256.5,
            "bin_end": 1258,
            "count": 0
           },
           {
            "bin_start": 1258,
            "bin_end": 1259.5,
            "count": 0
           },
           {
            "bin_start": 1259.5,
            "bin_end": 1261,
            "count": 0
           },
           {
            "bin_start": 1261,
            "bin_end": 1262.5,
            "count": 0
           },
           {
            "bin_start": 1262.5,
            "bin_end": 1264,
            "count": 0
           },
           {
            "bin_start": 1264,
            "bin_end": 1265.5,
            "count": 0
           },
           {
            "bin_start": 1265.5,
            "bin_end": 1267,
            "count": 1
           }
          ]
         }
        },
        {
         "name": true,
         "dtype": "int64",
         "stats": {
          "unique_count": 2,
          "nan_count": 0,
          "min": "1213",
          "max": "1266",
          "histogram": [
           {
            "bin_start": 1213,
            "bin_end": 1218.3,
            "count": 1
           },
           {
            "bin_start": 1218.3,
            "bin_end": 1223.6,
            "count": 0
           },
           {
            "bin_start": 1223.6,
            "bin_end": 1228.9,
            "count": 0
           },
           {
            "bin_start": 1228.9,
            "bin_end": 1234.2,
            "count": 0
           },
           {
            "bin_start": 1234.2,
            "bin_end": 1239.5,
            "count": 0
           },
           {
            "bin_start": 1239.5,
            "bin_end": 1244.8,
            "count": 0
           },
           {
            "bin_start": 1244.8,
            "bin_end": 1250.1,
            "count": 0
           },
           {
            "bin_start": 1250.1,
            "bin_end": 1255.4,
            "count": 0
           },
           {
            "bin_start": 1255.4,
            "bin_end": 1260.7,
            "count": 0
           },
           {
            "bin_start": 1260.7,
            "bin_end": 1266,
            "count": 1
           }
          ]
         }
        },
        {
         "name": "_deepnote_index_column",
         "dtype": "object"
        }
       ],
       "rows": [
        {
         "False": 1252,
         "True": 1266,
         "_deepnote_index_column": "Female"
        },
        {
         "False": 1267,
         "True": 1213,
         "_deepnote_index_column": "Male"
        }
       ]
      },
      "text/plain": "New Car       False  True \nBuyer Gender              \nFemale         1252   1266\nMale           1267   1213",
      "text/html": "<div>\n<style scoped>\n    .dataframe tbody tr th:only-of-type {\n        vertical-align: middle;\n    }\n\n    .dataframe tbody tr th {\n        vertical-align: top;\n    }\n\n    .dataframe thead th {\n        text-align: right;\n    }\n</style>\n<table border=\"1\" class=\"dataframe\">\n  <thead>\n    <tr style=\"text-align: right;\">\n      <th>New Car</th>\n      <th>False</th>\n      <th>True</th>\n    </tr>\n    <tr>\n      <th>Buyer Gender</th>\n      <th></th>\n      <th></th>\n    </tr>\n  </thead>\n  <tbody>\n    <tr>\n      <th>Female</th>\n      <td>1252</td>\n      <td>1266</td>\n    </tr>\n    <tr>\n      <th>Male</th>\n      <td>1267</td>\n      <td>1213</td>\n    </tr>\n  </tbody>\n</table>\n</div>"
     },
     "metadata": {}
    }
   ],
   "execution_count": null
  },
  {
   "cell_type": "markdown",
   "source": "Buyer Age vs New Car",
   "metadata": {
    "cell_id": "00016-70e00fa6-23ee-4390-9e6a-5a8b1d55f411",
    "deepnote_app_coordinates": {
     "x": 0,
     "y": 96,
     "w": 12,
     "h": 5
    },
    "deepnote_cell_type": "markdown",
    "deepnote_cell_height": 52.390625
   }
  },
  {
   "cell_type": "code",
   "metadata": {
    "cell_id": "00017-a9496ad4-8214-47f6-b46f-c4b0eb12deca",
    "deepnote_app_coordinates": {
     "x": 0,
     "y": 102,
     "w": 12,
     "h": 5
    },
    "deepnote_to_be_reexecuted": false,
    "source_hash": "d5419151",
    "execution_start": 1650237552298,
    "execution_millis": 1626,
    "deepnote_cell_type": "code",
    "deepnote_cell_height": 307.703125,
    "deepnote_output_heights": [
     null,
     110.71875
    ]
   },
   "source": "print(sales.groupby(['Buyer Age', 'New Car'])\n.count()[\"Model\"]\n.unstack(level=1)\n.plot.bar(figsize=(20,5)))",
   "outputs": [
    {
     "name": "stdout",
     "text": "AxesSubplot(0.125,0.125;0.775x0.755)\n",
     "output_type": "stream"
    },
    {
     "data": {
      "text/plain": "<Figure size 1440x360 with 1 Axes>",
      "image/png": "[encoded data removed]"
     },
     "metadata": {
      "needs_background": "light",
      "image/png": {
       "width": 1150,
       "height": 319
      }
     },
     "output_type": "display_data"
    }
   ],
   "execution_count": null
  },
  {
   "cell_type": "markdown",
   "source": "## 4. Procesamiento de datos",
   "metadata": {
    "cell_id": "00018-040f542c-2a89-463a-8a0b-c905b8e1fc07",
    "deepnote_app_coordinates": {
     "x": 0,
     "y": 108,
     "w": 12,
     "h": 5
    },
    "deepnote_cell_type": "markdown",
    "deepnote_cell_height": 70
   }
  },
  {
   "cell_type": "markdown",
   "source": "Aqui seleccionamos las variables con las que trabajaremos",
   "metadata": {
    "cell_id": "00019-9228b66d-cc41-4186-8ef4-4bef20532813",
    "deepnote_app_coordinates": {
     "x": 0,
     "y": 114,
     "w": 12,
     "h": 5
    },
    "deepnote_cell_type": "markdown",
    "deepnote_cell_height": 52.390625
   }
  },
  {
   "cell_type": "code",
   "metadata": {
    "cell_id": "00020-f45eb80f-4261-4385-82f4-049ec5332392",
    "deepnote_app_coordinates": {
     "x": 0,
     "y": 120,
     "w": 12,
     "h": 5
    },
    "deepnote_to_be_reexecuted": false,
    "source_hash": "5d896454",
    "execution_start": 1650237553829,
    "execution_millis": 130,
    "deepnote_cell_type": "code",
    "deepnote_cell_height": 820.796875,
    "deepnote_output_heights": [
     382.1875
    ]
   },
   "source": "sales[[\n    \"Make\",\n    \"Model\",\n    \"Buyer Gender\",\n    \"Buyer Age\",\n    \"New Car\",\n    \"Sale Price\",\n    \"5-yr Depreciation\",\n    \"Top Speed\",\n    \"0-60 Time\"\n]]",
   "outputs": [
    {
     "output_type": "execute_result",
     "execution_count": 16,
     "data": {
      "application/vnd.deepnote.dataframe.v3+json": {
       "column_count": 9,
       "row_count": 4998,
       "columns": [
        {
         "name": "Make",
         "dtype": "object",
         "stats": {
          "unique_count": 69,
          "nan_count": 0,
          "categories": [
           {
            "name": "Ford",
            "count": 428
           },
           {
            "name": "Chevrolet",
            "count": 378
           },
           {
            "name": "67 others",
            "count": 4192
           }
          ]
         }
        },
        {
         "name": "Model",
         "dtype": "object",
         "stats": {
          "unique_count": 876,
          "nan_count": 0,
          "categories": [
           {
            "name": "Corvette",
            "count": 31
           },
           {
            "name": "Camaro",
            "count": 30
           },
           {
            "name": "874 others",
            "count": 4937
           }
          ]
         }
        },
        {
         "name": "Buyer Gender",
         "dtype": "object",
         "stats": {
          "unique_count": 2,
          "nan_count": 0,
          "categories": [
           {
            "name": "Female",
            "count": 2518
           },
           {
            "name": "Male",
            "count": 2480
           }
          ]
         }
        },
        {
         "name": "Buyer Age",
         "dtype": "int64",
         "stats": {
          "unique_count": 56,
          "nan_count": 0,
          "min": "20",
          "max": "75",
          "histogram": [
           {
            "bin_start": 20,
            "bin_end": 25.5,
            "count": 504
           },
           {
            "bin_start": 25.5,
            "bin_end": 31,
            "count": 413
           },
           {
            "bin_start": 31,
            "bin_end": 36.5,
            "count": 528
           },
           {
            "bin_start": 36.5,
            "bin_end": 42,
            "count": 488
           },
           {
            "bin_start": 42,
            "bin_end": 47.5,
            "count": 549
           },
           {
            "bin_start": 47.5,
            "bin_end": 53,
            "count": 436
           },
           {
            "bin_start": 53,
            "bin_end": 58.5,
            "count": 532
           },
           {
            "bin_start": 58.5,
            "bin_end": 64,
            "count": 451
           },
           {
            "bin_start": 64,
            "bin_end": 69.5,
            "count": 550
           },
           {
            "bin_start": 69.5,
            "bin_end": 75,
            "count": 547
           }
          ]
         }
        },
        {
         "name": "New Car",
         "dtype": "bool",
         "stats": {
          "unique_count": 2,
          "nan_count": 0,
          "categories": [
           {
            "name": "False",
            "count": 2519
           },
           {
            "name": "True",
            "count": 2479
           }
          ]
         }
        },
        {
         "name": "Sale Price",
         "dtype": "float64",
         "stats": {
          "unique_count": 4997,
          "nan_count": 0,
          "min": "10003.76",
          "max": "99991.91",
          "histogram": [
           {
            "bin_start": 10003.76,
            "bin_end": 19002.575,
            "count": 475
           },
           {
            "bin_start": 19002.575,
            "bin_end": 28001.39,
            "count": 499
           },
           {
            "bin_start": 28001.39,
            "bin_end": 37000.205,
            "count": 515
           },
           {
            "bin_start": 37000.205,
            "bin_end": 45999.020000000004,
            "count": 501
           },
           {
            "bin_start": 45999.020000000004,
            "bin_end": 54997.83500000001,
            "count": 515
           },
           {
            "bin_start": 54997.83500000001,
            "bin_end": 63996.65,
            "count": 533
           },
           {
            "bin_start": 63996.65,
            "bin_end": 72995.465,
            "count": 487
           },
           {
            "bin_start": 72995.465,
            "bin_end": 81994.28,
            "count": 494
           },
           {
            "bin_start": 81994.28,
            "bin_end": 90993.095,
            "count": 502
           },
           {
            "bin_start": 90993.095,
            "bin_end": 99991.91,
            "count": 477
           }
          ]
         }
        },
        {
         "name": "5-yr Depreciation",
         "dtype": "float64",
         "stats": {
          "unique_count": 25,
          "nan_count": 0,
          "min": "0.01",
          "max": "0.25",
          "histogram": [
           {
            "bin_start": 0.01,
            "bin_end": 0.034,
            "count": 508
           },
           {
            "bin_start": 0.034,
            "bin_end": 0.058,
            "count": 441
           },
           {
            "bin_start": 0.058,
            "bin_end": 0.082,
            "count": 599
           },
           {
            "bin_start": 0.082,
            "bin_end": 0.106,
            "count": 400
           },
           {
            "bin_start": 0.106,
            "bin_end": 0.13,
            "count": 455
           },
           {
            "bin_start": 0.13,
            "bin_end": 0.15400000000000003,
            "count": 574
           },
           {
            "bin_start": 0.15400000000000003,
            "bin_end": 0.17800000000000002,
            "count": 455
           },
           {
            "bin_start": 0.17800000000000002,
            "bin_end": 0.202,
            "count": 627
           },
           {
            "bin_start": 0.202,
            "bin_end": 0.226,
            "count": 407
           },
           {
            "bin_start": 0.226,
            "bin_end": 0.25,
            "count": 532
           }
          ]
         }
        },
        {
         "name": "Top Speed",
         "dtype": "float64",
         "stats": {
          "unique_count": 1277,
          "nan_count": 0,
          "min": "120.0",
          "max": "250.0",
          "histogram": [
           {
            "bin_start": 120,
            "bin_end": 133,
            "count": 529
           },
           {
            "bin_start": 133,
            "bin_end": 146,
            "count": 504
           },
           {
            "bin_start": 146,
            "bin_end": 159,
            "count": 489
           },
           {
            "bin_start": 159,
            "bin_end": 172,
            "count": 483
           },
           {
            "bin_start": 172,
            "bin_end": 185,
            "count": 517
           },
           {
            "bin_start": 185,
            "bin_end": 198,
            "count": 530
           },
           {
            "bin_start": 198,
            "bin_end": 211,
            "count": 465
           },
           {
            "bin_start": 211,
            "bin_end": 224,
            "count": 518
           },
           {
            "bin_start": 224,
            "bin_end": 237,
            "count": 503
           },
           {
            "bin_start": 237,
            "bin_end": 250,
            "count": 460
           }
          ]
         }
        },
        {
         "name": "0-60 Time",
         "dtype": "float64",
         "stats": {
          "unique_count": 131,
          "nan_count": 0,
          "min": "2.0",
          "max": "15.0",
          "histogram": [
           {
            "bin_start": 2,
            "bin_end": 3.3,
            "count": 503
           },
           {
            "bin_start": 3.3,
            "bin_end": 4.6,
            "count": 512
           },
           {
            "bin_start": 4.6,
            "bin_end": 5.9,
            "count": 482
           },
           {
            "bin_start": 5.9,
            "bin_end": 7.2,
            "count": 476
           },
           {
            "bin_start": 7.2,
            "bin_end": 8.5,
            "count": 522
           },
           {
            "bin_start": 8.5,
            "bin_end": 9.8,
            "count": 536
           },
           {
            "bin_start": 9.8,
            "bin_end": 11.1,
            "count": 495
           },
           {
            "bin_start": 11.1,
            "bin_end": 12.4,
            "count": 489
           },
           {
            "bin_start": 12.4,
            "bin_end": 13.700000000000001,
            "count": 552
           },
           {
            "bin_start": 13.700000000000001,
            "bin_end": 15,
            "count": 431
           }
          ]
         }
        },
        {
         "name": "_deepnote_index_column",
         "dtype": "int64"
        }
       ],
       "rows": [
        {
         "Make": "Suzuki",
         "Model": "Vitara",
         "Buyer Gender": "Female",
         "Buyer Age": 51,
         "New Car": false,
         "Sale Price": 54806.14,
         "5-yr Depreciation": 0.13,
         "Top Speed": 200.9,
         "0-60 Time": 11.5,
         "_deepnote_index_column": 0
        },
        {
         "Make": "Honda",
         "Model": "S2000",
         "Buyer Gender": "Male",
         "Buyer Age": 30,
         "New Car": false,
         "Sale Price": 51826.3,
         "5-yr Depreciation": 0.02,
         "Top Speed": 158.5,
         "0-60 Time": 8.8,
         "_deepnote_index_column": 1
        },
        {
         "Make": "BMW",
         "Model": "Z4",
         "Buyer Gender": "Female",
         "Buyer Age": 54,
         "New Car": false,
         "Sale Price": 82929.14,
         "5-yr Depreciation": 0.24,
         "Top Speed": 149.5,
         "0-60 Time": 14.4,
         "_deepnote_index_column": 2
        },
        {
         "Make": "Toyota",
         "Model": "Tacoma",
         "Buyer Gender": "Male",
         "Buyer Age": 68,
         "New Car": false,
         "Sale Price": 56928.66,
         "5-yr Depreciation": 0.2,
         "Top Speed": 153.3,
         "0-60 Time": 11.5,
         "_deepnote_index_column": 3
        },
        {
         "Make": "Ford",
         "Model": "Festiva",
         "Buyer Gender": "Male",
         "Buyer Age": 70,
         "New Car": false,
         "Sale Price": 77201.26,
         "5-yr Depreciation": 0.18,
         "Top Speed": 122,
         "0-60 Time": 14.9,
         "_deepnote_index_column": 4
        },
        {
         "Make": "Buick",
         "Model": "Skylark",
         "Buyer Gender": "Female",
         "Buyer Age": 70,
         "New Car": false,
         "Sale Price": 50882.23,
         "5-yr Depreciation": 0.16,
         "Top Speed": 182.7,
         "0-60 Time": 9.6,
         "_deepnote_index_column": 5
        },
        {
         "Make": "Infiniti",
         "Model": "QX",
         "Buyer Gender": "Male",
         "Buyer Age": 66,
         "New Car": true,
         "Sale Price": 69680.54,
         "5-yr Depreciation": 0.18,
         "Top Speed": 231.8,
         "0-60 Time": 5.3,
         "_deepnote_index_column": 6
        },
        {
         "Make": "Ram",
         "Model": "C/V",
         "Buyer Gender": "Male",
         "Buyer Age": 37,
         "New Car": true,
         "Sale Price": 56393.91,
         "5-yr Depreciation": 0.14,
         "Top Speed": 144.1,
         "0-60 Time": 4.7,
         "_deepnote_index_column": 7
        },
        {
         "Make": "GMC",
         "Model": "Safari",
         "Buyer Gender": "Male",
         "Buyer Age": 43,
         "New Car": true,
         "Sale Price": 13797.81,
         "5-yr Depreciation": 0.01,
         "Top Speed": 223.3,
         "0-60 Time": 5.8,
         "_deepnote_index_column": 8
        },
        {
         "Make": "Nissan",
         "Model": "Altima",
         "Buyer Gender": "Female",
         "Buyer Age": 73,
         "New Car": true,
         "Sale Price": 15176.04,
         "5-yr Depreciation": 0.12,
         "Top Speed": 170.4,
         "0-60 Time": 4.1,
         "_deepnote_index_column": 9
        }
       ]
      },
      "text/plain": "        Make          Model Buyer Gender  Buyer Age  New Car  Sale Price  \\\n0     Suzuki         Vitara       Female         51    False    54806.14   \n1      Honda          S2000         Male         30    False    51826.30   \n2        BMW             Z4       Female         54    False    82929.14   \n3     Toyota         Tacoma         Male         68    False    56928.66   \n4       Ford        Festiva         Male         70    False    77201.26   \n...      ...            ...          ...        ...      ...         ...   \n4993   Dodge  Grand Caravan         Male         51     True    67254.72   \n4994   Dodge         Shadow       Female         38    False    68142.45   \n4995    Jeep       Wrangler       Female         23     True    57902.43   \n4996  Subaru        Outback         Male         62    False    57009.68   \n4997   Isuzu          Oasis         Male         49    False    71653.19   \n\n      5-yr Depreciation  Top Speed  0-60 Time  \n0                  0.13      200.9       11.5  \n1                  0.02      158.5        8.8  \n2                  0.24      149.5       14.4  \n3                  0.20      153.3       11.5  \n4                  0.18      122.0       14.9  \n...                 ...        ...        ...  \n4993               0.11      191.7        8.3  \n4994               0.24      243.1        5.7  \n4995               0.12      224.8        3.9  \n4996               0.24      201.6       12.4  \n4997               0.07      129.9        2.5  \n\n[4998 rows x 9 columns]",
      "text/html": "<div>\n<style scoped>\n    .dataframe tbody tr th:only-of-type {\n        vertical-align: middle;\n    }\n\n    .dataframe tbody tr th {\n        vertical-align: top;\n    }\n\n    .dataframe thead th {\n        text-align: right;\n    }\n</style>\n<table border=\"1\" class=\"dataframe\">\n  <thead>\n    <tr style=\"text-align: right;\">\n      <th></th>\n      <th>Make</th>\n      <th>Model</th>\n      <th>Buyer Gender</th>\n      <th>Buyer Age</th>\n      <th>New Car</th>\n      <th>Sale Price</th>\n      <th>5-yr Depreciation</th>\n      <th>Top Speed</th>\n      <th>0-60 Time</th>\n    </tr>\n  </thead>\n  <tbody>\n    <tr>\n      <th>0</th>\n      <td>Suzuki</td>\n      <td>Vitara</td>\n      <td>Female</td>\n      <td>51</td>\n      <td>False</td>\n      <td>54806.14</td>\n      <td>0.13</td>\n      <td>200.9</td>\n      <td>11.5</td>\n    </tr>\n    <tr>\n      <th>1</th>\n      <td>Honda</td>\n      <td>S2000</td>\n      <td>Male</td>\n      <td>30</td>\n      <td>False</td>\n      <td>51826.30</td>\n      <td>0.02</td>\n      <td>158.5</td>\n      <td>8.8</td>\n    </tr>\n    <tr>\n      <th>2</th>\n      <td>BMW</td>\n      <td>Z4</td>\n      <td>Female</td>\n      <td>54</td>\n      <td>False</td>\n      <td>82929.14</td>\n      <td>0.24</td>\n      <td>149.5</td>\n      <td>14.4</td>\n    </tr>\n    <tr>\n      <th>3</th>\n      <td>Toyota</td>\n      <td>Tacoma</td>\n      <td>Male</td>\n      <td>68</td>\n      <td>False</td>\n      <td>56928.66</td>\n      <td>0.20</td>\n      <td>153.3</td>\n      <td>11.5</td>\n    </tr>\n    <tr>\n      <th>4</th>\n      <td>Ford</td>\n      <td>Festiva</td>\n      <td>Male</td>\n      <td>70</td>\n      <td>False</td>\n      <td>77201.26</td>\n      <td>0.18</td>\n      <td>122.0</td>\n      <td>14.9</td>\n    </tr>\n    <tr>\n      <th>...</th>\n      <td>...</td>\n      <td>...</td>\n      <td>...</td>\n      <td>...</td>\n      <td>...</td>\n      <td>...</td>\n      <td>...</td>\n      <td>...</td>\n      <td>...</td>\n    </tr>\n    <tr>\n      <th>4993</th>\n      <td>Dodge</td>\n      <td>Grand Caravan</td>\n      <td>Male</td>\n      <td>51</td>\n      <td>True</td>\n      <td>67254.72</td>\n      <td>0.11</td>\n      <td>191.7</td>\n      <td>8.3</td>\n    </tr>\n    <tr>\n      <th>4994</th>\n      <td>Dodge</td>\n      <td>Shadow</td>\n      <td>Female</td>\n      <td>38</td>\n      <td>False</td>\n      <td>68142.45</td>\n      <td>0.24</td>\n      <td>243.1</td>\n      <td>5.7</td>\n    </tr>\n    <tr>\n      <th>4995</th>\n      <td>Jeep</td>\n      <td>Wrangler</td>\n      <td>Female</td>\n      <td>23</td>\n      <td>True</td>\n      <td>57902.43</td>\n      <td>0.12</td>\n      <td>224.8</td>\n      <td>3.9</td>\n    </tr>\n    <tr>\n      <th>4996</th>\n      <td>Subaru</td>\n      <td>Outback</td>\n      <td>Male</td>\n      <td>62</td>\n      <td>False</td>\n      <td>57009.68</td>\n      <td>0.24</td>\n      <td>201.6</td>\n      <td>12.4</td>\n    </tr>\n    <tr>\n      <th>4997</th>\n      <td>Isuzu</td>\n      <td>Oasis</td>\n      <td>Male</td>\n      <td>49</td>\n      <td>False</td>\n      <td>71653.19</td>\n      <td>0.07</td>\n      <td>129.9</td>\n      <td>2.5</td>\n    </tr>\n  </tbody>\n</table>\n<p>4998 rows × 9 columns</p>\n</div>"
     },
     "metadata": {}
    }
   ],
   "execution_count": null
  },
  {
   "cell_type": "code",
   "metadata": {
    "cell_id": "00021-9e1f085e-1db9-452d-8cd1-bec1796dc01b",
    "deepnote_app_coordinates": {
     "x": 0,
     "y": 126,
     "w": 12,
     "h": 5
    },
    "deepnote_to_be_reexecuted": false,
    "source_hash": "a63bd465",
    "execution_start": 1650237553962,
    "execution_millis": 33,
    "deepnote_cell_type": "code",
    "deepnote_cell_height": 592
   },
   "source": "sales[[\n    \"Make\",\n    \"Model\",\n    \"Buyer Gender\",\n    \"Buyer Age\",\n    \"New Car\",\n    \"Sale Price\",\n    \"5-yr Depreciation\",\n    \"Top Speed\",\n    \"0-60 Time\"\n]].info()",
   "outputs": [
    {
     "name": "stdout",
     "text": "<class 'pandas.core.frame.DataFrame'>\nRangeIndex: 4998 entries, 0 to 4997\nData columns (total 9 columns):\n #   Column             Non-Null Count  Dtype  \n---  ------             --------------  -----  \n 0   Make               4998 non-null   object \n 1   Model              4998 non-null   object \n 2   Buyer Gender       4998 non-null   object \n 3   Buyer Age          4998 non-null   int64  \n 4   New Car            4998 non-null   bool   \n 5   Sale Price         4998 non-null   float64\n 6   5-yr Depreciation  4998 non-null   float64\n 7   Top Speed          4998 non-null   float64\n 8   0-60 Time          4998 non-null   float64\ndtypes: bool(1), float64(4), int64(1), object(3)\nmemory usage: 317.4+ KB\n",
     "output_type": "stream"
    }
   ],
   "execution_count": null
  },
  {
   "cell_type": "markdown",
   "source": "Se observa que no tenemos variables nulas, entonces no tendremos que reemplazar ningun valor.",
   "metadata": {
    "cell_id": "00022-2c6110ea-8835-4829-8fb6-f02863ee6fd4",
    "deepnote_app_coordinates": {
     "x": 0,
     "y": 132,
     "w": 12,
     "h": 5
    },
    "deepnote_cell_type": "markdown",
    "deepnote_cell_height": 74.796875
   }
  },
  {
   "cell_type": "code",
   "metadata": {
    "cell_id": "00023-666bc751-287b-4aad-80fc-c290224fefd1",
    "deepnote_app_coordinates": {
     "x": 0,
     "y": 138,
     "w": 12,
     "h": 5
    },
    "deepnote_to_be_reexecuted": false,
    "source_hash": "6adf5432",
    "execution_start": 1650237553999,
    "execution_millis": 14,
    "deepnote_cell_type": "code",
    "deepnote_cell_height": 117
   },
   "source": "#metodo map del label encoding\nsales['Buyer Gender'] = sales[\"Buyer Gender\"].map({\"Female\": 1, \"Male\": 0}).astype(int)\nsales['New Car'] = sales[\"New Car\"].map({True: 1, False: 0}).astype(int)",
   "outputs": [],
   "execution_count": null
  },
  {
   "cell_type": "code",
   "metadata": {
    "cell_id": "00024-317af338-3ccc-4226-86a1-b9885d26f5de",
    "deepnote_app_coordinates": {
     "x": 0,
     "y": 144,
     "w": 12,
     "h": 5
    },
    "deepnote_to_be_reexecuted": false,
    "source_hash": "482f07ee",
    "execution_start": 1650237554021,
    "execution_millis": 38,
    "deepnote_cell_type": "code",
    "deepnote_cell_height": 411.796875,
    "deepnote_output_heights": [
     177
    ]
   },
   "source": "sales[['Model', 'Buyer Gender', \"New Car\"]].head()",
   "outputs": [
    {
     "output_type": "execute_result",
     "execution_count": 19,
     "data": {
      "application/vnd.deepnote.dataframe.v3+json": {
       "column_count": 3,
       "row_count": 5,
       "columns": [
        {
         "name": "Model",
         "dtype": "object",
         "stats": {
          "unique_count": 5,
          "nan_count": 0,
          "categories": [
           {
            "name": "Vitara",
            "count": 1
           },
           {
            "name": "S2000",
            "count": 1
           },
           {
            "name": "3 others",
            "count": 3
           }
          ]
         }
        },
        {
         "name": "Buyer Gender",
         "dtype": "int64",
         "stats": {
          "unique_count": 2,
          "nan_count": 0,
          "min": "0",
          "max": "1",
          "histogram": [
           {
            "bin_start": 0,
            "bin_end": 0.1,
            "count": 3
           },
           {
            "bin_start": 0.1,
            "bin_end": 0.2,
            "count": 0
           },
           {
            "bin_start": 0.2,
            "bin_end": 0.30000000000000004,
            "count": 0
           },
           {
            "bin_start": 0.30000000000000004,
            "bin_end": 0.4,
            "count": 0
           },
           {
            "bin_start": 0.4,
            "bin_end": 0.5,
            "count": 0
           },
           {
            "bin_start": 0.5,
            "bin_end": 0.6000000000000001,
            "count": 0
           },
           {
            "bin_start": 0.6000000000000001,
            "bin_end": 0.7000000000000001,
            "count": 0
           },
           {
            "bin_start": 0.7000000000000001,
            "bin_end": 0.8,
            "count": 0
           },
           {
            "bin_start": 0.8,
            "bin_end": 0.9,
            "count": 0
           },
           {
            "bin_start": 0.9,
            "bin_end": 1,
            "count": 2
           }
          ]
         }
        },
        {
         "name": "New Car",
         "dtype": "int64",
         "stats": {
          "unique_count": 1,
          "nan_count": 0,
          "min": "0",
          "max": "0",
          "histogram": [
           {
            "bin_start": -0.5,
            "bin_end": -0.4,
            "count": 0
           },
           {
            "bin_start": -0.4,
            "bin_end": -0.3,
            "count": 0
           },
           {
            "bin_start": -0.3,
            "bin_end": -0.19999999999999996,
            "count": 0
           },
           {
            "bin_start": -0.19999999999999996,
            "bin_end": -0.09999999999999998,
            "count": 0
           },
           {
            "bin_start": -0.09999999999999998,
            "bin_end": 0,
            "count": 0
           },
           {
            "bin_start": 0,
            "bin_end": 0.10000000000000009,
            "count": 5
           },
           {
            "bin_start": 0.10000000000000009,
            "bin_end": 0.20000000000000007,
            "count": 0
           },
           {
            "bin_start": 0.20000000000000007,
            "bin_end": 0.30000000000000004,
            "count": 0
           },
           {
            "bin_start": 0.30000000000000004,
            "bin_end": 0.4,
            "count": 0
           },
           {
            "bin_start": 0.4,
            "bin_end": 0.5,
            "count": 0
           }
          ]
         }
        },
        {
         "name": "_deepnote_index_column",
         "dtype": "int64"
        }
       ],
       "rows": [
        {
         "Model": "Vitara",
         "Buyer Gender": 1,
         "New Car": 0,
         "_deepnote_index_column": 0
        },
        {
         "Model": "S2000",
         "Buyer Gender": 0,
         "New Car": 0,
         "_deepnote_index_column": 1
        },
        {
         "Model": "Z4",
         "Buyer Gender": 1,
         "New Car": 0,
         "_deepnote_index_column": 2
        },
        {
         "Model": "Tacoma",
         "Buyer Gender": 0,
         "New Car": 0,
         "_deepnote_index_column": 3
        },
        {
         "Model": "Festiva",
         "Buyer Gender": 0,
         "New Car": 0,
         "_deepnote_index_column": 4
        }
       ]
      },
      "text/plain": "     Model  Buyer Gender  New Car\n0   Vitara             1        0\n1    S2000             0        0\n2       Z4             1        0\n3   Tacoma             0        0\n4  Festiva             0        0",
      "text/html": "<div>\n<style scoped>\n    .dataframe tbody tr th:only-of-type {\n        vertical-align: middle;\n    }\n\n    .dataframe tbody tr th {\n        vertical-align: top;\n    }\n\n    .dataframe thead th {\n        text-align: right;\n    }\n</style>\n<table border=\"1\" class=\"dataframe\">\n  <thead>\n    <tr style=\"text-align: right;\">\n      <th></th>\n      <th>Model</th>\n      <th>Buyer Gender</th>\n      <th>New Car</th>\n    </tr>\n  </thead>\n  <tbody>\n    <tr>\n      <th>0</th>\n      <td>Vitara</td>\n      <td>1</td>\n      <td>0</td>\n    </tr>\n    <tr>\n      <th>1</th>\n      <td>S2000</td>\n      <td>0</td>\n      <td>0</td>\n    </tr>\n    <tr>\n      <th>2</th>\n      <td>Z4</td>\n      <td>1</td>\n      <td>0</td>\n    </tr>\n    <tr>\n      <th>3</th>\n      <td>Tacoma</td>\n      <td>0</td>\n      <td>0</td>\n    </tr>\n    <tr>\n      <th>4</th>\n      <td>Festiva</td>\n      <td>0</td>\n      <td>0</td>\n    </tr>\n  </tbody>\n</table>\n</div>"
     },
     "metadata": {}
    }
   ],
   "execution_count": null
  },
  {
   "cell_type": "markdown",
   "source": "#### Estudio Precio de auto vs genero",
   "metadata": {
    "cell_id": "00025-e0b94fcd-f9fb-4ac0-a094-b55c7d700102",
    "deepnote_app_coordinates": {
     "x": 0,
     "y": 150,
     "w": 12,
     "h": 5
    },
    "deepnote_cell_type": "markdown",
    "deepnote_cell_height": 54
   }
  },
  {
   "cell_type": "code",
   "metadata": {
    "cell_id": "00026-b2a902a7-b375-4dae-9b6e-fbd340ddb3aa",
    "deepnote_app_coordinates": {
     "x": 0,
     "y": 156,
     "w": 12,
     "h": 5
    },
    "deepnote_to_be_reexecuted": false,
    "source_hash": "86cf532",
    "execution_start": 1650237554062,
    "execution_millis": 28,
    "deepnote_cell_type": "code",
    "deepnote_cell_height": 193.78125,
    "deepnote_output_heights": [
     78.796875
    ]
   },
   "source": "#sales.groupby(['Buyer Gender'])\nsales.groupby(['Buyer Gender']).sum()[\"Sale Price\"]",
   "outputs": [
    {
     "output_type": "execute_result",
     "execution_count": 20,
     "data": {
      "text/plain": "Buyer Gender\n0    1.359110e+08\n1    1.385877e+08\nName: Sale Price, dtype: float64"
     },
     "metadata": {}
    }
   ],
   "execution_count": null
  },
  {
   "cell_type": "markdown",
   "source": "Se obtiene que los ingresos por genero son:\n\nMujeres $210.040.800.000.000\n\nHombres $203.521.700.000.000",
   "metadata": {
    "cell_id": "00027-e76e0b44-590f-48ba-a649-a52a7142ae30",
    "deepnote_app_coordinates": {
     "x": 0,
     "y": 162,
     "w": 12,
     "h": 5
    },
    "deepnote_cell_type": "markdown",
    "deepnote_cell_height": 125.1875
   }
  },
  {
   "cell_type": "markdown",
   "source": "#### Crear variables",
   "metadata": {
    "cell_id": "00028-8725d15a-bb0c-4978-9138-d26bb4facf99",
    "deepnote_app_coordinates": {
     "x": 0,
     "y": 168,
     "w": 12,
     "h": 5
    },
    "deepnote_cell_type": "markdown",
    "deepnote_cell_height": 54
   }
  },
  {
   "cell_type": "code",
   "metadata": {
    "cell_id": "00029-2a95c631-9c8c-4666-a394-cbf2dcbe3a6c",
    "deepnote_app_coordinates": {
     "x": 0,
     "y": 174,
     "w": 12,
     "h": 5
    },
    "deepnote_to_be_reexecuted": false,
    "source_hash": "6753b177",
    "execution_start": 1650237554094,
    "execution_millis": 33,
    "deepnote_cell_type": "code",
    "deepnote_cell_height": 812.796875
   },
   "source": "\n# Variables dependientes\nY_train = sales[\"Buyer Gender\"]\n\n# Preprocesamiento de variables independientes\nX_train = sales[[\n    \"Buyer Age\",\n    \"Top Speed\",\n    \"5-yr Depreciation\",\n    \"Sale Price\"\n]]\n\nprint(Y_train, X_train)",
   "outputs": [
    {
     "name": "stdout",
     "text": "0       1\n1       0\n2       1\n3       0\n4       0\n       ..\n4993    0\n4994    1\n4995    1\n4996    0\n4997    0\nName: Buyer Gender, Length: 4998, dtype: int64       Buyer Age  Top Speed  5-yr Depreciation  Sale Price\n0            51      200.9               0.13    54806.14\n1            30      158.5               0.02    51826.30\n2            54      149.5               0.24    82929.14\n3            68      153.3               0.20    56928.66\n4            70      122.0               0.18    77201.26\n...         ...        ...                ...         ...\n4993         51      191.7               0.11    67254.72\n4994         38      243.1               0.24    68142.45\n4995         23      224.8               0.12    57902.43\n4996         62      201.6               0.24    57009.68\n4997         49      129.9               0.07    71653.19\n\n[4998 rows x 4 columns]\n",
     "output_type": "stream"
    }
   ],
   "execution_count": null
  },
  {
   "cell_type": "code",
   "metadata": {
    "cell_id": "00030-801f3da9-0ae4-4060-acbf-6e899b6921c5",
    "deepnote_app_coordinates": {
     "x": 0,
     "y": 180,
     "w": 12,
     "h": 5
    },
    "deepnote_to_be_reexecuted": false,
    "source_hash": "32fd291a",
    "execution_start": 1650237554135,
    "execution_millis": 231,
    "deepnote_cell_type": "code",
    "deepnote_cell_height": 190.1875,
    "deepnote_output_heights": [
     21.1875
    ]
   },
   "source": "from sklearn.preprocessing import StandardScaler\n\nsc = StandardScaler()\nX_train = sc.fit_transform(X_train)\nX_train.shape",
   "outputs": [
    {
     "output_type": "execute_result",
     "execution_count": 22,
     "data": {
      "text/plain": "(4998, 4)"
     },
     "metadata": {}
    }
   ],
   "execution_count": null
  },
  {
   "cell_type": "markdown",
   "source": "## 5. Modelado",
   "metadata": {
    "cell_id": "00031-bcd6e984-f4f4-4367-a017-35d29a01c7c2",
    "deepnote_app_coordinates": {
     "x": 0,
     "y": 186,
     "w": 12,
     "h": 5
    },
    "deepnote_cell_type": "markdown",
    "deepnote_cell_height": 70
   }
  },
  {
   "cell_type": "code",
   "metadata": {
    "cell_id": "00033-7e1fd0fb-752a-48db-81a5-a4c303a47960",
    "deepnote_app_coordinates": {
     "x": 0,
     "y": 192,
     "w": 12,
     "h": 5
    },
    "deepnote_to_be_reexecuted": false,
    "source_hash": "b219061",
    "execution_start": 1650237554370,
    "execution_millis": 428,
    "deepnote_cell_type": "code",
    "deepnote_cell_height": 190.1875,
    "deepnote_output_heights": [
     21.1875
    ]
   },
   "source": "# Entrenar el modelo de árboles de descisión\nfrom sklearn.tree import DecisionTreeClassifier\n\ndecision_tree = DecisionTreeClassifier()\ndecision_tree.fit(X_train , Y_train)",
   "outputs": [
    {
     "output_type": "execute_result",
     "execution_count": 23,
     "data": {
      "text/plain": "DecisionTreeClassifier()"
     },
     "metadata": {}
    }
   ],
   "execution_count": null
  },
  {
   "cell_type": "markdown",
   "source": "## 6. Evaluación",
   "metadata": {
    "cell_id": "00034-e78f3ba1-a0e0-4497-8f0a-d706f956a011",
    "deepnote_app_coordinates": {
     "x": 0,
     "y": 198,
     "w": 12,
     "h": 5
    },
    "deepnote_cell_type": "markdown",
    "deepnote_cell_height": 70
   }
  },
  {
   "cell_type": "code",
   "metadata": {
    "cell_id": "00035-b90a925f-8ee1-4d34-a8c7-574bbd275c5a",
    "deepnote_app_coordinates": {
     "x": 0,
     "y": 204,
     "w": 12,
     "h": 5
    },
    "deepnote_to_be_reexecuted": false,
    "source_hash": "9c8eb371",
    "execution_start": 1650237554802,
    "execution_millis": 13,
    "deepnote_cell_type": "code",
    "deepnote_cell_height": 117
   },
   "source": "#import seaborn as sns\n\n#sns.heatmap(X_train, annot=True)",
   "outputs": [],
   "execution_count": null
  },
  {
   "cell_type": "code",
   "metadata": {
    "cell_id": "00036-709cc0d5-8dc4-4c6e-a2f6-f9271fd69491",
    "deepnote_app_coordinates": {
     "x": 0,
     "y": 210,
     "w": 12,
     "h": 5
    },
    "deepnote_to_be_reexecuted": false,
    "source_hash": "b798472d",
    "execution_start": 1650237554820,
    "execution_millis": 17,
    "deepnote_cell_type": "code",
    "deepnote_cell_height": 243
   },
   "source": "from sklearn.metrics import plot_confusion_matrix\n\ndef conf_mat_acc(modelo):\n    disp = plot_confusion_matrix(modelo , X_train , Y_train , \n                                cmap = plt.cm.Blues , values_format = \"d\")\n    true_pred = disp.confusion_matrix[0,0]+disp.confusion_matrix[1,1]\n    total_data = np.sum(disp.confusion_matrix)\n    accuracy = true_pred/total_data\n    print(\"accuracy: \" , np.round(accuracy , 2))\n    plt.show()",
   "outputs": [],
   "execution_count": null
  },
  {
   "cell_type": "code",
   "metadata": {
    "cell_id": "00038-0e9b384b-64a8-46d0-ae99-9bd69eeaee1f",
    "deepnote_app_coordinates": {
     "x": 0,
     "y": 216,
     "w": 12,
     "h": 5
    },
    "deepnote_to_be_reexecuted": false,
    "source_hash": "af16c5c8",
    "execution_start": 1650237554846,
    "execution_millis": 408,
    "deepnote_cell_type": "code",
    "deepnote_cell_height": 454.796875,
    "deepnote_output_heights": [
     null,
     267,
     267
    ]
   },
   "source": "conf_mat_acc(decision_tree)",
   "outputs": [
    {
     "name": "stderr",
     "text": "/shared-libs/python3.7/py/lib/python3.7/site-packages/sklearn/utils/deprecation.py:87: FutureWarning: Function plot_confusion_matrix is deprecated; Function `plot_confusion_matrix` is deprecated in 1.0 and will be removed in 1.2. Use one of the class methods: ConfusionMatrixDisplay.from_predictions or ConfusionMatrixDisplay.from_estimator.\n  warnings.warn(msg, category=FutureWarning)\naccuracy:  1.0\n",
     "output_type": "stream"
    },
    {
     "data": {
      "text/plain": "<Figure size 432x288 with 2 Axes>",
      "image/png": "[encoded data removed]"
     },
     "metadata": {
      "needs_background": "light",
      "image/png": {
       "width": 319,
       "height": 265
      }
     },
     "output_type": "display_data"
    }
   ],
   "execution_count": null
  },
  {
   "cell_type": "code",
   "metadata": {
    "cell_id": "00040-a0575537-d249-4027-b064-0eb6a7dadbe1",
    "deepnote_app_coordinates": {
     "x": 0,
     "y": 228,
     "w": 12,
     "h": 5
    },
    "deepnote_to_be_reexecuted": false,
    "source_hash": "4497b133",
    "execution_start": 1650237555259,
    "execution_millis": 103,
    "deepnote_cell_type": "code",
    "deepnote_cell_height": 755
   },
   "source": "# Preparar el test set para la evaluación\n\nprint(test.head())\ntest.info()",
   "outputs": [
    {
     "name": "stdout",
     "text": "            Make          Model Nickname Car Gender  Buyer Age  \\\n0       Infiniti              G    Eliot       Male         51   \n1      Chevrolet  Suburban 2500    Bryna       Male         59   \n2     Mitsubishi         Precis     Mack     Female         32   \n3  Mercedes-Benz        E-Class    Elora     Female         43   \n4       Plymouth         Breeze  Sigvard       Male         34   \n\n            Buzzword    Country        City  Dealer Latitude  \\\n0      multi-tasking    Hungary    Budapest        47.387906   \n1          framework  Indonesia      Liliba       -10.170262   \n2        homogeneous      China  Shuangxing        41.773024   \n3  attitude-oriented     France    Grenoble        45.193486   \n4            Inverse    Ukraine       Khust        48.173463   \n\n   Dealer Longitude    Color    New Car Purchase Date  Sale Price  Discount  \\\n0         19.115039     Mauv  VERDADERO     5/11/2015    70924.82    0.6790   \n1        123.642753  Crimson      FALSO     2/04/2015    90407.26    0.1462   \n2        123.356112   Fuscia      FALSO     5/06/2016    51744.01    0.1785   \n3          5.721898   Violet      FALSO    29/05/2016    60654.60    0.2899   \n4         23.297248   Indigo      FALSO    10/03/2009    68702.62    0.0721   \n\n   Resell Price  5-yr Depreciation  Top Speed  0-60 Time  \n0      13065.96               0.12      187.7        9.8  \n1      40998.62               0.16      197.9        2.5  \n2      17450.08               0.22      152.3       10.9  \n3      43694.28               0.06      179.0        5.6  \n4      19594.64               0.14      225.0       10.3  \n<class 'pandas.core.frame.DataFrame'>\nRangeIndex: 5002 entries, 0 to 5001\nData columns (total 19 columns):\n #   Column             Non-Null Count  Dtype  \n---  ------             --------------  -----  \n 0   Make               5002 non-null   object \n 1   Model              5002 non-null   object \n 2   Nickname           5002 non-null   object \n 3   Car Gender         5002 non-null   object \n 4   Buyer Age          5002 non-null   int64  \n 5   Buzzword           5002 non-null   object \n 6   Country            5002 non-null   object \n 7   City               5002 non-null   object \n 8   Dealer Latitude    5002 non-null   float64\n 9   Dealer Longitude   5002 non-null   float64\n 10  Color              5002 non-null   object \n 11  New Car            5002 non-null   object \n 12  Purchase Date      5002 non-null   object \n 13  Sale Price         5002 non-null   float64\n 14  Discount           5002 non-null   float64\n 15  Resell Price       5002 non-null   float64\n 16  5-yr Depreciation  5002 non-null   float64\n 17  Top Speed          5002 non-null   float64\n 18  0-60 Time          5002 non-null   float64\ndtypes: float64(8), int64(1), object(10)\nmemory usage: 742.6+ KB\n",
     "output_type": "stream"
    }
   ],
   "execution_count": null
  },
  {
   "cell_type": "code",
   "metadata": {
    "cell_id": "00041-ca01cf0a-f9ae-42fc-b845-4dc9df91220f",
    "deepnote_app_coordinates": {
     "x": 0,
     "y": 234,
     "w": 12,
     "h": 5
    },
    "deepnote_to_be_reexecuted": false,
    "source_hash": "e7674741",
    "execution_start": 1650237555427,
    "execution_millis": 148,
    "deepnote_cell_type": "code",
    "deepnote_cell_height": 670.796875,
    "deepnote_output_heights": [
     606.1875
    ]
   },
   "source": "# Preparando test set\n# Cambiando estado del carro\ntest['New Car'] = test[\"New Car\"].map({\"VERDADERO\": 1, \"FALSO\": 0}).astype(int)\ntest.head(20)",
   "outputs": [
    {
     "output_type": "execute_result",
     "execution_count": 28,
     "data": {
      "application/vnd.deepnote.dataframe.v3+json": {
       "column_count": 19,
       "row_count": 20,
       "columns": [
        {
         "name": "Make",
         "dtype": "object",
         "stats": {
          "unique_count": 14,
          "nan_count": 0,
          "categories": [
           {
            "name": "Chevrolet",
            "count": 3
           },
           {
            "name": "Dodge",
            "count": 3
           },
           {
            "name": "12 others",
            "count": 14
           }
          ]
         }
        },
        {
         "name": "Model",
         "dtype": "object",
         "stats": {
          "unique_count": 20,
          "nan_count": 0,
          "categories": [
           {
            "name": "G",
            "count": 1
           },
           {
            "name": "Suburban 2500",
            "count": 1
           },
           {
            "name": "18 others",
            "count": 18
           }
          ]
         }
        },
        {
         "name": "Nickname",
         "dtype": "object",
         "stats": {
          "unique_count": 20,
          "nan_count": 0,
          "categories": [
           {
            "name": "Eliot",
            "count": 1
           },
           {
            "name": "Bryna",
            "count": 1
           },
           {
            "name": "18 others",
            "count": 18
           }
          ]
         }
        },
        {
         "name": "Car Gender",
         "dtype": "object",
         "stats": {
          "unique_count": 2,
          "nan_count": 0,
          "categories": [
           {
            "name": "Female",
            "count": 13
           },
           {
            "name": "Male",
            "count": 7
           }
          ]
         }
        },
        {
         "name": "Buyer Age",
         "dtype": "int64",
         "stats": {
          "unique_count": 20,
          "nan_count": 0,
          "min": "21",
          "max": "74",
          "histogram": [
           {
            "bin_start": 21,
            "bin_end": 26.3,
            "count": 3
           },
           {
            "bin_start": 26.3,
            "bin_end": 31.6,
            "count": 1
           },
           {
            "bin_start": 31.6,
            "bin_end": 36.9,
            "count": 2
           },
           {
            "bin_start": 36.9,
            "bin_end": 42.2,
            "count": 1
           },
           {
            "bin_start": 42.2,
            "bin_end": 47.5,
            "count": 1
           },
           {
            "bin_start": 47.5,
            "bin_end": 52.8,
            "count": 4
           },
           {
            "bin_start": 52.8,
            "bin_end": 58.1,
            "count": 2
           },
           {
            "bin_start": 58.1,
            "bin_end": 63.4,
            "count": 1
           },
           {
            "bin_start": 63.4,
            "bin_end": 68.69999999999999,
            "count": 1
           },
           {
            "bin_start": 68.69999999999999,
            "bin_end": 74,
            "count": 4
           }
          ]
         }
        },
        {
         "name": "Buzzword",
         "dtype": "object",
         "stats": {
          "unique_count": 19,
          "nan_count": 0,
          "categories": [
           {
            "name": "Customer-focused",
            "count": 2
           },
           {
            "name": "multi-tasking",
            "count": 1
           },
           {
            "name": "17 others",
            "count": 17
           }
          ]
         }
        },
        {
         "name": "Country",
         "dtype": "object",
         "stats": {
          "unique_count": 12,
          "nan_count": 0,
          "categories": [
           {
            "name": "Indonesia",
            "count": 5
           },
           {
            "name": "China",
            "count": 4
           },
           {
            "name": "10 others",
            "count": 11
           }
          ]
         }
        },
        {
         "name": "City",
         "dtype": "object",
         "stats": {
          "unique_count": 20,
          "nan_count": 0,
          "categories": [
           {
            "name": "Budapest",
            "count": 1
           },
           {
            "name": "Liliba",
            "count": 1
           },
           {
            "name": "18 others",
            "count": 18
           }
          ]
         }
        },
        {
         "name": "Dealer Latitude",
         "dtype": "float64",
         "stats": {
          "unique_count": 20,
          "nan_count": 0,
          "min": "-10.170262",
          "max": "48.1734633",
          "histogram": [
           {
            "bin_start": -10.170262,
            "bin_end": -4.335889469999999,
            "count": 5
           },
           {
            "bin_start": -4.335889469999999,
            "bin_end": 1.4984830600000016,
            "count": 1
           },
           {
            "bin_start": 1.4984830600000016,
            "bin_end": 7.332855590000003,
            "count": 2
           },
           {
            "bin_start": 7.332855590000003,
            "bin_end": 13.167228120000003,
            "count": 0
           },
           {
            "bin_start": 13.167228120000003,
            "bin_end": 19.00160065,
            "count": 1
           },
           {
            "bin_start": 19.00160065,
            "bin_end": 24.835973180000003,
            "count": 0
           },
           {
            "bin_start": 24.835973180000003,
            "bin_end": 30.67034571,
            "count": 2
           },
           {
            "bin_start": 30.67034571,
            "bin_end": 36.50471824,
            "count": 1
           },
           {
            "bin_start": 36.50471824,
            "bin_end": 42.339090770000006,
            "count": 4
           },
           {
            "bin_start": 42.339090770000006,
            "bin_end": 48.1734633,
            "count": 4
           }
          ]
         }
        },
        {
         "name": "Dealer Longitude",
         "dtype": "float64",
         "stats": {
          "unique_count": 20,
          "nan_count": 0,
          "min": "-88.3712796",
          "max": "128.200789",
          "histogram": [
           {
            "bin_start": -88.3712796,
            "bin_end": -66.71407274,
            "count": 3
           },
           {
            "bin_start": -66.71407274,
            "bin_end": -45.056865880000004,
            "count": 0
           },
           {
            "bin_start": -45.056865880000004,
            "bin_end": -23.399659020000016,
            "count": 0
           },
           {
            "bin_start": -23.399659020000016,
            "bin_end": -1.7424521600000134,
            "count": 2
           },
           {
            "bin_start": -1.7424521600000134,
            "bin_end": 19.91475469999999,
            "count": 3
           },
           {
            "bin_start": 19.91475469999999,
            "bin_end": 41.57196155999996,
            "count": 2
           },
           {
            "bin_start": 41.57196155999996,
            "bin_end": 63.229168419999965,
            "count": 0
           },
           {
            "bin_start": 63.229168419999965,
            "bin_end": 84.88637527999997,
            "count": 0
           },
           {
            "bin_start": 84.88637527999997,
            "bin_end": 106.54358213999997,
            "count": 1
           },
           {
            "bin_start": 106.54358213999997,
            "bin_end": 128.200789,
            "count": 9
           }
          ]
         }
        },
        {
         "name": "Color",
         "dtype": "object",
         "stats": {
          "unique_count": 13,
          "nan_count": 0,
          "categories": [
           {
            "name": "Mauv",
            "count": 2
           },
           {
            "name": "Crimson",
            "count": 2
           },
           {
            "name": "11 others",
            "count": 16
           }
          ]
         }
        },
        {
         "name": "New Car",
         "dtype": "int64",
         "stats": {
          "unique_count": 2,
          "nan_count": 0,
          "min": "0",
          "max": "1",
          "histogram": [
           {
            "bin_start": 0,
            "bin_end": 0.1,
            "count": 12
           },
           {
            "bin_start": 0.1,
            "bin_end": 0.2,
            "count": 0
           },
           {
            "bin_start": 0.2,
            "bin_end": 0.30000000000000004,
            "count": 0
           },
           {
            "bin_start": 0.30000000000000004,
            "bin_end": 0.4,
            "count": 0
           },
           {
            "bin_start": 0.4,
            "bin_end": 0.5,
            "count": 0
           },
           {
            "bin_start": 0.5,
            "bin_end": 0.6000000000000001,
            "count": 0
           },
           {
            "bin_start": 0.6000000000000001,
            "bin_end": 0.7000000000000001,
            "count": 0
           },
           {
            "bin_start": 0.7000000000000001,
            "bin_end": 0.8,
            "count": 0
           },
           {
            "bin_start": 0.8,
            "bin_end": 0.9,
            "count": 0
           },
           {
            "bin_start": 0.9,
            "bin_end": 1,
            "count": 8
           }
          ]
         }
        },
        {
         "name": "Purchase Date",
         "dtype": "object",
         "stats": {
          "unique_count": 20,
          "nan_count": 0,
          "categories": [
           {
            "name": "5/11/2015",
            "count": 1
           },
           {
            "name": "2/04/2015",
            "count": 1
           },
           {
            "name": "18 others",
            "count": 18
           }
          ]
         }
        },
        {
         "name": "Sale Price",
         "dtype": "float64",
         "stats": {
          "unique_count": 20,
          "nan_count": 0,
          "min": "10886.07",
          "max": "99826.29",
          "histogram": [
           {
            "bin_start": 10886.07,
            "bin_end": 19780.092,
            "count": 1
           },
           {
            "bin_start": 19780.092,
            "bin_end": 28674.114,
            "count": 1
           },
           {
            "bin_start": 28674.114,
            "bin_end": 37568.136,
            "count": 1
           },
           {
            "bin_start": 37568.136,
            "bin_end": 46462.158,
            "count": 0
           },
           {
            "bin_start": 46462.158,
            "bin_end": 55356.18,
            "count": 2
           },
           {
            "bin_start": 55356.18,
            "bin_end": 64250.202000000005,
            "count": 2
           },
           {
            "bin_start": 64250.202000000005,
            "bin_end": 73144.22400000002,
            "count": 7
           },
           {
            "bin_start": 73144.22400000002,
            "bin_end": 82038.24600000001,
            "count": 1
           },
           {
            "bin_start": 82038.24600000001,
            "bin_end": 90932.26800000001,
            "count": 3
           },
           {
            "bin_start": 90932.26800000001,
            "bin_end": 99826.29,
            "count": 2
           }
          ]
         }
        },
        {
         "name": "Discount",
         "dtype": "float64",
         "stats": {
          "unique_count": 20,
          "nan_count": 0,
          "min": "0.0093",
          "max": "0.679",
          "histogram": [
           {
            "bin_start": 0.0093,
            "bin_end": 0.07627,
            "count": 5
           },
           {
            "bin_start": 0.07627,
            "bin_end": 0.14324,
            "count": 1
           },
           {
            "bin_start": 0.14324,
            "bin_end": 0.21021,
            "count": 4
           },
           {
            "bin_start": 0.21021,
            "bin_end": 0.27718,
            "count": 1
           },
           {
            "bin_start": 0.27718,
            "bin_end": 0.34414999999999996,
            "count": 1
           },
           {
            "bin_start": 0.34414999999999996,
            "bin_end": 0.41112,
            "count": 0
           },
           {
            "bin_start": 0.41112,
            "bin_end": 0.47809,
            "count": 1
           },
           {
            "bin_start": 0.47809,
            "bin_end": 0.54506,
            "count": 3
           },
           {
            "bin_start": 0.54506,
            "bin_end": 0.61203,
            "count": 1
           },
           {
            "bin_start": 0.61203,
            "bin_end": 0.679,
            "count": 3
           }
          ]
         }
        },
        {
         "name": "Resell Price",
         "dtype": "float64",
         "stats": {
          "unique_count": 20,
          "nan_count": 0,
          "min": "2185.58",
          "max": "47377.29",
          "histogram": [
           {
            "bin_start": 2185.58,
            "bin_end": 6704.751,
            "count": 4
           },
           {
            "bin_start": 6704.751,
            "bin_end": 11223.922,
            "count": 1
           },
           {
            "bin_start": 11223.922,
            "bin_end": 15743.093,
            "count": 3
           },
           {
            "bin_start": 15743.093,
            "bin_end": 20262.264000000003,
            "count": 4
           },
           {
            "bin_start": 20262.264000000003,
            "bin_end": 24781.435000000005,
            "count": 0
           },
           {
            "bin_start": 24781.435000000005,
            "bin_end": 29300.606,
            "count": 2
           },
           {
            "bin_start": 29300.606,
            "bin_end": 33819.777,
            "count": 1
           },
           {
            "bin_start": 33819.777,
            "bin_end": 38338.948000000004,
            "count": 1
           },
           {
            "bin_start": 38338.948000000004,
            "bin_end": 42858.119000000006,
            "count": 1
           },
           {
            "bin_start": 42858.119000000006,
            "bin_end": 47377.29,
            "count": 3
           }
          ]
         }
        },
        {
         "name": "5-yr Depreciation",
         "dtype": "float64",
         "stats": {
          "unique_count": 13,
          "nan_count": 0,
          "min": "0.01",
          "max": "0.22",
          "histogram": [
           {
            "bin_start": 0.01,
            "bin_end": 0.031,
            "count": 4
           },
           {
            "bin_start": 0.031,
            "bin_end": 0.052,
            "count": 0
           },
           {
            "bin_start": 0.052,
            "bin_end": 0.073,
            "count": 2
           },
           {
            "bin_start": 0.073,
            "bin_end": 0.09399999999999999,
            "count": 0
           },
           {
            "bin_start": 0.09399999999999999,
            "bin_end": 0.11499999999999998,
            "count": 1
           },
           {
            "bin_start": 0.11499999999999998,
            "bin_end": 0.136,
            "count": 2
           },
           {
            "bin_start": 0.136,
            "bin_end": 0.157,
            "count": 2
           },
           {
            "bin_start": 0.157,
            "bin_end": 0.178,
            "count": 5
           },
           {
            "bin_start": 0.178,
            "bin_end": 0.19899999999999998,
            "count": 0
           },
           {
            "bin_start": 0.19899999999999998,
            "bin_end": 0.22,
            "count": 4
           }
          ]
         }
        },
        {
         "name": "Top Speed",
         "dtype": "float64",
         "stats": {
          "unique_count": 20,
          "nan_count": 0,
          "min": "133.1",
          "max": "249.8",
          "histogram": [
           {
            "bin_start": 133.1,
            "bin_end": 144.76999999999998,
            "count": 4
           },
           {
            "bin_start": 144.76999999999998,
            "bin_end": 156.44,
            "count": 2
           },
           {
            "bin_start": 156.44,
            "bin_end": 168.11,
            "count": 1
           },
           {
            "bin_start": 168.11,
            "bin_end": 179.78,
            "count": 4
           },
           {
            "bin_start": 179.78,
            "bin_end": 191.45,
            "count": 2
           },
           {
            "bin_start": 191.45,
            "bin_end": 203.12,
            "count": 2
           },
           {
            "bin_start": 203.12,
            "bin_end": 214.79000000000002,
            "count": 1
           },
           {
            "bin_start": 214.79000000000002,
            "bin_end": 226.46,
            "count": 3
           },
           {
            "bin_start": 226.46,
            "bin_end": 238.13,
            "count": 0
           },
           {
            "bin_start": 238.13,
            "bin_end": 249.8,
            "count": 1
           }
          ]
         }
        },
        {
         "name": "0-60 Time",
         "dtype": "float64",
         "stats": {
          "unique_count": 18,
          "nan_count": 0,
          "min": "2.5",
          "max": "13.5",
          "histogram": [
           {
            "bin_start": 2.5,
            "bin_end": 3.6,
            "count": 1
           },
           {
            "bin_start": 3.6,
            "bin_end": 4.7,
            "count": 2
           },
           {
            "bin_start": 4.7,
            "bin_end": 5.800000000000001,
            "count": 2
           },
           {
            "bin_start": 5.800000000000001,
            "bin_end": 6.9,
            "count": 2
           },
           {
            "bin_start": 6.9,
            "bin_end": 8,
            "count": 1
           },
           {
            "bin_start": 8,
            "bin_end": 9.100000000000001,
            "count": 2
           },
           {
            "bin_start": 9.100000000000001,
            "bin_end": 10.200000000000001,
            "count": 4
           },
           {
            "bin_start": 10.200000000000001,
            "bin_end": 11.3,
            "count": 5
           },
           {
            "bin_start": 11.3,
            "bin_end": 12.4,
            "count": 0
           },
           {
            "bin_start": 12.4,
            "bin_end": 13.5,
            "count": 1
           }
          ]
         }
        },
        {
         "name": "_deepnote_index_column",
         "dtype": "int64"
        }
       ],
       "rows": [
        {
         "Make": "Infiniti",
         "Model": "G",
         "Nickname": "Eliot",
         "Car Gender": "Male",
         "Buyer Age": 51,
         "Buzzword": "multi-tasking",
         "Country": "Hungary",
         "City": "Budapest",
         "Dealer Latitude": 47.3879065,
         "Dealer Longitude": 19.1150392,
         "Color": "Mauv",
         "New Car": 1,
         "Purchase Date": "5/11/2015",
         "Sale Price": 70924.82,
         "Discount": 0.679,
         "Resell Price": 13065.96,
         "5-yr Depreciation": 0.12,
         "Top Speed": 187.7,
         "0-60 Time": 9.8,
         "_deepnote_index_column": 0
        },
        {
         "Make": "Chevrolet",
         "Model": "Suburban 2500",
         "Nickname": "Bryna",
         "Car Gender": "Male",
         "Buyer Age": 59,
         "Buzzword": "framework",
         "Country": "Indonesia",
         "City": "Liliba",
         "Dealer Latitude": -10.170262,
         "Dealer Longitude": 123.6427533,
         "Color": "Crimson",
         "New Car": 0,
         "Purchase Date": "2/04/2015",
         "Sale Price": 90407.26,
         "Discount": 0.1462,
         "Resell Price": 40998.62,
         "5-yr Depreciation": 0.16,
         "Top Speed": 197.9,
         "0-60 Time": 2.5,
         "_deepnote_index_column": 1
        },
        {
         "Make": "Mitsubishi",
         "Model": "Precis",
         "Nickname": "Mack",
         "Car Gender": "Female",
         "Buyer Age": 32,
         "Buzzword": "homogeneous",
         "Country": "China",
         "City": "Shuangxing",
         "Dealer Latitude": 41.7730238,
         "Dealer Longitude": 123.3561121,
         "Color": "Fuscia",
         "New Car": 0,
         "Purchase Date": "5/06/2016",
         "Sale Price": 51744.01,
         "Discount": 0.1785,
         "Resell Price": 17450.08,
         "5-yr Depreciation": 0.22,
         "Top Speed": 152.3,
         "0-60 Time": 10.9,
         "_deepnote_index_column": 2
        },
        {
         "Make": "Mercedes-Benz",
         "Model": "E-Class",
         "Nickname": "Elora",
         "Car Gender": "Female",
         "Buyer Age": 43,
         "Buzzword": "attitude-oriented",
         "Country": "France",
         "City": "Grenoble",
         "Dealer Latitude": 45.1934857,
         "Dealer Longitude": 5.7218985,
         "Color": "Violet",
         "New Car": 0,
         "Purchase Date": "29/05/2016",
         "Sale Price": 60654.6,
         "Discount": 0.2899,
         "Resell Price": 43694.28,
         "5-yr Depreciation": 0.06,
         "Top Speed": 179,
         "0-60 Time": 5.6,
         "_deepnote_index_column": 3
        },
        {
         "Make": "Plymouth",
         "Model": "Breeze",
         "Nickname": "Sigvard",
         "Car Gender": "Male",
         "Buyer Age": 34,
         "Buzzword": "Inverse",
         "Country": "Ukraine",
         "City": "Khust",
         "Dealer Latitude": 48.1734633,
         "Dealer Longitude": 23.2972476,
         "Color": "Indigo",
         "New Car": 0,
         "Purchase Date": "10/03/2009",
         "Sale Price": 68702.62,
         "Discount": 0.0721,
         "Resell Price": 19594.64,
         "5-yr Depreciation": 0.14,
         "Top Speed": 225,
         "0-60 Time": 10.3,
         "_deepnote_index_column": 4
        },
        {
         "Make": "Chevrolet",
         "Model": "Avalanche",
         "Nickname": "Rutherford",
         "Car Gender": "Female",
         "Buyer Age": 49,
         "Buzzword": "definition",
         "Country": "China",
         "City": "Changbai",
         "Dealer Latitude": 41.420018,
         "Dealer Longitude": 128.200789,
         "Color": "Puce",
         "New Car": 0,
         "Purchase Date": "21/08/2009",
         "Sale Price": 71175.68,
         "Discount": 0.2651,
         "Resell Price": 2185.58,
         "5-yr Depreciation": 0.22,
         "Top Speed": 249.8,
         "0-60 Time": 10.1,
         "_deepnote_index_column": 5
        },
        {
         "Make": "Dodge",
         "Model": "Grand Caravan",
         "Nickname": "Gaylor",
         "Car Gender": "Female",
         "Buyer Age": 22,
         "Buzzword": "hardware",
         "Country": "Serbia",
         "City": "Ruma",
         "Dealer Latitude": 45.0075322,
         "Dealer Longitude": 19.8227166,
         "Color": "Orange",
         "New Car": 0,
         "Purchase Date": "25/08/2003",
         "Sale Price": 85994.34,
         "Discount": 0.4909,
         "Resell Price": 12847.23,
         "5-yr Depreciation": 0.22,
         "Top Speed": 141.5,
         "0-60 Time": 10.3,
         "_deepnote_index_column": 6
        },
        {
         "Make": "Toyota",
         "Model": "Celica",
         "Nickname": "Emilie",
         "Car Gender": "Male",
         "Buyer Age": 27,
         "Buzzword": "Realigned",
         "Country": "Portugal",
         "City": "Castedo",
         "Dealer Latitude": 41.2270631,
         "Dealer Longitude": -7.4666688,
         "Color": "Teal",
         "New Car": 0,
         "Purchase Date": "26/02/2006",
         "Sale Price": 75295.6,
         "Discount": 0.611,
         "Resell Price": 46941.06,
         "5-yr Depreciation": 0.01,
         "Top Speed": 225.3,
         "0-60 Time": 8.2,
         "_deepnote_index_column": 7
        },
        {
         "Make": "Spyker",
         "Model": "C8 Double 12 S",
         "Nickname": "Datha",
         "Car Gender": "Female",
         "Buyer Age": 69,
         "Buzzword": "Managed",
         "Country": "Colombia",
         "City": "San Agustín",
         "Dealer Latitude": 1.879826,
         "Dealer Longitude": -76.270749,
         "Color": "Turquoise",
         "New Car": 1,
         "Purchase Date": "15/09/2009",
         "Sale Price": 83554.58,
         "Discount": 0.1577,
         "Resell Price": 25312.41,
         "5-yr Depreciation": 0.11,
         "Top Speed": 150.1,
         "0-60 Time": 6.1,
         "_deepnote_index_column": 8
        },
        {
         "Make": "GMC",
         "Model": "Yukon XL 1500",
         "Nickname": "Chickie",
         "Car Gender": "Male",
         "Buyer Age": 70,
         "Buzzword": "internet solution",
         "Country": "Indonesia",
         "City": "Waitenepang",
         "Dealer Latitude": -8.2717886,
         "Dealer Longitude": 123.1119371,
         "Color": "Khaki",
         "New Car": 1,
         "Purchase Date": "13/06/2018",
         "Sale Price": 62588.26,
         "Discount": 0.5413,
         "Resell Price": 37943.73,
         "5-yr Depreciation": 0.16,
         "Top Speed": 133.1,
         "0-60 Time": 11.1,
         "_deepnote_index_column": 9
        }
       ]
      },
      "text/plain": "             Make           Model    Nickname Car Gender  Buyer Age  \\\n0        Infiniti               G       Eliot       Male         51   \n1       Chevrolet   Suburban 2500       Bryna       Male         59   \n2      Mitsubishi          Precis        Mack     Female         32   \n3   Mercedes-Benz         E-Class       Elora     Female         43   \n4        Plymouth          Breeze     Sigvard       Male         34   \n5       Chevrolet       Avalanche  Rutherford     Female         49   \n6           Dodge   Grand Caravan      Gaylor     Female         22   \n7          Toyota          Celica      Emilie       Male         27   \n8          Spyker  C8 Double 12 S       Datha     Female         69   \n9             GMC   Yukon XL 1500     Chickie       Male         70   \n10     Mitsubishi          Mirage        Dion     Female         68   \n11          Dodge        Ram 3500      Marsha     Female         21   \n12         Suzuki        Sidekick        Edee       Male         53   \n13      Chevrolet         Caprice        Vito     Female         24   \n14          Mazda            CX-9      Georgy     Female         71   \n15          Lexus              LX       Tarra       Male         50   \n16           Ford         Country      Ardath     Female         58   \n17          Dodge         Stratus      Maisey     Female         74   \n18       Infiniti               Q       Brett     Female         37   \n19         Subaru           Leone    Basilius     Female         48   \n\n              Buzzword                Country           City  Dealer Latitude  \\\n0        multi-tasking                Hungary       Budapest        47.387906   \n1            framework              Indonesia         Liliba       -10.170262   \n2          homogeneous                  China     Shuangxing        41.773024   \n3    attitude-oriented                 France       Grenoble        45.193486   \n4              Inverse                Ukraine          Khust        48.173463   \n5           definition                  China       Changbai        41.420018   \n6             hardware                 Serbia           Ruma        45.007532   \n7            Realigned               Portugal        Castedo        41.227063   \n8              Managed               Colombia    San Agustín         1.879826   \n9    internet solution              Indonesia    Waitenepang        -8.271789   \n10  Reverse-engineered               Portugal     Portalegre        39.286842   \n11  Fully-configurable              Indonesia    Urungpigang        -8.603476   \n12             radical  Palestinian Territory  Dayr as Sūdān        32.032130   \n13           Polarised                 Belize      Placencia        16.521160   \n14    Customer-focused              Indonesia       Kalahang        -6.307730   \n15             Diverse                  China       Gongqiao        25.242158   \n16    Customer-focused               Malaysia     Lahad Datu         5.028187   \n17          capability              Indonesia        Langnga        -3.850676   \n18            Reactive                   Peru         Yungay        -9.138417   \n19         even-keeled                  China       Jiujiang        29.705077   \n\n    Dealer Longitude       Color  New Car Purchase Date  Sale Price  Discount  \\\n0          19.115039        Mauv        1     5/11/2015    70924.82    0.6790   \n1         123.642753     Crimson        0     2/04/2015    90407.26    0.1462   \n2         123.356112      Fuscia        0     5/06/2016    51744.01    0.1785   \n3           5.721898      Violet        0    29/05/2016    60654.60    0.2899   \n4          23.297248      Indigo        0    10/03/2009    68702.62    0.0721   \n5         128.200789        Puce        0    21/08/2009    71175.68    0.2651   \n6          19.822717      Orange        0    25/08/2003    85994.34    0.4909   \n7          -7.466669        Teal        0    26/02/2006    75295.60    0.6110   \n8         -76.270749   Turquoise        1    15/09/2009    83554.58    0.1577   \n9         123.111937       Khaki        1    13/06/2018    62588.26    0.5413   \n10         -7.422906        Blue        1    19/05/2012    22134.39    0.0133   \n11        122.187327        Blue        0    19/11/2011    49281.63    0.1491   \n12         35.148440      Yellow        1     7/07/2002    69709.90    0.4227   \n13        -88.371280       Khaki        1    19/12/2018    99826.29    0.1420   \n14        106.183122      Orange        0     1/12/2015    65530.34    0.6626   \n15        117.326355  Aquamarine        1     1/05/2002    35786.13    0.5038   \n16        118.315716      Indigo        0    22/06/2005    10886.07    0.0224   \n17        119.528171  Aquamarine        1    28/08/2015    91313.52    0.0093   \n18        -77.742347        Mauv        0     5/05/2012    70500.78    0.0107   \n19        116.001930     Crimson        0    31/12/2016    71353.09    0.6575   \n\n    Resell Price  5-yr Depreciation  Top Speed  0-60 Time  \n0       13065.96               0.12      187.7        9.8  \n1       40998.62               0.16      197.9        2.5  \n2       17450.08               0.22      152.3       10.9  \n3       43694.28               0.06      179.0        5.6  \n4       19594.64               0.14      225.0       10.3  \n5        2185.58               0.22      249.8       10.1  \n6       12847.23               0.22      141.5       10.3  \n7       46941.06               0.01      225.3        8.2  \n8       25312.41               0.11      150.1        6.1  \n9       37943.73               0.16      133.1       11.1  \n10      17652.88               0.02      135.0        5.2  \n11      27870.26               0.16      208.2       11.0  \n12       3891.35               0.17      178.3        7.9  \n13      20195.92               0.17      172.0        9.1  \n14       5422.34               0.20      173.6        6.0  \n15      47377.29               0.13      158.0       10.0  \n16      31442.01               0.02      138.5        3.8  \n17       5381.50               0.03      223.0       13.5  \n18      14152.24               0.15      188.3        3.9  \n19       8845.61               0.06      192.2       10.0  ",
      "text/html": "<div>\n<style scoped>\n    .dataframe tbody tr th:only-of-type {\n        vertical-align: middle;\n    }\n\n    .dataframe tbody tr th {\n        vertical-align: top;\n    }\n\n    .dataframe thead th {\n        text-align: right;\n    }\n</style>\n<table border=\"1\" class=\"dataframe\">\n  <thead>\n    <tr style=\"text-align: right;\">\n      <th></th>\n      <th>Make</th>\n      <th>Model</th>\n      <th>Nickname</th>\n      <th>Car Gender</th>\n      <th>Buyer Age</th>\n      <th>Buzzword</th>\n      <th>Country</th>\n      <th>City</th>\n      <th>Dealer Latitude</th>\n      <th>Dealer Longitude</th>\n      <th>Color</th>\n      <th>New Car</th>\n      <th>Purchase Date</th>\n      <th>Sale Price</th>\n      <th>Discount</th>\n      <th>Resell Price</th>\n      <th>5-yr Depreciation</th>\n      <th>Top Speed</th>\n      <th>0-60 Time</th>\n    </tr>\n  </thead>\n  <tbody>\n    <tr>\n      <th>0</th>\n      <td>Infiniti</td>\n      <td>G</td>\n      <td>Eliot</td>\n      <td>Male</td>\n      <td>51</td>\n      <td>multi-tasking</td>\n      <td>Hungary</td>\n      <td>Budapest</td>\n      <td>47.387906</td>\n      <td>19.115039</td>\n      <td>Mauv</td>\n      <td>1</td>\n      <td>5/11/2015</td>\n      <td>70924.82</td>\n      <td>0.6790</td>\n      <td>13065.96</td>\n      <td>0.12</td>\n      <td>187.7</td>\n      <td>9.8</td>\n    </tr>\n    <tr>\n      <th>1</th>\n      <td>Chevrolet</td>\n      <td>Suburban 2500</td>\n      <td>Bryna</td>\n      <td>Male</td>\n      <td>59</td>\n      <td>framework</td>\n      <td>Indonesia</td>\n      <td>Liliba</td>\n      <td>-10.170262</td>\n      <td>123.642753</td>\n      <td>Crimson</td>\n      <td>0</td>\n      <td>2/04/2015</td>\n      <td>90407.26</td>\n      <td>0.1462</td>\n      <td>40998.62</td>\n      <td>0.16</td>\n      <td>197.9</td>\n      <td>2.5</td>\n    </tr>\n    <tr>\n      <th>2</th>\n      <td>Mitsubishi</td>\n      <td>Precis</td>\n      <td>Mack</td>\n      <td>Female</td>\n      <td>32</td>\n      <td>homogeneous</td>\n      <td>China</td>\n      <td>Shuangxing</td>\n      <td>41.773024</td>\n      <td>123.356112</td>\n      <td>Fuscia</td>\n      <td>0</td>\n      <td>5/06/2016</td>\n      <td>51744.01</td>\n      <td>0.1785</td>\n      <td>17450.08</td>\n      <td>0.22</td>\n      <td>152.3</td>\n      <td>10.9</td>\n    </tr>\n    <tr>\n      <th>3</th>\n      <td>Mercedes-Benz</td>\n      <td>E-Class</td>\n      <td>Elora</td>\n      <td>Female</td>\n      <td>43</td>\n      <td>attitude-oriented</td>\n      <td>France</td>\n      <td>Grenoble</td>\n      <td>45.193486</td>\n      <td>5.721898</td>\n      <td>Violet</td>\n      <td>0</td>\n      <td>29/05/2016</td>\n      <td>60654.60</td>\n      <td>0.2899</td>\n      <td>43694.28</td>\n      <td>0.06</td>\n      <td>179.0</td>\n      <td>5.6</td>\n    </tr>\n    <tr>\n      <th>4</th>\n      <td>Plymouth</td>\n      <td>Breeze</td>\n      <td>Sigvard</td>\n      <td>Male</td>\n      <td>34</td>\n      <td>Inverse</td>\n      <td>Ukraine</td>\n      <td>Khust</td>\n      <td>48.173463</td>\n      <td>23.297248</td>\n      <td>Indigo</td>\n      <td>0</td>\n      <td>10/03/2009</td>\n      <td>68702.62</td>\n      <td>0.0721</td>\n      <td>19594.64</td>\n      <td>0.14</td>\n      <td>225.0</td>\n      <td>10.3</td>\n    </tr>\n    <tr>\n      <th>5</th>\n      <td>Chevrolet</td>\n      <td>Avalanche</td>\n      <td>Rutherford</td>\n      <td>Female</td>\n      <td>49</td>\n      <td>definition</td>\n      <td>China</td>\n      <td>Changbai</td>\n      <td>41.420018</td>\n      <td>128.200789</td>\n      <td>Puce</td>\n      <td>0</td>\n      <td>21/08/2009</td>\n      <td>71175.68</td>\n      <td>0.2651</td>\n      <td>2185.58</td>\n      <td>0.22</td>\n      <td>249.8</td>\n      <td>10.1</td>\n    </tr>\n    <tr>\n      <th>6</th>\n      <td>Dodge</td>\n      <td>Grand Caravan</td>\n      <td>Gaylor</td>\n      <td>Female</td>\n      <td>22</td>\n      <td>hardware</td>\n      <td>Serbia</td>\n      <td>Ruma</td>\n      <td>45.007532</td>\n      <td>19.822717</td>\n      <td>Orange</td>\n      <td>0</td>\n      <td>25/08/2003</td>\n      <td>85994.34</td>\n      <td>0.4909</td>\n      <td>12847.23</td>\n      <td>0.22</td>\n      <td>141.5</td>\n      <td>10.3</td>\n    </tr>\n    <tr>\n      <th>7</th>\n      <td>Toyota</td>\n      <td>Celica</td>\n      <td>Emilie</td>\n      <td>Male</td>\n      <td>27</td>\n      <td>Realigned</td>\n      <td>Portugal</td>\n      <td>Castedo</td>\n      <td>41.227063</td>\n      <td>-7.466669</td>\n      <td>Teal</td>\n      <td>0</td>\n      <td>26/02/2006</td>\n      <td>75295.60</td>\n      <td>0.6110</td>\n      <td>46941.06</td>\n      <td>0.01</td>\n      <td>225.3</td>\n      <td>8.2</td>\n    </tr>\n    <tr>\n      <th>8</th>\n      <td>Spyker</td>\n      <td>C8 Double 12 S</td>\n      <td>Datha</td>\n      <td>Female</td>\n      <td>69</td>\n      <td>Managed</td>\n      <td>Colombia</td>\n      <td>San Agustín</td>\n      <td>1.879826</td>\n      <td>-76.270749</td>\n      <td>Turquoise</td>\n      <td>1</td>\n      <td>15/09/2009</td>\n      <td>83554.58</td>\n      <td>0.1577</td>\n      <td>25312.41</td>\n      <td>0.11</td>\n      <td>150.1</td>\n      <td>6.1</td>\n    </tr>\n    <tr>\n      <th>9</th>\n      <td>GMC</td>\n      <td>Yukon XL 1500</td>\n      <td>Chickie</td>\n      <td>Male</td>\n      <td>70</td>\n      <td>internet solution</td>\n      <td>Indonesia</td>\n      <td>Waitenepang</td>\n      <td>-8.271789</td>\n      <td>123.111937</td>\n      <td>Khaki</td>\n      <td>1</td>\n      <td>13/06/2018</td>\n      <td>62588.26</td>\n      <td>0.5413</td>\n      <td>37943.73</td>\n      <td>0.16</td>\n      <td>133.1</td>\n      <td>11.1</td>\n    </tr>\n    <tr>\n      <th>10</th>\n      <td>Mitsubishi</td>\n      <td>Mirage</td>\n      <td>Dion</td>\n      <td>Female</td>\n      <td>68</td>\n      <td>Reverse-engineered</td>\n      <td>Portugal</td>\n      <td>Portalegre</td>\n      <td>39.286842</td>\n      <td>-7.422906</td>\n      <td>Blue</td>\n      <td>1</td>\n      <td>19/05/2012</td>\n      <td>22134.39</td>\n      <td>0.0133</td>\n      <td>17652.88</td>\n      <td>0.02</td>\n      <td>135.0</td>\n      <td>5.2</td>\n    </tr>\n    <tr>\n      <th>11</th>\n      <td>Dodge</td>\n      <td>Ram 3500</td>\n      <td>Marsha</td>\n      <td>Female</td>\n      <td>21</td>\n      <td>Fully-configurable</td>\n      <td>Indonesia</td>\n      <td>Urungpigang</td>\n      <td>-8.603476</td>\n      <td>122.187327</td>\n      <td>Blue</td>\n      <td>0</td>\n      <td>19/11/2011</td>\n      <td>49281.63</td>\n      <td>0.1491</td>\n      <td>27870.26</td>\n      <td>0.16</td>\n      <td>208.2</td>\n      <td>11.0</td>\n    </tr>\n    <tr>\n      <th>12</th>\n      <td>Suzuki</td>\n      <td>Sidekick</td>\n      <td>Edee</td>\n      <td>Male</td>\n      <td>53</td>\n      <td>radical</td>\n      <td>Palestinian Territory</td>\n      <td>Dayr as Sūdān</td>\n      <td>32.032130</td>\n      <td>35.148440</td>\n      <td>Yellow</td>\n      <td>1</td>\n      <td>7/07/2002</td>\n      <td>69709.90</td>\n      <td>0.4227</td>\n      <td>3891.35</td>\n      <td>0.17</td>\n      <td>178.3</td>\n      <td>7.9</td>\n    </tr>\n    <tr>\n      <th>13</th>\n      <td>Chevrolet</td>\n      <td>Caprice</td>\n      <td>Vito</td>\n      <td>Female</td>\n      <td>24</td>\n      <td>Polarised</td>\n      <td>Belize</td>\n      <td>Placencia</td>\n      <td>16.521160</td>\n      <td>-88.371280</td>\n      <td>Khaki</td>\n      <td>1</td>\n      <td>19/12/2018</td>\n      <td>99826.29</td>\n      <td>0.1420</td>\n      <td>20195.92</td>\n      <td>0.17</td>\n      <td>172.0</td>\n      <td>9.1</td>\n    </tr>\n    <tr>\n      <th>14</th>\n      <td>Mazda</td>\n      <td>CX-9</td>\n      <td>Georgy</td>\n      <td>Female</td>\n      <td>71</td>\n      <td>Customer-focused</td>\n      <td>Indonesia</td>\n      <td>Kalahang</td>\n      <td>-6.307730</td>\n      <td>106.183122</td>\n      <td>Orange</td>\n      <td>0</td>\n      <td>1/12/2015</td>\n      <td>65530.34</td>\n      <td>0.6626</td>\n      <td>5422.34</td>\n      <td>0.20</td>\n      <td>173.6</td>\n      <td>6.0</td>\n    </tr>\n    <tr>\n      <th>15</th>\n      <td>Lexus</td>\n      <td>LX</td>\n      <td>Tarra</td>\n      <td>Male</td>\n      <td>50</td>\n      <td>Diverse</td>\n      <td>China</td>\n      <td>Gongqiao</td>\n      <td>25.242158</td>\n      <td>117.326355</td>\n      <td>Aquamarine</td>\n      <td>1</td>\n      <td>1/05/2002</td>\n      <td>35786.13</td>\n      <td>0.5038</td>\n      <td>47377.29</td>\n      <td>0.13</td>\n      <td>158.0</td>\n      <td>10.0</td>\n    </tr>\n    <tr>\n      <th>16</th>\n      <td>Ford</td>\n      <td>Country</td>\n      <td>Ardath</td>\n      <td>Female</td>\n      <td>58</td>\n      <td>Customer-focused</td>\n      <td>Malaysia</td>\n      <td>Lahad Datu</td>\n      <td>5.028187</td>\n      <td>118.315716</td>\n      <td>Indigo</td>\n      <td>0</td>\n      <td>22/06/2005</td>\n      <td>10886.07</td>\n      <td>0.0224</td>\n      <td>31442.01</td>\n      <td>0.02</td>\n      <td>138.5</td>\n      <td>3.8</td>\n    </tr>\n    <tr>\n      <th>17</th>\n      <td>Dodge</td>\n      <td>Stratus</td>\n      <td>Maisey</td>\n      <td>Female</td>\n      <td>74</td>\n      <td>capability</td>\n      <td>Indonesia</td>\n      <td>Langnga</td>\n      <td>-3.850676</td>\n      <td>119.528171</td>\n      <td>Aquamarine</td>\n      <td>1</td>\n      <td>28/08/2015</td>\n      <td>91313.52</td>\n      <td>0.0093</td>\n      <td>5381.50</td>\n      <td>0.03</td>\n      <td>223.0</td>\n      <td>13.5</td>\n    </tr>\n    <tr>\n      <th>18</th>\n      <td>Infiniti</td>\n      <td>Q</td>\n      <td>Brett</td>\n      <td>Female</td>\n      <td>37</td>\n      <td>Reactive</td>\n      <td>Peru</td>\n      <td>Yungay</td>\n      <td>-9.138417</td>\n      <td>-77.742347</td>\n      <td>Mauv</td>\n      <td>0</td>\n      <td>5/05/2012</td>\n      <td>70500.78</td>\n      <td>0.0107</td>\n      <td>14152.24</td>\n      <td>0.15</td>\n      <td>188.3</td>\n      <td>3.9</td>\n    </tr>\n    <tr>\n      <th>19</th>\n      <td>Subaru</td>\n      <td>Leone</td>\n      <td>Basilius</td>\n      <td>Female</td>\n      <td>48</td>\n      <td>even-keeled</td>\n      <td>China</td>\n      <td>Jiujiang</td>\n      <td>29.705077</td>\n      <td>116.001930</td>\n      <td>Crimson</td>\n      <td>0</td>\n      <td>31/12/2016</td>\n      <td>71353.09</td>\n      <td>0.6575</td>\n      <td>8845.61</td>\n      <td>0.06</td>\n      <td>192.2</td>\n      <td>10.0</td>\n    </tr>\n  </tbody>\n</table>\n</div>"
     },
     "metadata": {}
    }
   ],
   "execution_count": null
  },
  {
   "cell_type": "code",
   "metadata": {
    "cell_id": "00042-59d688b8-f523-4747-a3de-2419accc9825",
    "deepnote_app_coordinates": {
     "x": 0,
     "y": 240,
     "w": 12,
     "h": 5
    },
    "deepnote_to_be_reexecuted": false,
    "source_hash": "86ee1dc7",
    "execution_start": 1650237555638,
    "execution_millis": 94,
    "deepnote_cell_type": "code",
    "deepnote_cell_height": 1085.796875,
    "deepnote_output_heights": [
     null,
     177
    ]
   },
   "source": "print(test.info())\ntest[[\n    \"Buyer Age\",\n    \"Top Speed\",\n    \"5-yr Depreciation\",\n    \"Sale Price\"\n]].head()",
   "outputs": [
    {
     "name": "stdout",
     "text": "<class 'pandas.core.frame.DataFrame'>\nRangeIndex: 5002 entries, 0 to 5001\nData columns (total 19 columns):\n #   Column             Non-Null Count  Dtype  \n---  ------             --------------  -----  \n 0   Make               5002 non-null   object \n 1   Model              5002 non-null   object \n 2   Nickname           5002 non-null   object \n 3   Car Gender         5002 non-null   object \n 4   Buyer Age          5002 non-null   int64  \n 5   Buzzword           5002 non-null   object \n 6   Country            5002 non-null   object \n 7   City               5002 non-null   object \n 8   Dealer Latitude    5002 non-null   float64\n 9   Dealer Longitude   5002 non-null   float64\n 10  Color              5002 non-null   object \n 11  New Car            5002 non-null   int64  \n 12  Purchase Date      5002 non-null   object \n 13  Sale Price         5002 non-null   float64\n 14  Discount           5002 non-null   float64\n 15  Resell Price       5002 non-null   float64\n 16  5-yr Depreciation  5002 non-null   float64\n 17  Top Speed          5002 non-null   float64\n 18  0-60 Time          5002 non-null   float64\ndtypes: float64(8), int64(2), object(9)\nmemory usage: 742.6+ KB\nNone\n",
     "output_type": "stream"
    },
    {
     "output_type": "execute_result",
     "execution_count": 29,
     "data": {
      "application/vnd.deepnote.dataframe.v3+json": {
       "column_count": 4,
       "row_count": 5,
       "columns": [
        {
         "name": "Buyer Age",
         "dtype": "int64",
         "stats": {
          "unique_count": 5,
          "nan_count": 0,
          "min": "32",
          "max": "59",
          "histogram": [
           {
            "bin_start": 32,
            "bin_end": 34.7,
            "count": 2
           },
           {
            "bin_start": 34.7,
            "bin_end": 37.4,
            "count": 0
           },
           {
            "bin_start": 37.4,
            "bin_end": 40.1,
            "count": 0
           },
           {
            "bin_start": 40.1,
            "bin_end": 42.8,
            "count": 0
           },
           {
            "bin_start": 42.8,
            "bin_end": 45.5,
            "count": 1
           },
           {
            "bin_start": 45.5,
            "bin_end": 48.2,
            "count": 0
           },
           {
            "bin_start": 48.2,
            "bin_end": 50.900000000000006,
            "count": 0
           },
           {
            "bin_start": 50.900000000000006,
            "bin_end": 53.6,
            "count": 1
           },
           {
            "bin_start": 53.6,
            "bin_end": 56.3,
            "count": 0
           },
           {
            "bin_start": 56.3,
            "bin_end": 59,
            "count": 1
           }
          ]
         }
        },
        {
         "name": "Top Speed",
         "dtype": "float64",
         "stats": {
          "unique_count": 5,
          "nan_count": 0,
          "min": "152.3",
          "max": "225.0",
          "histogram": [
           {
            "bin_start": 152.3,
            "bin_end": 159.57000000000002,
            "count": 1
           },
           {
            "bin_start": 159.57000000000002,
            "bin_end": 166.84,
            "count": 0
           },
           {
            "bin_start": 166.84,
            "bin_end": 174.11,
            "count": 0
           },
           {
            "bin_start": 174.11,
            "bin_end": 181.38,
            "count": 1
           },
           {
            "bin_start": 181.38,
            "bin_end": 188.65,
            "count": 1
           },
           {
            "bin_start": 188.65,
            "bin_end": 195.92000000000002,
            "count": 0
           },
           {
            "bin_start": 195.92000000000002,
            "bin_end": 203.19,
            "count": 1
           },
           {
            "bin_start": 203.19,
            "bin_end": 210.46,
            "count": 0
           },
           {
            "bin_start": 210.46,
            "bin_end": 217.73000000000002,
            "count": 0
           },
           {
            "bin_start": 217.73000000000002,
            "bin_end": 225,
            "count": 1
           }
          ]
         }
        },
        {
         "name": "5-yr Depreciation",
         "dtype": "float64",
         "stats": {
          "unique_count": 5,
          "nan_count": 0,
          "min": "0.06",
          "max": "0.22",
          "histogram": [
           {
            "bin_start": 0.06,
            "bin_end": 0.076,
            "count": 1
           },
           {
            "bin_start": 0.076,
            "bin_end": 0.092,
            "count": 0
           },
           {
            "bin_start": 0.092,
            "bin_end": 0.108,
            "count": 0
           },
           {
            "bin_start": 0.108,
            "bin_end": 0.124,
            "count": 1
           },
           {
            "bin_start": 0.124,
            "bin_end": 0.14,
            "count": 0
           },
           {
            "bin_start": 0.14,
            "bin_end": 0.156,
            "count": 1
           },
           {
            "bin_start": 0.156,
            "bin_end": 0.172,
            "count": 1
           },
           {
            "bin_start": 0.172,
            "bin_end": 0.188,
            "count": 0
           },
           {
            "bin_start": 0.188,
            "bin_end": 0.20400000000000001,
            "count": 0
           },
           {
            "bin_start": 0.20400000000000001,
            "bin_end": 0.22,
            "count": 1
           }
          ]
         }
        },
        {
         "name": "Sale Price",
         "dtype": "float64",
         "stats": {
          "unique_count": 5,
          "nan_count": 0,
          "min": "51744.01",
          "max": "90407.26",
          "histogram": [
           {
            "bin_start": 51744.01,
            "bin_end": 55610.335,
            "count": 1
           },
           {
            "bin_start": 55610.335,
            "bin_end": 59476.66,
            "count": 0
           },
           {
            "bin_start": 59476.66,
            "bin_end": 63342.985,
            "count": 1
           },
           {
            "bin_start": 63342.985,
            "bin_end": 67209.31,
            "count": 0
           },
           {
            "bin_start": 67209.31,
            "bin_end": 71075.635,
            "count": 2
           },
           {
            "bin_start": 71075.635,
            "bin_end": 74941.95999999999,
            "count": 0
           },
           {
            "bin_start": 74941.95999999999,
            "bin_end": 78808.285,
            "count": 0
           },
           {
            "bin_start": 78808.285,
            "bin_end": 82674.61,
            "count": 0
           },
           {
            "bin_start": 82674.61,
            "bin_end": 86540.935,
            "count": 0
           },
           {
            "bin_start": 86540.935,
            "bin_end": 90407.26,
            "count": 1
           }
          ]
         }
        },
        {
         "name": "_deepnote_index_column",
         "dtype": "int64"
        }
       ],
       "rows": [
        {
         "Buyer Age": 51,
         "Top Speed": 187.7,
         "5-yr Depreciation": 0.12,
         "Sale Price": 70924.82,
         "_deepnote_index_column": 0
        },
        {
         "Buyer Age": 59,
         "Top Speed": 197.9,
         "5-yr Depreciation": 0.16,
         "Sale Price": 90407.26,
         "_deepnote_index_column": 1
        },
        {
         "Buyer Age": 32,
         "Top Speed": 152.3,
         "5-yr Depreciation": 0.22,
         "Sale Price": 51744.01,
         "_deepnote_index_column": 2
        },
        {
         "Buyer Age": 43,
         "Top Speed": 179,
         "5-yr Depreciation": 0.06,
         "Sale Price": 60654.6,
         "_deepnote_index_column": 3
        },
        {
         "Buyer Age": 34,
         "Top Speed": 225,
         "5-yr Depreciation": 0.14,
         "Sale Price": 68702.62,
         "_deepnote_index_column": 4
        }
       ]
      },
      "text/plain": "   Buyer Age  Top Speed  5-yr Depreciation  Sale Price\n0         51      187.7               0.12    70924.82\n1         59      197.9               0.16    90407.26\n2         32      152.3               0.22    51744.01\n3         43      179.0               0.06    60654.60\n4         34      225.0               0.14    68702.62",
      "text/html": "<div>\n<style scoped>\n    .dataframe tbody tr th:only-of-type {\n        vertical-align: middle;\n    }\n\n    .dataframe tbody tr th {\n        vertical-align: top;\n    }\n\n    .dataframe thead th {\n        text-align: right;\n    }\n</style>\n<table border=\"1\" class=\"dataframe\">\n  <thead>\n    <tr style=\"text-align: right;\">\n      <th></th>\n      <th>Buyer Age</th>\n      <th>Top Speed</th>\n      <th>5-yr Depreciation</th>\n      <th>Sale Price</th>\n    </tr>\n  </thead>\n  <tbody>\n    <tr>\n      <th>0</th>\n      <td>51</td>\n      <td>187.7</td>\n      <td>0.12</td>\n      <td>70924.82</td>\n    </tr>\n    <tr>\n      <th>1</th>\n      <td>59</td>\n      <td>197.9</td>\n      <td>0.16</td>\n      <td>90407.26</td>\n    </tr>\n    <tr>\n      <th>2</th>\n      <td>32</td>\n      <td>152.3</td>\n      <td>0.22</td>\n      <td>51744.01</td>\n    </tr>\n    <tr>\n      <th>3</th>\n      <td>43</td>\n      <td>179.0</td>\n      <td>0.06</td>\n      <td>60654.60</td>\n    </tr>\n    <tr>\n      <th>4</th>\n      <td>34</td>\n      <td>225.0</td>\n      <td>0.14</td>\n      <td>68702.62</td>\n    </tr>\n  </tbody>\n</table>\n</div>"
     },
     "metadata": {}
    }
   ],
   "execution_count": null
  },
  {
   "cell_type": "code",
   "metadata": {
    "cell_id": "00043-1eae3950-bf3e-4546-b1a5-6a43701c54cf",
    "deepnote_app_coordinates": {
     "x": 0,
     "y": 246,
     "w": 12,
     "h": 5
    },
    "deepnote_to_be_reexecuted": false,
    "source_hash": "8c3af823",
    "execution_start": 1650237555775,
    "execution_millis": 7,
    "deepnote_cell_type": "code",
    "deepnote_cell_height": 531.375,
    "deepnote_output_heights": [
     null,
     136.390625
    ]
   },
   "source": "# Crear test set\nX_test = test[[\n    \"Buyer Age\",\n    \"Top Speed\",\n    \"5-yr Depreciation\",\n    \"Sale Price\"\n]]\n\nprint(X_test.shape)\n\nfrom sklearn.preprocessing import StandardScaler\n\nsc = StandardScaler()\nX_test = sc.fit_transform(X_test)\nX_test",
   "outputs": [
    {
     "name": "stdout",
     "text": "(5002, 4)\n",
     "output_type": "stream"
    },
    {
     "output_type": "execute_result",
     "execution_count": 30,
     "data": {
      "text/plain": "array([[ 0.20370776,  0.05890255, -0.15171861,  0.58065851],\n       [ 0.69621999,  0.33036804,  0.42124968,  1.32760073],\n       [-0.96600878, -0.88324239,  1.28070211, -0.15471945],\n       ...,\n       [-0.65818864,  0.33569089, -0.15171861, -0.80604855],\n       [-1.64321309,  0.56457356, -1.29765519,  1.64651278],\n       [-1.64321309,  1.5067185 , -0.86792897,  1.571535  ]])"
     },
     "metadata": {}
    }
   ],
   "execution_count": null
  },
  {
   "cell_type": "markdown",
   "source": "## 7. Predicción",
   "metadata": {
    "cell_id": "00044-484dc235-dc88-4991-98dc-6602b2568f13",
    "deepnote_app_coordinates": {
     "x": 0,
     "y": 252,
     "w": 12,
     "h": 5
    },
    "deepnote_cell_type": "markdown",
    "deepnote_cell_height": 70
   }
  },
  {
   "cell_type": "code",
   "metadata": {
    "cell_id": "00045-4abe1823-a7f1-413a-a239-927eb479c80a",
    "deepnote_app_coordinates": {
     "x": 0,
     "y": 258,
     "w": 12,
     "h": 5
    },
    "deepnote_to_be_reexecuted": false,
    "source_hash": "e4dd16db",
    "execution_start": 1650237555835,
    "execution_millis": 2,
    "deepnote_cell_type": "code",
    "deepnote_cell_height": 184
   },
   "source": "# Predicción de genero sobre el test set\nY_pred_tree = decision_tree.predict(X_test)\n\nprint(\"Clasificador arbol de decisión: \", Y_pred_tree[0 : 10])\n",
   "outputs": [
    {
     "name": "stdout",
     "text": "Clasificador arbol de decisión:  [1 0 1 0 1 1 1 1 1 0]\n",
     "output_type": "stream"
    }
   ],
   "execution_count": null
  },
  {
   "cell_type": "code",
   "metadata": {
    "cell_id": "00046-2c75a263-fe9f-4006-89b0-8b3f74dcde75",
    "deepnote_app_coordinates": {
     "x": 0,
     "y": 264,
     "w": 12,
     "h": 5
    },
    "deepnote_to_be_reexecuted": false,
    "source_hash": "88325c9",
    "execution_start": 1650237555835,
    "execution_millis": 44,
    "deepnote_cell_type": "code",
    "deepnote_cell_height": 153
   },
   "source": "# Para guardar en ordenador\ndef download_output(y_pred, name):\n    output = pd.DataFrame({\"Sale Price\" : test['Sale Price'],\n                          \"Buyer Gender\" : y_pred})\n    output.to_csv(name , index = False)",
   "outputs": [],
   "execution_count": null
  },
  {
   "cell_type": "code",
   "metadata": {
    "cell_id": "00047-aca6b616-e924-46b2-bae7-d9413288e201",
    "deepnote_app_coordinates": {
     "x": 0,
     "y": 270,
     "w": 12,
     "h": 5
    },
    "deepnote_to_be_reexecuted": false,
    "source_hash": "87d8a886",
    "execution_start": 1650237555879,
    "execution_millis": 48,
    "deepnote_cell_type": "code",
    "deepnote_cell_height": 81
   },
   "source": "download_output(Y_pred_tree , \"precio_genero_pred_tree.csv\")",
   "outputs": [],
   "execution_count": null
  },
  {
   "cell_type": "markdown",
   "source": "# Conclusión",
   "metadata": {
    "cell_id": "ede67d9eab024377820dd00e2b8ddde5",
    "tags": [],
    "is_collapsed": false,
    "deepnote_app_coordinates": {
     "x": 0,
     "y": 314,
     "w": 12,
     "h": 4
    },
    "deepnote_cell_type": "text-cell-h1"
   }
  },
  {
   "cell_type": "markdown",
   "source": "Durante el análisis de los datos del negocio, se obtuvo que el género femenino es el que más ingresos aporta a la concesionaria. Se obtiene que los ingresos por género son:\n\nMujeres $210.040.800.000.000 \nHombres $203.521.700.000.000",
   "metadata": {
    "cell_id": "13c0c584491c418690c35f307834f7da",
    "tags": [],
    "is_collapsed": false,
    "deepnote_app_coordinates": {
     "x": 0,
     "y": 311,
     "w": 8,
     "h": 2
    },
    "owner_user_id": "016e124b-4ea1-44f9-a7b7-3f8050c85559",
    "deepnote_cell_type": "text-cell-p"
   }
  },
  {
   "cell_type": "markdown",
   "source": "Luego, se utilizó el algoritmo de árbol de decisión, para crear un modelos y testearlo, de los cuales dieron como resultado de precisión del 100%.\nPor último se obtuvieron predicciones de un conjunto de datos de prueba con valores del 100% correctos sobre el género compraría un auto por su precio. El modelo predijo los siguientes resultados:",
   "metadata": {
    "cell_id": "96a740adbf3b4401953237be9cef13aa",
    "tags": [],
    "is_collapsed": false,
    "deepnote_app_coordinates": {
     "x": 0,
     "y": 308,
     "w": 8,
     "h": 2
    },
    "deepnote_cell_type": "text-cell-p"
   }
  },
  {
   "cell_type": "markdown",
   "source": "Clasificador árbol de decisión:&nbsp; [1 0 1 0 1 1 1 1 1 0 1 1 0 0 1 0 1 1 0 1]\n",
   "metadata": {
    "cell_id": "755602aca83d4961b49e9521119ce0bd",
    "tags": [],
    "is_collapsed": false,
    "deepnote_app_coordinates": {
     "x": 0,
     "y": 305,
     "w": 8,
     "h": 2
    },
    "deepnote_cell_type": "text-cell-p"
   }
  },
  {
   "cell_type": "markdown",
   "source": "",
   "metadata": {
    "cell_id": "54b363f2653c458988cdbd3646647bf0",
    "tags": [],
    "is_collapsed": false,
    "deepnote_app_coordinates": {
     "x": 0,
     "y": 302,
     "w": 8,
     "h": 2
    },
    "deepnote_cell_type": "text-cell-p"
   }
  },
  {
   "cell_type": "markdown",
   "source": "<a style='text-decoration:none;line-height:16px;display:flex;color:#5B5B62;padding:10px;justify-content:end;' href='https://deepnote.com?utm_source=created-in-deepnote-cell&projectId=8729e11a-b050-41b6-877b-a53b3acb070a' target=\"_blank\">\n<img alt='Created in deepnote.com' style='display:inline;max-height:16px;margin:0px;margin-right:7.5px;' src='data:image/svg+xml;base64,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' > </img>\nCreated in <span style='font-weight:600;margin-left:4px;'>Deepnote</span></a>",
   "metadata": {
    "tags": [],
    "created_in_deepnote_cell": true,
    "deepnote_cell_type": "markdown"
   }
  }
 ],
 "nbformat": 4,
 "nbformat_minor": 2,
 "metadata": {
  "interpreter": {
   "hash": "2be5faf79681da6f2a61fdfdd5405d65d042280f7fba6178067603e3a2925119"
  },
  "kernelspec": {
   "display_name": "Python 3.10.2 64-bit",
   "language": "python",
   "name": "python3"
  },
  "language_info": {
   "codemirror_mode": {
    "name": "ipython",
    "version": 3
   },
   "file_extension": ".py",
   "mimetype": "text/x-python",
   "name": "python",
   "nbconvert_exporter": "python",
   "pygments_lexer": "ipython3",
   "version": "3.10.2"
  },
  "orig_nbformat": 4,
  "deepnote_notebook_id": "4cc87021-eab1-4839-ac04-0bdff557ff1c",
  "deepnote": {},
  "deepnote_app_layout": "article",
  "deepnote_execution_queue": []
 }
}