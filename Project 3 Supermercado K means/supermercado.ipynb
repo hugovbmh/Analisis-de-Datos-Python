{
  "cells": [
    {
      "cell_type": "code",
      "execution_count": null,
      "metadata": {
        "id": "eBexUN9ujdoe"
      },
      "outputs": [],
      "source": [
        "import pandas as pd\n",
        "import matplotlib.pyplot as plt"
      ]
    },
    {
      "cell_type": "code",
      "execution_count": null,
      "metadata": {
        "id": "bRP419fuosnG"
      },
      "outputs": [],
      "source": [
        "data=pd.read_csv('Wholesale customers data.csv')"
      ]
    },
    {
      "cell_type": "code",
      "execution_count": null,
      "metadata": {
        "colab": {
          "base_uri": "https://localhost:8080/"
        },
        "id": "0ylq8t1aosqW",
        "outputId": "885caec5-1679-47bc-b933-5da62fee2d85"
      },
      "outputs": [
        {
          "data": {
            "text/plain": [
              "(440, 8)"
            ]
          },
          "execution_count": 320,
          "metadata": {
            "tags": []
          },
          "output_type": "execute_result"
        }
      ],
      "source": [
        "data.shape #mostrar filas y columnas"
      ]
    },
    {
      "cell_type": "code",
      "execution_count": null,
      "metadata": {
        "colab": {
          "base_uri": "https://localhost:8080/",
          "height": 204
        },
        "id": "5iXiJELZossk",
        "outputId": "6a51638b-c55e-4482-fb19-4565b1a57a82"
      },
      "outputs": [
        {
          "data": {
            "text/html": [
              "<div>\n",
              "<style scoped>\n",
              "    .dataframe tbody tr th:only-of-type {\n",
              "        vertical-align: middle;\n",
              "    }\n",
              "\n",
              "    .dataframe tbody tr th {\n",
              "        vertical-align: top;\n",
              "    }\n",
              "\n",
              "    .dataframe thead th {\n",
              "        text-align: right;\n",
              "    }\n",
              "</style>\n",
              "<table border=\"1\" class=\"dataframe\">\n",
              "  <thead>\n",
              "    <tr style=\"text-align: right;\">\n",
              "      <th></th>\n",
              "      <th>Channel</th>\n",
              "      <th>Region</th>\n",
              "      <th>Fresh</th>\n",
              "      <th>Milk</th>\n",
              "      <th>Grocery</th>\n",
              "      <th>Frozen</th>\n",
              "      <th>Detergents_Paper</th>\n",
              "      <th>Delicassen</th>\n",
              "    </tr>\n",
              "  </thead>\n",
              "  <tbody>\n",
              "    <tr>\n",
              "      <th>0</th>\n",
              "      <td>2</td>\n",
              "      <td>3</td>\n",
              "      <td>12669</td>\n",
              "      <td>9656</td>\n",
              "      <td>7561</td>\n",
              "      <td>214</td>\n",
              "      <td>2674</td>\n",
              "      <td>1338</td>\n",
              "    </tr>\n",
              "    <tr>\n",
              "      <th>1</th>\n",
              "      <td>2</td>\n",
              "      <td>3</td>\n",
              "      <td>7057</td>\n",
              "      <td>9810</td>\n",
              "      <td>9568</td>\n",
              "      <td>1762</td>\n",
              "      <td>3293</td>\n",
              "      <td>1776</td>\n",
              "    </tr>\n",
              "    <tr>\n",
              "      <th>2</th>\n",
              "      <td>2</td>\n",
              "      <td>3</td>\n",
              "      <td>6353</td>\n",
              "      <td>8808</td>\n",
              "      <td>7684</td>\n",
              "      <td>2405</td>\n",
              "      <td>3516</td>\n",
              "      <td>7844</td>\n",
              "    </tr>\n",
              "    <tr>\n",
              "      <th>3</th>\n",
              "      <td>1</td>\n",
              "      <td>3</td>\n",
              "      <td>13265</td>\n",
              "      <td>1196</td>\n",
              "      <td>4221</td>\n",
              "      <td>6404</td>\n",
              "      <td>507</td>\n",
              "      <td>1788</td>\n",
              "    </tr>\n",
              "    <tr>\n",
              "      <th>4</th>\n",
              "      <td>2</td>\n",
              "      <td>3</td>\n",
              "      <td>22615</td>\n",
              "      <td>5410</td>\n",
              "      <td>7198</td>\n",
              "      <td>3915</td>\n",
              "      <td>1777</td>\n",
              "      <td>5185</td>\n",
              "    </tr>\n",
              "  </tbody>\n",
              "</table>\n",
              "</div>"
            ],
            "text/plain": [
              "   Channel  Region  Fresh  Milk  Grocery  Frozen  Detergents_Paper  Delicassen\n",
              "0        2       3  12669  9656     7561     214              2674        1338\n",
              "1        2       3   7057  9810     9568    1762              3293        1776\n",
              "2        2       3   6353  8808     7684    2405              3516        7844\n",
              "3        1       3  13265  1196     4221    6404               507        1788\n",
              "4        2       3  22615  5410     7198    3915              1777        5185"
            ]
          },
          "execution_count": 321,
          "metadata": {
            "tags": []
          },
          "output_type": "execute_result"
        }
      ],
      "source": [
        "data.head()"
      ]
    },
    {
      "cell_type": "code",
      "execution_count": null,
      "metadata": {
        "colab": {
          "base_uri": "https://localhost:8080/"
        },
        "id": "C2lXaSqnosu7",
        "outputId": "08e1c879-4eac-4f93-83a4-56e8bdd0d655"
      },
      "outputs": [
        {
          "data": {
            "text/plain": [
              "Channel             0\n",
              "Region              0\n",
              "Fresh               0\n",
              "Milk                0\n",
              "Grocery             0\n",
              "Frozen              0\n",
              "Detergents_Paper    0\n",
              "Delicassen          0\n",
              "dtype: int64"
            ]
          },
          "execution_count": 322,
          "metadata": {
            "tags": []
          },
          "output_type": "execute_result"
        }
      ],
      "source": [
        "data.isnull().sum() #Conocer la existencia de datos nulos"
      ]
    },
    {
      "cell_type": "code",
      "execution_count": null,
      "metadata": {
        "colab": {
          "base_uri": "https://localhost:8080/"
        },
        "id": "9rQ9WH35oswy",
        "outputId": "ede4091d-f8e5-46f8-8776-36624929e49d"
      },
      "outputs": [
        {
          "data": {
            "text/plain": [
              "Channel             int64\n",
              "Region              int64\n",
              "Fresh               int64\n",
              "Milk                int64\n",
              "Grocery             int64\n",
              "Frozen              int64\n",
              "Detergents_Paper    int64\n",
              "Delicassen          int64\n",
              "dtype: object"
            ]
          },
          "execution_count": 323,
          "metadata": {
            "tags": []
          },
          "output_type": "execute_result"
        }
      ],
      "source": [
        "data.dtypes #Conociendo los formatos de los datos"
      ]
    },
    {
      "cell_type": "code",
      "execution_count": null,
      "metadata": {
        "id": "ociVpxVyosyW"
      },
      "outputs": [],
      "source": [
        "#Seleccionar algunos (cualquiera) datos de muestra, elegidas al azar\n",
        "indices = [26,176,392]"
      ]
    },
    {
      "cell_type": "code",
      "execution_count": null,
      "metadata": {
        "id": "xwUofeCqotBV"
      },
      "outputs": [],
      "source": [
        "#Usando la instruccion loc, seleccionamos los datos de muestra de la data y almacenar en una variable(muestras)\n",
        "#El parametro: columns=data.keys()) nos permite incluir en la variable muestras el nombre de cada una de las columnas,\n",
        "#.reset_index(drop=True) --> Reiniciar el index\n",
        "muestras=pd.DataFrame(data.loc[indices],columns=data.keys()).reset_index(drop=True)\n"
      ]
    },
    {
      "cell_type": "code",
      "execution_count": null,
      "metadata": {
        "id": "fEWZQ2tMq-8Z"
      },
      "outputs": [],
      "source": [
        "#Se eliminan indices de nuestra data(original) para que el modelo no se entrene con esta informacion\n",
        "data=data.drop(indices,axis=0)"
      ]
    },
    {
      "cell_type": "code",
      "execution_count": null,
      "metadata": {
        "colab": {
          "base_uri": "https://localhost:8080/",
          "height": 142
        },
        "id": "4qB9Fbh9otDn",
        "outputId": "5064098e-2693-4ca2-b0f5-8cf36b11cb48"
      },
      "outputs": [
        {
          "data": {
            "text/html": [
              "<div>\n",
              "<style scoped>\n",
              "    .dataframe tbody tr th:only-of-type {\n",
              "        vertical-align: middle;\n",
              "    }\n",
              "\n",
              "    .dataframe tbody tr th {\n",
              "        vertical-align: top;\n",
              "    }\n",
              "\n",
              "    .dataframe thead th {\n",
              "        text-align: right;\n",
              "    }\n",
              "</style>\n",
              "<table border=\"1\" class=\"dataframe\">\n",
              "  <thead>\n",
              "    <tr style=\"text-align: right;\">\n",
              "      <th></th>\n",
              "      <th>Channel</th>\n",
              "      <th>Region</th>\n",
              "      <th>Fresh</th>\n",
              "      <th>Milk</th>\n",
              "      <th>Grocery</th>\n",
              "      <th>Frozen</th>\n",
              "      <th>Detergents_Paper</th>\n",
              "      <th>Delicassen</th>\n",
              "    </tr>\n",
              "  </thead>\n",
              "  <tbody>\n",
              "    <tr>\n",
              "      <th>0</th>\n",
              "      <td>1</td>\n",
              "      <td>3</td>\n",
              "      <td>9898</td>\n",
              "      <td>961</td>\n",
              "      <td>2861</td>\n",
              "      <td>3151</td>\n",
              "      <td>242</td>\n",
              "      <td>833</td>\n",
              "    </tr>\n",
              "    <tr>\n",
              "      <th>1</th>\n",
              "      <td>1</td>\n",
              "      <td>3</td>\n",
              "      <td>45640</td>\n",
              "      <td>6958</td>\n",
              "      <td>6536</td>\n",
              "      <td>7368</td>\n",
              "      <td>1532</td>\n",
              "      <td>230</td>\n",
              "    </tr>\n",
              "    <tr>\n",
              "      <th>2</th>\n",
              "      <td>1</td>\n",
              "      <td>3</td>\n",
              "      <td>518</td>\n",
              "      <td>4180</td>\n",
              "      <td>3600</td>\n",
              "      <td>659</td>\n",
              "      <td>122</td>\n",
              "      <td>654</td>\n",
              "    </tr>\n",
              "  </tbody>\n",
              "</table>\n",
              "</div>"
            ],
            "text/plain": [
              "   Channel  Region  Fresh  Milk  Grocery  Frozen  Detergents_Paper  Delicassen\n",
              "0        1       3   9898   961     2861    3151               242         833\n",
              "1        1       3  45640  6958     6536    7368              1532         230\n",
              "2        1       3    518  4180     3600     659               122         654"
            ]
          },
          "execution_count": 327,
          "metadata": {
            "tags": []
          },
          "output_type": "execute_result"
        }
      ],
      "source": [
        "muestras.head()"
      ]
    },
    {
      "cell_type": "code",
      "execution_count": null,
      "metadata": {
        "id": "bzJhNj8TotGY"
      },
      "outputs": [],
      "source": [
        "data=data.drop(['Region','Channel'],axis=1)\n",
        "muestras=muestras.drop(['Region','Channel'],axis=1)"
      ]
    },
    {
      "cell_type": "code",
      "execution_count": null,
      "metadata": {
        "colab": {
          "base_uri": "https://localhost:8080/",
          "height": 204
        },
        "id": "ZS0n1FQnotI5",
        "outputId": "f757c823-84a1-4222-dba9-300250c1227a"
      },
      "outputs": [
        {
          "data": {
            "text/html": [
              "<div>\n",
              "<style scoped>\n",
              "    .dataframe tbody tr th:only-of-type {\n",
              "        vertical-align: middle;\n",
              "    }\n",
              "\n",
              "    .dataframe tbody tr th {\n",
              "        vertical-align: top;\n",
              "    }\n",
              "\n",
              "    .dataframe thead th {\n",
              "        text-align: right;\n",
              "    }\n",
              "</style>\n",
              "<table border=\"1\" class=\"dataframe\">\n",
              "  <thead>\n",
              "    <tr style=\"text-align: right;\">\n",
              "      <th></th>\n",
              "      <th>Fresh</th>\n",
              "      <th>Milk</th>\n",
              "      <th>Grocery</th>\n",
              "      <th>Frozen</th>\n",
              "      <th>Detergents_Paper</th>\n",
              "      <th>Delicassen</th>\n",
              "    </tr>\n",
              "  </thead>\n",
              "  <tbody>\n",
              "    <tr>\n",
              "      <th>0</th>\n",
              "      <td>12669</td>\n",
              "      <td>9656</td>\n",
              "      <td>7561</td>\n",
              "      <td>214</td>\n",
              "      <td>2674</td>\n",
              "      <td>1338</td>\n",
              "    </tr>\n",
              "    <tr>\n",
              "      <th>1</th>\n",
              "      <td>7057</td>\n",
              "      <td>9810</td>\n",
              "      <td>9568</td>\n",
              "      <td>1762</td>\n",
              "      <td>3293</td>\n",
              "      <td>1776</td>\n",
              "    </tr>\n",
              "    <tr>\n",
              "      <th>2</th>\n",
              "      <td>6353</td>\n",
              "      <td>8808</td>\n",
              "      <td>7684</td>\n",
              "      <td>2405</td>\n",
              "      <td>3516</td>\n",
              "      <td>7844</td>\n",
              "    </tr>\n",
              "    <tr>\n",
              "      <th>3</th>\n",
              "      <td>13265</td>\n",
              "      <td>1196</td>\n",
              "      <td>4221</td>\n",
              "      <td>6404</td>\n",
              "      <td>507</td>\n",
              "      <td>1788</td>\n",
              "    </tr>\n",
              "    <tr>\n",
              "      <th>4</th>\n",
              "      <td>22615</td>\n",
              "      <td>5410</td>\n",
              "      <td>7198</td>\n",
              "      <td>3915</td>\n",
              "      <td>1777</td>\n",
              "      <td>5185</td>\n",
              "    </tr>\n",
              "  </tbody>\n",
              "</table>\n",
              "</div>"
            ],
            "text/plain": [
              "   Fresh  Milk  Grocery  Frozen  Detergents_Paper  Delicassen\n",
              "0  12669  9656     7561     214              2674        1338\n",
              "1   7057  9810     9568    1762              3293        1776\n",
              "2   6353  8808     7684    2405              3516        7844\n",
              "3  13265  1196     4221    6404               507        1788\n",
              "4  22615  5410     7198    3915              1777        5185"
            ]
          },
          "execution_count": 329,
          "metadata": {
            "tags": []
          },
          "output_type": "execute_result"
        }
      ],
      "source": [
        "data.head()"
      ]
    },
    {
      "cell_type": "code",
      "execution_count": null,
      "metadata": {
        "id": "pmK-B3a7otK_"
      },
      "outputs": [],
      "source": [
        "# Para que python pueda procesar los datos, se debe realizar el escalamiento:\n",
        "# transformamos los datos para que se ajusten a una escala especifica. 0-1\n",
        "from sklearn import preprocessing\n",
        "data_escalada=preprocessing.Normalizer().fit_transform(data)\n",
        "muestras_escaladas=preprocessing.Normalizer().fit_transform(muestras)\n"
      ]
    },
    {
      "cell_type": "code",
      "execution_count": null,
      "metadata": {
        "colab": {
          "base_uri": "https://localhost:8080/"
        },
        "id": "b_ulX7ocotNW",
        "outputId": "bc8e87b2-79c2-4c08-d2c2-3c2673219f5d"
      },
      "outputs": [
        {
          "name": "stdout",
          "output_type": "stream",
          "text": [
            "[[0.70833271 0.53987376 0.42274083 0.01196489 0.14950522 0.07480852]\n",
            " [0.44219826 0.61470384 0.59953989 0.11040858 0.20634248 0.11128583]\n",
            " [0.39655169 0.5497918  0.47963217 0.15011913 0.2194673  0.48961931]\n",
            " ...\n",
            " [0.36446153 0.38846468 0.7585445  0.01096068 0.37223685 0.04682745]\n",
            " [0.93773743 0.1805304  0.20340427 0.09459392 0.01531    0.19365326]\n",
            " [0.67229603 0.40960124 0.60547651 0.01567967 0.11506466 0.01254374]]\n"
          ]
        }
      ],
      "source": [
        "print(data_escalada) #todos los datos son float"
      ]
    },
    {
      "cell_type": "code",
      "execution_count": null,
      "metadata": {
        "id": "GPZOs3DzotQH"
      },
      "outputs": [],
      "source": [
        "from sklearn.cluster import KMeans\n",
        "X=data_escalada.copy()"
      ]
    },
    {
      "cell_type": "code",
      "execution_count": null,
      "metadata": {
        "colab": {
          "base_uri": "https://localhost:8080/",
          "height": 421
        },
        "id": "6PReNHxAFFR2",
        "outputId": "a9126b97-b7ae-4aee-8a50-20e8eaba85bc"
      },
      "outputs": [
        {
          "data": {
            "text/plain": [
              "<function matplotlib.pyplot.show>"
            ]
          },
          "execution_count": 333,
          "metadata": {
            "tags": []
          },
          "output_type": "execute_result"
        },
        {
          "data": {
            "image/png": "[encoded data removed]",
            "text/plain": [
              "<Figure size 720x432 with 1 Axes>"
            ]
          },
          "metadata": {
            "needs_background": "light",
            "tags": []
          },
          "output_type": "display_data"
        }
      ],
      "source": [
        "# Hallar el valor optimo de k, para esto se necesita generar un grafico con el metodo de codo\n",
        "inercia=[] #Definiendo el vector inercia que sera utilizado para el grafico de codo\n",
        "for i in range (1,20):\n",
        "  algoritmo=KMeans(n_clusters=i, init='k-means++', max_iter=300, n_init=10)# n_init es el numero de veces que el algoritmo se ejecutara con diferentes centroides\n",
        "  algoritmo.fit(X)\n",
        "  inercia.append(algoritmo.inertia_) # llenar el vector inercia\n",
        "plt.figure(figsize=[10,6])\n",
        "plt.title('Metodo del Codo')\n",
        "plt.xlabel('Nro de Cluster')\n",
        "plt.ylabel('inercia')\n",
        "plt.plot(list(range(1,20)),inercia,marker='o')# el caracter 'o' es la marca(circulo)\n",
        "plt.show\n",
        "# En el grafico de codo se observa el cambio de pendiente de empinada a poca profundidad:\n",
        "# esto significa que el codo se muestra entre los valores 5 o 6, en nuestro caso optamos\n",
        "# por el valor 6 , ya que hace referencia al numero de columnas de nuestra data"
      ]
    },
    {
      "cell_type": "code",
      "execution_count": null,
      "metadata": {
        "id": "2EIXYuB_FVXl"
      },
      "outputs": [],
      "source": [
        "algoritmo=KMeans(n_clusters=6, init='k-means++', max_iter=300, n_init=10)\n"
      ]
    },
    {
      "cell_type": "code",
      "execution_count": null,
      "metadata": {
        "colab": {
          "base_uri": "https://localhost:8080/"
        },
        "id": "7w3DBxQHEyIB",
        "outputId": "45901711-ee9f-495d-94ff-b8cabe2324e4"
      },
      "outputs": [
        {
          "data": {
            "text/plain": [
              "KMeans(algorithm='auto', copy_x=True, init='k-means++', max_iter=300,\n",
              "       n_clusters=6, n_init=10, n_jobs=None, precompute_distances='auto',\n",
              "       random_state=None, tol=0.0001, verbose=0)"
            ]
          },
          "execution_count": 335,
          "metadata": {
            "tags": []
          },
          "output_type": "execute_result"
        }
      ],
      "source": [
        "algoritmo.fit(X) #Entrenando el algoritmo"
      ]
    },
    {
      "cell_type": "code",
      "execution_count": null,
      "metadata": {
        "id": "-yfpOisbotSH"
      },
      "outputs": [],
      "source": [
        "# Se debe obtener los datos de los centroides y las etiquetas. Esta informacion es util para\n",
        "# realizar nuestro grafico final\n",
        "centroides=algoritmo.cluster_centers_\n",
        "etiquetas=algoritmo.labels_"
      ]
    },
    {
      "cell_type": "code",
      "execution_count": null,
      "metadata": {
        "colab": {
          "base_uri": "https://localhost:8080/"
        },
        "id": "IOM2vjk5otVA",
        "outputId": "f89e12af-a893-448d-c5df-429452113d23"
      },
      "outputs": [
        {
          "name": "stdout",
          "output_type": "stream",
          "text": [
            "Muestra 0 se encuentra en el cluster: 0\n",
            "Muestra 1 se encuentra en el cluster: 0\n",
            "Muestra 2 se encuentra en el cluster: 5\n"
          ]
        }
      ],
      "source": [
        "# antes de realizar la grafica final, utilizamos los datos de muestra escaladas para\n",
        "# determinar a que cluster pertenece\n",
        "muestra_prediccion=algoritmo.predict(muestras_escaladas)\n",
        "for i,pred in enumerate(muestra_prediccion):\n",
        "  print(\"Muestra\",i,\"se encuentra en el cluster:\", pred)"
      ]
    },
    {
      "cell_type": "code",
      "execution_count": null,
      "metadata": {
        "colab": {
          "base_uri": "https://localhost:8080/",
          "height": 282
        },
        "id": "OA7BdwDfznab",
        "outputId": "3d9a7cec-ddfb-460b-9a72-a6b50590f16f"
      },
      "outputs": [
        {
          "data": {
            "text/plain": [
              "<function matplotlib.pyplot.show>"
            ]
          },
          "execution_count": 338,
          "metadata": {
            "tags": []
          },
          "output_type": "execute_result"
        },
        {
          "data": {
            "image/png": "[encoded data removed]",
            "text/plain": [
              "<Figure size 432x288 with 1 Axes>"
            ]
          },
          "metadata": {
            "needs_background": "light",
            "tags": []
          },
          "output_type": "display_data"
        }
      ],
      "source": [
        "from sklearn.decomposition import PCA\n",
        "# PCA(analisis de componentes principales) es una tecnica para reducir el numero de \n",
        "# variables de un conjunto de datos\n",
        "modelo_pca=PCA(n_components=2) # Reducir el nro de variables de 6 a 2\n",
        "modelo_pca.fit(X)\n",
        "# el metodo transform trata de que los datos se comporten normalmente, por ejm: si\n",
        "# se tiene dos variables y miden las distancias, pero tienen las unidades como centimetros y\n",
        "# en kilometros, para comparar estas dos, tienen que convertirse a las mismas unidades\n",
        "pca=modelo_pca.transform(X) # iniciando la Transformacion\n",
        "centroides_pca=modelo_pca.transform(centroides) #Aplicando la reduccion de dimensionalidad a los centroides\n",
        "colores=['blue','red','green','orange','gray','brown']\n",
        "colores_cluster=[colores[etiquetas[i]] for i in range(len(pca))]\n",
        "plt.scatter(pca[:,0],pca[:,1],c=colores_cluster, marker='o', alpha=0.4)\n",
        "plt.scatter(centroides_pca[:,0],centroides_pca[:,1], marker='x', s=100, linewidths=3, c=colores)\n",
        "xvector=modelo_pca.components_[0]*max(pca[:,0])\n",
        "yvector=modelo_pca.components_[1]*max(pca[:,1])\n",
        "columnas=data.columns\n",
        "for i in range(len(columnas)):\n",
        "  plt.arrow(0,0,xvector[i],yvector[i],color='black',width=0.0005,head_width=0.02,alpha=0.75)\n",
        "  plt.text(xvector[i],yvector[i],list(columnas)[i],color='black',alpha=0.75)\n",
        "plt.show"
      ]
    }
  ],
  "metadata": {
    "colab": {
      "collapsed_sections": [],
      "name": "supermercado.ipynb",
      "provenance": []
    },
    "kernelspec": {
      "display_name": "Python 3.10.4 64-bit",
      "language": "python",
      "name": "python3"
    },
    "language_info": {
      "name": "python",
      "version": "3.10.4"
    },
    "vscode": {
      "interpreter": {
        "hash": "8ac3e905cfe82de9e7bade27ba74e0b478ab12e240fc6a5c23500e6eca8b4da1"
      }
    }
  },
  "nbformat": 4,
  "nbformat_minor": 0
}
