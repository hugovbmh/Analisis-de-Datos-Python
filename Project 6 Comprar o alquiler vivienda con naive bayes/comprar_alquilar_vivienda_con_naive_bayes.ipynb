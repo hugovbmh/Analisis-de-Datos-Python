{
  "cells": [
    {
      "cell_type": "code",
      "execution_count": null,
      "metadata": {
        "id": "OzIze2DwtMJ2"
      },
      "outputs": [],
      "source": [
        "import numpy as np\n",
        "import pandas as pd\n",
        "import seaborn as sns #Permite generar graficos elegantes\n",
        "import matplotlib.pyplot as plt\n",
        "from matplotlib import colors\n",
        "from sklearn.linear_model import LogisticRegression\n",
        "from sklearn.naive_bayes import GaussianNB\n",
        "from sklearn.metrics import classification_report\n",
        "from sklearn.metrics import confusion_matrix\n",
        "from sklearn.model_selection import train_test_split\n",
        "from sklearn.feature_selection import SelectKBest\n",
        "plt.rcParams['figure.figsize']=(16,9)#Configurar ancho y alto de los graficos\n",
        "plt.style.use('ggplot')"
      ]
    },
    {
      "cell_type": "code",
      "execution_count": null,
      "metadata": {
        "colab": {
          "base_uri": "https://localhost:8080/",
          "height": 204
        },
        "id": "vAMP8PZTuKs5",
        "outputId": "27267eb9-0390-475b-df9b-130c866a3478"
      },
      "outputs": [
        {
          "data": {
            "text/html": [
              "<div>\n",
              "<style scoped>\n",
              "    .dataframe tbody tr th:only-of-type {\n",
              "        vertical-align: middle;\n",
              "    }\n",
              "\n",
              "    .dataframe tbody tr th {\n",
              "        vertical-align: top;\n",
              "    }\n",
              "\n",
              "    .dataframe thead th {\n",
              "        text-align: right;\n",
              "    }\n",
              "</style>\n",
              "<table border=\"1\" class=\"dataframe\">\n",
              "  <thead>\n",
              "    <tr style=\"text-align: right;\">\n",
              "      <th></th>\n",
              "      <th>ingresos</th>\n",
              "      <th>gastos_comunes</th>\n",
              "      <th>pago_coche</th>\n",
              "      <th>gastos_otros</th>\n",
              "      <th>ahorros</th>\n",
              "      <th>vivienda</th>\n",
              "      <th>estado_civil</th>\n",
              "      <th>hijos</th>\n",
              "      <th>trabajo</th>\n",
              "      <th>comprar</th>\n",
              "    </tr>\n",
              "  </thead>\n",
              "  <tbody>\n",
              "    <tr>\n",
              "      <th>0</th>\n",
              "      <td>6000</td>\n",
              "      <td>1000</td>\n",
              "      <td>0</td>\n",
              "      <td>600</td>\n",
              "      <td>50000</td>\n",
              "      <td>400000</td>\n",
              "      <td>0</td>\n",
              "      <td>2</td>\n",
              "      <td>2</td>\n",
              "      <td>1</td>\n",
              "    </tr>\n",
              "    <tr>\n",
              "      <th>1</th>\n",
              "      <td>6745</td>\n",
              "      <td>944</td>\n",
              "      <td>123</td>\n",
              "      <td>429</td>\n",
              "      <td>43240</td>\n",
              "      <td>636897</td>\n",
              "      <td>1</td>\n",
              "      <td>3</td>\n",
              "      <td>6</td>\n",
              "      <td>0</td>\n",
              "    </tr>\n",
              "    <tr>\n",
              "      <th>2</th>\n",
              "      <td>6455</td>\n",
              "      <td>1033</td>\n",
              "      <td>98</td>\n",
              "      <td>795</td>\n",
              "      <td>57463</td>\n",
              "      <td>321779</td>\n",
              "      <td>2</td>\n",
              "      <td>1</td>\n",
              "      <td>8</td>\n",
              "      <td>1</td>\n",
              "    </tr>\n",
              "    <tr>\n",
              "      <th>3</th>\n",
              "      <td>7098</td>\n",
              "      <td>1278</td>\n",
              "      <td>15</td>\n",
              "      <td>254</td>\n",
              "      <td>54506</td>\n",
              "      <td>660933</td>\n",
              "      <td>0</td>\n",
              "      <td>0</td>\n",
              "      <td>3</td>\n",
              "      <td>0</td>\n",
              "    </tr>\n",
              "    <tr>\n",
              "      <th>4</th>\n",
              "      <td>6167</td>\n",
              "      <td>863</td>\n",
              "      <td>223</td>\n",
              "      <td>520</td>\n",
              "      <td>41512</td>\n",
              "      <td>348932</td>\n",
              "      <td>0</td>\n",
              "      <td>0</td>\n",
              "      <td>3</td>\n",
              "      <td>1</td>\n",
              "    </tr>\n",
              "  </tbody>\n",
              "</table>\n",
              "</div>"
            ],
            "text/plain": [
              "   ingresos  gastos_comunes  pago_coche  ...  hijos  trabajo  comprar\n",
              "0      6000            1000           0  ...      2        2        1\n",
              "1      6745             944         123  ...      3        6        0\n",
              "2      6455            1033          98  ...      1        8        1\n",
              "3      7098            1278          15  ...      0        3        0\n",
              "4      6167             863         223  ...      0        3        1\n",
              "\n",
              "[5 rows x 10 columns]"
            ]
          },
          "execution_count": 2,
          "metadata": {
            "tags": []
          },
          "output_type": "execute_result"
        }
      ],
      "source": [
        "data=pd.read_csv('comprar_alquilar.csv')\n",
        "data.head()"
      ]
    },
    {
      "cell_type": "code",
      "execution_count": null,
      "metadata": {
        "colab": {
          "base_uri": "https://localhost:8080/"
        },
        "id": "EsK-daZ6uK1H",
        "outputId": "c843381c-c191-42e8-ff50-413e9db8c6cb"
      },
      "outputs": [
        {
          "name": "stdout",
          "output_type": "stream",
          "text": [
            "comprar\n",
            "0    135\n",
            "1     67\n",
            "dtype: int64\n"
          ]
        }
      ],
      "source": [
        "print(data.groupby('comprar').size())# Imprime la cantidad de personas a las cuales el bco le recomendo comprar o no\n",
        "#si observa el resultado: a 135 personas no se le recomienda comprar\n",
        "# a 67 personas si se le recomienda comprar una casa"
      ]
    },
    {
      "cell_type": "code",
      "execution_count": null,
      "metadata": {
        "colab": {
          "base_uri": "https://localhost:8080/",
          "height": 724
        },
        "id": "BO4lUwTHuK3e",
        "outputId": "866e0845-638f-4606-ba48-63a0f8b96041"
      },
      "outputs": [
        {
          "data": {
            "text/plain": [
              "array([[<matplotlib.axes._subplots.AxesSubplot object at 0x7fb920e1b610>,\n",
              "        <matplotlib.axes._subplots.AxesSubplot object at 0x7fb91c606e10>,\n",
              "        <matplotlib.axes._subplots.AxesSubplot object at 0x7fb91c5cd4d0>],\n",
              "       [<matplotlib.axes._subplots.AxesSubplot object at 0x7fb91c584b50>,\n",
              "        <matplotlib.axes._subplots.AxesSubplot object at 0x7fb91c541210>,\n",
              "        <matplotlib.axes._subplots.AxesSubplot object at 0x7fb91c4fa890>],\n",
              "       [<matplotlib.axes._subplots.AxesSubplot object at 0x7fb91c52ff10>,\n",
              "        <matplotlib.axes._subplots.AxesSubplot object at 0x7fb91c4715d0>,\n",
              "        <matplotlib.axes._subplots.AxesSubplot object at 0x7fb91c485990>]],\n",
              "      dtype=object)"
            ]
          },
          "execution_count": 4,
          "metadata": {
            "tags": []
          },
          "output_type": "execute_result"
        },
        {
          "data": {
            "image/png": "[encoded data removed]",
            "text/plain": [
              "<Figure size 1152x648 with 9 Axes>"
            ]
          },
          "metadata": {
            "needs_background": "light",
            "tags": []
          },
          "output_type": "display_data"
        }
      ],
      "source": [
        "#Crean un grafico de histograma para mostrar un conteo de cliente por variable, excepto la variable comprar\n",
        "plt.rcParams['figure.figsize']=(16,9)\n",
        "data.drop(['comprar'],axis=1).hist()\n",
        "#observar el grafico para la variable ingresos: en el eje x se muestran los importes de ingresos\n",
        "#y en el eje 'y' la cantidad"
      ]
    },
    {
      "cell_type": "code",
      "execution_count": null,
      "metadata": {
        "colab": {
          "base_uri": "https://localhost:8080/",
          "height": 204
        },
        "id": "Cxtt8L8fuK6G",
        "outputId": "9442436b-c991-49e2-8e21-d456fdc6b6ba"
      },
      "outputs": [
        {
          "data": {
            "text/html": [
              "<div>\n",
              "<style scoped>\n",
              "    .dataframe tbody tr th:only-of-type {\n",
              "        vertical-align: middle;\n",
              "    }\n",
              "\n",
              "    .dataframe tbody tr th {\n",
              "        vertical-align: top;\n",
              "    }\n",
              "\n",
              "    .dataframe thead th {\n",
              "        text-align: right;\n",
              "    }\n",
              "</style>\n",
              "<table border=\"1\" class=\"dataframe\">\n",
              "  <thead>\n",
              "    <tr style=\"text-align: right;\">\n",
              "      <th></th>\n",
              "      <th>ingresos</th>\n",
              "      <th>ahorros</th>\n",
              "      <th>vivienda</th>\n",
              "      <th>estado_civil</th>\n",
              "      <th>hijos</th>\n",
              "      <th>trabajo</th>\n",
              "      <th>comprar</th>\n",
              "      <th>gastos</th>\n",
              "      <th>financiar</th>\n",
              "    </tr>\n",
              "  </thead>\n",
              "  <tbody>\n",
              "    <tr>\n",
              "      <th>0</th>\n",
              "      <td>6000</td>\n",
              "      <td>50000</td>\n",
              "      <td>400000</td>\n",
              "      <td>0</td>\n",
              "      <td>2</td>\n",
              "      <td>2</td>\n",
              "      <td>1</td>\n",
              "      <td>1600</td>\n",
              "      <td>350000</td>\n",
              "    </tr>\n",
              "    <tr>\n",
              "      <th>1</th>\n",
              "      <td>6745</td>\n",
              "      <td>43240</td>\n",
              "      <td>636897</td>\n",
              "      <td>1</td>\n",
              "      <td>3</td>\n",
              "      <td>6</td>\n",
              "      <td>0</td>\n",
              "      <td>1496</td>\n",
              "      <td>593657</td>\n",
              "    </tr>\n",
              "    <tr>\n",
              "      <th>2</th>\n",
              "      <td>6455</td>\n",
              "      <td>57463</td>\n",
              "      <td>321779</td>\n",
              "      <td>2</td>\n",
              "      <td>1</td>\n",
              "      <td>8</td>\n",
              "      <td>1</td>\n",
              "      <td>1926</td>\n",
              "      <td>264316</td>\n",
              "    </tr>\n",
              "    <tr>\n",
              "      <th>3</th>\n",
              "      <td>7098</td>\n",
              "      <td>54506</td>\n",
              "      <td>660933</td>\n",
              "      <td>0</td>\n",
              "      <td>0</td>\n",
              "      <td>3</td>\n",
              "      <td>0</td>\n",
              "      <td>1547</td>\n",
              "      <td>606427</td>\n",
              "    </tr>\n",
              "    <tr>\n",
              "      <th>4</th>\n",
              "      <td>6167</td>\n",
              "      <td>41512</td>\n",
              "      <td>348932</td>\n",
              "      <td>0</td>\n",
              "      <td>0</td>\n",
              "      <td>3</td>\n",
              "      <td>1</td>\n",
              "      <td>1606</td>\n",
              "      <td>307420</td>\n",
              "    </tr>\n",
              "  </tbody>\n",
              "</table>\n",
              "</div>"
            ],
            "text/plain": [
              "   ingresos  ahorros  vivienda  ...  comprar  gastos  financiar\n",
              "0      6000    50000    400000  ...        1    1600     350000\n",
              "1      6745    43240    636897  ...        0    1496     593657\n",
              "2      6455    57463    321779  ...        1    1926     264316\n",
              "3      7098    54506    660933  ...        0    1547     606427\n",
              "4      6167    41512    348932  ...        1    1606     307420\n",
              "\n",
              "[5 rows x 9 columns]"
            ]
          },
          "execution_count": 5,
          "metadata": {
            "tags": []
          },
          "output_type": "execute_result"
        }
      ],
      "source": [
        "#opcionalmente puede preparar los datos de entrada, agrupando en variables algunos de los gastos:\n",
        "data['gastos']=(data['gastos_comunes'] + data['gastos_otros'] + data['pago_coche'])\n",
        "data['financiar']=(data['vivienda'] - data['ahorros'])\n",
        "data.drop(['gastos_comunes', 'gastos_otros', 'pago_coche'], axis=1).head()"
      ]
    },
    {
      "cell_type": "code",
      "execution_count": null,
      "metadata": {
        "colab": {
          "base_uri": "https://localhost:8080/",
          "height": 297
        },
        "id": "Ql8PlV25uK8w",
        "outputId": "95a465c7-e2c4-4b7c-a0f3-3c3558d65f5f"
      },
      "outputs": [
        {
          "data": {
            "text/html": [
              "<div>\n",
              "<style scoped>\n",
              "    .dataframe tbody tr th:only-of-type {\n",
              "        vertical-align: middle;\n",
              "    }\n",
              "\n",
              "    .dataframe tbody tr th {\n",
              "        vertical-align: top;\n",
              "    }\n",
              "\n",
              "    .dataframe thead th {\n",
              "        text-align: right;\n",
              "    }\n",
              "</style>\n",
              "<table border=\"1\" class=\"dataframe\">\n",
              "  <thead>\n",
              "    <tr style=\"text-align: right;\">\n",
              "      <th></th>\n",
              "      <th>ingresos</th>\n",
              "      <th>ahorros</th>\n",
              "      <th>vivienda</th>\n",
              "      <th>estado_civil</th>\n",
              "      <th>hijos</th>\n",
              "      <th>trabajo</th>\n",
              "      <th>comprar</th>\n",
              "      <th>gastos</th>\n",
              "      <th>financiar</th>\n",
              "    </tr>\n",
              "  </thead>\n",
              "  <tbody>\n",
              "    <tr>\n",
              "      <th>count</th>\n",
              "      <td>202.000000</td>\n",
              "      <td>202.000000</td>\n",
              "      <td>202.000000</td>\n",
              "      <td>202.000000</td>\n",
              "      <td>202.000000</td>\n",
              "      <td>202.000000</td>\n",
              "      <td>202.000000</td>\n",
              "      <td>202.000000</td>\n",
              "      <td>202.000000</td>\n",
              "    </tr>\n",
              "    <tr>\n",
              "      <th>mean</th>\n",
              "      <td>4958.995050</td>\n",
              "      <td>38749.668317</td>\n",
              "      <td>373349.638614</td>\n",
              "      <td>1.024752</td>\n",
              "      <td>1.232673</td>\n",
              "      <td>4.490099</td>\n",
              "      <td>0.331683</td>\n",
              "      <td>1698.752475</td>\n",
              "      <td>334599.970297</td>\n",
              "    </tr>\n",
              "    <tr>\n",
              "      <th>std</th>\n",
              "      <td>1682.862556</td>\n",
              "      <td>17365.231870</td>\n",
              "      <td>136371.525622</td>\n",
              "      <td>0.837184</td>\n",
              "      <td>1.367833</td>\n",
              "      <td>2.535794</td>\n",
              "      <td>0.471988</td>\n",
              "      <td>324.838005</td>\n",
              "      <td>126607.099497</td>\n",
              "    </tr>\n",
              "    <tr>\n",
              "      <th>min</th>\n",
              "      <td>2008.000000</td>\n",
              "      <td>10319.000000</td>\n",
              "      <td>176553.000000</td>\n",
              "      <td>0.000000</td>\n",
              "      <td>0.000000</td>\n",
              "      <td>0.000000</td>\n",
              "      <td>0.000000</td>\n",
              "      <td>1007.000000</td>\n",
              "      <td>154716.000000</td>\n",
              "    </tr>\n",
              "    <tr>\n",
              "      <th>25%</th>\n",
              "      <td>3513.750000</td>\n",
              "      <td>24964.250000</td>\n",
              "      <td>274810.000000</td>\n",
              "      <td>0.000000</td>\n",
              "      <td>0.000000</td>\n",
              "      <td>2.000000</td>\n",
              "      <td>0.000000</td>\n",
              "      <td>1430.500000</td>\n",
              "      <td>240410.250000</td>\n",
              "    </tr>\n",
              "    <tr>\n",
              "      <th>50%</th>\n",
              "      <td>4947.500000</td>\n",
              "      <td>38523.000000</td>\n",
              "      <td>340783.500000</td>\n",
              "      <td>1.000000</td>\n",
              "      <td>1.000000</td>\n",
              "      <td>5.000000</td>\n",
              "      <td>0.000000</td>\n",
              "      <td>1669.500000</td>\n",
              "      <td>301177.000000</td>\n",
              "    </tr>\n",
              "    <tr>\n",
              "      <th>75%</th>\n",
              "      <td>6374.500000</td>\n",
              "      <td>52150.750000</td>\n",
              "      <td>444482.000000</td>\n",
              "      <td>2.000000</td>\n",
              "      <td>2.000000</td>\n",
              "      <td>7.000000</td>\n",
              "      <td>1.000000</td>\n",
              "      <td>1928.000000</td>\n",
              "      <td>393413.000000</td>\n",
              "    </tr>\n",
              "    <tr>\n",
              "      <th>max</th>\n",
              "      <td>7984.000000</td>\n",
              "      <td>69934.000000</td>\n",
              "      <td>669540.000000</td>\n",
              "      <td>2.000000</td>\n",
              "      <td>4.000000</td>\n",
              "      <td>8.000000</td>\n",
              "      <td>1.000000</td>\n",
              "      <td>2543.000000</td>\n",
              "      <td>618621.000000</td>\n",
              "    </tr>\n",
              "  </tbody>\n",
              "</table>\n",
              "</div>"
            ],
            "text/plain": [
              "          ingresos       ahorros  ...       gastos      financiar\n",
              "count   202.000000    202.000000  ...   202.000000     202.000000\n",
              "mean   4958.995050  38749.668317  ...  1698.752475  334599.970297\n",
              "std    1682.862556  17365.231870  ...   324.838005  126607.099497\n",
              "min    2008.000000  10319.000000  ...  1007.000000  154716.000000\n",
              "25%    3513.750000  24964.250000  ...  1430.500000  240410.250000\n",
              "50%    4947.500000  38523.000000  ...  1669.500000  301177.000000\n",
              "75%    6374.500000  52150.750000  ...  1928.000000  393413.000000\n",
              "max    7984.000000  69934.000000  ...  2543.000000  618621.000000\n",
              "\n",
              "[8 rows x 9 columns]"
            ]
          },
          "execution_count": 12,
          "metadata": {
            "tags": []
          },
          "output_type": "execute_result"
        }
      ],
      "source": [
        "reduced=data.drop(['gastos_comunes', 'gastos_otros', 'pago_coche'], axis=1)\n",
        "reduced.describe()# Generar un resumen estadistico para todos los registros del dataframe \"reduced\"\n"
      ]
    },
    {
      "cell_type": "code",
      "execution_count": null,
      "metadata": {
        "id": "NR6pDo9luK_J"
      },
      "outputs": [],
      "source": [
        "#A continuacion debera almacenar en X, todas las variables excepto 'comprar'\n",
        "#ademas en 'y' debera almacenar la variable comprar\n",
        "X=data.drop(['comprar'],axis=1) #almacenar todas las filas y todas las variable excepto 'comprar'\n",
        "y=data['comprar'] #almacenar todas las filas y solo la variable comprar"
      ]
    },
    {
      "cell_type": "code",
      "execution_count": null,
      "metadata": {
        "colab": {
          "base_uri": "https://localhost:8080/"
        },
        "id": "JGXDDH6puLBn",
        "outputId": "50c8207d-28bf-42fd-c53d-d02f892da664"
      },
      "outputs": [
        {
          "name": "stdout",
          "output_type": "stream",
          "text": [
            "Index(['ingresos', 'ahorros', 'hijos', 'trabajo', 'financiar'], dtype='object')\n"
          ]
        }
      ],
      "source": [
        "#en vez de utilizar las 11 columnas del dataframe 'data', vamos a utilizar una clase llamada 'SelectKBest'\n",
        "#con la que seleccionaremos las 5 mejores variables para la clasificacion\n",
        "best=SelectKBest(k=5) #Seleccionando las 5 mejores\n",
        "X_new=best.fit_transform(X,y) # almacenar en la variable X_new las 5 mejores caracteristicas. Este es un resultado array\n",
        "X_new.shape #Convertir el array obtenido en una fila\n",
        "selected=best.get_support(indices=True)\n",
        "print(X.columns[selected])\n"
      ]
    },
    {
      "cell_type": "code",
      "execution_count": null,
      "metadata": {
        "colab": {
          "base_uri": "https://localhost:8080/",
          "height": 704
        },
        "id": "TlKhEBkjuLEY",
        "outputId": "6ef749e7-9381-4657-e468-0e5e327f64f2"
      },
      "outputs": [
        {
          "data": {
            "text/plain": [
              "<matplotlib.axes._subplots.AxesSubplot at 0x7fb90cdd5350>"
            ]
          },
          "execution_count": 18,
          "metadata": {
            "tags": []
          },
          "output_type": "execute_result"
        },
        {
          "data": {
            "image/png": "[encoded data removed]",
            "text/plain": [
              "<Figure size 864x864 with 2 Axes>"
            ]
          },
          "metadata": {
            "needs_background": "light",
            "tags": []
          },
          "output_type": "display_data"
        }
      ],
      "source": [
        "#Generando un grafico de Pearson: las 5 mejores caracteristicas obtenidas son las que mas aportan en el \n",
        "#momento de clasificar, usando el grafico de Pearson, deberá mostrar el grado de correlacion que tiene\n",
        "#una variable con respecto a la otra. -1 --> correlacion fuerte. 0 -->correlacion debil. 1 --> correlacion fuerte\n",
        "used_features=X.columns[selected]\n",
        "colormap=plt.cm.viridis # colores al grafico\n",
        "plt.figure(figsize=(12,12)) #Tamaño del grafico\n",
        "plt.title(\"Correlacion de caracteristicas de Pearson\",y=1.05, size=25) #y es margen\n",
        "sns.heatmap(data[used_features].astype(float).corr(), linewidths=0.1, vmax=1.0, square=True,\n",
        "            cmap=colormap,linecolor='white', annot=True)\n"
      ]
    },
    {
      "cell_type": "code",
      "execution_count": null,
      "metadata": {
        "id": "MnqFp4NouLHO"
      },
      "outputs": [],
      "source": [
        "#Dividir los datos en grupo de Entrenamiento y grupo de prueba:\n",
        "#el dataframe 'data' se va a dividir en: X_train(80%), X_test(20%)\n",
        "#X_train,X_test,y_train,y_test=train_test_split(X,y,test_size=0.3,random_state=100)\n",
        "X_train,X_test=train_test_split(data,test_size=0.2, random_state=6)\n",
        "y_train=X_train['comprar']\n",
        "y_test=X_test['comprar']"
      ]
    },
    {
      "cell_type": "code",
      "execution_count": null,
      "metadata": {
        "id": "__bBjW5zuLJ-"
      },
      "outputs": [],
      "source": [
        "#Creando el modelo naive bayes\n",
        "naive_bayes=GaussianNB()\n",
        "#Utilizando el metodo fit, entrenar el modelo\n",
        "naive_bayes.fit(X_train[used_features].values, y_train)\n",
        "#Usando el grupo de pruebas, realizar la prediccion\n",
        "y_pred=naive_bayes.predict(X_test[used_features])"
      ]
    },
    {
      "cell_type": "code",
      "execution_count": null,
      "metadata": {
        "colab": {
          "base_uri": "https://localhost:8080/"
        },
        "id": "PcOHVIkkuLM2",
        "outputId": "d01a8715-3ae4-4442-c814-85d7e6171641"
      },
      "outputs": [
        {
          "data": {
            "text/plain": [
              "90.2439024390244"
            ]
          },
          "execution_count": 25,
          "metadata": {
            "tags": []
          },
          "output_type": "execute_result"
        }
      ],
      "source": [
        "from sklearn.metrics import confusion_matrix, accuracy_score\n",
        "accuracy_score(y_test,y_pred)*100"
      ]
    },
    {
      "cell_type": "code",
      "execution_count": null,
      "metadata": {
        "colab": {
          "base_uri": "https://localhost:8080/"
        },
        "id": "fprGQ6kGuLPm",
        "outputId": "378b3187-1fdf-462c-eb4d-0d3e0125e553"
      },
      "outputs": [
        {
          "name": "stdout",
          "output_type": "stream",
          "text": [
            "[[24  0]\n",
            " [ 4 13]]\n"
          ]
        }
      ],
      "source": [
        "print(confusion_matrix(y_test,y_pred))"
      ]
    },
    {
      "cell_type": "code",
      "execution_count": null,
      "metadata": {
        "colab": {
          "base_uri": "https://localhost:8080/"
        },
        "id": "32wr--8KuLSY",
        "outputId": "dcff85c7-0979-4a09-ffa1-e95ba820804d"
      },
      "outputs": [
        {
          "data": {
            "text/plain": [
              "0.9024390243902439"
            ]
          },
          "execution_count": 27,
          "metadata": {
            "tags": []
          },
          "output_type": "execute_result"
        }
      ],
      "source": [
        "(24+13)/(4+13+24+0)"
      ]
    },
    {
      "cell_type": "code",
      "execution_count": null,
      "metadata": {
        "colab": {
          "base_uri": "https://localhost:8080/"
        },
        "id": "GmizAhWnuLVH",
        "outputId": "bacf2f98-261a-4318-fca3-28b51353e873"
      },
      "outputs": [
        {
          "name": "stdout",
          "output_type": "stream",
          "text": [
            "[0 1]\n"
          ]
        }
      ],
      "source": [
        "#Generando 2 prediccion:\n",
        "#caso 1: el cliente tiene una familia sin hijos, con ingresos mensuales de 2000 dolares,\n",
        "#quiere comprar una casa de 200,000 dolares y tiene ahorrado 5000 dolares\n",
        "#caso 2: el cliente tiene una familia con 2 hijos, con ingresos mensualres de 6000 dolares,\n",
        "#quiere comprar una casa de 320,000 dolares y tiene ahorrado 34000 dolares\n",
        "print(naive_bayes.predict([[2000,5000,0,5,200000],[6000,34000,2,5,320000]]))\n",
        "#Segun el resultado para el primer caso no se le recomienda comprar una casa, deberia alquilar\n",
        "#para el segundo caso sí se le recomienda comprar una casa"
      ]
    },
    {
      "cell_type": "code",
      "execution_count": null,
      "metadata": {
        "id": "sb3S7NUbuLXu"
      },
      "outputs": [],
      "source": []
    }
  ],
  "metadata": {
    "colab": {
      "collapsed_sections": [],
      "name": "comprar_alquilar_vivienda.ipynb",
      "provenance": []
    },
    "kernelspec": {
      "display_name": "Python 3.10.4 64-bit",
      "language": "python",
      "name": "python3"
    },
    "language_info": {
      "name": "python",
      "version": "3.10.4"
    },
    "vscode": {
      "interpreter": {
        "hash": "8ac3e905cfe82de9e7bade27ba74e0b478ab12e240fc6a5c23500e6eca8b4da1"
      }
    }
  },
  "nbformat": 4,
  "nbformat_minor": 0
}
